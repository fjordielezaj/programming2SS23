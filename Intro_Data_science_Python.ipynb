{
 "cells": [
  {
   "cell_type": "markdown",
   "id": "f7705dbd",
   "metadata": {},
   "source": [
    "## What is data science?"
   ]
  },
  {
   "cell_type": "code",
   "execution_count": null,
   "id": "0527b566",
   "metadata": {},
   "outputs": [],
   "source": [
    "from IPython.display import Image\n",
    "from IPython.core.display import HTML "
   ]
  },
  {
   "cell_type": "markdown",
   "id": "b110fa7f",
   "metadata": {},
   "source": [
    "The term 'data science' has in recent times really become a buzzword. We hear about data scientists and data analyists being highly sought after and it becoming a really popular branch of IT.\n",
    "\n",
    "But what exactly is data science and what are the skills neccessary to become someone who analyzes data?\n",
    "\n"
   ]
  },
  {
   "cell_type": "markdown",
   "id": "7041e4f8",
   "metadata": {},
   "source": [
    "Data science is kind of an interdisciplinary field, which means it is at an intersection of multiple disciplines. At the centre of it is data - the most valuable commodity of today.\n",
    "\n",
    "Data science seeks to analyze and process data in such a way that new knowledge can be extracted from it. This knowledge serves to improve businesses and advance science by helping the decision making process (what should we do?), making predictions (what will hapen next?) and discover patterns (find hidden information in the data)."
   ]
  },
  {
   "cell_type": "code",
   "execution_count": null,
   "id": "65800fa4",
   "metadata": {},
   "outputs": [],
   "source": [
    "Image(url= \"img/DS.png\", width=400, height=1200)"
   ]
  },
  {
   "cell_type": "markdown",
   "id": "30289d11",
   "metadata": {},
   "source": [
    "source: https://jakevdp.github.io/PythonDataScienceHandbook/00.00-preface.html"
   ]
  },
  {
   "cell_type": "markdown",
   "id": "becd30f2",
   "metadata": {},
   "source": [
    "This diagram basically explains where data science lies in the intersection of different disciplines. It comprises the skills of statistics (knowing how to summarize datasets), computer science (knowing how to model algorithms) an domain expertise (neccessary to formulate the research questions and put the answers into context)."
   ]
  },
  {
   "cell_type": "markdown",
   "id": "8eb360e1",
   "metadata": {},
   "source": [
    "### Where is Data Science needed?"
   ]
  },
  {
   "cell_type": "markdown",
   "id": "2adfd920",
   "metadata": {},
   "source": [
    "It's used in many disciplines, such as science, banking, consulting, health care, e-commerce, politics, and manufacturing.\n",
    "\n",
    "\n",
    "Some areas where data science is used:\n",
    "* marketing (sales analysis)\n",
    "* election predictions\n",
    "* to predict the best time for deliveries\n",
    "* to forsee delays in traffic\n",
    "* etc"
   ]
  },
  {
   "cell_type": "markdown",
   "id": "ebcadc8f",
   "metadata": {},
   "source": [
    "In the end, for our purposes, data science can help us better understand our data and provide some basic statistics as well as find out the relations inside the data."
   ]
  },
  {
   "cell_type": "markdown",
   "id": "88b0739b",
   "metadata": {},
   "source": [
    "Some of DS taks that are also useful for us:\n",
    "* asking the right questions\n",
    "* exploring and collecting data\n",
    "* extracting data\n",
    "* cleaning the data\n",
    "* finding and replacing missing values\n",
    "* normalizing data\n",
    "* analyzing data, finding patterns and making predictions\n",
    "* representing the results (visualisations)"
   ]
  },
  {
   "cell_type": "markdown",
   "id": "3c98def8",
   "metadata": {},
   "source": [
    "### Data "
   ]
  },
  {
   "cell_type": "markdown",
   "id": "83662d92",
   "metadata": {},
   "source": [
    "Types of data:\n",
    "* unstructured (Tweets, novels, reviews)\n",
    "* structured (databases, tables)\n",
    "\n",
    "One purpose of Data Science is to structure data, making it interpretable and easy to work with.\n",
    "\n"
   ]
  },
  {
   "cell_type": "markdown",
   "id": "9b8e137c",
   "metadata": {},
   "source": [
    "### Data analysis in Python"
   ]
  },
  {
   "cell_type": "markdown",
   "id": "8196cf70",
   "metadata": {},
   "source": [
    "Python is the \"main language\" of data science, as it has many inbuilt functions as well as libraries developed for the purposes of data science. \n",
    "\n",
    "Some of these libraries:\n",
    "* [pandas](https://pandas.pydata.org/) - for structured data operations\n",
    "* [numpy](https://numpy.org/) - a mathematical libtary (linear algebra, Fourier transform)\n",
    "* [matplotlib](https://matplotlib.org/) - visualizations\n",
    "* [SciPy](https://scipy.org/) - linear algebra models"
   ]
  },
  {
   "cell_type": "markdown",
   "id": "ab269d27",
   "metadata": {},
   "source": [
    "### Data analysis and manipulation with Pandas"
   ]
  },
  {
   "cell_type": "markdown",
   "id": "bac2eb5d",
   "metadata": {},
   "source": [
    "What can we find out with pandas?"
   ]
  },
  {
   "cell_type": "markdown",
   "id": "85e1d60b",
   "metadata": {},
   "source": [
    "* what is the correlation between two or more columns?\n",
    "* what is the average value?\n",
    "* what are the min and max values?"
   ]
  },
  {
   "cell_type": "markdown",
   "id": "f61f33b4",
   "metadata": {},
   "source": [
    "To install pandas - https://pandas.pydata.org/docs/getting_started/install.html"
   ]
  },
  {
   "cell_type": "code",
   "execution_count": null,
   "id": "26e0d8c5",
   "metadata": {},
   "outputs": [],
   "source": [
    "import pandas"
   ]
  },
  {
   "cell_type": "markdown",
   "id": "b8e67c77",
   "metadata": {},
   "source": [
    "Let's check our pandas version:"
   ]
  },
  {
   "cell_type": "code",
   "execution_count": null,
   "id": "a9b37ed6",
   "metadata": {},
   "outputs": [],
   "source": [
    "pandas.__version__"
   ]
  },
  {
   "cell_type": "markdown",
   "id": "ae3f85f3",
   "metadata": {},
   "source": [
    "Usually, for pandas we use the abbreviation 'pd' so, we actually do our import such as:"
   ]
  },
  {
   "cell_type": "code",
   "execution_count": null,
   "id": "b738dfc4",
   "metadata": {},
   "outputs": [],
   "source": [
    "import pandas as pd"
   ]
  },
  {
   "cell_type": "markdown",
   "id": "81b987fa",
   "metadata": {},
   "source": [
    "Of course, for data science, data types are extremely important. We are already very familiar with the standard Python datatypes, such as strings, ints, lists, dictionaries, etc. In pandas, two important datatypes (or objects) are called Series and Dataframe."
   ]
  },
  {
   "cell_type": "markdown",
   "id": "f58f8554",
   "metadata": {},
   "source": [
    "### Pandas Series"
   ]
  },
  {
   "cell_type": "markdown",
   "id": "04d1cb78",
   "metadata": {},
   "source": [
    "Pandas series is kind of like a column in a table. It's actually a one-dimensional array that holdes any type of data. We can create it out of a list, e.g.:"
   ]
  },
  {
   "cell_type": "code",
   "execution_count": null,
   "id": "e158e772",
   "metadata": {},
   "outputs": [],
   "source": [
    "a = [1, 2, 3]\n",
    "my_series = pd.Series(a)\n",
    "my_series"
   ]
  },
  {
   "cell_type": "markdown",
   "id": "e07271bd",
   "metadata": {},
   "source": [
    "If nothing else is specified, the values are labeled with their index number. First value has index 0, second value has index 1 etc.\n",
    "\n",
    "This label can be used to access a specified value.\n",
    "\n"
   ]
  },
  {
   "cell_type": "code",
   "execution_count": null,
   "id": "fbe447aa",
   "metadata": {},
   "outputs": [],
   "source": [
    "my_series[0]"
   ]
  },
  {
   "cell_type": "markdown",
   "id": "b8858052",
   "metadata": {},
   "source": [
    "With the index argument, you can name your own labels.\n",
    "\n"
   ]
  },
  {
   "cell_type": "code",
   "execution_count": null,
   "id": "96571cbf",
   "metadata": {},
   "outputs": [],
   "source": [
    "my_series = pd.Series(a, index = [\"x\", \"y\", \"z\"])\n",
    "\n",
    "my_series"
   ]
  },
  {
   "cell_type": "markdown",
   "id": "32c93aac",
   "metadata": {},
   "source": [
    "When you have created labels, you can access an item by referring to the label.\n",
    "\n"
   ]
  },
  {
   "cell_type": "code",
   "execution_count": null,
   "id": "a916b730",
   "metadata": {},
   "outputs": [],
   "source": [
    "print(my_series['x'])"
   ]
  },
  {
   "cell_type": "markdown",
   "id": "062e6896",
   "metadata": {},
   "source": [
    "We can think about series as a type of a specialized dictionary. As we know, dictionaries have keys and values and Series also maps typed keys to sets of typed values.\n"
   ]
  },
  {
   "cell_type": "code",
   "execution_count": null,
   "id": "44d7ebc4",
   "metadata": {},
   "outputs": [],
   "source": [
    "population_dict = {'California': 38332521,\n",
    "                   'Texas': 26448193,\n",
    "                   'New York': 19651127,\n",
    "                   'Florida': 19552860,\n",
    "                   'Illinois': 12882135}\n",
    "\n"
   ]
  },
  {
   "cell_type": "markdown",
   "id": "f5ac54ee",
   "metadata": {},
   "source": [
    "<div class=\"alert alert-block alert-info\">\n",
    "<b>Exercise 1</b>\n",
    "    \n",
    "<p>\n",
    "    <li>Make a Series object out of Population_dict </li>\n",
    "    <li>find out the population of California </li>\n",
    " \n",
    "</p>\n",
    "</div>"
   ]
  },
  {
   "cell_type": "markdown",
   "id": "108ae951",
   "metadata": {},
   "source": [
    "We can also slice the data:"
   ]
  },
  {
   "cell_type": "code",
   "execution_count": null,
   "id": "f967a7ab",
   "metadata": {},
   "outputs": [],
   "source": [
    "population['Texas':'Illinois']"
   ]
  },
  {
   "cell_type": "markdown",
   "id": "1b6c3072",
   "metadata": {},
   "source": [
    "### Pandas Dataframes"
   ]
  },
  {
   "cell_type": "markdown",
   "id": "75cde88d",
   "metadata": {},
   "source": [
    "Dataframes are structured representations of data, and unlike Series, often have more than one column."
   ]
  },
  {
   "cell_type": "markdown",
   "id": "ea912b53",
   "metadata": {},
   "source": [
    " Let's start by making a dataframe with some numbers:"
   ]
  },
  {
   "cell_type": "code",
   "execution_count": null,
   "id": "ee6692a3",
   "metadata": {},
   "outputs": [],
   "source": [
    "d = {'col1': [1, 2, 3, 4, 7], 'col2': [4, 5, 6, 9, 5], 'col3': [7, 8, 12, 1, 11]}"
   ]
  },
  {
   "cell_type": "code",
   "execution_count": null,
   "id": "64b8174b",
   "metadata": {},
   "outputs": [],
   "source": [
    "df = pd.DataFrame(data=d, index = ['number1', 'number2', 'number3', 'number4', 'number5'])\n",
    "df"
   ]
  },
  {
   "cell_type": "markdown",
   "id": "41b3d6ab",
   "metadata": {},
   "source": [
    "We see that \"col1\", \"col2\" and \"col3\" are the names of the columns. The names of the indexes we added through a list.\n",
    "They tell us the information about the position of the rows.\n",
    "\n",
    "Now, we can use Python to count the columns and rows and ```df.shape``` to find the number of columns:\n",
    "\n"
   ]
  },
  {
   "cell_type": "code",
   "execution_count": null,
   "id": "95a1f461",
   "metadata": {},
   "outputs": [],
   "source": [
    "count_row = df.shape[0]"
   ]
  },
  {
   "cell_type": "code",
   "execution_count": null,
   "id": "fa8c7971",
   "metadata": {},
   "outputs": [],
   "source": [
    "print(count_row)"
   ]
  },
  {
   "cell_type": "markdown",
   "id": "ab20d305",
   "metadata": {},
   "source": [
    "To demonstrate this, let's first construct a new Series listing the area of each of the five states discussed in the previous section:\n",
    "\n"
   ]
  },
  {
   "cell_type": "code",
   "execution_count": null,
   "id": "61e0739f",
   "metadata": {},
   "outputs": [],
   "source": [
    "area_dict = {'California': 423967, 'Texas': 695662, 'New York': 141297,\n",
    "             'Florida': 170312, 'Illinois': 149995}\n"
   ]
  },
  {
   "cell_type": "markdown",
   "id": "edf37163",
   "metadata": {},
   "source": [
    "Now that we have this along with the population Series from before, we can use a dictionary to construct a single two-dimensional object containing this information:\n",
    "\n"
   ]
  },
  {
   "cell_type": "code",
   "execution_count": null,
   "id": "75cf8d9b",
   "metadata": {},
   "outputs": [],
   "source": [
    "states = pd.DataFrame({'population': population,\n",
    "                       'area': area})\n",
    "states"
   ]
  },
  {
   "cell_type": "markdown",
   "id": "99baee33",
   "metadata": {},
   "source": [
    "### Indexing "
   ]
  },
  {
   "cell_type": "markdown",
   "id": "255bef8f",
   "metadata": {},
   "source": [
    "The individual Series that make up the columns of the DataFrame can be accessed via dictionary-style indexing of the column name:\n",
    "\n"
   ]
  },
  {
   "cell_type": "code",
   "execution_count": null,
   "id": "e5178350",
   "metadata": {},
   "outputs": [],
   "source": [
    "states['area']\n"
   ]
  },
  {
   "cell_type": "code",
   "execution_count": null,
   "id": "ff67b3da",
   "metadata": {},
   "outputs": [],
   "source": [
    "states.area"
   ]
  },
  {
   "cell_type": "markdown",
   "id": "7943ba08",
   "metadata": {},
   "source": [
    "Like with the Series objects discussed earlier, this dictionary-style syntax can also be used to modify the object, in this case adding a new column:\n",
    "\n"
   ]
  },
  {
   "cell_type": "code",
   "execution_count": null,
   "id": "bb41c252",
   "metadata": {},
   "outputs": [],
   "source": [
    "states['density'] = states['population'] / states['area']\n",
    "states"
   ]
  },
  {
   "cell_type": "markdown",
   "id": "22974ae7",
   "metadata": {},
   "source": [
    "With the index argument, you can name your own indexes.\n",
    "\n"
   ]
  },
  {
   "cell_type": "markdown",
   "id": "da9c0b0d",
   "metadata": {},
   "source": [
    "As mentioned previously, we can also view the DataFrame as an enhanced two-dimensional array. We can examine the raw underlying data array using the values attribute:\n",
    "\n"
   ]
  },
  {
   "cell_type": "code",
   "execution_count": null,
   "id": "a0a2f991",
   "metadata": {},
   "outputs": [],
   "source": [
    "states.values\n"
   ]
  },
  {
   "cell_type": "markdown",
   "id": "32c1fb0e",
   "metadata": {},
   "source": [
    "With this picture in mind, many familiar array-like observations can be done on the DataFrame itself. For example, we can transpose the full DataFrame to swap rows and columns:\n",
    "\n"
   ]
  },
  {
   "cell_type": "code",
   "execution_count": null,
   "id": "dc4fa471",
   "metadata": {},
   "outputs": [],
   "source": [
    "states.T"
   ]
  },
  {
   "cell_type": "markdown",
   "id": "cafbb58d",
   "metadata": {},
   "source": [
    "Thus for array-style indexing, we need another convention. Here Pandas again uses the loc and iloc indexers mentioned earlier. Using the iloc indexer, we can index the underlying array, but the DataFrame index and column labels are maintained in the result.\n",
    "Different from the loc method, iloc is integer position based. It only works with the inherent row position number ranged 0-n.\n",
    "\n"
   ]
  },
  {
   "cell_type": "code",
   "execution_count": null,
   "id": "81d8ca1b",
   "metadata": {},
   "outputs": [],
   "source": [
    "states.iloc[:3, :2]\n"
   ]
  },
  {
   "cell_type": "code",
   "execution_count": null,
   "id": "d7f7daf1",
   "metadata": {},
   "outputs": [],
   "source": [
    "states.loc[:'Florida', :'population']\n"
   ]
  },
  {
   "cell_type": "markdown",
   "id": "953fae0d",
   "metadata": {},
   "source": [
    "Similarly, using the loc indexer we can index the underlying data in an array-like style but using the explicit index and column names:\n",
    "\n"
   ]
  },
  {
   "cell_type": "code",
   "execution_count": null,
   "id": "4d272704",
   "metadata": {},
   "outputs": [],
   "source": [
    "print(states.loc['California'])\n"
   ]
  },
  {
   "cell_type": "markdown",
   "id": "55a4bb9f",
   "metadata": {},
   "source": [
    "Direct masking operations are also interpreted row-wise rather than column-wise:\n",
    "\n"
   ]
  },
  {
   "cell_type": "code",
   "execution_count": null,
   "id": "67722aa1",
   "metadata": {},
   "outputs": [],
   "source": [
    "states[states.density > 100]\n"
   ]
  },
  {
   "cell_type": "markdown",
   "id": "7f25a525",
   "metadata": {},
   "source": [
    "<div class=\"alert alert-block alert-info\">\n",
    "<b>Exercise 2</b>\n",
    "    \n",
    "<p>\n",
    "    <li>Make a new dataframe out of exercise_data  </li>\n",
    "    <li>Give the rows indexes as follows: 'day1', 'day2', 'day3' </li>\n",
    "    <li>Return 'day3' using loc </li>\n",
    "</p>\n",
    "</div>"
   ]
  },
  {
   "cell_type": "code",
   "execution_count": null,
   "id": "b1d69a4f",
   "metadata": {},
   "outputs": [],
   "source": [
    "exercise_data = {\n",
    "  \"calories\": [420, 380, 390],\n",
    "  \"duration\": [50, 40, 45]\n",
    "}\n"
   ]
  },
  {
   "cell_type": "markdown",
   "id": "83490bf3",
   "metadata": {},
   "source": [
    "### Creating a dataframe from csv"
   ]
  },
  {
   "cell_type": "markdown",
   "id": "18201604",
   "metadata": {},
   "source": [
    "This is a functionality that we use a lot, for readin in our own datasets."
   ]
  },
  {
   "cell_type": "code",
   "execution_count": null,
   "id": "8463648a",
   "metadata": {},
   "outputs": [],
   "source": [
    "df = pd.read_csv('data/koreanTV.csv')\n",
    "df"
   ]
  },
  {
   "cell_type": "code",
   "execution_count": null,
   "id": "eaaecabb",
   "metadata": {},
   "outputs": [],
   "source": [
    "df.shape\n"
   ]
  },
  {
   "cell_type": "markdown",
   "id": "b1842e21",
   "metadata": {},
   "source": [
    "We can also preview the DataFrame data using the head function. The head function display the first five rows of records in the Pandas DataFrame.\n",
    "\n"
   ]
  },
  {
   "cell_type": "code",
   "execution_count": null,
   "id": "af705ece",
   "metadata": {},
   "outputs": [],
   "source": [
    "df.head()"
   ]
  },
  {
   "cell_type": "markdown",
   "id": "e1053a6d",
   "metadata": {},
   "source": [
    "On another hand, we can also use the tail function to display the last five rows of records.\n",
    "\n"
   ]
  },
  {
   "cell_type": "code",
   "execution_count": null,
   "id": "be2bf4d9",
   "metadata": {},
   "outputs": [],
   "source": [
    "df.tail()\n"
   ]
  },
  {
   "cell_type": "markdown",
   "id": "cddf9e4d",
   "metadata": {},
   "source": [
    "### Basic analysis of our data"
   ]
  },
  {
   "cell_type": "markdown",
   "id": "391b8b08",
   "metadata": {},
   "source": [
    "Many often not all the data in a Pandas DataFrame are relevant to our work. Fortunately, Pandas DataFrame allow us to selectively extract one or more columns of data and work with them.\n",
    "\n"
   ]
  },
  {
   "cell_type": "markdown",
   "id": "4a011430",
   "metadata": {},
   "source": [
    "We can use a selected column name as the parameter to extract the data from that particular column.\n",
    "\n"
   ]
  },
  {
   "cell_type": "code",
   "execution_count": null,
   "id": "5ea27108",
   "metadata": {},
   "outputs": [],
   "source": [
    "df['Title'].head()\n"
   ]
  },
  {
   "cell_type": "markdown",
   "id": "a9967948",
   "metadata": {},
   "source": [
    "We can also select multiple columns by putting the target column names in a list.\n",
    "\n"
   ]
  },
  {
   "cell_type": "code",
   "execution_count": null,
   "id": "57c04003",
   "metadata": {},
   "outputs": [],
   "source": [
    "df[['Title', 'Rating']].head()\n"
   ]
  },
  {
   "cell_type": "markdown",
   "id": "5aceda4b",
   "metadata": {},
   "source": [
    "If we really do not need a column we can always remove it. For that we use ```drop```"
   ]
  },
  {
   "cell_type": "code",
   "execution_count": null,
   "id": "c051d031",
   "metadata": {},
   "outputs": [],
   "source": [
    "df = df.drop(\"Short Story\", axis=1)\n",
    "df.head()"
   ]
  },
  {
   "cell_type": "markdown",
   "id": "c67fd95b",
   "metadata": {},
   "source": [
    "Use the drop function to remove the column “Short Story” from the DataFrame and shows the first five rows of records. The “axis=1” is to specify the current removal is for a column instead of a row."
   ]
  },
  {
   "cell_type": "markdown",
   "id": "c93d1f39",
   "metadata": {},
   "source": [
    "Now let's use our rows to navigate over the dataframe. We will first try with loc method. The loc method allow us to select a row from a DataFrame using a index label. For example, we can define the movie title as our index label in the DataFrame and use it to extract our target rows of data.\n",
    "\n"
   ]
  },
  {
   "cell_type": "code",
   "execution_count": null,
   "id": "a21ce09d",
   "metadata": {},
   "outputs": [],
   "source": [
    "df = df.set_index('Title')\n",
    "df.head()\n"
   ]
  },
  {
   "cell_type": "code",
   "execution_count": null,
   "id": "ea0ce2a4",
   "metadata": {},
   "outputs": [],
   "source": [
    "df.shape"
   ]
  },
  {
   "cell_type": "markdown",
   "id": "a535ee3a",
   "metadata": {},
   "source": [
    "The “Title” is removed from the column list of the DataFrame and is marked as an index label now.\n",
    "As we see by the number of the columns, we have removed one and set one as an index - now we have 6.\n",
    "\n",
    "We can make use of this movie name as an index label to extract the data from the DataFrame by row.\n",
    "\n"
   ]
  },
  {
   "cell_type": "code",
   "execution_count": null,
   "id": "bc114af4",
   "metadata": {},
   "outputs": [],
   "source": [
    "df.loc['Squid Game']"
   ]
  },
  {
   "cell_type": "code",
   "execution_count": null,
   "id": "fff96adf",
   "metadata": {},
   "outputs": [],
   "source": [
    "df.loc[['Squid Game', 'Happiness']]"
   ]
  },
  {
   "cell_type": "markdown",
   "id": "77790681",
   "metadata": {},
   "source": [
    "The second approach to work with Pandas DataFrame by row is using the iloc method.\n"
   ]
  },
  {
   "cell_type": "code",
   "execution_count": null,
   "id": "5406583e",
   "metadata": {},
   "outputs": [],
   "source": [
    "df.iloc[3]"
   ]
  },
  {
   "cell_type": "code",
   "execution_count": null,
   "id": "9ca6483f",
   "metadata": {},
   "outputs": [],
   "source": [
    "df.iloc[2:5]"
   ]
  },
  {
   "cell_type": "markdown",
   "id": "a7bd9258",
   "metadata": {},
   "source": [
    "Let's now remove a row. As said before, we can use a movie name as index label to remove a particular row. In this case, the row with movie name, “My Name” will be removed from the DataFrame.\n"
   ]
  },
  {
   "cell_type": "code",
   "execution_count": null,
   "id": "9fea6796",
   "metadata": {},
   "outputs": [],
   "source": [
    "df = df.drop('My Name', axis=0)\n",
    "df.head()"
   ]
  },
  {
   "cell_type": "markdown",
   "id": "6f97b052",
   "metadata": {},
   "source": [
    "<div class=\"alert alert-block alert-info\">\n",
    "<b>Exercise 3</b>\n",
    "    \n",
    "<p>\n",
    "    <li>Import housing.csv into a dataframe  </li>\n",
    "    <li>Preview the head of the data </li>\n",
    "    <li>Remove the latitude column </li>\n",
    "    <li>Set a condition to select data with the housing median age above 50</li>\n",
    "</p>\n",
    "</div>"
   ]
  },
  {
   "cell_type": "markdown",
   "id": "786119e3",
   "metadata": {},
   "source": [
    "### References and further reading:\n",
    "    \n",
    " * Python Data Science Handbook - https://jakevdp.github.io/PythonDataScienceHandbook/\n",
    " * https://www.w3schools.com/python/pandas/default.asp\n",
    " * https://www.geeksforgeeks.org/data-science-tutorial/\n",
    " * data taken from - https://github.com/teobeeguan/Python-For-Machine-Learning/tree/main/Pandas\n",
    " * tutorial -  https://medium.com/ds-notes/learning-python-pandas-in-minutes-part-1-basics-f24463da1a18\n",
    " "
   ]
  },
  {
   "cell_type": "code",
   "execution_count": null,
   "id": "00fef0fa",
   "metadata": {},
   "outputs": [],
   "source": []
  }
 ],
 "metadata": {
  "kernelspec": {
   "display_name": "Python 3 (ipykernel)",
   "language": "python",
   "name": "python3"
  },
  "language_info": {
   "codemirror_mode": {
    "name": "ipython",
    "version": 3
   },
   "file_extension": ".py",
   "mimetype": "text/x-python",
   "name": "python",
   "nbconvert_exporter": "python",
   "pygments_lexer": "ipython3",
   "version": "3.9.13"
  }
 },
 "nbformat": 4,
 "nbformat_minor": 5
}
