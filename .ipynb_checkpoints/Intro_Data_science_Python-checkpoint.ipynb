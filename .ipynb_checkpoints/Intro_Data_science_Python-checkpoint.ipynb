{
 "cells": [
  {
   "cell_type": "markdown",
   "id": "f7705dbd",
   "metadata": {},
   "source": [
    "## What is data science?"
   ]
  },
  {
   "cell_type": "code",
   "execution_count": 1,
   "id": "0527b566",
   "metadata": {},
   "outputs": [],
   "source": [
    "from IPython.display import Image\n",
    "from IPython.core.display import HTML "
   ]
  },
  {
   "cell_type": "markdown",
   "id": "b110fa7f",
   "metadata": {},
   "source": [
    "The term 'data science' has in recent times really become a buzzword. We hear about data scientists and data analyists being highly sought after and it becoming a really popular branch of IT.\n",
    "\n",
    "But what exactly is data science and what are the skills neccessary to become someone who analyzes data?\n",
    "\n"
   ]
  },
  {
   "cell_type": "markdown",
   "id": "7041e4f8",
   "metadata": {},
   "source": [
    "Data science is kind of an interdisciplinary field, which means it is at an intersection of multiple disciplines. At the centre of it is data - the most valuable commodity of today.\n",
    "\n",
    "Data science seeks to analyze and process data in such a way that new knowledge can be extracted from it. This knowledge serves to improve businesses and advance science by helping the decision making process (what should we do?), making predictions (what will hapen next?) and discover patterns (find hidden information in the data)."
   ]
  },
  {
   "cell_type": "code",
   "execution_count": 2,
   "id": "65800fa4",
   "metadata": {},
   "outputs": [
    {
     "data": {
      "text/html": [
       "<img src=\"img/DS.png\" width=\"400\" height=\"1200\"/>"
      ],
      "text/plain": [
       "<IPython.core.display.Image object>"
      ]
     },
     "execution_count": 2,
     "metadata": {},
     "output_type": "execute_result"
    }
   ],
   "source": [
    "Image(url= \"img/DS.png\", width=400, height=1200)"
   ]
  },
  {
   "cell_type": "markdown",
   "id": "30289d11",
   "metadata": {},
   "source": [
    "source: https://jakevdp.github.io/PythonDataScienceHandbook/00.00-preface.html"
   ]
  },
  {
   "cell_type": "markdown",
   "id": "becd30f2",
   "metadata": {},
   "source": [
    "This diagram basically explains where data science lies in the intersection of different disciplines. It comprises the skills of statistics (knowing how to summarize datasets), computer science (knowing how to model algorithms) an domain expertise (neccessary to formulate the research questions and put the answers into context)."
   ]
  },
  {
   "cell_type": "markdown",
   "id": "8eb360e1",
   "metadata": {},
   "source": [
    "### Where is Data Science needed?"
   ]
  },
  {
   "cell_type": "markdown",
   "id": "2adfd920",
   "metadata": {},
   "source": [
    "It's used in many disciplines, such as science, banking, consulting, health care, e-commerce, politics, and manufacturing.\n",
    "\n",
    "\n",
    "Some areas where data science is used:\n",
    "* marketing (sales analysis)\n",
    "* election predictions\n",
    "* to predict the best time for deliveries\n",
    "* to forsee delays in traffic\n",
    "* etc"
   ]
  },
  {
   "cell_type": "markdown",
   "id": "ebcadc8f",
   "metadata": {},
   "source": [
    "In the end, for our purposes, data science can help us better understand our data and provide some basic statistics as well as find out the relations inside the data."
   ]
  },
  {
   "cell_type": "markdown",
   "id": "88b0739b",
   "metadata": {},
   "source": [
    "Some of DS taks that are also useful for us:\n",
    "* asking the right questions\n",
    "* exploring and collecting data\n",
    "* extracting data\n",
    "* cleaning the data\n",
    "* finding and replacing missing values\n",
    "* normalizing data\n",
    "* analyzing data, finding patterns and making predictions\n",
    "* representing the results (visualisations)"
   ]
  },
  {
   "cell_type": "markdown",
   "id": "3c98def8",
   "metadata": {},
   "source": [
    "### Data "
   ]
  },
  {
   "cell_type": "markdown",
   "id": "83662d92",
   "metadata": {},
   "source": [
    "Types of data:\n",
    "* unstructured (Tweets, novels, reviews)\n",
    "* structured (databases, tables)\n",
    "\n",
    "One purpose of Data Science is to structure data, making it interpretable and easy to work with.\n",
    "\n"
   ]
  },
  {
   "cell_type": "markdown",
   "id": "9b8e137c",
   "metadata": {},
   "source": [
    "### Data analysis in Python"
   ]
  },
  {
   "cell_type": "markdown",
   "id": "8196cf70",
   "metadata": {},
   "source": [
    "Python is the \"main language\" of data science, as it has many inbuilt functions as well as libraries developed for the purposes of data science. \n",
    "\n",
    "Some of these libraries:\n",
    "* [pandas](https://pandas.pydata.org/) - for structured data operations\n",
    "* [numpy](https://numpy.org/) - a mathematical libtary (linear algebra, Fourier transform)\n",
    "* [matplotlib](https://matplotlib.org/) - visualizations\n",
    "* [SciPy](https://scipy.org/) - linear algebra models"
   ]
  },
  {
   "cell_type": "markdown",
   "id": "ab269d27",
   "metadata": {},
   "source": [
    "### Data analysis and manipulation with Pandas"
   ]
  },
  {
   "cell_type": "markdown",
   "id": "bac2eb5d",
   "metadata": {},
   "source": [
    "What can we find out with pandas?"
   ]
  },
  {
   "cell_type": "markdown",
   "id": "85e1d60b",
   "metadata": {},
   "source": [
    "* what is the correlation between two or more columns?\n",
    "* what is the average value?\n",
    "* what are the min and max values?"
   ]
  },
  {
   "cell_type": "markdown",
   "id": "f61f33b4",
   "metadata": {},
   "source": [
    "To install pandas - https://pandas.pydata.org/docs/getting_started/install.html"
   ]
  },
  {
   "cell_type": "code",
   "execution_count": 5,
   "id": "26e0d8c5",
   "metadata": {},
   "outputs": [],
   "source": [
    "import pandas"
   ]
  },
  {
   "cell_type": "markdown",
   "id": "b8e67c77",
   "metadata": {},
   "source": [
    "Let's check our pandas version:"
   ]
  },
  {
   "cell_type": "code",
   "execution_count": 6,
   "id": "a9b37ed6",
   "metadata": {},
   "outputs": [
    {
     "data": {
      "text/plain": [
       "'1.4.4'"
      ]
     },
     "execution_count": 6,
     "metadata": {},
     "output_type": "execute_result"
    }
   ],
   "source": [
    "pandas.__version__"
   ]
  },
  {
   "cell_type": "markdown",
   "id": "ae3f85f3",
   "metadata": {},
   "source": [
    "Usually, for pandas we use the abbreviation 'pd' so, we actually do our import such as:"
   ]
  },
  {
   "cell_type": "code",
   "execution_count": 2,
   "id": "b738dfc4",
   "metadata": {},
   "outputs": [],
   "source": [
    "import pandas as pd"
   ]
  },
  {
   "cell_type": "markdown",
   "id": "81b987fa",
   "metadata": {},
   "source": [
    "Of course, for data science, data types are extremely important. We are already very familiar with the standard Python datatypes, such as strings, ints, lists, dictionaries, etc. In pandas, two important datatypes (or objects) are called Series and Dataframe."
   ]
  },
  {
   "cell_type": "markdown",
   "id": "f58f8554",
   "metadata": {},
   "source": [
    "### Pandas Series"
   ]
  },
  {
   "cell_type": "markdown",
   "id": "04d1cb78",
   "metadata": {},
   "source": [
    "Pandas series is kind of like a column in a table. It's actually a one-dimensional array that holdes any type of data. We can create it out of a list, e.g.:"
   ]
  },
  {
   "cell_type": "code",
   "execution_count": 6,
   "id": "e158e772",
   "metadata": {},
   "outputs": [
    {
     "data": {
      "text/plain": [
       "0    1\n",
       "1    2\n",
       "2    3\n",
       "dtype: int64"
      ]
     },
     "execution_count": 6,
     "metadata": {},
     "output_type": "execute_result"
    }
   ],
   "source": [
    "a = [1, 2, 3]\n",
    "my_series = pd.Series(a)\n",
    "my_series"
   ]
  },
  {
   "cell_type": "markdown",
   "id": "e07271bd",
   "metadata": {},
   "source": [
    "If nothing else is specified, the values are labeled with their index number. First value has index 0, second value has index 1 etc.\n",
    "\n",
    "This label can be used to access a specified value.\n",
    "\n"
   ]
  },
  {
   "cell_type": "code",
   "execution_count": 7,
   "id": "fbe447aa",
   "metadata": {},
   "outputs": [
    {
     "data": {
      "text/plain": [
       "1"
      ]
     },
     "execution_count": 7,
     "metadata": {},
     "output_type": "execute_result"
    }
   ],
   "source": [
    "my_series[0]"
   ]
  },
  {
   "cell_type": "markdown",
   "id": "b8858052",
   "metadata": {},
   "source": [
    "With the index argument, you can name your own labels.\n",
    "\n"
   ]
  },
  {
   "cell_type": "code",
   "execution_count": 8,
   "id": "96571cbf",
   "metadata": {},
   "outputs": [
    {
     "data": {
      "text/plain": [
       "x    1\n",
       "y    2\n",
       "z    3\n",
       "dtype: int64"
      ]
     },
     "execution_count": 8,
     "metadata": {},
     "output_type": "execute_result"
    }
   ],
   "source": [
    "my_series = pd.Series(a, index = [\"x\", \"y\", \"z\"])\n",
    "\n",
    "my_series"
   ]
  },
  {
   "cell_type": "markdown",
   "id": "32c93aac",
   "metadata": {},
   "source": [
    "When you have created labels, you can access an item by referring to the label.\n",
    "\n"
   ]
  },
  {
   "cell_type": "code",
   "execution_count": 9,
   "id": "a916b730",
   "metadata": {},
   "outputs": [
    {
     "name": "stdout",
     "output_type": "stream",
     "text": [
      "1\n"
     ]
    }
   ],
   "source": [
    "print(my_series['x'])"
   ]
  },
  {
   "cell_type": "markdown",
   "id": "062e6896",
   "metadata": {},
   "source": [
    "We can think about series as a type of a specialized dictionary. As we know, dictionaries have keys and values and Series also maps typed keys to sets of typed values.\n"
   ]
  },
  {
   "cell_type": "code",
   "execution_count": 12,
   "id": "44d7ebc4",
   "metadata": {},
   "outputs": [],
   "source": [
    "population_dict = {'California': 38332521,\n",
    "                   'Texas': 26448193,\n",
    "                   'New York': 19651127,\n",
    "                   'Florida': 19552860,\n",
    "                   'Illinois': 12882135}\n",
    "\n"
   ]
  },
  {
   "cell_type": "markdown",
   "id": "f5ac54ee",
   "metadata": {},
   "source": [
    "<div class=\"alert alert-block alert-info\">\n",
    "<b>Exercise 1</b>\n",
    "    \n",
    "<p>\n",
    "    <li>Make a Series object out of Population_dict </li>\n",
    "    <li>find out the population of California </li>\n",
    " \n",
    "</p>\n",
    "</div>"
   ]
  },
  {
   "cell_type": "markdown",
   "id": "108ae951",
   "metadata": {},
   "source": [
    "We can also slice the data:"
   ]
  },
  {
   "cell_type": "code",
   "execution_count": 23,
   "id": "f967a7ab",
   "metadata": {},
   "outputs": [
    {
     "data": {
      "text/plain": [
       "Texas       26448193\n",
       "New York    19651127\n",
       "Florida     19552860\n",
       "Illinois    12882135\n",
       "dtype: int64"
      ]
     },
     "execution_count": 23,
     "metadata": {},
     "output_type": "execute_result"
    }
   ],
   "source": [
    "population['Texas':'Illinois']"
   ]
  },
  {
   "cell_type": "markdown",
   "id": "1b6c3072",
   "metadata": {},
   "source": [
    "### Pandas Dataframes"
   ]
  },
  {
   "cell_type": "markdown",
   "id": "75cde88d",
   "metadata": {},
   "source": [
    "Dataframes are structured representations of data, and unlike Series, often have more than one column."
   ]
  },
  {
   "cell_type": "markdown",
   "id": "ea912b53",
   "metadata": {},
   "source": [
    " Let's start by making a dataframe with some numbers:"
   ]
  },
  {
   "cell_type": "code",
   "execution_count": 56,
   "id": "ee6692a3",
   "metadata": {},
   "outputs": [],
   "source": [
    "d = {'col1': [1, 2, 3, 4, 7], 'col2': [4, 5, 6, 9, 5], 'col3': [7, 8, 12, 1, 11]}"
   ]
  },
  {
   "cell_type": "code",
   "execution_count": 57,
   "id": "64b8174b",
   "metadata": {},
   "outputs": [
    {
     "data": {
      "text/html": [
       "<div>\n",
       "<style scoped>\n",
       "    .dataframe tbody tr th:only-of-type {\n",
       "        vertical-align: middle;\n",
       "    }\n",
       "\n",
       "    .dataframe tbody tr th {\n",
       "        vertical-align: top;\n",
       "    }\n",
       "\n",
       "    .dataframe thead th {\n",
       "        text-align: right;\n",
       "    }\n",
       "</style>\n",
       "<table border=\"1\" class=\"dataframe\">\n",
       "  <thead>\n",
       "    <tr style=\"text-align: right;\">\n",
       "      <th></th>\n",
       "      <th>col1</th>\n",
       "      <th>col2</th>\n",
       "      <th>col3</th>\n",
       "    </tr>\n",
       "  </thead>\n",
       "  <tbody>\n",
       "    <tr>\n",
       "      <th>number1</th>\n",
       "      <td>1</td>\n",
       "      <td>4</td>\n",
       "      <td>7</td>\n",
       "    </tr>\n",
       "    <tr>\n",
       "      <th>number2</th>\n",
       "      <td>2</td>\n",
       "      <td>5</td>\n",
       "      <td>8</td>\n",
       "    </tr>\n",
       "    <tr>\n",
       "      <th>number3</th>\n",
       "      <td>3</td>\n",
       "      <td>6</td>\n",
       "      <td>12</td>\n",
       "    </tr>\n",
       "    <tr>\n",
       "      <th>number4</th>\n",
       "      <td>4</td>\n",
       "      <td>9</td>\n",
       "      <td>1</td>\n",
       "    </tr>\n",
       "    <tr>\n",
       "      <th>number5</th>\n",
       "      <td>7</td>\n",
       "      <td>5</td>\n",
       "      <td>11</td>\n",
       "    </tr>\n",
       "  </tbody>\n",
       "</table>\n",
       "</div>"
      ],
      "text/plain": [
       "         col1  col2  col3\n",
       "number1     1     4     7\n",
       "number2     2     5     8\n",
       "number3     3     6    12\n",
       "number4     4     9     1\n",
       "number5     7     5    11"
      ]
     },
     "execution_count": 57,
     "metadata": {},
     "output_type": "execute_result"
    }
   ],
   "source": [
    "df = pd.DataFrame(data=d, index = ['number1', 'number2', 'number3', 'number4', 'number5'])\n",
    "df"
   ]
  },
  {
   "cell_type": "markdown",
   "id": "41b3d6ab",
   "metadata": {},
   "source": [
    "We see that \"col1\", \"col2\" and \"col3\" are the names of the columns. The names of the indexes we added through a list.\n",
    "They tell us the information about the position of the rows.\n",
    "\n",
    "Now, we can use Python to count the columns and rows and ```df.shape``` to find the number of columns:\n",
    "\n"
   ]
  },
  {
   "cell_type": "code",
   "execution_count": 58,
   "id": "95a1f461",
   "metadata": {},
   "outputs": [],
   "source": [
    "count_row = df.shape[0]"
   ]
  },
  {
   "cell_type": "code",
   "execution_count": 59,
   "id": "fa8c7971",
   "metadata": {},
   "outputs": [
    {
     "name": "stdout",
     "output_type": "stream",
     "text": [
      "5\n"
     ]
    }
   ],
   "source": [
    "print(count_row)"
   ]
  },
  {
   "cell_type": "markdown",
   "id": "ab20d305",
   "metadata": {},
   "source": [
    "To demonstrate this, let's first construct a new Series listing the area of each of the five states discussed in the previous section:\n",
    "\n"
   ]
  },
  {
   "cell_type": "code",
   "execution_count": 60,
   "id": "61e0739f",
   "metadata": {},
   "outputs": [],
   "source": [
    "area_dict = {'California': 423967, 'Texas': 695662, 'New York': 141297,\n",
    "             'Florida': 170312, 'Illinois': 149995}\n"
   ]
  },
  {
   "cell_type": "markdown",
   "id": "f8bc0b6a",
   "metadata": {},
   "source": [
    "Now that we have this along with the population Series from before, we can use a dictionary to construct a single two-dimensional object containing this information:\n",
    "\n"
   ]
  },
  {
   "cell_type": "code",
   "execution_count": 61,
   "id": "f6c69570",
   "metadata": {},
   "outputs": [
    {
     "data": {
      "text/html": [
       "<div>\n",
       "<style scoped>\n",
       "    .dataframe tbody tr th:only-of-type {\n",
       "        vertical-align: middle;\n",
       "    }\n",
       "\n",
       "    .dataframe tbody tr th {\n",
       "        vertical-align: top;\n",
       "    }\n",
       "\n",
       "    .dataframe thead th {\n",
       "        text-align: right;\n",
       "    }\n",
       "</style>\n",
       "<table border=\"1\" class=\"dataframe\">\n",
       "  <thead>\n",
       "    <tr style=\"text-align: right;\">\n",
       "      <th></th>\n",
       "      <th>population</th>\n",
       "      <th>area</th>\n",
       "    </tr>\n",
       "  </thead>\n",
       "  <tbody>\n",
       "    <tr>\n",
       "      <th>California</th>\n",
       "      <td>38332521</td>\n",
       "      <td>423967</td>\n",
       "    </tr>\n",
       "    <tr>\n",
       "      <th>Texas</th>\n",
       "      <td>26448193</td>\n",
       "      <td>695662</td>\n",
       "    </tr>\n",
       "    <tr>\n",
       "      <th>New York</th>\n",
       "      <td>19651127</td>\n",
       "      <td>141297</td>\n",
       "    </tr>\n",
       "    <tr>\n",
       "      <th>Florida</th>\n",
       "      <td>19552860</td>\n",
       "      <td>170312</td>\n",
       "    </tr>\n",
       "    <tr>\n",
       "      <th>Illinois</th>\n",
       "      <td>12882135</td>\n",
       "      <td>149995</td>\n",
       "    </tr>\n",
       "  </tbody>\n",
       "</table>\n",
       "</div>"
      ],
      "text/plain": [
       "            population    area\n",
       "California    38332521  423967\n",
       "Texas         26448193  695662\n",
       "New York      19651127  141297\n",
       "Florida       19552860  170312\n",
       "Illinois      12882135  149995"
      ]
     },
     "execution_count": 61,
     "metadata": {},
     "output_type": "execute_result"
    }
   ],
   "source": [
    "states = pd.DataFrame({'population': population,\n",
    "                       'area': area})\n",
    "states"
   ]
  },
  {
   "cell_type": "markdown",
   "id": "c04100d7",
   "metadata": {},
   "source": [
    "### Indexing "
   ]
  },
  {
   "cell_type": "markdown",
   "id": "64b7665f",
   "metadata": {},
   "source": [
    "The individual Series that make up the columns of the DataFrame can be accessed via dictionary-style indexing of the column name:\n",
    "\n"
   ]
  },
  {
   "cell_type": "code",
   "execution_count": 62,
   "id": "618036ab",
   "metadata": {},
   "outputs": [
    {
     "data": {
      "text/plain": [
       "California    423967\n",
       "Texas         695662\n",
       "New York      141297\n",
       "Florida       170312\n",
       "Illinois      149995\n",
       "Name: area, dtype: int64"
      ]
     },
     "execution_count": 62,
     "metadata": {},
     "output_type": "execute_result"
    }
   ],
   "source": [
    "states['area']\n"
   ]
  },
  {
   "cell_type": "code",
   "execution_count": 63,
   "id": "fb2a0e6e",
   "metadata": {},
   "outputs": [
    {
     "data": {
      "text/plain": [
       "California    423967\n",
       "Texas         695662\n",
       "New York      141297\n",
       "Florida       170312\n",
       "Illinois      149995\n",
       "Name: area, dtype: int64"
      ]
     },
     "execution_count": 63,
     "metadata": {},
     "output_type": "execute_result"
    }
   ],
   "source": [
    "states.area"
   ]
  },
  {
   "cell_type": "markdown",
   "id": "fe5df2cf",
   "metadata": {},
   "source": [
    "Like with the Series objects discussed earlier, this dictionary-style syntax can also be used to modify the object, in this case adding a new column:\n",
    "\n"
   ]
  },
  {
   "cell_type": "code",
   "execution_count": 64,
   "id": "5d94f1a3",
   "metadata": {},
   "outputs": [
    {
     "data": {
      "text/html": [
       "<div>\n",
       "<style scoped>\n",
       "    .dataframe tbody tr th:only-of-type {\n",
       "        vertical-align: middle;\n",
       "    }\n",
       "\n",
       "    .dataframe tbody tr th {\n",
       "        vertical-align: top;\n",
       "    }\n",
       "\n",
       "    .dataframe thead th {\n",
       "        text-align: right;\n",
       "    }\n",
       "</style>\n",
       "<table border=\"1\" class=\"dataframe\">\n",
       "  <thead>\n",
       "    <tr style=\"text-align: right;\">\n",
       "      <th></th>\n",
       "      <th>population</th>\n",
       "      <th>area</th>\n",
       "      <th>density</th>\n",
       "    </tr>\n",
       "  </thead>\n",
       "  <tbody>\n",
       "    <tr>\n",
       "      <th>California</th>\n",
       "      <td>38332521</td>\n",
       "      <td>423967</td>\n",
       "      <td>90.413926</td>\n",
       "    </tr>\n",
       "    <tr>\n",
       "      <th>Texas</th>\n",
       "      <td>26448193</td>\n",
       "      <td>695662</td>\n",
       "      <td>38.018740</td>\n",
       "    </tr>\n",
       "    <tr>\n",
       "      <th>New York</th>\n",
       "      <td>19651127</td>\n",
       "      <td>141297</td>\n",
       "      <td>139.076746</td>\n",
       "    </tr>\n",
       "    <tr>\n",
       "      <th>Florida</th>\n",
       "      <td>19552860</td>\n",
       "      <td>170312</td>\n",
       "      <td>114.806121</td>\n",
       "    </tr>\n",
       "    <tr>\n",
       "      <th>Illinois</th>\n",
       "      <td>12882135</td>\n",
       "      <td>149995</td>\n",
       "      <td>85.883763</td>\n",
       "    </tr>\n",
       "  </tbody>\n",
       "</table>\n",
       "</div>"
      ],
      "text/plain": [
       "            population    area     density\n",
       "California    38332521  423967   90.413926\n",
       "Texas         26448193  695662   38.018740\n",
       "New York      19651127  141297  139.076746\n",
       "Florida       19552860  170312  114.806121\n",
       "Illinois      12882135  149995   85.883763"
      ]
     },
     "execution_count": 64,
     "metadata": {},
     "output_type": "execute_result"
    }
   ],
   "source": [
    "states['density'] = states['population'] / states['area']\n",
    "states"
   ]
  },
  {
   "cell_type": "markdown",
   "id": "5f62d4b0",
   "metadata": {},
   "source": [
    "With the index argument, you can name your own indexes.\n",
    "\n"
   ]
  },
  {
   "cell_type": "markdown",
   "id": "30c3f02b",
   "metadata": {},
   "source": [
    "As mentioned previously, we can also view the DataFrame as an enhanced two-dimensional array. We can examine the raw underlying data array using the values attribute:\n",
    "\n"
   ]
  },
  {
   "cell_type": "code",
   "execution_count": 65,
   "id": "305430f2",
   "metadata": {},
   "outputs": [
    {
     "data": {
      "text/plain": [
       "array([[3.83325210e+07, 4.23967000e+05, 9.04139261e+01],\n",
       "       [2.64481930e+07, 6.95662000e+05, 3.80187404e+01],\n",
       "       [1.96511270e+07, 1.41297000e+05, 1.39076746e+02],\n",
       "       [1.95528600e+07, 1.70312000e+05, 1.14806121e+02],\n",
       "       [1.28821350e+07, 1.49995000e+05, 8.58837628e+01]])"
      ]
     },
     "execution_count": 65,
     "metadata": {},
     "output_type": "execute_result"
    }
   ],
   "source": [
    "states.values\n"
   ]
  },
  {
   "cell_type": "markdown",
   "id": "d176cbb0",
   "metadata": {},
   "source": [
    "With this picture in mind, many familiar array-like observations can be done on the DataFrame itself. For example, we can transpose the full DataFrame to swap rows and columns:\n",
    "\n"
   ]
  },
  {
   "cell_type": "code",
   "execution_count": 66,
   "id": "7c14adf2",
   "metadata": {},
   "outputs": [
    {
     "data": {
      "text/html": [
       "<div>\n",
       "<style scoped>\n",
       "    .dataframe tbody tr th:only-of-type {\n",
       "        vertical-align: middle;\n",
       "    }\n",
       "\n",
       "    .dataframe tbody tr th {\n",
       "        vertical-align: top;\n",
       "    }\n",
       "\n",
       "    .dataframe thead th {\n",
       "        text-align: right;\n",
       "    }\n",
       "</style>\n",
       "<table border=\"1\" class=\"dataframe\">\n",
       "  <thead>\n",
       "    <tr style=\"text-align: right;\">\n",
       "      <th></th>\n",
       "      <th>California</th>\n",
       "      <th>Texas</th>\n",
       "      <th>New York</th>\n",
       "      <th>Florida</th>\n",
       "      <th>Illinois</th>\n",
       "    </tr>\n",
       "  </thead>\n",
       "  <tbody>\n",
       "    <tr>\n",
       "      <th>population</th>\n",
       "      <td>3.833252e+07</td>\n",
       "      <td>2.644819e+07</td>\n",
       "      <td>1.965113e+07</td>\n",
       "      <td>1.955286e+07</td>\n",
       "      <td>1.288214e+07</td>\n",
       "    </tr>\n",
       "    <tr>\n",
       "      <th>area</th>\n",
       "      <td>4.239670e+05</td>\n",
       "      <td>6.956620e+05</td>\n",
       "      <td>1.412970e+05</td>\n",
       "      <td>1.703120e+05</td>\n",
       "      <td>1.499950e+05</td>\n",
       "    </tr>\n",
       "    <tr>\n",
       "      <th>density</th>\n",
       "      <td>9.041393e+01</td>\n",
       "      <td>3.801874e+01</td>\n",
       "      <td>1.390767e+02</td>\n",
       "      <td>1.148061e+02</td>\n",
       "      <td>8.588376e+01</td>\n",
       "    </tr>\n",
       "  </tbody>\n",
       "</table>\n",
       "</div>"
      ],
      "text/plain": [
       "              California         Texas      New York       Florida  \\\n",
       "population  3.833252e+07  2.644819e+07  1.965113e+07  1.955286e+07   \n",
       "area        4.239670e+05  6.956620e+05  1.412970e+05  1.703120e+05   \n",
       "density     9.041393e+01  3.801874e+01  1.390767e+02  1.148061e+02   \n",
       "\n",
       "                Illinois  \n",
       "population  1.288214e+07  \n",
       "area        1.499950e+05  \n",
       "density     8.588376e+01  "
      ]
     },
     "execution_count": 66,
     "metadata": {},
     "output_type": "execute_result"
    }
   ],
   "source": [
    "states.T"
   ]
  },
  {
   "cell_type": "markdown",
   "id": "95c3ef31",
   "metadata": {},
   "source": [
    "Thus for array-style indexing, we need another convention. Here Pandas again uses the loc and iloc indexers mentioned earlier. Using the iloc indexer, we can index the underlying array, but the DataFrame index and column labels are maintained in the result.\n",
    "Different from the loc method, iloc is integer position based. It only works with the inherent row position number ranged 0-n.\n",
    "\n"
   ]
  },
  {
   "cell_type": "code",
   "execution_count": 111,
   "id": "60558dbe",
   "metadata": {},
   "outputs": [
    {
     "data": {
      "text/html": [
       "<div>\n",
       "<style scoped>\n",
       "    .dataframe tbody tr th:only-of-type {\n",
       "        vertical-align: middle;\n",
       "    }\n",
       "\n",
       "    .dataframe tbody tr th {\n",
       "        vertical-align: top;\n",
       "    }\n",
       "\n",
       "    .dataframe thead th {\n",
       "        text-align: right;\n",
       "    }\n",
       "</style>\n",
       "<table border=\"1\" class=\"dataframe\">\n",
       "  <thead>\n",
       "    <tr style=\"text-align: right;\">\n",
       "      <th></th>\n",
       "      <th>population</th>\n",
       "      <th>area</th>\n",
       "    </tr>\n",
       "  </thead>\n",
       "  <tbody>\n",
       "    <tr>\n",
       "      <th>California</th>\n",
       "      <td>38332521</td>\n",
       "      <td>423967</td>\n",
       "    </tr>\n",
       "    <tr>\n",
       "      <th>Texas</th>\n",
       "      <td>26448193</td>\n",
       "      <td>695662</td>\n",
       "    </tr>\n",
       "    <tr>\n",
       "      <th>New York</th>\n",
       "      <td>19651127</td>\n",
       "      <td>141297</td>\n",
       "    </tr>\n",
       "  </tbody>\n",
       "</table>\n",
       "</div>"
      ],
      "text/plain": [
       "            population    area\n",
       "California    38332521  423967\n",
       "Texas         26448193  695662\n",
       "New York      19651127  141297"
      ]
     },
     "execution_count": 111,
     "metadata": {},
     "output_type": "execute_result"
    }
   ],
   "source": [
    "states.iloc[:3, :2]\n"
   ]
  },
  {
   "cell_type": "code",
   "execution_count": 112,
   "id": "6be9dfa0",
   "metadata": {},
   "outputs": [
    {
     "data": {
      "text/html": [
       "<div>\n",
       "<style scoped>\n",
       "    .dataframe tbody tr th:only-of-type {\n",
       "        vertical-align: middle;\n",
       "    }\n",
       "\n",
       "    .dataframe tbody tr th {\n",
       "        vertical-align: top;\n",
       "    }\n",
       "\n",
       "    .dataframe thead th {\n",
       "        text-align: right;\n",
       "    }\n",
       "</style>\n",
       "<table border=\"1\" class=\"dataframe\">\n",
       "  <thead>\n",
       "    <tr style=\"text-align: right;\">\n",
       "      <th></th>\n",
       "      <th>population</th>\n",
       "    </tr>\n",
       "  </thead>\n",
       "  <tbody>\n",
       "    <tr>\n",
       "      <th>California</th>\n",
       "      <td>38332521</td>\n",
       "    </tr>\n",
       "    <tr>\n",
       "      <th>Texas</th>\n",
       "      <td>26448193</td>\n",
       "    </tr>\n",
       "    <tr>\n",
       "      <th>New York</th>\n",
       "      <td>19651127</td>\n",
       "    </tr>\n",
       "    <tr>\n",
       "      <th>Florida</th>\n",
       "      <td>19552860</td>\n",
       "    </tr>\n",
       "  </tbody>\n",
       "</table>\n",
       "</div>"
      ],
      "text/plain": [
       "            population\n",
       "California    38332521\n",
       "Texas         26448193\n",
       "New York      19651127\n",
       "Florida       19552860"
      ]
     },
     "execution_count": 112,
     "metadata": {},
     "output_type": "execute_result"
    }
   ],
   "source": [
    "states.loc[:'Florida', :'population']\n"
   ]
  },
  {
   "cell_type": "markdown",
   "id": "211a4940",
   "metadata": {},
   "source": [
    "Similarly, using the loc indexer we can index the underlying data in an array-like style but using the explicit index and column names:\n",
    "\n"
   ]
  },
  {
   "cell_type": "code",
   "execution_count": 113,
   "id": "9dde3c69",
   "metadata": {},
   "outputs": [
    {
     "name": "stdout",
     "output_type": "stream",
     "text": [
      "population    3.833252e+07\n",
      "area          4.239670e+05\n",
      "density       9.041393e+01\n",
      "Name: California, dtype: float64\n"
     ]
    }
   ],
   "source": [
    "print(states.loc['California'])\n"
   ]
  },
  {
   "cell_type": "markdown",
   "id": "f2779073",
   "metadata": {},
   "source": [
    "Direct masking operations are also interpreted row-wise rather than column-wise:\n",
    "\n"
   ]
  },
  {
   "cell_type": "code",
   "execution_count": 72,
   "id": "9320e2d1",
   "metadata": {},
   "outputs": [
    {
     "data": {
      "text/html": [
       "<div>\n",
       "<style scoped>\n",
       "    .dataframe tbody tr th:only-of-type {\n",
       "        vertical-align: middle;\n",
       "    }\n",
       "\n",
       "    .dataframe tbody tr th {\n",
       "        vertical-align: top;\n",
       "    }\n",
       "\n",
       "    .dataframe thead th {\n",
       "        text-align: right;\n",
       "    }\n",
       "</style>\n",
       "<table border=\"1\" class=\"dataframe\">\n",
       "  <thead>\n",
       "    <tr style=\"text-align: right;\">\n",
       "      <th></th>\n",
       "      <th>population</th>\n",
       "      <th>area</th>\n",
       "      <th>density</th>\n",
       "    </tr>\n",
       "  </thead>\n",
       "  <tbody>\n",
       "    <tr>\n",
       "      <th>New York</th>\n",
       "      <td>19651127</td>\n",
       "      <td>141297</td>\n",
       "      <td>139.076746</td>\n",
       "    </tr>\n",
       "    <tr>\n",
       "      <th>Florida</th>\n",
       "      <td>19552860</td>\n",
       "      <td>170312</td>\n",
       "      <td>114.806121</td>\n",
       "    </tr>\n",
       "  </tbody>\n",
       "</table>\n",
       "</div>"
      ],
      "text/plain": [
       "          population    area     density\n",
       "New York    19651127  141297  139.076746\n",
       "Florida     19552860  170312  114.806121"
      ]
     },
     "execution_count": 72,
     "metadata": {},
     "output_type": "execute_result"
    }
   ],
   "source": [
    "states[states.density > 100]\n"
   ]
  },
  {
   "cell_type": "markdown",
   "id": "a8445398",
   "metadata": {},
   "source": [
    "<div class=\"alert alert-block alert-info\">\n",
    "<b>Exercise 2</b>\n",
    "    \n",
    "<p>\n",
    "    <li>Make a new dataframe out of exercise_data  </li>\n",
    "    <li>Give the rows indexes as follows: 'day1', 'day2', 'day3' </li>\n",
    "    <li>Return 'day3' using loc </li>\n",
    "</p>\n",
    "</div>"
   ]
  },
  {
   "cell_type": "code",
   "execution_count": 52,
   "id": "8d21ecb7",
   "metadata": {},
   "outputs": [],
   "source": [
    "exercise_data = {\n",
    "  \"calories\": [420, 380, 390],\n",
    "  \"duration\": [50, 40, 45]\n",
    "}\n"
   ]
  },
  {
   "cell_type": "markdown",
   "id": "52499da4",
   "metadata": {},
   "source": [
    "### Creating a dataframe from csv"
   ]
  },
  {
   "cell_type": "markdown",
   "id": "365acf85",
   "metadata": {},
   "source": [
    "This is a functionality that we use a lot, for readin in our own datasets."
   ]
  },
  {
   "cell_type": "code",
   "execution_count": 121,
   "id": "ba3bef33",
   "metadata": {},
   "outputs": [
    {
     "data": {
      "text/html": [
       "<div>\n",
       "<style scoped>\n",
       "    .dataframe tbody tr th:only-of-type {\n",
       "        vertical-align: middle;\n",
       "    }\n",
       "\n",
       "    .dataframe tbody tr th {\n",
       "        vertical-align: top;\n",
       "    }\n",
       "\n",
       "    .dataframe thead th {\n",
       "        text-align: right;\n",
       "    }\n",
       "</style>\n",
       "<table border=\"1\" class=\"dataframe\">\n",
       "  <thead>\n",
       "    <tr style=\"text-align: right;\">\n",
       "      <th></th>\n",
       "      <th>Title</th>\n",
       "      <th>Year</th>\n",
       "      <th>Rating</th>\n",
       "      <th>Votes:</th>\n",
       "      <th>Time</th>\n",
       "      <th>Genre</th>\n",
       "      <th>Stars</th>\n",
       "      <th>Short Story</th>\n",
       "    </tr>\n",
       "  </thead>\n",
       "  <tbody>\n",
       "    <tr>\n",
       "      <th>0</th>\n",
       "      <td>Hellbound</td>\n",
       "      <td>(2021– )</td>\n",
       "      <td>6.7</td>\n",
       "      <td>14,032</td>\n",
       "      <td>150 min</td>\n",
       "      <td>Crime, Drama, Fantasy</td>\n",
       "      <td>Yoo Ah-in, Kim Hyun-joo, Jeong Min Park, Jin-a...</td>\n",
       "      <td>\\nPeople hear predictions on when they will di...</td>\n",
       "    </tr>\n",
       "    <tr>\n",
       "      <th>1</th>\n",
       "      <td>Squid Game</td>\n",
       "      <td>(2021– )</td>\n",
       "      <td>8.1</td>\n",
       "      <td>339,931</td>\n",
       "      <td>55 min</td>\n",
       "      <td>Action, Drama, Mystery</td>\n",
       "      <td>Lee Jung-jae, Park Hae-soo, Wi Ha-Joon, Jung H...</td>\n",
       "      <td>\\nHundreds of cash-strapped players accept a s...</td>\n",
       "    </tr>\n",
       "    <tr>\n",
       "      <th>2</th>\n",
       "      <td>My Name</td>\n",
       "      <td>(2021– )</td>\n",
       "      <td>7.9</td>\n",
       "      <td>12,877</td>\n",
       "      <td>50 min</td>\n",
       "      <td>Action, Crime, Drama</td>\n",
       "      <td>Hee-soon Park, Ahn Bo-Hyun, Han So-hee, Kim Sa...</td>\n",
       "      <td>\\nThe story about a woman who joins an organiz...</td>\n",
       "    </tr>\n",
       "    <tr>\n",
       "      <th>3</th>\n",
       "      <td>Miraculous: Tales of Ladybug &amp; Cat Noir</td>\n",
       "      <td>(2015– )</td>\n",
       "      <td>7.7</td>\n",
       "      <td>9,439</td>\n",
       "      <td>20 min</td>\n",
       "      <td>Animation, Action, Adventure</td>\n",
       "      <td>Cristina Valenzuela, Bryce Papenbrook, Keith S...</td>\n",
       "      <td>\\nMarinette and Adrien, two normal teens, tran...</td>\n",
       "    </tr>\n",
       "    <tr>\n",
       "      <th>4</th>\n",
       "      <td>Happiness</td>\n",
       "      <td>(2021– )</td>\n",
       "      <td>8.6</td>\n",
       "      <td>921</td>\n",
       "      <td>-</td>\n",
       "      <td>Action, Fantasy, Thriller</td>\n",
       "      <td>Han Hyo-joo, Park Hyung-Sik, Woo-jin Jo, Lee J...</td>\n",
       "      <td>\\nAn apocalyptic thriller that takes place in ...</td>\n",
       "    </tr>\n",
       "    <tr>\n",
       "      <th>...</th>\n",
       "      <td>...</td>\n",
       "      <td>...</td>\n",
       "      <td>...</td>\n",
       "      <td>...</td>\n",
       "      <td>...</td>\n",
       "      <td>...</td>\n",
       "      <td>...</td>\n",
       "      <td>...</td>\n",
       "    </tr>\n",
       "    <tr>\n",
       "      <th>1984</th>\n",
       "      <td>Untitled K-Pop Latin American Project</td>\n",
       "      <td>NaN</td>\n",
       "      <td>-</td>\n",
       "      <td>-</td>\n",
       "      <td>-</td>\n",
       "      <td>Reality-TV</td>\n",
       "      <td>-</td>\n",
       "      <td>\\nYoung men from Latin America audition for an...</td>\n",
       "    </tr>\n",
       "    <tr>\n",
       "      <th>1985</th>\n",
       "      <td>Bite Sisters</td>\n",
       "      <td>(2021)</td>\n",
       "      <td>7.4</td>\n",
       "      <td>5</td>\n",
       "      <td>-</td>\n",
       "      <td>Fantasy, Romance</td>\n",
       "      <td>Kang Han-na, Kim Yeong-Ah, Yu-hwa Choi, Lee Si...</td>\n",
       "      <td>\\nThis story follows Han Yi Na a vampire who s...</td>\n",
       "    </tr>\n",
       "    <tr>\n",
       "      <th>1986</th>\n",
       "      <td>Adult Trainee</td>\n",
       "      <td>(2021– )</td>\n",
       "      <td>7.1</td>\n",
       "      <td>10</td>\n",
       "      <td>-</td>\n",
       "      <td>Comedy, Romance</td>\n",
       "      <td>Mi-Yeon Cho, Ryu Eui-Hyun, Lee Chan Hyung, Yoo...</td>\n",
       "      <td>\\nAdd a Plot\\n</td>\n",
       "    </tr>\n",
       "    <tr>\n",
       "      <th>1987</th>\n",
       "      <td>A good supper</td>\n",
       "      <td>(2021)</td>\n",
       "      <td>-</td>\n",
       "      <td>-</td>\n",
       "      <td>-</td>\n",
       "      <td>Romance</td>\n",
       "      <td>-</td>\n",
       "      <td>\\nAdd a Plot\\n</td>\n",
       "    </tr>\n",
       "    <tr>\n",
       "      <th>1988</th>\n",
       "      <td>User Not Found</td>\n",
       "      <td>(2021– )</td>\n",
       "      <td>-</td>\n",
       "      <td>-</td>\n",
       "      <td>-</td>\n",
       "      <td>Drama, Romance</td>\n",
       "      <td>-</td>\n",
       "      <td>\\nAdd a Plot\\n</td>\n",
       "    </tr>\n",
       "  </tbody>\n",
       "</table>\n",
       "<p>1989 rows × 8 columns</p>\n",
       "</div>"
      ],
      "text/plain": [
       "                                        Title      Year Rating   Votes:  \\\n",
       "0                                   Hellbound  (2021– )    6.7   14,032   \n",
       "1                                  Squid Game  (2021– )    8.1  339,931   \n",
       "2                                     My Name  (2021– )    7.9   12,877   \n",
       "3     Miraculous: Tales of Ladybug & Cat Noir  (2015– )    7.7    9,439   \n",
       "4                                   Happiness  (2021– )    8.6      921   \n",
       "...                                       ...       ...    ...      ...   \n",
       "1984    Untitled K-Pop Latin American Project       NaN      -        -   \n",
       "1985                             Bite Sisters    (2021)    7.4        5   \n",
       "1986                            Adult Trainee  (2021– )    7.1       10   \n",
       "1987                            A good supper    (2021)      -        -   \n",
       "1988                           User Not Found  (2021– )      -        -   \n",
       "\n",
       "         Time                         Genre  \\\n",
       "0     150 min         Crime, Drama, Fantasy   \n",
       "1      55 min        Action, Drama, Mystery   \n",
       "2      50 min          Action, Crime, Drama   \n",
       "3      20 min  Animation, Action, Adventure   \n",
       "4           -     Action, Fantasy, Thriller   \n",
       "...       ...                           ...   \n",
       "1984        -                    Reality-TV   \n",
       "1985        -              Fantasy, Romance   \n",
       "1986        -               Comedy, Romance   \n",
       "1987        -                       Romance   \n",
       "1988        -                Drama, Romance   \n",
       "\n",
       "                                                  Stars  \\\n",
       "0     Yoo Ah-in, Kim Hyun-joo, Jeong Min Park, Jin-a...   \n",
       "1     Lee Jung-jae, Park Hae-soo, Wi Ha-Joon, Jung H...   \n",
       "2     Hee-soon Park, Ahn Bo-Hyun, Han So-hee, Kim Sa...   \n",
       "3     Cristina Valenzuela, Bryce Papenbrook, Keith S...   \n",
       "4     Han Hyo-joo, Park Hyung-Sik, Woo-jin Jo, Lee J...   \n",
       "...                                                 ...   \n",
       "1984                                                  -   \n",
       "1985  Kang Han-na, Kim Yeong-Ah, Yu-hwa Choi, Lee Si...   \n",
       "1986  Mi-Yeon Cho, Ryu Eui-Hyun, Lee Chan Hyung, Yoo...   \n",
       "1987                                                  -   \n",
       "1988                                                  -   \n",
       "\n",
       "                                            Short Story  \n",
       "0     \\nPeople hear predictions on when they will di...  \n",
       "1     \\nHundreds of cash-strapped players accept a s...  \n",
       "2     \\nThe story about a woman who joins an organiz...  \n",
       "3     \\nMarinette and Adrien, two normal teens, tran...  \n",
       "4     \\nAn apocalyptic thriller that takes place in ...  \n",
       "...                                                 ...  \n",
       "1984  \\nYoung men from Latin America audition for an...  \n",
       "1985  \\nThis story follows Han Yi Na a vampire who s...  \n",
       "1986                                     \\nAdd a Plot\\n  \n",
       "1987                                     \\nAdd a Plot\\n  \n",
       "1988                                     \\nAdd a Plot\\n  \n",
       "\n",
       "[1989 rows x 8 columns]"
      ]
     },
     "execution_count": 121,
     "metadata": {},
     "output_type": "execute_result"
    }
   ],
   "source": [
    "df = pd.read_csv('data/koreanTV.csv')\n",
    "df"
   ]
  },
  {
   "cell_type": "code",
   "execution_count": 124,
   "id": "e84ab004",
   "metadata": {},
   "outputs": [
    {
     "data": {
      "text/plain": [
       "(1989, 8)"
      ]
     },
     "execution_count": 124,
     "metadata": {},
     "output_type": "execute_result"
    }
   ],
   "source": [
    "df.shape\n"
   ]
  },
  {
   "cell_type": "markdown",
   "id": "51ad6685",
   "metadata": {},
   "source": [
    "We can also preview the DataFrame data using the head function. The head function display the first five rows of records in the Pandas DataFrame.\n",
    "\n"
   ]
  },
  {
   "cell_type": "code",
   "execution_count": 125,
   "id": "8507094f",
   "metadata": {},
   "outputs": [
    {
     "data": {
      "text/html": [
       "<div>\n",
       "<style scoped>\n",
       "    .dataframe tbody tr th:only-of-type {\n",
       "        vertical-align: middle;\n",
       "    }\n",
       "\n",
       "    .dataframe tbody tr th {\n",
       "        vertical-align: top;\n",
       "    }\n",
       "\n",
       "    .dataframe thead th {\n",
       "        text-align: right;\n",
       "    }\n",
       "</style>\n",
       "<table border=\"1\" class=\"dataframe\">\n",
       "  <thead>\n",
       "    <tr style=\"text-align: right;\">\n",
       "      <th></th>\n",
       "      <th>Title</th>\n",
       "      <th>Year</th>\n",
       "      <th>Rating</th>\n",
       "      <th>Votes:</th>\n",
       "      <th>Time</th>\n",
       "      <th>Genre</th>\n",
       "      <th>Stars</th>\n",
       "      <th>Short Story</th>\n",
       "    </tr>\n",
       "  </thead>\n",
       "  <tbody>\n",
       "    <tr>\n",
       "      <th>0</th>\n",
       "      <td>Hellbound</td>\n",
       "      <td>(2021– )</td>\n",
       "      <td>6.7</td>\n",
       "      <td>14,032</td>\n",
       "      <td>150 min</td>\n",
       "      <td>Crime, Drama, Fantasy</td>\n",
       "      <td>Yoo Ah-in, Kim Hyun-joo, Jeong Min Park, Jin-a...</td>\n",
       "      <td>\\nPeople hear predictions on when they will di...</td>\n",
       "    </tr>\n",
       "    <tr>\n",
       "      <th>1</th>\n",
       "      <td>Squid Game</td>\n",
       "      <td>(2021– )</td>\n",
       "      <td>8.1</td>\n",
       "      <td>339,931</td>\n",
       "      <td>55 min</td>\n",
       "      <td>Action, Drama, Mystery</td>\n",
       "      <td>Lee Jung-jae, Park Hae-soo, Wi Ha-Joon, Jung H...</td>\n",
       "      <td>\\nHundreds of cash-strapped players accept a s...</td>\n",
       "    </tr>\n",
       "    <tr>\n",
       "      <th>2</th>\n",
       "      <td>My Name</td>\n",
       "      <td>(2021– )</td>\n",
       "      <td>7.9</td>\n",
       "      <td>12,877</td>\n",
       "      <td>50 min</td>\n",
       "      <td>Action, Crime, Drama</td>\n",
       "      <td>Hee-soon Park, Ahn Bo-Hyun, Han So-hee, Kim Sa...</td>\n",
       "      <td>\\nThe story about a woman who joins an organiz...</td>\n",
       "    </tr>\n",
       "    <tr>\n",
       "      <th>3</th>\n",
       "      <td>Miraculous: Tales of Ladybug &amp; Cat Noir</td>\n",
       "      <td>(2015– )</td>\n",
       "      <td>7.7</td>\n",
       "      <td>9,439</td>\n",
       "      <td>20 min</td>\n",
       "      <td>Animation, Action, Adventure</td>\n",
       "      <td>Cristina Valenzuela, Bryce Papenbrook, Keith S...</td>\n",
       "      <td>\\nMarinette and Adrien, two normal teens, tran...</td>\n",
       "    </tr>\n",
       "    <tr>\n",
       "      <th>4</th>\n",
       "      <td>Happiness</td>\n",
       "      <td>(2021– )</td>\n",
       "      <td>8.6</td>\n",
       "      <td>921</td>\n",
       "      <td>-</td>\n",
       "      <td>Action, Fantasy, Thriller</td>\n",
       "      <td>Han Hyo-joo, Park Hyung-Sik, Woo-jin Jo, Lee J...</td>\n",
       "      <td>\\nAn apocalyptic thriller that takes place in ...</td>\n",
       "    </tr>\n",
       "  </tbody>\n",
       "</table>\n",
       "</div>"
      ],
      "text/plain": [
       "                                     Title      Year Rating   Votes:     Time  \\\n",
       "0                                Hellbound  (2021– )    6.7   14,032  150 min   \n",
       "1                               Squid Game  (2021– )    8.1  339,931   55 min   \n",
       "2                                  My Name  (2021– )    7.9   12,877   50 min   \n",
       "3  Miraculous: Tales of Ladybug & Cat Noir  (2015– )    7.7    9,439   20 min   \n",
       "4                                Happiness  (2021– )    8.6      921        -   \n",
       "\n",
       "                          Genre  \\\n",
       "0         Crime, Drama, Fantasy   \n",
       "1        Action, Drama, Mystery   \n",
       "2          Action, Crime, Drama   \n",
       "3  Animation, Action, Adventure   \n",
       "4     Action, Fantasy, Thriller   \n",
       "\n",
       "                                               Stars  \\\n",
       "0  Yoo Ah-in, Kim Hyun-joo, Jeong Min Park, Jin-a...   \n",
       "1  Lee Jung-jae, Park Hae-soo, Wi Ha-Joon, Jung H...   \n",
       "2  Hee-soon Park, Ahn Bo-Hyun, Han So-hee, Kim Sa...   \n",
       "3  Cristina Valenzuela, Bryce Papenbrook, Keith S...   \n",
       "4  Han Hyo-joo, Park Hyung-Sik, Woo-jin Jo, Lee J...   \n",
       "\n",
       "                                         Short Story  \n",
       "0  \\nPeople hear predictions on when they will di...  \n",
       "1  \\nHundreds of cash-strapped players accept a s...  \n",
       "2  \\nThe story about a woman who joins an organiz...  \n",
       "3  \\nMarinette and Adrien, two normal teens, tran...  \n",
       "4  \\nAn apocalyptic thriller that takes place in ...  "
      ]
     },
     "execution_count": 125,
     "metadata": {},
     "output_type": "execute_result"
    }
   ],
   "source": [
    "df.head()"
   ]
  },
  {
   "cell_type": "markdown",
   "id": "a54d5217",
   "metadata": {},
   "source": [
    "On another hand, we can also use the tail function to display the last five rows of records.\n",
    "\n"
   ]
  },
  {
   "cell_type": "code",
   "execution_count": 126,
   "id": "de688fa5",
   "metadata": {},
   "outputs": [
    {
     "data": {
      "text/html": [
       "<div>\n",
       "<style scoped>\n",
       "    .dataframe tbody tr th:only-of-type {\n",
       "        vertical-align: middle;\n",
       "    }\n",
       "\n",
       "    .dataframe tbody tr th {\n",
       "        vertical-align: top;\n",
       "    }\n",
       "\n",
       "    .dataframe thead th {\n",
       "        text-align: right;\n",
       "    }\n",
       "</style>\n",
       "<table border=\"1\" class=\"dataframe\">\n",
       "  <thead>\n",
       "    <tr style=\"text-align: right;\">\n",
       "      <th></th>\n",
       "      <th>Title</th>\n",
       "      <th>Year</th>\n",
       "      <th>Rating</th>\n",
       "      <th>Votes:</th>\n",
       "      <th>Time</th>\n",
       "      <th>Genre</th>\n",
       "      <th>Stars</th>\n",
       "      <th>Short Story</th>\n",
       "    </tr>\n",
       "  </thead>\n",
       "  <tbody>\n",
       "    <tr>\n",
       "      <th>1984</th>\n",
       "      <td>Untitled K-Pop Latin American Project</td>\n",
       "      <td>NaN</td>\n",
       "      <td>-</td>\n",
       "      <td>-</td>\n",
       "      <td>-</td>\n",
       "      <td>Reality-TV</td>\n",
       "      <td>-</td>\n",
       "      <td>\\nYoung men from Latin America audition for an...</td>\n",
       "    </tr>\n",
       "    <tr>\n",
       "      <th>1985</th>\n",
       "      <td>Bite Sisters</td>\n",
       "      <td>(2021)</td>\n",
       "      <td>7.4</td>\n",
       "      <td>5</td>\n",
       "      <td>-</td>\n",
       "      <td>Fantasy, Romance</td>\n",
       "      <td>Kang Han-na, Kim Yeong-Ah, Yu-hwa Choi, Lee Si...</td>\n",
       "      <td>\\nThis story follows Han Yi Na a vampire who s...</td>\n",
       "    </tr>\n",
       "    <tr>\n",
       "      <th>1986</th>\n",
       "      <td>Adult Trainee</td>\n",
       "      <td>(2021– )</td>\n",
       "      <td>7.1</td>\n",
       "      <td>10</td>\n",
       "      <td>-</td>\n",
       "      <td>Comedy, Romance</td>\n",
       "      <td>Mi-Yeon Cho, Ryu Eui-Hyun, Lee Chan Hyung, Yoo...</td>\n",
       "      <td>\\nAdd a Plot\\n</td>\n",
       "    </tr>\n",
       "    <tr>\n",
       "      <th>1987</th>\n",
       "      <td>A good supper</td>\n",
       "      <td>(2021)</td>\n",
       "      <td>-</td>\n",
       "      <td>-</td>\n",
       "      <td>-</td>\n",
       "      <td>Romance</td>\n",
       "      <td>-</td>\n",
       "      <td>\\nAdd a Plot\\n</td>\n",
       "    </tr>\n",
       "    <tr>\n",
       "      <th>1988</th>\n",
       "      <td>User Not Found</td>\n",
       "      <td>(2021– )</td>\n",
       "      <td>-</td>\n",
       "      <td>-</td>\n",
       "      <td>-</td>\n",
       "      <td>Drama, Romance</td>\n",
       "      <td>-</td>\n",
       "      <td>\\nAdd a Plot\\n</td>\n",
       "    </tr>\n",
       "  </tbody>\n",
       "</table>\n",
       "</div>"
      ],
      "text/plain": [
       "                                      Title      Year Rating Votes: Time  \\\n",
       "1984  Untitled K-Pop Latin American Project       NaN      -      -    -   \n",
       "1985                           Bite Sisters    (2021)    7.4      5    -   \n",
       "1986                          Adult Trainee  (2021– )    7.1     10    -   \n",
       "1987                          A good supper    (2021)      -      -    -   \n",
       "1988                         User Not Found  (2021– )      -      -    -   \n",
       "\n",
       "                 Genre                                              Stars  \\\n",
       "1984        Reality-TV                                                  -   \n",
       "1985  Fantasy, Romance  Kang Han-na, Kim Yeong-Ah, Yu-hwa Choi, Lee Si...   \n",
       "1986   Comedy, Romance  Mi-Yeon Cho, Ryu Eui-Hyun, Lee Chan Hyung, Yoo...   \n",
       "1987           Romance                                                  -   \n",
       "1988    Drama, Romance                                                  -   \n",
       "\n",
       "                                            Short Story  \n",
       "1984  \\nYoung men from Latin America audition for an...  \n",
       "1985  \\nThis story follows Han Yi Na a vampire who s...  \n",
       "1986                                     \\nAdd a Plot\\n  \n",
       "1987                                     \\nAdd a Plot\\n  \n",
       "1988                                     \\nAdd a Plot\\n  "
      ]
     },
     "execution_count": 126,
     "metadata": {},
     "output_type": "execute_result"
    }
   ],
   "source": [
    "df.tail()\n"
   ]
  },
  {
   "cell_type": "markdown",
   "id": "eec7dd41",
   "metadata": {},
   "source": [
    "### Basic analysis of our data"
   ]
  },
  {
   "cell_type": "markdown",
   "id": "5d8babfa",
   "metadata": {},
   "source": [
    "Many often not all the data in a Pandas DataFrame are relevant to our work. Fortunately, Pandas DataFrame allow us to selectively extract one or more columns of data and work with them.\n",
    "\n"
   ]
  },
  {
   "cell_type": "markdown",
   "id": "6ce96d80",
   "metadata": {},
   "source": [
    "We can use a selected column name as the parameter to extract the data from that particular column.\n",
    "\n"
   ]
  },
  {
   "cell_type": "code",
   "execution_count": 127,
   "id": "3eee7f88",
   "metadata": {},
   "outputs": [
    {
     "data": {
      "text/plain": [
       "0                                  Hellbound\n",
       "1                                 Squid Game\n",
       "2                                    My Name\n",
       "3    Miraculous: Tales of Ladybug & Cat Noir\n",
       "4                                  Happiness\n",
       "Name: Title, dtype: object"
      ]
     },
     "execution_count": 127,
     "metadata": {},
     "output_type": "execute_result"
    }
   ],
   "source": [
    "df['Title'].head()\n"
   ]
  },
  {
   "cell_type": "markdown",
   "id": "bfdd4055",
   "metadata": {},
   "source": [
    "We can also select multiple columns by putting the target column names in a list.\n",
    "\n"
   ]
  },
  {
   "cell_type": "code",
   "execution_count": 128,
   "id": "ea04d20e",
   "metadata": {},
   "outputs": [
    {
     "data": {
      "text/html": [
       "<div>\n",
       "<style scoped>\n",
       "    .dataframe tbody tr th:only-of-type {\n",
       "        vertical-align: middle;\n",
       "    }\n",
       "\n",
       "    .dataframe tbody tr th {\n",
       "        vertical-align: top;\n",
       "    }\n",
       "\n",
       "    .dataframe thead th {\n",
       "        text-align: right;\n",
       "    }\n",
       "</style>\n",
       "<table border=\"1\" class=\"dataframe\">\n",
       "  <thead>\n",
       "    <tr style=\"text-align: right;\">\n",
       "      <th></th>\n",
       "      <th>Title</th>\n",
       "      <th>Rating</th>\n",
       "    </tr>\n",
       "  </thead>\n",
       "  <tbody>\n",
       "    <tr>\n",
       "      <th>0</th>\n",
       "      <td>Hellbound</td>\n",
       "      <td>6.7</td>\n",
       "    </tr>\n",
       "    <tr>\n",
       "      <th>1</th>\n",
       "      <td>Squid Game</td>\n",
       "      <td>8.1</td>\n",
       "    </tr>\n",
       "    <tr>\n",
       "      <th>2</th>\n",
       "      <td>My Name</td>\n",
       "      <td>7.9</td>\n",
       "    </tr>\n",
       "    <tr>\n",
       "      <th>3</th>\n",
       "      <td>Miraculous: Tales of Ladybug &amp; Cat Noir</td>\n",
       "      <td>7.7</td>\n",
       "    </tr>\n",
       "    <tr>\n",
       "      <th>4</th>\n",
       "      <td>Happiness</td>\n",
       "      <td>8.6</td>\n",
       "    </tr>\n",
       "  </tbody>\n",
       "</table>\n",
       "</div>"
      ],
      "text/plain": [
       "                                     Title Rating\n",
       "0                                Hellbound    6.7\n",
       "1                               Squid Game    8.1\n",
       "2                                  My Name    7.9\n",
       "3  Miraculous: Tales of Ladybug & Cat Noir    7.7\n",
       "4                                Happiness    8.6"
      ]
     },
     "execution_count": 128,
     "metadata": {},
     "output_type": "execute_result"
    }
   ],
   "source": [
    "df[['Title', 'Rating']].head()\n"
   ]
  },
  {
   "cell_type": "markdown",
   "id": "22356151",
   "metadata": {},
   "source": [
    "If we really do not need a column we can always remove it. For that we use ```drop```"
   ]
  },
  {
   "cell_type": "code",
   "execution_count": 129,
   "id": "fbf2891b",
   "metadata": {},
   "outputs": [
    {
     "data": {
      "text/html": [
       "<div>\n",
       "<style scoped>\n",
       "    .dataframe tbody tr th:only-of-type {\n",
       "        vertical-align: middle;\n",
       "    }\n",
       "\n",
       "    .dataframe tbody tr th {\n",
       "        vertical-align: top;\n",
       "    }\n",
       "\n",
       "    .dataframe thead th {\n",
       "        text-align: right;\n",
       "    }\n",
       "</style>\n",
       "<table border=\"1\" class=\"dataframe\">\n",
       "  <thead>\n",
       "    <tr style=\"text-align: right;\">\n",
       "      <th></th>\n",
       "      <th>Title</th>\n",
       "      <th>Year</th>\n",
       "      <th>Rating</th>\n",
       "      <th>Votes:</th>\n",
       "      <th>Time</th>\n",
       "      <th>Genre</th>\n",
       "      <th>Stars</th>\n",
       "    </tr>\n",
       "  </thead>\n",
       "  <tbody>\n",
       "    <tr>\n",
       "      <th>0</th>\n",
       "      <td>Hellbound</td>\n",
       "      <td>(2021– )</td>\n",
       "      <td>6.7</td>\n",
       "      <td>14,032</td>\n",
       "      <td>150 min</td>\n",
       "      <td>Crime, Drama, Fantasy</td>\n",
       "      <td>Yoo Ah-in, Kim Hyun-joo, Jeong Min Park, Jin-a...</td>\n",
       "    </tr>\n",
       "    <tr>\n",
       "      <th>1</th>\n",
       "      <td>Squid Game</td>\n",
       "      <td>(2021– )</td>\n",
       "      <td>8.1</td>\n",
       "      <td>339,931</td>\n",
       "      <td>55 min</td>\n",
       "      <td>Action, Drama, Mystery</td>\n",
       "      <td>Lee Jung-jae, Park Hae-soo, Wi Ha-Joon, Jung H...</td>\n",
       "    </tr>\n",
       "    <tr>\n",
       "      <th>2</th>\n",
       "      <td>My Name</td>\n",
       "      <td>(2021– )</td>\n",
       "      <td>7.9</td>\n",
       "      <td>12,877</td>\n",
       "      <td>50 min</td>\n",
       "      <td>Action, Crime, Drama</td>\n",
       "      <td>Hee-soon Park, Ahn Bo-Hyun, Han So-hee, Kim Sa...</td>\n",
       "    </tr>\n",
       "    <tr>\n",
       "      <th>3</th>\n",
       "      <td>Miraculous: Tales of Ladybug &amp; Cat Noir</td>\n",
       "      <td>(2015– )</td>\n",
       "      <td>7.7</td>\n",
       "      <td>9,439</td>\n",
       "      <td>20 min</td>\n",
       "      <td>Animation, Action, Adventure</td>\n",
       "      <td>Cristina Valenzuela, Bryce Papenbrook, Keith S...</td>\n",
       "    </tr>\n",
       "    <tr>\n",
       "      <th>4</th>\n",
       "      <td>Happiness</td>\n",
       "      <td>(2021– )</td>\n",
       "      <td>8.6</td>\n",
       "      <td>921</td>\n",
       "      <td>-</td>\n",
       "      <td>Action, Fantasy, Thriller</td>\n",
       "      <td>Han Hyo-joo, Park Hyung-Sik, Woo-jin Jo, Lee J...</td>\n",
       "    </tr>\n",
       "  </tbody>\n",
       "</table>\n",
       "</div>"
      ],
      "text/plain": [
       "                                     Title      Year Rating   Votes:     Time  \\\n",
       "0                                Hellbound  (2021– )    6.7   14,032  150 min   \n",
       "1                               Squid Game  (2021– )    8.1  339,931   55 min   \n",
       "2                                  My Name  (2021– )    7.9   12,877   50 min   \n",
       "3  Miraculous: Tales of Ladybug & Cat Noir  (2015– )    7.7    9,439   20 min   \n",
       "4                                Happiness  (2021– )    8.6      921        -   \n",
       "\n",
       "                          Genre  \\\n",
       "0         Crime, Drama, Fantasy   \n",
       "1        Action, Drama, Mystery   \n",
       "2          Action, Crime, Drama   \n",
       "3  Animation, Action, Adventure   \n",
       "4     Action, Fantasy, Thriller   \n",
       "\n",
       "                                               Stars  \n",
       "0  Yoo Ah-in, Kim Hyun-joo, Jeong Min Park, Jin-a...  \n",
       "1  Lee Jung-jae, Park Hae-soo, Wi Ha-Joon, Jung H...  \n",
       "2  Hee-soon Park, Ahn Bo-Hyun, Han So-hee, Kim Sa...  \n",
       "3  Cristina Valenzuela, Bryce Papenbrook, Keith S...  \n",
       "4  Han Hyo-joo, Park Hyung-Sik, Woo-jin Jo, Lee J...  "
      ]
     },
     "execution_count": 129,
     "metadata": {},
     "output_type": "execute_result"
    }
   ],
   "source": [
    "df = df.drop(\"Short Story\", axis=1)\n",
    "df.head()"
   ]
  },
  {
   "cell_type": "markdown",
   "id": "6edb2b77",
   "metadata": {},
   "source": [
    "Use the drop function to remove the column “Short Story” from the DataFrame and shows the first five rows of records. The “axis=1” is to specify the current removal is for a column instead of a row."
   ]
  },
  {
   "cell_type": "markdown",
   "id": "c734e063",
   "metadata": {},
   "source": [
    "Now let's use our rows to navigate over the dataframe. We will first try with loc method. The loc method allow us to select a row from a DataFrame using a index label. For example, we can define the movie title as our index label in the DataFrame and use it to extract our target rows of data.\n",
    "\n"
   ]
  },
  {
   "cell_type": "code",
   "execution_count": 130,
   "id": "58bfd3de",
   "metadata": {},
   "outputs": [
    {
     "data": {
      "text/html": [
       "<div>\n",
       "<style scoped>\n",
       "    .dataframe tbody tr th:only-of-type {\n",
       "        vertical-align: middle;\n",
       "    }\n",
       "\n",
       "    .dataframe tbody tr th {\n",
       "        vertical-align: top;\n",
       "    }\n",
       "\n",
       "    .dataframe thead th {\n",
       "        text-align: right;\n",
       "    }\n",
       "</style>\n",
       "<table border=\"1\" class=\"dataframe\">\n",
       "  <thead>\n",
       "    <tr style=\"text-align: right;\">\n",
       "      <th></th>\n",
       "      <th>Year</th>\n",
       "      <th>Rating</th>\n",
       "      <th>Votes:</th>\n",
       "      <th>Time</th>\n",
       "      <th>Genre</th>\n",
       "      <th>Stars</th>\n",
       "    </tr>\n",
       "    <tr>\n",
       "      <th>Title</th>\n",
       "      <th></th>\n",
       "      <th></th>\n",
       "      <th></th>\n",
       "      <th></th>\n",
       "      <th></th>\n",
       "      <th></th>\n",
       "    </tr>\n",
       "  </thead>\n",
       "  <tbody>\n",
       "    <tr>\n",
       "      <th>Hellbound</th>\n",
       "      <td>(2021– )</td>\n",
       "      <td>6.7</td>\n",
       "      <td>14,032</td>\n",
       "      <td>150 min</td>\n",
       "      <td>Crime, Drama, Fantasy</td>\n",
       "      <td>Yoo Ah-in, Kim Hyun-joo, Jeong Min Park, Jin-a...</td>\n",
       "    </tr>\n",
       "    <tr>\n",
       "      <th>Squid Game</th>\n",
       "      <td>(2021– )</td>\n",
       "      <td>8.1</td>\n",
       "      <td>339,931</td>\n",
       "      <td>55 min</td>\n",
       "      <td>Action, Drama, Mystery</td>\n",
       "      <td>Lee Jung-jae, Park Hae-soo, Wi Ha-Joon, Jung H...</td>\n",
       "    </tr>\n",
       "    <tr>\n",
       "      <th>My Name</th>\n",
       "      <td>(2021– )</td>\n",
       "      <td>7.9</td>\n",
       "      <td>12,877</td>\n",
       "      <td>50 min</td>\n",
       "      <td>Action, Crime, Drama</td>\n",
       "      <td>Hee-soon Park, Ahn Bo-Hyun, Han So-hee, Kim Sa...</td>\n",
       "    </tr>\n",
       "    <tr>\n",
       "      <th>Miraculous: Tales of Ladybug &amp; Cat Noir</th>\n",
       "      <td>(2015– )</td>\n",
       "      <td>7.7</td>\n",
       "      <td>9,439</td>\n",
       "      <td>20 min</td>\n",
       "      <td>Animation, Action, Adventure</td>\n",
       "      <td>Cristina Valenzuela, Bryce Papenbrook, Keith S...</td>\n",
       "    </tr>\n",
       "    <tr>\n",
       "      <th>Happiness</th>\n",
       "      <td>(2021– )</td>\n",
       "      <td>8.6</td>\n",
       "      <td>921</td>\n",
       "      <td>-</td>\n",
       "      <td>Action, Fantasy, Thriller</td>\n",
       "      <td>Han Hyo-joo, Park Hyung-Sik, Woo-jin Jo, Lee J...</td>\n",
       "    </tr>\n",
       "  </tbody>\n",
       "</table>\n",
       "</div>"
      ],
      "text/plain": [
       "                                             Year Rating   Votes:     Time  \\\n",
       "Title                                                                        \n",
       "Hellbound                                (2021– )    6.7   14,032  150 min   \n",
       "Squid Game                               (2021– )    8.1  339,931   55 min   \n",
       "My Name                                  (2021– )    7.9   12,877   50 min   \n",
       "Miraculous: Tales of Ladybug & Cat Noir  (2015– )    7.7    9,439   20 min   \n",
       "Happiness                                (2021– )    8.6      921        -   \n",
       "\n",
       "                                                                Genre  \\\n",
       "Title                                                                   \n",
       "Hellbound                                       Crime, Drama, Fantasy   \n",
       "Squid Game                                     Action, Drama, Mystery   \n",
       "My Name                                          Action, Crime, Drama   \n",
       "Miraculous: Tales of Ladybug & Cat Noir  Animation, Action, Adventure   \n",
       "Happiness                                   Action, Fantasy, Thriller   \n",
       "\n",
       "                                                                                     Stars  \n",
       "Title                                                                                       \n",
       "Hellbound                                Yoo Ah-in, Kim Hyun-joo, Jeong Min Park, Jin-a...  \n",
       "Squid Game                               Lee Jung-jae, Park Hae-soo, Wi Ha-Joon, Jung H...  \n",
       "My Name                                  Hee-soon Park, Ahn Bo-Hyun, Han So-hee, Kim Sa...  \n",
       "Miraculous: Tales of Ladybug & Cat Noir  Cristina Valenzuela, Bryce Papenbrook, Keith S...  \n",
       "Happiness                                Han Hyo-joo, Park Hyung-Sik, Woo-jin Jo, Lee J...  "
      ]
     },
     "execution_count": 130,
     "metadata": {},
     "output_type": "execute_result"
    }
   ],
   "source": [
    "df = df.set_index('Title')\n",
    "df.head()\n"
   ]
  },
  {
   "cell_type": "code",
   "execution_count": 134,
   "id": "1578cd04",
   "metadata": {},
   "outputs": [
    {
     "data": {
      "text/plain": [
       "(1989, 6)"
      ]
     },
     "execution_count": 134,
     "metadata": {},
     "output_type": "execute_result"
    }
   ],
   "source": [
    "df.shape"
   ]
  },
  {
   "cell_type": "markdown",
   "id": "05fd30d9",
   "metadata": {},
   "source": [
    "The “Title” is removed from the column list of the DataFrame and is marked as an index label now.\n",
    "As we see by the number of the columns, we have removed one and set one as an index - now we have 6.\n",
    "\n",
    "We can make use of this movie name as an index label to extract the data from the DataFrame by row.\n",
    "\n"
   ]
  },
  {
   "cell_type": "code",
   "execution_count": 131,
   "id": "209fdb2d",
   "metadata": {},
   "outputs": [
    {
     "data": {
      "text/plain": [
       "Year                                               (2021– )\n",
       "Rating                                                  8.1\n",
       "Votes:                                              339,931\n",
       "Time                                                 55 min\n",
       "Genre                                Action, Drama, Mystery\n",
       "Stars     Lee Jung-jae, Park Hae-soo, Wi Ha-Joon, Jung H...\n",
       "Name: Squid Game, dtype: object"
      ]
     },
     "execution_count": 131,
     "metadata": {},
     "output_type": "execute_result"
    }
   ],
   "source": [
    "df.loc['Squid Game']"
   ]
  },
  {
   "cell_type": "code",
   "execution_count": 132,
   "id": "636ac028",
   "metadata": {},
   "outputs": [
    {
     "data": {
      "text/html": [
       "<div>\n",
       "<style scoped>\n",
       "    .dataframe tbody tr th:only-of-type {\n",
       "        vertical-align: middle;\n",
       "    }\n",
       "\n",
       "    .dataframe tbody tr th {\n",
       "        vertical-align: top;\n",
       "    }\n",
       "\n",
       "    .dataframe thead th {\n",
       "        text-align: right;\n",
       "    }\n",
       "</style>\n",
       "<table border=\"1\" class=\"dataframe\">\n",
       "  <thead>\n",
       "    <tr style=\"text-align: right;\">\n",
       "      <th></th>\n",
       "      <th>Year</th>\n",
       "      <th>Rating</th>\n",
       "      <th>Votes:</th>\n",
       "      <th>Time</th>\n",
       "      <th>Genre</th>\n",
       "      <th>Stars</th>\n",
       "    </tr>\n",
       "    <tr>\n",
       "      <th>Title</th>\n",
       "      <th></th>\n",
       "      <th></th>\n",
       "      <th></th>\n",
       "      <th></th>\n",
       "      <th></th>\n",
       "      <th></th>\n",
       "    </tr>\n",
       "  </thead>\n",
       "  <tbody>\n",
       "    <tr>\n",
       "      <th>Squid Game</th>\n",
       "      <td>(2021– )</td>\n",
       "      <td>8.1</td>\n",
       "      <td>339,931</td>\n",
       "      <td>55 min</td>\n",
       "      <td>Action, Drama, Mystery</td>\n",
       "      <td>Lee Jung-jae, Park Hae-soo, Wi Ha-Joon, Jung H...</td>\n",
       "    </tr>\n",
       "    <tr>\n",
       "      <th>Happiness</th>\n",
       "      <td>(2021– )</td>\n",
       "      <td>8.6</td>\n",
       "      <td>921</td>\n",
       "      <td>-</td>\n",
       "      <td>Action, Fantasy, Thriller</td>\n",
       "      <td>Han Hyo-joo, Park Hyung-Sik, Woo-jin Jo, Lee J...</td>\n",
       "    </tr>\n",
       "  </tbody>\n",
       "</table>\n",
       "</div>"
      ],
      "text/plain": [
       "                Year Rating   Votes:    Time                      Genre  \\\n",
       "Title                                                                     \n",
       "Squid Game  (2021– )    8.1  339,931  55 min     Action, Drama, Mystery   \n",
       "Happiness   (2021– )    8.6      921       -  Action, Fantasy, Thriller   \n",
       "\n",
       "                                                        Stars  \n",
       "Title                                                          \n",
       "Squid Game  Lee Jung-jae, Park Hae-soo, Wi Ha-Joon, Jung H...  \n",
       "Happiness   Han Hyo-joo, Park Hyung-Sik, Woo-jin Jo, Lee J...  "
      ]
     },
     "execution_count": 132,
     "metadata": {},
     "output_type": "execute_result"
    }
   ],
   "source": [
    "df.loc[['Squid Game', 'Happiness']]"
   ]
  },
  {
   "cell_type": "markdown",
   "id": "09e62466",
   "metadata": {},
   "source": [
    "The second approach to work with Pandas DataFrame by row is using the iloc method.\n"
   ]
  },
  {
   "cell_type": "code",
   "execution_count": 133,
   "id": "d21133dd",
   "metadata": {},
   "outputs": [
    {
     "data": {
      "text/plain": [
       "Year                                               (2015– )\n",
       "Rating                                                  7.7\n",
       "Votes:                                                9,439\n",
       "Time                                                 20 min\n",
       "Genre                          Animation, Action, Adventure\n",
       "Stars     Cristina Valenzuela, Bryce Papenbrook, Keith S...\n",
       "Name: Miraculous: Tales of Ladybug & Cat Noir, dtype: object"
      ]
     },
     "execution_count": 133,
     "metadata": {},
     "output_type": "execute_result"
    }
   ],
   "source": [
    "\n",
    "df.iloc[3]"
   ]
  },
  {
   "cell_type": "code",
   "execution_count": 115,
   "id": "5d38e803",
   "metadata": {},
   "outputs": [
    {
     "data": {
      "text/html": [
       "<div>\n",
       "<style scoped>\n",
       "    .dataframe tbody tr th:only-of-type {\n",
       "        vertical-align: middle;\n",
       "    }\n",
       "\n",
       "    .dataframe tbody tr th {\n",
       "        vertical-align: top;\n",
       "    }\n",
       "\n",
       "    .dataframe thead th {\n",
       "        text-align: right;\n",
       "    }\n",
       "</style>\n",
       "<table border=\"1\" class=\"dataframe\">\n",
       "  <thead>\n",
       "    <tr style=\"text-align: right;\">\n",
       "      <th></th>\n",
       "      <th>Year</th>\n",
       "      <th>Rating</th>\n",
       "      <th>Votes:</th>\n",
       "      <th>Time</th>\n",
       "      <th>Genre</th>\n",
       "      <th>Stars</th>\n",
       "    </tr>\n",
       "    <tr>\n",
       "      <th>Title</th>\n",
       "      <th></th>\n",
       "      <th></th>\n",
       "      <th></th>\n",
       "      <th></th>\n",
       "      <th></th>\n",
       "      <th></th>\n",
       "    </tr>\n",
       "  </thead>\n",
       "  <tbody>\n",
       "    <tr>\n",
       "      <th>My Name</th>\n",
       "      <td>(2021– )</td>\n",
       "      <td>7.9</td>\n",
       "      <td>12,877</td>\n",
       "      <td>50 min</td>\n",
       "      <td>Action, Crime, Drama</td>\n",
       "      <td>Hee-soon Park, Ahn Bo-Hyun, Han So-hee, Kim Sa...</td>\n",
       "    </tr>\n",
       "    <tr>\n",
       "      <th>Miraculous: Tales of Ladybug &amp; Cat Noir</th>\n",
       "      <td>(2015– )</td>\n",
       "      <td>7.7</td>\n",
       "      <td>9,439</td>\n",
       "      <td>20 min</td>\n",
       "      <td>Animation, Action, Adventure</td>\n",
       "      <td>Cristina Valenzuela, Bryce Papenbrook, Keith S...</td>\n",
       "    </tr>\n",
       "    <tr>\n",
       "      <th>Happiness</th>\n",
       "      <td>(2021– )</td>\n",
       "      <td>8.6</td>\n",
       "      <td>921</td>\n",
       "      <td>-</td>\n",
       "      <td>Action, Fantasy, Thriller</td>\n",
       "      <td>Han Hyo-joo, Park Hyung-Sik, Woo-jin Jo, Lee J...</td>\n",
       "    </tr>\n",
       "  </tbody>\n",
       "</table>\n",
       "</div>"
      ],
      "text/plain": [
       "                                             Year Rating  Votes:    Time  \\\n",
       "Title                                                                      \n",
       "My Name                                  (2021– )    7.9  12,877  50 min   \n",
       "Miraculous: Tales of Ladybug & Cat Noir  (2015– )    7.7   9,439  20 min   \n",
       "Happiness                                (2021– )    8.6     921       -   \n",
       "\n",
       "                                                                Genre  \\\n",
       "Title                                                                   \n",
       "My Name                                          Action, Crime, Drama   \n",
       "Miraculous: Tales of Ladybug & Cat Noir  Animation, Action, Adventure   \n",
       "Happiness                                   Action, Fantasy, Thriller   \n",
       "\n",
       "                                                                                     Stars  \n",
       "Title                                                                                       \n",
       "My Name                                  Hee-soon Park, Ahn Bo-Hyun, Han So-hee, Kim Sa...  \n",
       "Miraculous: Tales of Ladybug & Cat Noir  Cristina Valenzuela, Bryce Papenbrook, Keith S...  \n",
       "Happiness                                Han Hyo-joo, Park Hyung-Sik, Woo-jin Jo, Lee J...  "
      ]
     },
     "execution_count": 115,
     "metadata": {},
     "output_type": "execute_result"
    }
   ],
   "source": [
    "df.iloc[2:5]"
   ]
  },
  {
   "cell_type": "markdown",
   "id": "ba05d284",
   "metadata": {},
   "source": [
    "Let's now remove a row. As said before, we can use a movie name as index label to remove a particular row. In this case, the row with movie name, “My Name” will be removed from the DataFrame.\n"
   ]
  },
  {
   "cell_type": "code",
   "execution_count": 116,
   "id": "a1a5099f",
   "metadata": {},
   "outputs": [
    {
     "data": {
      "text/html": [
       "<div>\n",
       "<style scoped>\n",
       "    .dataframe tbody tr th:only-of-type {\n",
       "        vertical-align: middle;\n",
       "    }\n",
       "\n",
       "    .dataframe tbody tr th {\n",
       "        vertical-align: top;\n",
       "    }\n",
       "\n",
       "    .dataframe thead th {\n",
       "        text-align: right;\n",
       "    }\n",
       "</style>\n",
       "<table border=\"1\" class=\"dataframe\">\n",
       "  <thead>\n",
       "    <tr style=\"text-align: right;\">\n",
       "      <th></th>\n",
       "      <th>Year</th>\n",
       "      <th>Rating</th>\n",
       "      <th>Votes:</th>\n",
       "      <th>Time</th>\n",
       "      <th>Genre</th>\n",
       "      <th>Stars</th>\n",
       "    </tr>\n",
       "    <tr>\n",
       "      <th>Title</th>\n",
       "      <th></th>\n",
       "      <th></th>\n",
       "      <th></th>\n",
       "      <th></th>\n",
       "      <th></th>\n",
       "      <th></th>\n",
       "    </tr>\n",
       "  </thead>\n",
       "  <tbody>\n",
       "    <tr>\n",
       "      <th>Hellbound</th>\n",
       "      <td>(2021– )</td>\n",
       "      <td>6.7</td>\n",
       "      <td>14,032</td>\n",
       "      <td>150 min</td>\n",
       "      <td>Crime, Drama, Fantasy</td>\n",
       "      <td>Yoo Ah-in, Kim Hyun-joo, Jeong Min Park, Jin-a...</td>\n",
       "    </tr>\n",
       "    <tr>\n",
       "      <th>Squid Game</th>\n",
       "      <td>(2021– )</td>\n",
       "      <td>8.1</td>\n",
       "      <td>339,931</td>\n",
       "      <td>55 min</td>\n",
       "      <td>Action, Drama, Mystery</td>\n",
       "      <td>Lee Jung-jae, Park Hae-soo, Wi Ha-Joon, Jung H...</td>\n",
       "    </tr>\n",
       "    <tr>\n",
       "      <th>Miraculous: Tales of Ladybug &amp; Cat Noir</th>\n",
       "      <td>(2015– )</td>\n",
       "      <td>7.7</td>\n",
       "      <td>9,439</td>\n",
       "      <td>20 min</td>\n",
       "      <td>Animation, Action, Adventure</td>\n",
       "      <td>Cristina Valenzuela, Bryce Papenbrook, Keith S...</td>\n",
       "    </tr>\n",
       "    <tr>\n",
       "      <th>Happiness</th>\n",
       "      <td>(2021– )</td>\n",
       "      <td>8.6</td>\n",
       "      <td>921</td>\n",
       "      <td>-</td>\n",
       "      <td>Action, Fantasy, Thriller</td>\n",
       "      <td>Han Hyo-joo, Park Hyung-Sik, Woo-jin Jo, Lee J...</td>\n",
       "    </tr>\n",
       "    <tr>\n",
       "      <th>Dr. Brain</th>\n",
       "      <td>(2021– )</td>\n",
       "      <td>6.9</td>\n",
       "      <td>1,031</td>\n",
       "      <td>60 min</td>\n",
       "      <td>Drama, Mystery, Sci-Fi</td>\n",
       "      <td>Sun-kyun Lee, June Yoon, Yoo-Young Lee, Hee-so...</td>\n",
       "    </tr>\n",
       "  </tbody>\n",
       "</table>\n",
       "</div>"
      ],
      "text/plain": [
       "                                             Year Rating   Votes:     Time  \\\n",
       "Title                                                                        \n",
       "Hellbound                                (2021– )    6.7   14,032  150 min   \n",
       "Squid Game                               (2021– )    8.1  339,931   55 min   \n",
       "Miraculous: Tales of Ladybug & Cat Noir  (2015– )    7.7    9,439   20 min   \n",
       "Happiness                                (2021– )    8.6      921        -   \n",
       "Dr. Brain                                (2021– )    6.9    1,031   60 min   \n",
       "\n",
       "                                                                Genre  \\\n",
       "Title                                                                   \n",
       "Hellbound                                       Crime, Drama, Fantasy   \n",
       "Squid Game                                     Action, Drama, Mystery   \n",
       "Miraculous: Tales of Ladybug & Cat Noir  Animation, Action, Adventure   \n",
       "Happiness                                   Action, Fantasy, Thriller   \n",
       "Dr. Brain                                      Drama, Mystery, Sci-Fi   \n",
       "\n",
       "                                                                                     Stars  \n",
       "Title                                                                                       \n",
       "Hellbound                                Yoo Ah-in, Kim Hyun-joo, Jeong Min Park, Jin-a...  \n",
       "Squid Game                               Lee Jung-jae, Park Hae-soo, Wi Ha-Joon, Jung H...  \n",
       "Miraculous: Tales of Ladybug & Cat Noir  Cristina Valenzuela, Bryce Papenbrook, Keith S...  \n",
       "Happiness                                Han Hyo-joo, Park Hyung-Sik, Woo-jin Jo, Lee J...  \n",
       "Dr. Brain                                Sun-kyun Lee, June Yoon, Yoo-Young Lee, Hee-so...  "
      ]
     },
     "execution_count": 116,
     "metadata": {},
     "output_type": "execute_result"
    }
   ],
   "source": [
    "df = df.drop('My Name', axis=0)\n",
    "df.head()"
   ]
  },
  {
   "cell_type": "code",
   "execution_count": null,
   "id": "dc0040eb",
   "metadata": {},
   "outputs": [],
   "source": [
    "<div class=\"alert alert-block alert-info\">\n",
    "<b>Exercise 3</b>\n",
    "    \n",
    "<p>\n",
    "    <li>Import housing.csv into a dataframe  </li>\n",
    "    <li>Preview the head of the data </li>\n",
    "    <li>Return 'day3' using loc </li>\n",
    "</p>\n",
    "</div>"
   ]
  },
  {
   "cell_type": "markdown",
   "id": "258ec150",
   "metadata": {},
   "source": [
    "### References and further reading:\n",
    "    \n",
    " * Python Data Science Handbook - https://jakevdp.github.io/PythonDataScienceHandbook/\n",
    " * https://www.w3schools.com/python/pandas/default.asp\n",
    " * https://www.geeksforgeeks.org/data-science-tutorial/\n",
    " * data taken from - https://github.com/teobeeguan/Python-For-Machine-Learning/tree/main/Pandas\n",
    " * tutorial -  https://medium.com/ds-notes/learning-python-pandas-in-minutes-part-1-basics-f24463da1a18\n",
    " "
   ]
  },
  {
   "cell_type": "code",
   "execution_count": null,
   "id": "6e65551f",
   "metadata": {},
   "outputs": [],
   "source": []
  }
 ],
 "metadata": {
  "kernelspec": {
   "display_name": "Python 3 (ipykernel)",
   "language": "python",
   "name": "python3"
  },
  "language_info": {
   "codemirror_mode": {
    "name": "ipython",
    "version": 3
   },
   "file_extension": ".py",
   "mimetype": "text/x-python",
   "name": "python",
   "nbconvert_exporter": "python",
   "pygments_lexer": "ipython3",
   "version": "3.9.13"
  }
 },
 "nbformat": 4,
 "nbformat_minor": 5
}
