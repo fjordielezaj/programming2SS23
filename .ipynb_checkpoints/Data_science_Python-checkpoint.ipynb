{
 "cells": [
  {
   "cell_type": "markdown",
   "id": "f7705dbd",
   "metadata": {},
   "source": [
    "## What is data science?"
   ]
  },
  {
   "cell_type": "code",
   "execution_count": 1,
   "id": "b0437a3f",
   "metadata": {},
   "outputs": [],
   "source": [
    "from IPython.display import Image\n",
    "from IPython.core.display import HTML "
   ]
  },
  {
   "cell_type": "markdown",
   "id": "b110fa7f",
   "metadata": {},
   "source": [
    "The term 'data science' has in recent times really become a buzzword. We hear about data scientists and data analyists being highly sought after and it becoming a really popular branch of IT.\n",
    "\n",
    "But what exactly is data science and what are the skills neccessary to become someone who analyzes data?\n",
    "\n"
   ]
  },
  {
   "cell_type": "markdown",
   "id": "7041e4f8",
   "metadata": {},
   "source": [
    "Data science is kind of an interdisciplinary field, which means it is at an intersection of multiple disciplines. At the centre of it is data - the most valuable commodity of today.\n",
    "\n",
    "Data science seeks to analyze and process data in such a way that new knowledge can be extracted from it. This knowledge serves to improve businesses and advance science by helping the decision making process (what should we do?), making predictions (what will hapen next?) and discover patterns (find hidden information in the data)."
   ]
  },
  {
   "cell_type": "code",
   "execution_count": 2,
   "id": "16009f7c",
   "metadata": {},
   "outputs": [
    {
     "data": {
      "text/html": [
       "<img src=\"img/DS.png\" width=\"400\" height=\"1200\"/>"
      ],
      "text/plain": [
       "<IPython.core.display.Image object>"
      ]
     },
     "execution_count": 2,
     "metadata": {},
     "output_type": "execute_result"
    }
   ],
   "source": [
    "Image(url= \"img/DS.png\", width=400, height=1200)"
   ]
  },
  {
   "cell_type": "markdown",
   "id": "64a1c2e4",
   "metadata": {},
   "source": [
    "source: https://jakevdp.github.io/PythonDataScienceHandbook/00.00-preface.html"
   ]
  },
  {
   "cell_type": "markdown",
   "id": "826d8fe0",
   "metadata": {},
   "source": [
    "This diagram basically explains where data science lies in the intersection of different disciplines. It comprises the skills of statistics (knowing how to summarize datasets), computer science (knowing how to model algorithms) an domain expertise (neccessary to formulate the research questions and put the answers into context)."
   ]
  },
  {
   "cell_type": "markdown",
   "id": "333cf5f9",
   "metadata": {},
   "source": [
    "### Where is Data Science needed?"
   ]
  },
  {
   "cell_type": "markdown",
   "id": "e08eb31f",
   "metadata": {},
   "source": [
    "It's used in many disciplines, such as science, banking, consulting, health care, e-commerce, politics, and manufacturing.\n",
    "\n",
    "\n",
    "Some areas where data science is used:\n",
    "* marketing (sales analysis)\n",
    "* election predictions\n",
    "* to predict the best time for deliveries\n",
    "* to forsee delays in traffic\n",
    "* etc"
   ]
  },
  {
   "cell_type": "markdown",
   "id": "9554d9cd",
   "metadata": {},
   "source": [
    "In the end, for our purposes, data science can help us better understand our data and provide some basic statistics as well as find out the relations inside the data."
   ]
  },
  {
   "cell_type": "markdown",
   "id": "d7fcd558",
   "metadata": {},
   "source": [
    "Some of DS taks that are also useful for us:\n",
    "* asking the right questions\n",
    "* exploring and collecting data\n",
    "* extracting data\n",
    "* cleaning the data\n",
    "* finding and replacing missing values\n",
    "* normalizing data\n",
    "* analyzing data, finding patterns and making predictions\n",
    "* representing the results (visualisations)"
   ]
  },
  {
   "cell_type": "markdown",
   "id": "b550864b",
   "metadata": {},
   "source": [
    "### Data "
   ]
  },
  {
   "cell_type": "markdown",
   "id": "fd654173",
   "metadata": {},
   "source": [
    "Types of data:\n",
    "* unstructured (Tweets, novels, reviews)\n",
    "* structured (databases, tables)\n",
    "\n",
    "One purpose of Data Science is to structure data, making it interpretable and easy to work with.\n",
    "\n"
   ]
  },
  {
   "cell_type": "markdown",
   "id": "9b8e137c",
   "metadata": {},
   "source": [
    "### Data analysis in Python"
   ]
  },
  {
   "cell_type": "markdown",
   "id": "755cdc99",
   "metadata": {},
   "source": [
    "Python is the \"main language\" of data science, as it has many inbuilt functions as well as libraries developed for the purposes of data science. \n",
    "\n",
    "Some of these libraries:\n",
    "* [pandas](https://pandas.pydata.org/) - for structured data operations\n",
    "* [numpy](https://numpy.org/) - a mathematical libtary (linear algebra, Fourier transform)\n",
    "* [matplotlib](https://matplotlib.org/) - visualizations\n",
    "* [SciPy](https://scipy.org/) - linear algebra models"
   ]
  },
  {
   "cell_type": "markdown",
   "id": "53209146",
   "metadata": {},
   "source": [
    "### Data analysis and manipulation with Pandas"
   ]
  },
  {
   "cell_type": "markdown",
   "id": "c08e3865",
   "metadata": {},
   "source": [
    "What can we find out with pandas?"
   ]
  },
  {
   "cell_type": "markdown",
   "id": "71a179de",
   "metadata": {},
   "source": [
    "* what is the correlation between two or more columns?\n",
    "* what is the average value?\n",
    "* what are the min and max values?"
   ]
  },
  {
   "cell_type": "markdown",
   "id": "61d971b9",
   "metadata": {},
   "source": [
    "To install pandas - https://pandas.pydata.org/docs/getting_started/install.html"
   ]
  },
  {
   "cell_type": "code",
   "execution_count": 5,
   "id": "51684b4c",
   "metadata": {},
   "outputs": [],
   "source": [
    "import pandas"
   ]
  },
  {
   "cell_type": "markdown",
   "id": "b6be3b89",
   "metadata": {},
   "source": [
    "Let's check our pandas version:"
   ]
  },
  {
   "cell_type": "code",
   "execution_count": 6,
   "id": "bfd3189c",
   "metadata": {},
   "outputs": [
    {
     "data": {
      "text/plain": [
       "'1.4.4'"
      ]
     },
     "execution_count": 6,
     "metadata": {},
     "output_type": "execute_result"
    }
   ],
   "source": [
    "pandas.__version__"
   ]
  },
  {
   "cell_type": "markdown",
   "id": "6c367e06",
   "metadata": {},
   "source": [
    "Usually, for pandas we use the abbreviation 'pd' so, we actually do our import such as:"
   ]
  },
  {
   "cell_type": "code",
   "execution_count": 26,
   "id": "ff732567",
   "metadata": {},
   "outputs": [],
   "source": [
    "import pandas as pd"
   ]
  },
  {
   "cell_type": "markdown",
   "id": "18f42363",
   "metadata": {},
   "source": [
    "Of course, for data science, data types are extremely important. We are already very familiar with the standard Python datatypes, such as strings, ints, lists, dictionaries, etc. In pandas, two important datatypes (or objects) are called Series and Dataframe."
   ]
  },
  {
   "cell_type": "markdown",
   "id": "28274537",
   "metadata": {},
   "source": [
    "### Pandas Series"
   ]
  },
  {
   "cell_type": "markdown",
   "id": "afadf28b",
   "metadata": {},
   "source": [
    "Pandas series is kind of like a column in a table. It's actually a one-dimensional array that holdes any type of data. We can create it out of a list, e.g.:"
   ]
  },
  {
   "cell_type": "code",
   "execution_count": 10,
   "id": "20b89ec3",
   "metadata": {},
   "outputs": [
    {
     "data": {
      "text/plain": [
       "0    1\n",
       "1    2\n",
       "2    3\n",
       "dtype: int64"
      ]
     },
     "execution_count": 10,
     "metadata": {},
     "output_type": "execute_result"
    }
   ],
   "source": [
    "a = [1, 2, 3]\n",
    "my_series = pd.Series(a)\n",
    "my_series"
   ]
  },
  {
   "cell_type": "markdown",
   "id": "12ec34fe",
   "metadata": {},
   "source": [
    "If nothing else is specified, the values are labeled with their index number. First value has index 0, second value has index 1 etc.\n",
    "\n",
    "This label can be used to access a specified value.\n",
    "\n"
   ]
  },
  {
   "cell_type": "code",
   "execution_count": 11,
   "id": "fca9683c",
   "metadata": {},
   "outputs": [
    {
     "data": {
      "text/plain": [
       "1"
      ]
     },
     "execution_count": 11,
     "metadata": {},
     "output_type": "execute_result"
    }
   ],
   "source": [
    "my_series[0]"
   ]
  },
  {
   "cell_type": "markdown",
   "id": "bbf4a16d",
   "metadata": {},
   "source": [
    "With the index argument, you can name your own labels.\n",
    "\n"
   ]
  },
  {
   "cell_type": "code",
   "execution_count": 13,
   "id": "97c82f0c",
   "metadata": {},
   "outputs": [
    {
     "data": {
      "text/plain": [
       "x    1\n",
       "y    2\n",
       "z    3\n",
       "dtype: int64"
      ]
     },
     "execution_count": 13,
     "metadata": {},
     "output_type": "execute_result"
    }
   ],
   "source": [
    "my_series = pd.Series(a, index = [\"x\", \"y\", \"z\"])\n",
    "\n",
    "my_series"
   ]
  },
  {
   "cell_type": "markdown",
   "id": "68359e22",
   "metadata": {},
   "source": [
    "When you have created labels, you can access an item by referring to the label.\n",
    "\n"
   ]
  },
  {
   "cell_type": "code",
   "execution_count": 16,
   "id": "3e0a404d",
   "metadata": {},
   "outputs": [
    {
     "name": "stdout",
     "output_type": "stream",
     "text": [
      "1\n"
     ]
    }
   ],
   "source": [
    "print(my_series['x'])"
   ]
  },
  {
   "cell_type": "markdown",
   "id": "f33bd100",
   "metadata": {},
   "source": [
    "We can think about series as a type of a specialized dictionary. As we know, dictionaries have keys and values and Series also maps typed keys to sets of typed values.\n"
   ]
  },
  {
   "cell_type": "code",
   "execution_count": 19,
   "id": "af9e999a",
   "metadata": {},
   "outputs": [],
   "source": [
    "population_dict = {'California': 38332521,\n",
    "                   'Texas': 26448193,\n",
    "                   'New York': 19651127,\n",
    "                   'Florida': 19552860,\n",
    "                   'Illinois': 12882135}\n",
    "\n"
   ]
  },
  {
   "cell_type": "markdown",
   "id": "f2930b55",
   "metadata": {},
   "source": [
    "<div class=\"alert alert-block alert-info\">\n",
    "<b>Exercise 1</b>\n",
    "    \n",
    "<p>\n",
    "    <li>Make a Series object out of Population_dict </li>\n",
    "    <li>find out the population of California </li>\n",
    " \n",
    "</p>\n",
    "</div>"
   ]
  },
  {
   "cell_type": "markdown",
   "id": "8594639b",
   "metadata": {},
   "source": [
    "We can also slice the data:"
   ]
  },
  {
   "cell_type": "code",
   "execution_count": 21,
   "id": "94556a5a",
   "metadata": {},
   "outputs": [
    {
     "data": {
      "text/plain": [
       "Texas       26448193\n",
       "New York    19651127\n",
       "Florida     19552860\n",
       "Illinois    12882135\n",
       "dtype: int64"
      ]
     },
     "execution_count": 21,
     "metadata": {},
     "output_type": "execute_result"
    }
   ],
   "source": [
    "population['Texas':'Illinois']"
   ]
  },
  {
   "cell_type": "markdown",
   "id": "edfd88f1",
   "metadata": {},
   "source": [
    "### Pandas Dataframes"
   ]
  },
  {
   "cell_type": "markdown",
   "id": "e35e1ee3",
   "metadata": {},
   "source": [
    "Dataframes are structured representations of data, and unlike Series, often have more than one column."
   ]
  },
  {
   "cell_type": "markdown",
   "id": "5341c266",
   "metadata": {},
   "source": [
    " Let's start by making a dataframe with some numbers:"
   ]
  },
  {
   "cell_type": "code",
   "execution_count": 23,
   "id": "9c10fb3e",
   "metadata": {},
   "outputs": [
    {
     "data": {
      "text/plain": [
       "{'col1': [1, 2, 3, 4, 7], 'col2': [4, 5, 6, 9, 5], 'col3': [7, 8, 12, 1, 11]}"
      ]
     },
     "execution_count": 23,
     "metadata": {},
     "output_type": "execute_result"
    }
   ],
   "source": [
    "d = {'col1': [1, 2, 3, 4, 7], 'col2': [4, 5, 6, 9, 5], 'col3': [7, 8, 12, 1, 11]}\n",
    "d"
   ]
  },
  {
   "cell_type": "code",
   "execution_count": 29,
   "id": "bb0a814f",
   "metadata": {},
   "outputs": [
    {
     "data": {
      "text/html": [
       "<div>\n",
       "<style scoped>\n",
       "    .dataframe tbody tr th:only-of-type {\n",
       "        vertical-align: middle;\n",
       "    }\n",
       "\n",
       "    .dataframe tbody tr th {\n",
       "        vertical-align: top;\n",
       "    }\n",
       "\n",
       "    .dataframe thead th {\n",
       "        text-align: right;\n",
       "    }\n",
       "</style>\n",
       "<table border=\"1\" class=\"dataframe\">\n",
       "  <thead>\n",
       "    <tr style=\"text-align: right;\">\n",
       "      <th></th>\n",
       "      <th>col1</th>\n",
       "      <th>col2</th>\n",
       "      <th>col3</th>\n",
       "    </tr>\n",
       "  </thead>\n",
       "  <tbody>\n",
       "    <tr>\n",
       "      <th>0</th>\n",
       "      <td>1</td>\n",
       "      <td>4</td>\n",
       "      <td>7</td>\n",
       "    </tr>\n",
       "    <tr>\n",
       "      <th>1</th>\n",
       "      <td>2</td>\n",
       "      <td>5</td>\n",
       "      <td>8</td>\n",
       "    </tr>\n",
       "    <tr>\n",
       "      <th>2</th>\n",
       "      <td>3</td>\n",
       "      <td>6</td>\n",
       "      <td>12</td>\n",
       "    </tr>\n",
       "    <tr>\n",
       "      <th>3</th>\n",
       "      <td>4</td>\n",
       "      <td>9</td>\n",
       "      <td>1</td>\n",
       "    </tr>\n",
       "    <tr>\n",
       "      <th>4</th>\n",
       "      <td>7</td>\n",
       "      <td>5</td>\n",
       "      <td>11</td>\n",
       "    </tr>\n",
       "  </tbody>\n",
       "</table>\n",
       "</div>"
      ],
      "text/plain": [
       "   col1  col2  col3\n",
       "0     1     4     7\n",
       "1     2     5     8\n",
       "2     3     6    12\n",
       "3     4     9     1\n",
       "4     7     5    11"
      ]
     },
     "execution_count": 29,
     "metadata": {},
     "output_type": "execute_result"
    }
   ],
   "source": [
    "df = pd.DataFrame(data=d)\n",
    "df"
   ]
  },
  {
   "cell_type": "markdown",
   "id": "09b45a20",
   "metadata": {},
   "source": [
    "We see that \"col1\", \"col2\" and \"col3\" are the names of the columns.Do not be confused about the vertical numbers ranging from 0-4. They tell us the information about the position of the rows.\n",
    "\n",
    "Now, we can use Python to count the columns and rows and ```df.shape``` to find the number of columns:\n",
    "\n"
   ]
  },
  {
   "cell_type": "code",
   "execution_count": 30,
   "id": "a3edfa7f",
   "metadata": {},
   "outputs": [],
   "source": [
    "count_row = df.shape[0]"
   ]
  },
  {
   "cell_type": "code",
   "execution_count": 31,
   "id": "4a5038ed",
   "metadata": {},
   "outputs": [
    {
     "name": "stdout",
     "output_type": "stream",
     "text": [
      "5\n"
     ]
    }
   ],
   "source": [
    "print(count_row)"
   ]
  },
  {
   "cell_type": "markdown",
   "id": "52e6a82f",
   "metadata": {},
   "source": [
    "Let's make a dataframe out of our previous Series population example."
   ]
  },
  {
   "cell_type": "code",
   "execution_count": 32,
   "id": "3157fbd1",
   "metadata": {},
   "outputs": [
    {
     "data": {
      "text/html": [
       "<div>\n",
       "<style scoped>\n",
       "    .dataframe tbody tr th:only-of-type {\n",
       "        vertical-align: middle;\n",
       "    }\n",
       "\n",
       "    .dataframe tbody tr th {\n",
       "        vertical-align: top;\n",
       "    }\n",
       "\n",
       "    .dataframe thead th {\n",
       "        text-align: right;\n",
       "    }\n",
       "</style>\n",
       "<table border=\"1\" class=\"dataframe\">\n",
       "  <thead>\n",
       "    <tr style=\"text-align: right;\">\n",
       "      <th></th>\n",
       "      <th>population</th>\n",
       "    </tr>\n",
       "  </thead>\n",
       "  <tbody>\n",
       "    <tr>\n",
       "      <th>California</th>\n",
       "      <td>38332521</td>\n",
       "    </tr>\n",
       "    <tr>\n",
       "      <th>Texas</th>\n",
       "      <td>26448193</td>\n",
       "    </tr>\n",
       "    <tr>\n",
       "      <th>New York</th>\n",
       "      <td>19651127</td>\n",
       "    </tr>\n",
       "    <tr>\n",
       "      <th>Florida</th>\n",
       "      <td>19552860</td>\n",
       "    </tr>\n",
       "    <tr>\n",
       "      <th>Illinois</th>\n",
       "      <td>12882135</td>\n",
       "    </tr>\n",
       "  </tbody>\n",
       "</table>\n",
       "</div>"
      ],
      "text/plain": [
       "            population\n",
       "California    38332521\n",
       "Texas         26448193\n",
       "New York      19651127\n",
       "Florida       19552860\n",
       "Illinois      12882135"
      ]
     },
     "execution_count": 32,
     "metadata": {},
     "output_type": "execute_result"
    }
   ],
   "source": [
    "df_population = pd.DataFrame(population, columns=['population'])\n",
    "df_population"
   ]
  },
  {
   "cell_type": "markdown",
   "id": "982df731",
   "metadata": {},
   "source": [
    "Now, let's use our rows to "
   ]
  }
 ],
 "metadata": {
  "kernelspec": {
   "display_name": "Python 3 (ipykernel)",
   "language": "python",
   "name": "python3"
  },
  "language_info": {
   "codemirror_mode": {
    "name": "ipython",
    "version": 3
   },
   "file_extension": ".py",
   "mimetype": "text/x-python",
   "name": "python",
   "nbconvert_exporter": "python",
   "pygments_lexer": "ipython3",
   "version": "3.9.13"
  }
 },
 "nbformat": 4,
 "nbformat_minor": 5
}
