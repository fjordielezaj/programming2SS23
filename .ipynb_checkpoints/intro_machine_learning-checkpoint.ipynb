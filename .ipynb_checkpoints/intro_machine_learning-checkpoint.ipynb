{
 "cells": [
  {
   "cell_type": "code",
   "execution_count": null,
   "id": "378372ee",
   "metadata": {},
   "outputs": [],
   "source": [
    "from IPython.display import Image\n",
    "from IPython.core.display import HTML \n",
    "import pandas as pd"
   ]
  },
  {
   "cell_type": "markdown",
   "id": "4ecd805a",
   "metadata": {},
   "source": [
    "Machine learning has in many ways become a throw around phrase for complex issues in research - \"apply some machine learning and problem solved!\". Recently there's also been many talks about how machine learning algorithms are a black box, some rumors of machine learning models coming to life and becoming sentient, and jobs becoming obsolete because of tools such as ChatGPT, which is also built on an ML model. There's much to demistify here, so let's start from the very beginning."
   ]
  },
  {
   "cell_type": "markdown",
   "id": "99d285be",
   "metadata": {},
   "source": [
    "### What is Machine learning (ML)?"
   ]
  },
  {
   "cell_type": "markdown",
   "id": "70f0c18e",
   "metadata": {},
   "source": [
    "- building models of data - mathematical models to understand data\n",
    "- learning - giving the models <i>tunable</i> (tweakable) parameters that can be adapted to the observed data\n",
    "- type of technology that allows computers to learn and improve at tasks without being explicitly programmed to do so\n",
    "- an \"idea that generic algorithms cana tell you something interesting about your data without having to write any custom code specific to the prblem\" - instead, you feed your data to the algorithm and it builds its own logic based on it\n",
    "- it involves feeding the computer a large amount of data and using the ML algorithm to identify patterns inside the data. Those patterns can then bve used to make predictions and decisions about the data"
   ]
  },
  {
   "cell_type": "markdown",
   "id": "9025b9cf",
   "metadata": {},
   "source": [
    "<i>Example</i>\n",
    "- you want to teach a computer to recognize pictures of dogs. You would first show it thousands of pictures of dogs and tell it which ones are actually dogs. The computer would then use this information to identify common features of dogs, such as their fur, ears, and snouts.\n",
    "\n",
    "- Once the computer has learned these features, it can use them to identify whether new pictures it encounters are likely to be dogs or not. Over time, as it encounters more and more pictures, it can improve its accuracy and become better at recognizing dogs\n",
    "\n",
    "- In essence, machine learning allows computers to learn from experience, much like how humans learn from experience."
   ]
  },
  {
   "cell_type": "code",
   "execution_count": null,
   "id": "b4e99447",
   "metadata": {},
   "outputs": [],
   "source": [
    "Image(url= \"img/ML1.png\",width=500, height=1500)\n",
    "# source: https://dataedo.com/cartoon/machine-learning"
   ]
  },
  {
   "cell_type": "markdown",
   "id": "c1c3c8d7",
   "metadata": {},
   "source": [
    "## Types of Machine Learning"
   ]
  },
  {
   "cell_type": "markdown",
   "id": "4764002d",
   "metadata": {},
   "source": [
    "The two main types of ML are:\n",
    "1.  Supervised learning \n",
    "\n",
    "2. Unsupervised learning\n",
    "\n",
    "\n",
    "The main difference between the two is the way our data looks like before we put it into the algorithm. More specifically, whether we're using labels or not. Labels of what kind though?\n"
   ]
  },
  {
   "cell_type": "markdown",
   "id": "6589183a",
   "metadata": {},
   "source": [
    "### Example 1\n",
    "\n",
    "- <b> Supervised learning</b>\n",
    "           * you would provide the computer with a labeled dataset, which includes examples of each type of fruit along with their labels (i.e., \"apple,\" \"orange,\" \"banana\")\n",
    "           * the computer then uses this labeled dataset to learn the characteristics that distinguish each type of fruit, such as their color, shape, and texture. Once the computer has learned these characteristics, it can use them to classify new fruits that it encounters."
   ]
  },
  {
   "cell_type": "code",
   "execution_count": null,
   "id": "fb111a6d",
   "metadata": {},
   "outputs": [],
   "source": [
    "Image(url= \"img/SL1.PNG\",width=500, height=1500)\n",
    "# source: https://www.educba.com/what-is-supervised-learning/"
   ]
  },
  {
   "cell_type": "markdown",
   "id": "6d7403c0",
   "metadata": {},
   "source": [
    "- <b> Unsupervised learning </b>\n",
    "        *  you would provide the computer with an unlabeled dataset, which includes examples of different types of fruits but without any labels\n",
    "        * the computer then uses clustering algorithms to identify patterns or similarities within the dataset, without being told explicitly what the different types of fruits are. Once the computer has identified these patterns, it can use them to group similar fruits together\n",
    "       * you might show the computer a dataset of images of different fruits, without any labels. The computer would then group similar fruits together based on their color, shape, or texture. It might identify a cluster of red, round fruits as apples, and a cluster of yellow, curved fruits as bananas, without being told what they are."
   ]
  },
  {
   "cell_type": "code",
   "execution_count": null,
   "id": "6cfe4dab",
   "metadata": {},
   "outputs": [],
   "source": [
    "Image(url= \"img/UL1.png\",width=500, height=1500)\n",
    "# source: https://www.educba.com/what-is-supervised-learning/"
   ]
  },
  {
   "cell_type": "markdown",
   "id": "2d9c94f7",
   "metadata": {},
   "source": [
    "### Example 2\n",
    "<b>Supervised approach </b> \n",
    "\n",
    "You're a real estate agent that is hiring new people, who have no idea how to price apartments.\n",
    "You with your experience in apartment prices, write a small app that will help them make a decision about a apartment price depending on the size, neighbourhood, etc. and also depending on what other apartments with the same criteria have sold for. \n",
    "\n",
    "Using that training data, we want to create a program that can estimate how much any other house in your area is worth:"
   ]
  },
  {
   "cell_type": "code",
   "execution_count": null,
   "id": "1f0797f0",
   "metadata": {},
   "outputs": [],
   "source": [
    "data = {'Bedrooms': [3,2,1,3],\n",
    "        'Sq. meters': [70, 40, 20, 60],\n",
    "        'Neighbourhood': ['Lend', 'Geidorf', 'Strassgang', 'Gries'],\n",
    "        'Price': [200000, 240000, 100000, 150000]}\n",
    "\n",
    "df = pd.DataFrame(data)\n",
    "df\n"
   ]
  },
  {
   "cell_type": "code",
   "execution_count": null,
   "id": "e7ffa34d",
   "metadata": {},
   "outputs": [],
   "source": [
    "prediction = {'Bedrooms': [3],\n",
    "        'Sq. meters': [100],\n",
    "        'Neighbourhood': ['Lend'],\n",
    "        'Price': ['?']}\n",
    "\n",
    "prediction = pd.DataFrame(prediction)\n",
    "prediction"
   ]
  },
  {
   "cell_type": "markdown",
   "id": "86e3cfae",
   "metadata": {},
   "source": [
    "This is the essence of supervised learning - deducting the answer to a problem depending on previously solved (labelled) problems). The label in this case is price."
   ]
  },
  {
   "cell_type": "markdown",
   "id": "65bedb4a",
   "metadata": {},
   "source": [
    "<b>Unsupervised approach </b> \n",
    "\n",
    "Imagine the same scenario, but we don't know theprices of any of the apartmens. In this case you only know the size, the neighbourhood and the amount of bedrooms. But we can still make use of that info.\n",
    "\n",
    "What we could do is:\n",
    "\n",
    "- have an algorithm identify market segments in the data (e.g. in one area buyers prefer smaller flats, in another bigger etc.)\n",
    "- identify outliers (such as large mansions that are rare)\n",
    " "
   ]
  },
  {
   "cell_type": "markdown",
   "id": "a112dade",
   "metadata": {},
   "source": [
    "## What can we do with each type of learning?"
   ]
  },
  {
   "cell_type": "markdown",
   "id": "5399befc",
   "metadata": {},
   "source": [
    "Supervised learning: Models that can predict labels based on labeled training data\n",
    "\n",
    "- <b>Classification:</b> Models that predict labels as two or more categories. Some additional examples - sentiment analysis, spam detection\n",
    "- <b>Regression:</b> Models that predict continuous labels (continuous numerical variabes - infinite number of values between any two values). Some additional examples - prediction housing or stock prices, the weather\n",
    "\n",
    "Unsupervised learning: Models that identify structure in unlabeled data\n",
    "\n",
    " - <b>Clustering:</b> Models that detect and identify distinct groups in the data, i.e. grouping similar data together based on their characteristics (features). We can use it to group similar documents and images or identify patterns in documents (text similarity)\n",
    " - <b>Dimensionality reduction:</b> Models that detect and identify lower-dimensional structure in higher-dimensional data. It is used to reduce the number of features in a dataset by transforming them in a lower dimensional space while still preserving important info. This can be used for data visualisation and speeding up the training period of ML algorithms. ChatGPTalso uses a form of this, called PCA\n"
   ]
  },
  {
   "cell_type": "code",
   "execution_count": null,
   "id": "509878b8",
   "metadata": {},
   "outputs": [],
   "source": [
    "Image(url= \"img/ML.png\",width=700, height=1500)\n",
    "# source: https://www.cognub.com/index.php/cognitive-platform/"
   ]
  },
  {
   "cell_type": "markdown",
   "id": "bb6fb223",
   "metadata": {},
   "source": [
    "As you see from this image, there isn't just supervised and unsupervised learning. \n",
    "\n",
    "Other types of ML:\n",
    "\n",
    "- semi-supervised learning - a machine learning method in which we have input data, and a fraction of input data is labeled as the output. It is a mix of supervised and unsupervised learning.\n",
    "- reinforcement learning- an algorithm learns to make decisions by interacting with its environment and receiving feedback in the form of rewards or punishments (e.g. teaching a computer to play chess)\n",
    "\n",
    "\n",
    "But let's stick to our first two types for now."
   ]
  },
  {
   "cell_type": "markdown",
   "id": "4ab10a94",
   "metadata": {},
   "source": [
    "### ML in Python"
   ]
  },
  {
   "cell_type": "markdown",
   "id": "54b7aaa9",
   "metadata": {},
   "source": [
    "Python has a wide range of libraries and tools available for ML. \n",
    "\n",
    "With these libraries, it's easy to build and train machine learning models to perform tasks such as predictive data analysis and  natural language processing.analytics\n",
    "\n",
    "Some of the famous ones:\n",
    " - scikit-learn - https://scikit-learn.org/stable/\n",
    " - TensorFlow -https://www.tensorflow.org/ \n",
    " - Keras - https://keras.io/getting_started/intro_to_keras_for_researchers/\n",
    " - PyTorch - https://pytorch.org/"
   ]
  },
  {
   "cell_type": "markdown",
   "id": "0070dda2",
   "metadata": {},
   "source": [
    "For our next class, please make sure you have scikit-learn installed :)"
   ]
  },
  {
   "cell_type": "markdown",
   "id": "c47ffb5e",
   "metadata": {},
   "source": [
    "### Next up (and throughout the course):\n",
    " - scikit-learn\n",
    " - model validation (evaluation)\n",
    " - feature engineering\n",
    " - basic classification and regression algorithms\n",
    " "
   ]
  },
  {
   "cell_type": "markdown",
   "id": "283c31f9",
   "metadata": {},
   "source": [
    "### References"
   ]
  },
  {
   "cell_type": "markdown",
   "id": "f96a287e",
   "metadata": {},
   "source": [
    "- Python Data Science Handbook - https://www.oreilly.com/library/view/python-data-science/9781491912126/\n",
    "   - Python Data Science Hanbook ML Section - https://colab.research.google.com/github/jakevdp/PythonDataScienceHandbook/blob/master/notebooks/05.00-Machine-Learning.ipynb#scrollTo=ItD8Vf0zgELe\n",
    "- Medium guide - https://medium.com/@ageitgey/machine-learning-is-fun-80ea3ec3c471\n",
    "- https://neptune.ai/blog/self-supervised-learning\n"
   ]
  }
 ],
 "metadata": {
  "kernelspec": {
   "display_name": "Python 3 (ipykernel)",
   "language": "python",
   "name": "python3"
  },
  "language_info": {
   "codemirror_mode": {
    "name": "ipython",
    "version": 3
   },
   "file_extension": ".py",
   "mimetype": "text/x-python",
   "name": "python",
   "nbconvert_exporter": "python",
   "pygments_lexer": "ipython3",
   "version": "3.9.13"
  }
 },
 "nbformat": 4,
 "nbformat_minor": 5
}
