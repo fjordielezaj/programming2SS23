{
 "cells": [
  {
   "cell_type": "markdown",
   "metadata": {},
   "source": [
    "## Revision"
   ]
  },
  {
   "cell_type": "markdown",
   "metadata": {},
   "source": [
    "In this course, we'll continue dealing with coding in Python, mostly through project work. \n",
    "To refresh our memory on what we did last semester in [Intro to programming](https://github.com/lucijakrusic/programming1WS22), let's do some revision and exercises.\n"
   ]
  },
  {
   "cell_type": "markdown",
   "metadata": {},
   "source": [
    "### Datatypes\n"
   ]
  },
  {
   "cell_type": "markdown",
   "metadata": {},
   "source": [
    "As we know, programming is esentially dealing with data - inputting, processing and outputting it.\n",
    "In programming, data is considered a value that is stored in the main memory (RAM).\n",
    "Every value, on the other hand, has a datatyp. In Python there are several <i> standard <i> datatypes."
   ]
  },
  {
   "cell_type": "code",
   "execution_count": null,
   "metadata": {},
   "outputs": [],
   "source": [
    "from IPython.display import Image\n",
    "Image(\"img/Python-data-structure.jpg\")"
   ]
  },
  {
   "cell_type": "code",
   "execution_count": null,
   "metadata": {},
   "outputs": [],
   "source": [
    "x = 100\n",
    "type(x)"
   ]
  },
  {
   "cell_type": "code",
   "execution_count": null,
   "metadata": {},
   "outputs": [],
   "source": [
    "x = 100.98\n",
    "type(x)"
   ]
  },
  {
   "cell_type": "code",
   "execution_count": null,
   "metadata": {},
   "outputs": [],
   "source": [
    "x = 'False'\n",
    "type(x)"
   ]
  },
  {
   "cell_type": "code",
   "execution_count": null,
   "metadata": {},
   "outputs": [],
   "source": [
    "x = False\n",
    "type(x)"
   ]
  },
  {
   "cell_type": "code",
   "execution_count": null,
   "metadata": {},
   "outputs": [],
   "source": [
    "x = 1+5.2j\n",
    "type(x)"
   ]
  },
  {
   "cell_type": "markdown",
   "metadata": {},
   "source": [
    "#### Casting (turning one type into another)"
   ]
  },
  {
   "cell_type": "code",
   "execution_count": null,
   "metadata": {},
   "outputs": [],
   "source": [
    "int(2.98)"
   ]
  },
  {
   "cell_type": "code",
   "execution_count": null,
   "metadata": {},
   "outputs": [],
   "source": [
    "float(-2)"
   ]
  },
  {
   "cell_type": "code",
   "execution_count": null,
   "metadata": {},
   "outputs": [],
   "source": [
    "str(2) + '2'"
   ]
  },
  {
   "cell_type": "code",
   "execution_count": null,
   "metadata": {},
   "outputs": [],
   "source": [
    "int('2') + 2"
   ]
  },
  {
   "cell_type": "markdown",
   "metadata": {},
   "source": [
    "#### Sequence types"
   ]
  },
  {
   "cell_type": "markdown",
   "metadata": {},
   "source": [
    "Datatypes where elements are stored in a particular sequence. \n",
    "In Python, these are:\n",
    " * strings\n",
    " * lists\n",
    " * tuples\n",
    " * bytes, byte arrays"
   ]
  },
  {
   "cell_type": "markdown",
   "metadata": {},
   "source": [
    "What can we do with strings?"
   ]
  },
  {
   "cell_type": "code",
   "execution_count": null,
   "metadata": {},
   "outputs": [],
   "source": [
    "sentence = 'Today I\\'m feeling particularly studious\""
   ]
  },
  {
   "cell_type": "code",
   "execution_count": null,
   "metadata": {},
   "outputs": [],
   "source": [
    "len(sentence)"
   ]
  },
  {
   "cell_type": "code",
   "execution_count": null,
   "metadata": {},
   "outputs": [],
   "source": [
    "sentence[-6:-2]"
   ]
  },
  {
   "cell_type": "markdown",
   "metadata": {},
   "source": [
    "<div class=\"alert alert-block alert-info\">\n",
    "<b>Exercise 1</b>\n",
    "    \n",
    "<p>\n",
    "<li> create a variable with the value \"Today is a sunny day        . </li>\n",
    "<li> replace 'sunny' with 'windy' </li>\n",
    "<li>convert it to uppercase </li>\n",
    "<li> output the  string and the location of 'w' </li>\n",
    "<li> strip the whitespaces on the right of the string </li>\n",
    "</p>\n",
    "</div>"
   ]
  },
  {
   "cell_type": "markdown",
   "metadata": {},
   "source": [
    "Lists are also an ordered sequence of items, adn we can do similar things as with strings."
   ]
  },
  {
   "cell_type": "code",
   "execution_count": null,
   "metadata": {},
   "outputs": [],
   "source": [
    "students = ['Charlie', 'Anna', 'Marko', 'Santa']\n",
    "print(students[-1])\n",
    "print(len(students))\n",
    " "
   ]
  },
  {
   "cell_type": "markdown",
   "metadata": {},
   "source": [
    "<div class=\"alert alert-block alert-info\">\n",
    "<b>Exercise 2</b>\n",
    "    \n",
    "<p>\n",
    "<li>Create a list called numbers, containing the numbers 1, 3, 5, 7, and 9 .</li>\n",
    "<li>Print the third number in the list. </li>\n",
    "<li>Add the number 11 to the end of the list.</li>\n",
    "<li>Remove the first number from the list. </li>\n",
    "<li> Replace 3 with 4 </li>\n",
    "<li>Print the lowest and highest number in the list. </li>\n",
    "</p>\n",
    "</div>"
   ]
  },
  {
   "cell_type": "markdown",
   "metadata": {},
   "source": [
    "Tuples are quite similar to lists, except they are not mutable (cannot be changed). The order of the elements in a tuple is always fixed.\n"
   ]
  },
  {
   "cell_type": "code",
   "execution_count": null,
   "metadata": {},
   "outputs": [],
   "source": [
    "coordinates = (12, 56)"
   ]
  },
  {
   "cell_type": "code",
   "execution_count": null,
   "metadata": {},
   "outputs": [],
   "source": [
    "coordinates.add(2)\n"
   ]
  },
  {
   "cell_type": "code",
   "execution_count": null,
   "metadata": {},
   "outputs": [],
   "source": [
    "coordinates[0]"
   ]
  },
  {
   "cell_type": "code",
   "execution_count": null,
   "metadata": {},
   "outputs": [],
   "source": [
    "del coordinates\n",
    "coordinates"
   ]
  },
  {
   "cell_type": "markdown",
   "metadata": {},
   "source": [
    "#### Dictionaries"
   ]
  },
  {
   "cell_type": "markdown",
   "metadata": {},
   "source": [
    "Dictionaries (also in other programming languages reffered to as hashes, arrays or maps) are collections of key-value pairs.  We can reach every value through the key, since each entry has a key and an associated value. They're mutable, which means they can be changed and the values can be overwritten. \n",
    "\n",
    "* dictionaries are indexed\n",
    "* cannot contain duplicate keys"
   ]
  },
  {
   "cell_type": "code",
   "execution_count": null,
   "metadata": {},
   "outputs": [],
   "source": [
    "eng_dict = {\n",
    "    'laptop' : 'portable computer suitable for use while travelling, depending on the wight',\n",
    "    'keyboard': 'a device which allows us to type',\n",
    "    'sun' : 'planet that we see from earth, very warm',\n",
    "    'tei' : 'text encoding initiative',\n",
    "    'pen' : 'item we use to write',\n",
    "    'pen' : \"haha\"\n",
    "}"
   ]
  },
  {
   "cell_type": "code",
   "execution_count": null,
   "metadata": {},
   "outputs": [],
   "source": [
    "eng_dict\n"
   ]
  },
  {
   "cell_type": "code",
   "execution_count": null,
   "metadata": {},
   "outputs": [],
   "source": [
    "eng_dict['programming'] = 'a cool skill'\n",
    "eng_dict"
   ]
  },
  {
   "cell_type": "markdown",
   "metadata": {},
   "source": [
    "Get the number of pairs - as usual, we would use len():"
   ]
  },
  {
   "cell_type": "code",
   "execution_count": null,
   "metadata": {},
   "outputs": [],
   "source": [
    "len(eng_dict)"
   ]
  },
  {
   "cell_type": "markdown",
   "metadata": {},
   "source": [
    "<div class=\"alert alert-block alert-info\">\n",
    "<b>Exercise 3</b>\n",
    "    \n",
    "<p>\n",
    "Create a dictionary called phone_book with the following key-value pairs:\n",
    "\n",
    "```Alice```: ```555-1234```\n",
    "   \n",
    "```Bob```: ```555-5678```\n",
    "    \n",
    "```Charlie```: ```555-9012```\n",
    "    \n",
    "<li>Print the phone number for \"Charlie\" from the phone_book.\n",
    "\n",
    "<li>Add a new entry to the phone_book with the key \"David\" and the value \"555-3456\".\n",
    "\n",
    "<li>Print out all the keys in the phone_book.\n",
    "\n",
    "</p>\n",
    "</div>"
   ]
  },
  {
   "cell_type": "markdown",
   "metadata": {},
   "source": [
    "#### Sets "
   ]
  },
  {
   "cell_type": "markdown",
   "metadata": {},
   "source": [
    "* look kind of like dictionaries, because of the curly brackets\n",
    "* but unordered !\n",
    "* each element can be contained in a set only once\n",
    "* set - mutable, frozenset - immutable"
   ]
  },
  {
   "cell_type": "code",
   "execution_count": null,
   "metadata": {},
   "outputs": [],
   "source": [
    "books = ['the Color Purple', 'It', 'The Midnight Library', 'Harry Potter and the Chamber of Secrets', 'It', 'Extremely Loud & Incredibly Close']\n",
    "book_set = set(books)\n",
    "type(book_set)\n"
   ]
  },
  {
   "cell_type": "code",
   "execution_count": null,
   "metadata": {},
   "outputs": [],
   "source": [
    "len(books)"
   ]
  },
  {
   "cell_type": "code",
   "execution_count": null,
   "metadata": {},
   "outputs": [],
   "source": [
    "len(book_set)"
   ]
  },
  {
   "cell_type": "code",
   "execution_count": null,
   "metadata": {},
   "outputs": [],
   "source": [
    "movies = {'the Color Purple', 'It',  'Harry Potter and the Chamber of Secrets'}\n",
    "book_set.difference(movies)"
   ]
  },
  {
   "cell_type": "code",
   "execution_count": null,
   "metadata": {},
   "outputs": [],
   "source": [
    "book_set.intersection(movies)"
   ]
  },
  {
   "cell_type": "markdown",
   "metadata": {},
   "source": [
    "<div class=\"alert alert-block alert-info\">\n",
    "<b>Exercise 4</b>\n",
    "    \n",
    "<p>\n",
    "Check if 'The Sandman' is present in the set 'book_set'\n",
    "\n",
    "</p>\n",
    "</div>"
   ]
  },
  {
   "cell_type": "markdown",
   "metadata": {},
   "source": [
    "### Loops"
   ]
  },
  {
   "cell_type": "markdown",
   "metadata": {},
   "source": [
    "When programming, one or more statements often need to be repeated. For example, for each element of a sequence (e.g. for each character of a string) do something. \n",
    "\n",
    "*  the `for` loop iterates over all elements of a sequence (or, more generally, an iterable)\n",
    "* the `while` loop checks a condition on each loop pass and terminates when that condition is no longer satisfied. \n",
    "\n"
   ]
  },
  {
   "cell_type": "markdown",
   "metadata": {},
   "source": [
    "Simple example for the ```for ``` loop is printing out a sequence of numbers between 1 and 6. In each loop of the for loop, a number is assigned to the variable ```i```, which is then printed, until 6 is reached and the programme stops."
   ]
  },
  {
   "cell_type": "code",
   "execution_count": null,
   "metadata": {},
   "outputs": [],
   "source": [
    "for i in range(1, 6):\n",
    "    print(i)\n"
   ]
  },
  {
   "cell_type": "markdown",
   "metadata": {},
   "source": [
    "In this example, all numbers are outputted until the number the user inputs is reached.\n"
   ]
  },
  {
   "cell_type": "code",
   "execution_count": null,
   "metadata": {},
   "outputs": [],
   "source": [
    "number = input('insert number')\n",
    "i = 0\n",
    "while (int(i)) < (int(number)):\n",
    "    print(i)\n",
    "    i += 1\n"
   ]
  },
  {
   "cell_type": "markdown",
   "metadata": {},
   "source": [
    "<div class=\"alert alert-block alert-info\">\n",
    "<b>Exercise 5</b>\n",
    "    \n",
    "<p>\n",
    "Remember our phone_book dictionary. Print out the keys and values in it.\n",
    "    The output should look like \n",
    "    Alice -> 555-1234\n",
    "</p>\n",
    "</div>"
   ]
  },
  {
   "cell_type": "markdown",
   "metadata": {},
   "source": [
    "<div class=\"alert alert-block alert-info\">\n",
    "<b>Exercise 6</b>\n",
    "    \n",
    "<p>\n",
    "<li> Create an empty set called numbers\n",
    "<li> using the while loop, prompt the user to enter numbers, telling the user that if they enter -1, the game will end.\n",
    "<li> add the entered numbers to the set\n",
    "<li> print out the unique numbers the user entered \n",
    "</p>\n",
    "</div>"
   ]
  },
  {
   "cell_type": "markdown",
   "metadata": {},
   "source": [
    "### Files and modules "
   ]
  },
  {
   "cell_type": "markdown",
   "metadata": {},
   "source": [
    "Let's start by refreshing our memory on writing to a file. In this exercise, we want to create a file with random numbers, one in each line. We do that, first, by importing the module ```random```, which is part of the Python standard library."
   ]
  },
  {
   "cell_type": "code",
   "execution_count": null,
   "metadata": {},
   "outputs": [],
   "source": [
    "import random"
   ]
  },
  {
   "cell_type": "markdown",
   "metadata": {},
   "source": [
    "Modules (such as random) are:\n",
    "- files with a .py extension\n",
    "- a module is a piece of code written by other people (or you) that you can reuse inside of your code to preform certain things (previously made solutions for specific problems)\n",
    "- we use them by importing them with the ```import``` command"
   ]
  },
  {
   "cell_type": "code",
   "execution_count": null,
   "metadata": {},
   "outputs": [],
   "source": [
    "# Define the number of lines and the range of the numbers\n",
    "num_lines = 50\n",
    "min_num = 0\n",
    "max_num = 100\n",
    "\n",
    "# Open the file for writing\n",
    "with open('numbers.txt', 'w', encoding='utf-8') as f:\n",
    "    # Generate and write the random numbers to the file, one per line\n",
    "    for i in range(num_lines):\n",
    "        num = random.randint(min_num, max_num)\n",
    "        f.write(str(num) + '\\n')"
   ]
  },
  {
   "cell_type": "markdown",
   "metadata": {},
   "source": [
    "Here, we're using the ```open``` function to open the file. It expects at least one argument, which is the path to the file. So far we have only read from files. To be able to write to a file, we need to open it in a special way. The `open()` function expects as second argument a string specifying how to open a file. If we do not specify, the default value `r` (for `read`) is assumed.\n",
    "\n",
    "If we want to open a file for writing, we use `'w'` (for `write`) instead of `'r'`. \n",
    "\n",
    "Other functions we use for handling files are ```write()```, ```read()``` and ```readlines()```.\n",
    "If we want to append to a file, we use the defalult value ```a``` in combination with ```write()```."
   ]
  },
  {
   "cell_type": "markdown",
   "metadata": {},
   "source": [
    "<div class=\"alert alert-block alert-info\">\n",
    "<b>Exercise 7</b>\n",
    "    \n",
    "<p>\n",
    "<li> Open the file 'numbers.txt'  and read the numbers into a list. Don't forget to take care of the whitespaces and make  sure the elements are integer and not strings.\n",
    "</div>"
   ]
  },
  {
   "cell_type": "markdown",
   "metadata": {},
   "source": [
    "### Conditions"
   ]
  },
  {
   "cell_type": "markdown",
   "metadata": {},
   "source": [
    "The general form of a condition in Python (and most higher programming languages) looks like this:\n",
    "\n",
    "~~~\n",
    "if CONDITION == True:\n",
    "    do something\n",
    "else: # CONDITION was not True\n",
    "    do something else\n",
    "~~~\n",
    "\n",
    "Where `else` can be omitted."
   ]
  },
  {
   "cell_type": "code",
   "execution_count": null,
   "metadata": {},
   "outputs": [],
   "source": [
    "from IPython.display import Image\n",
    "Image(\"img/if_else.PNG\")"
   ]
  },
  {
   "cell_type": "markdown",
   "metadata": {},
   "source": [
    "The following is an example of a nested condition. depending on the number that the user inputs, the output will be different, ranging from ```expensive``` to ```cheap```. The program checks each condition and when one condition is fulfilled (True) it breaks, and all `elifs` and the `else` below it are then ignored."
   ]
  },
  {
   "cell_type": "code",
   "execution_count": null,
   "metadata": {},
   "outputs": [],
   "source": [
    "price = int(input('Tell me a price: '))\n",
    "if price >= 30:\n",
    "    print('very expensive')\n",
    "elif price >= 20:\n",
    "    print('expensive')\n",
    "elif price >= 10:\n",
    "    print('acceptable')\n",
    "else:\n",
    "    print('cheap')"
   ]
  },
  {
   "cell_type": "markdown",
   "metadata": {},
   "source": [
    "<div class=\"alert alert-block alert-info\">\n",
    "<b>Exercise 8</b>\n",
    "    \n",
    "<p>\n",
    "<li> Create a loop that goes through each number in the list from the previos task and checks if it is even or odd. If it's even, add it to a new list called \"even_numbers\". If it's odd, add it to a new list called \"odd_numbers\".\n",
    " <li> Print out all the even numbers and then all the odd numbers.\n",
    "\n",
    "\n",
    "</p>"
   ]
  },
  {
   "cell_type": "markdown",
   "metadata": {},
   "source": [
    "### Functions"
   ]
  },
  {
   "cell_type": "markdown",
   "metadata": {},
   "source": [
    "Functions are a key building block in many programming languages, including Python. They are essential for writing modular and reusable code, and mastering them is an important step towards becoming a proficient programmer.\n",
    "\n",
    "\n",
    "\n"
   ]
  },
  {
   "cell_type": "markdown",
   "metadata": {},
   "source": [
    "An example of a simple function:"
   ]
  },
  {
   "cell_type": "code",
   "execution_count": null,
   "metadata": {},
   "outputs": [],
   "source": [
    "def greet(name):\n",
    "    print(f\"Hello, {name}!\")\n",
    "\n",
    "greet(\"Lucija\")\n",
    "greet(\"Easter Bunny\")"
   ]
  },
  {
   "cell_type": "markdown",
   "metadata": {},
   "source": [
    "This function is called ```greet``` and takes a single argument name. When the function is called, it prints a greeting message that includes the value of the name argument.\n",
    "\n",
    "In the example above, we call the greet function twice, with the arguments \"Lucija\" and \"Easter Bunny\". Each time the function is called, it prints a greeting message with the corresponding name.\n",
    "\n"
   ]
  },
  {
   "cell_type": "markdown",
   "metadata": {},
   "source": [
    "An important thing to note is that every function has a return value. This is `None` unless otherwise specified. Here is an example of this return value that is not explicitly specified:"
   ]
  },
  {
   "cell_type": "code",
   "execution_count": null,
   "metadata": {},
   "outputs": [],
   "source": [
    "return_value = greet('Otto') # storing the return value in a variable\n",
    "print(f'The return value is: {return_value} and it\\'s type is {type(return_value)}')"
   ]
  },
  {
   "cell_type": "markdown",
   "metadata": {},
   "source": [
    "An example of a function with a return value:"
   ]
  },
  {
   "cell_type": "code",
   "execution_count": null,
   "metadata": {},
   "outputs": [],
   "source": [
    "def calculate_sum(numbers):\n",
    "    total_sum = sum(numbers)\n",
    "    return total_sum"
   ]
  },
  {
   "cell_type": "code",
   "execution_count": null,
   "metadata": {},
   "outputs": [],
   "source": [
    "numbers = [1, 2, 3, 4, 5]\n",
    "return_value = calculate_sum(numbers)\n",
    "print(f'The return value is: {return_value} and it\\'s type is {type(return_value)}')"
   ]
  },
  {
   "cell_type": "markdown",
   "metadata": {},
   "source": [
    "Here, 15 is the value that is return and it's type is ```int```."
   ]
  },
  {
   "cell_type": "markdown",
   "metadata": {},
   "source": [
    "<div class=\"alert alert-block alert-info\">\n",
    "<b>Exercise 9</b>\n",
    "    \n",
    "<p>\n",
    "<li> Taking the previous task (Exercise 8), reewite it using functions.\n",
    " <li> Make two functions, one called 'read_numbers' that will take in the parameter filename, and the other called 'even_odd' that will store all the even numbers in one list and all the odd numbers in another using list comprehension. Return the two lists\n",
    " <li> Call the functions\n",
    "\n",
    "</p>"
   ]
  },
  {
   "cell_type": "markdown",
   "metadata": {},
   "source": [
    "### And that's all folks! (not really)"
   ]
  },
  {
   "cell_type": "markdown",
   "metadata": {},
   "source": [
    "You might notice we didn't mention some things that we ploughed through last semester, such as Objects (Object-oriented programming), sorting and various details regarding functions. We will deal with that next time and also expand a little bit.\n",
    "\n",
    "In case any of this was unclear, or you see that the details vanished during semester break, please take a look at the materials from  [Intro to programming](https://github.com/lucijakrusic/programming1WS22)."
   ]
  },
  {
   "cell_type": "code",
   "execution_count": null,
   "metadata": {},
   "outputs": [],
   "source": []
  }
 ],
 "metadata": {
  "kernelspec": {
   "display_name": "Python 3 (ipykernel)",
   "language": "python",
   "name": "python3"
  },
  "language_info": {
   "codemirror_mode": {
    "name": "ipython",
    "version": 3
   },
   "file_extension": ".py",
   "mimetype": "text/x-python",
   "name": "python",
   "nbconvert_exporter": "python",
   "pygments_lexer": "ipython3",
   "version": "3.9.13"
  }
 },
 "nbformat": 4,
 "nbformat_minor": 2
}
