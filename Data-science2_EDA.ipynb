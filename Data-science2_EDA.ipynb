{
 "cells": [
  {
   "cell_type": "code",
   "execution_count": 1,
   "id": "eee35153",
   "metadata": {},
   "outputs": [],
   "source": [
    "import pandas as pd\n",
    "import numpy as np"
   ]
  },
  {
   "cell_type": "markdown",
   "id": "50b49adf",
   "metadata": {},
   "source": [
    "Let's start like before, by reading in our .csv. \n",
    "This time, it deals with supemarket sales ans has information on the purchases made, such as the type of the shopper, the gender, the price and quantity of items, the product line, etc. We also get info on the city in which the purchase has been made and the rating (review) of the purchase. Can you think of some research questions that we can pose, knowing we have this information?"
   ]
  },
  {
   "cell_type": "code",
   "execution_count": 2,
   "id": "df2a375d",
   "metadata": {
    "scrolled": true
   },
   "outputs": [
    {
     "data": {
      "text/html": [
       "<div>\n",
       "<style scoped>\n",
       "    .dataframe tbody tr th:only-of-type {\n",
       "        vertical-align: middle;\n",
       "    }\n",
       "\n",
       "    .dataframe tbody tr th {\n",
       "        vertical-align: top;\n",
       "    }\n",
       "\n",
       "    .dataframe thead th {\n",
       "        text-align: right;\n",
       "    }\n",
       "</style>\n",
       "<table border=\"1\" class=\"dataframe\">\n",
       "  <thead>\n",
       "    <tr style=\"text-align: right;\">\n",
       "      <th></th>\n",
       "      <th>Invoice ID</th>\n",
       "      <th>Branch</th>\n",
       "      <th>City</th>\n",
       "      <th>Customer type</th>\n",
       "      <th>Gender</th>\n",
       "      <th>Product line</th>\n",
       "      <th>Unit price</th>\n",
       "      <th>Quantity</th>\n",
       "      <th>Tax 5%</th>\n",
       "      <th>Total</th>\n",
       "      <th>Date</th>\n",
       "      <th>Time</th>\n",
       "      <th>Payment</th>\n",
       "      <th>cogs</th>\n",
       "      <th>gross margin percentage</th>\n",
       "      <th>gross income</th>\n",
       "      <th>Rating</th>\n",
       "    </tr>\n",
       "  </thead>\n",
       "  <tbody>\n",
       "    <tr>\n",
       "      <th>0</th>\n",
       "      <td>750-67-8428</td>\n",
       "      <td>NaN</td>\n",
       "      <td>Yangon</td>\n",
       "      <td>Member</td>\n",
       "      <td>Female</td>\n",
       "      <td>Health and beauty</td>\n",
       "      <td>74.69</td>\n",
       "      <td>7.0</td>\n",
       "      <td>26.1415</td>\n",
       "      <td>NaN</td>\n",
       "      <td>1/5/2019</td>\n",
       "      <td>13:08</td>\n",
       "      <td>Ewallet</td>\n",
       "      <td>522.83</td>\n",
       "      <td>4.761905</td>\n",
       "      <td>26.1415</td>\n",
       "      <td>9.1</td>\n",
       "    </tr>\n",
       "    <tr>\n",
       "      <th>1</th>\n",
       "      <td>226-31-3081</td>\n",
       "      <td>C</td>\n",
       "      <td>Naypyitaw</td>\n",
       "      <td>Normal</td>\n",
       "      <td>Female</td>\n",
       "      <td>Electronic accessories</td>\n",
       "      <td>15.28</td>\n",
       "      <td>5.0</td>\n",
       "      <td>NaN</td>\n",
       "      <td>80.2200</td>\n",
       "      <td>3/8/2019</td>\n",
       "      <td>10:29</td>\n",
       "      <td>Cash</td>\n",
       "      <td>76.40</td>\n",
       "      <td>4.761905</td>\n",
       "      <td>3.8200</td>\n",
       "      <td>9.6</td>\n",
       "    </tr>\n",
       "    <tr>\n",
       "      <th>2</th>\n",
       "      <td>631-41-3108</td>\n",
       "      <td>A</td>\n",
       "      <td>Yangon</td>\n",
       "      <td>Normal</td>\n",
       "      <td>Male</td>\n",
       "      <td>Home and lifestyle</td>\n",
       "      <td>46.33</td>\n",
       "      <td>7.0</td>\n",
       "      <td>16.2155</td>\n",
       "      <td>340.5255</td>\n",
       "      <td>3/3/2019</td>\n",
       "      <td>13:23</td>\n",
       "      <td>Credit card</td>\n",
       "      <td>324.31</td>\n",
       "      <td>4.761905</td>\n",
       "      <td>16.2155</td>\n",
       "      <td>7.4</td>\n",
       "    </tr>\n",
       "    <tr>\n",
       "      <th>3</th>\n",
       "      <td>123-19-1176</td>\n",
       "      <td>A</td>\n",
       "      <td>Yangon</td>\n",
       "      <td>Member</td>\n",
       "      <td>Male</td>\n",
       "      <td>Health and beauty</td>\n",
       "      <td>58.22</td>\n",
       "      <td>8.0</td>\n",
       "      <td>23.2880</td>\n",
       "      <td>489.0480</td>\n",
       "      <td>1/27/2019</td>\n",
       "      <td>20:33</td>\n",
       "      <td>Ewallet</td>\n",
       "      <td>465.76</td>\n",
       "      <td>4.761905</td>\n",
       "      <td>23.2880</td>\n",
       "      <td>8.4</td>\n",
       "    </tr>\n",
       "    <tr>\n",
       "      <th>4</th>\n",
       "      <td>373-73-7910</td>\n",
       "      <td>A</td>\n",
       "      <td>Yangon</td>\n",
       "      <td>Normal</td>\n",
       "      <td>Male</td>\n",
       "      <td>Sports and travel</td>\n",
       "      <td>86.31</td>\n",
       "      <td>7.0</td>\n",
       "      <td>30.2085</td>\n",
       "      <td>634.3785</td>\n",
       "      <td>2/8/2019</td>\n",
       "      <td>10:37</td>\n",
       "      <td>Ewallet</td>\n",
       "      <td>604.17</td>\n",
       "      <td>4.761905</td>\n",
       "      <td>30.2085</td>\n",
       "      <td>5.3</td>\n",
       "    </tr>\n",
       "    <tr>\n",
       "      <th>...</th>\n",
       "      <td>...</td>\n",
       "      <td>...</td>\n",
       "      <td>...</td>\n",
       "      <td>...</td>\n",
       "      <td>...</td>\n",
       "      <td>...</td>\n",
       "      <td>...</td>\n",
       "      <td>...</td>\n",
       "      <td>...</td>\n",
       "      <td>...</td>\n",
       "      <td>...</td>\n",
       "      <td>...</td>\n",
       "      <td>...</td>\n",
       "      <td>...</td>\n",
       "      <td>...</td>\n",
       "      <td>...</td>\n",
       "      <td>...</td>\n",
       "    </tr>\n",
       "    <tr>\n",
       "      <th>984</th>\n",
       "      <td>139-32-4183</td>\n",
       "      <td>A</td>\n",
       "      <td>Yangon</td>\n",
       "      <td>Member</td>\n",
       "      <td>Female</td>\n",
       "      <td>Sports and travel</td>\n",
       "      <td>97.48</td>\n",
       "      <td>9.0</td>\n",
       "      <td>43.8660</td>\n",
       "      <td>921.1860</td>\n",
       "      <td>3/14/2019</td>\n",
       "      <td>14:19</td>\n",
       "      <td>Ewallet</td>\n",
       "      <td>877.32</td>\n",
       "      <td>4.761905</td>\n",
       "      <td>43.8660</td>\n",
       "      <td>7.4</td>\n",
       "    </tr>\n",
       "    <tr>\n",
       "      <th>985</th>\n",
       "      <td>727-02-1313</td>\n",
       "      <td>A</td>\n",
       "      <td>Yangon</td>\n",
       "      <td>Member</td>\n",
       "      <td>Male</td>\n",
       "      <td>Food and beverages</td>\n",
       "      <td>31.84</td>\n",
       "      <td>1.0</td>\n",
       "      <td>1.5920</td>\n",
       "      <td>33.4320</td>\n",
       "      <td>2/9/2019</td>\n",
       "      <td>13:22</td>\n",
       "      <td>Cash</td>\n",
       "      <td>31.84</td>\n",
       "      <td>4.761905</td>\n",
       "      <td>1.5920</td>\n",
       "      <td>7.7</td>\n",
       "    </tr>\n",
       "    <tr>\n",
       "      <th>986</th>\n",
       "      <td>347-56-2442</td>\n",
       "      <td>A</td>\n",
       "      <td>Yangon</td>\n",
       "      <td>Normal</td>\n",
       "      <td>Male</td>\n",
       "      <td>Home and lifestyle</td>\n",
       "      <td>65.82</td>\n",
       "      <td>1.0</td>\n",
       "      <td>3.2910</td>\n",
       "      <td>69.1110</td>\n",
       "      <td>2/22/2019</td>\n",
       "      <td>15:33</td>\n",
       "      <td>Cash</td>\n",
       "      <td>65.82</td>\n",
       "      <td>4.761905</td>\n",
       "      <td>3.2910</td>\n",
       "      <td>4.1</td>\n",
       "    </tr>\n",
       "    <tr>\n",
       "      <th>987</th>\n",
       "      <td>518-71-6847</td>\n",
       "      <td>B</td>\n",
       "      <td>Mandalay</td>\n",
       "      <td>Member</td>\n",
       "      <td>Male</td>\n",
       "      <td>Food and beverages</td>\n",
       "      <td>26.6</td>\n",
       "      <td>6.0</td>\n",
       "      <td>7.9800</td>\n",
       "      <td>167.5800</td>\n",
       "      <td>2/26/2019</td>\n",
       "      <td>15:10</td>\n",
       "      <td>Ewallet</td>\n",
       "      <td>159.60</td>\n",
       "      <td>4.761905</td>\n",
       "      <td>7.9800</td>\n",
       "      <td>4.9</td>\n",
       "    </tr>\n",
       "    <tr>\n",
       "      <th>988</th>\n",
       "      <td>849-09-3807</td>\n",
       "      <td>A</td>\n",
       "      <td>Yangon</td>\n",
       "      <td>Member</td>\n",
       "      <td>Female</td>\n",
       "      <td>Fashion accessories</td>\n",
       "      <td>88.34</td>\n",
       "      <td>7.0</td>\n",
       "      <td>30.9190</td>\n",
       "      <td>649.2990</td>\n",
       "      <td>2/18/2019</td>\n",
       "      <td>13:28</td>\n",
       "      <td>Cash</td>\n",
       "      <td>618.38</td>\n",
       "      <td>4.761905</td>\n",
       "      <td>30.9190</td>\n",
       "      <td>6.6</td>\n",
       "    </tr>\n",
       "  </tbody>\n",
       "</table>\n",
       "<p>989 rows × 17 columns</p>\n",
       "</div>"
      ],
      "text/plain": [
       "      Invoice ID Branch       City Customer type  Gender  \\\n",
       "0    750-67-8428    NaN     Yangon        Member  Female   \n",
       "1    226-31-3081      C  Naypyitaw        Normal  Female   \n",
       "2    631-41-3108      A     Yangon        Normal    Male   \n",
       "3    123-19-1176      A     Yangon        Member    Male   \n",
       "4    373-73-7910      A     Yangon        Normal    Male   \n",
       "..           ...    ...        ...           ...     ...   \n",
       "984  139-32-4183      A     Yangon        Member  Female   \n",
       "985  727-02-1313      A     Yangon        Member    Male   \n",
       "986  347-56-2442      A     Yangon        Normal    Male   \n",
       "987  518-71-6847      B   Mandalay        Member    Male   \n",
       "988  849-09-3807      A     Yangon        Member  Female   \n",
       "\n",
       "               Product line Unit price  Quantity   Tax 5%     Total  \\\n",
       "0         Health and beauty      74.69       7.0  26.1415       NaN   \n",
       "1    Electronic accessories      15.28       5.0      NaN   80.2200   \n",
       "2        Home and lifestyle      46.33       7.0  16.2155  340.5255   \n",
       "3         Health and beauty      58.22       8.0  23.2880  489.0480   \n",
       "4         Sports and travel      86.31       7.0  30.2085  634.3785   \n",
       "..                      ...        ...       ...      ...       ...   \n",
       "984       Sports and travel      97.48       9.0  43.8660  921.1860   \n",
       "985      Food and beverages      31.84       1.0   1.5920   33.4320   \n",
       "986      Home and lifestyle      65.82       1.0   3.2910   69.1110   \n",
       "987      Food and beverages       26.6       6.0   7.9800  167.5800   \n",
       "988     Fashion accessories      88.34       7.0  30.9190  649.2990   \n",
       "\n",
       "          Date   Time      Payment    cogs  gross margin percentage  \\\n",
       "0     1/5/2019  13:08      Ewallet  522.83                 4.761905   \n",
       "1     3/8/2019  10:29         Cash   76.40                 4.761905   \n",
       "2     3/3/2019  13:23  Credit card  324.31                 4.761905   \n",
       "3    1/27/2019  20:33      Ewallet  465.76                 4.761905   \n",
       "4     2/8/2019  10:37      Ewallet  604.17                 4.761905   \n",
       "..         ...    ...          ...     ...                      ...   \n",
       "984  3/14/2019  14:19      Ewallet  877.32                 4.761905   \n",
       "985   2/9/2019  13:22         Cash   31.84                 4.761905   \n",
       "986  2/22/2019  15:33         Cash   65.82                 4.761905   \n",
       "987  2/26/2019  15:10      Ewallet  159.60                 4.761905   \n",
       "988  2/18/2019  13:28         Cash  618.38                 4.761905   \n",
       "\n",
       "     gross income  Rating  \n",
       "0         26.1415     9.1  \n",
       "1          3.8200     9.6  \n",
       "2         16.2155     7.4  \n",
       "3         23.2880     8.4  \n",
       "4         30.2085     5.3  \n",
       "..            ...     ...  \n",
       "984       43.8660     7.4  \n",
       "985        1.5920     7.7  \n",
       "986        3.2910     4.1  \n",
       "987        7.9800     4.9  \n",
       "988       30.9190     6.6  \n",
       "\n",
       "[989 rows x 17 columns]"
      ]
     },
     "execution_count": 2,
     "metadata": {},
     "output_type": "execute_result"
    }
   ],
   "source": [
    "sales = pd.read_csv('data/supermarket_sales.csv')\n",
    "sales"
   ]
  },
  {
   "cell_type": "markdown",
   "id": "96b1bf72",
   "metadata": {},
   "source": [
    "### Let's explore our dataset a little bit\n",
    "To get a feel for the dataset, we can take a look at the column names and the first ten entries. "
   ]
  },
  {
   "cell_type": "markdown",
   "id": "062ee22d",
   "metadata": {},
   "source": [
    "```head()``` usually shows us the first five rows of the data, but we can also extend that by specifying the number of rows we are interested in as a parameter of the function."
   ]
  },
  {
   "cell_type": "code",
   "execution_count": 3,
   "id": "91e72bd6",
   "metadata": {},
   "outputs": [
    {
     "data": {
      "text/html": [
       "<div>\n",
       "<style scoped>\n",
       "    .dataframe tbody tr th:only-of-type {\n",
       "        vertical-align: middle;\n",
       "    }\n",
       "\n",
       "    .dataframe tbody tr th {\n",
       "        vertical-align: top;\n",
       "    }\n",
       "\n",
       "    .dataframe thead th {\n",
       "        text-align: right;\n",
       "    }\n",
       "</style>\n",
       "<table border=\"1\" class=\"dataframe\">\n",
       "  <thead>\n",
       "    <tr style=\"text-align: right;\">\n",
       "      <th></th>\n",
       "      <th>Invoice ID</th>\n",
       "      <th>Branch</th>\n",
       "      <th>City</th>\n",
       "      <th>Customer type</th>\n",
       "      <th>Gender</th>\n",
       "      <th>Product line</th>\n",
       "      <th>Unit price</th>\n",
       "      <th>Quantity</th>\n",
       "      <th>Tax 5%</th>\n",
       "      <th>Total</th>\n",
       "      <th>Date</th>\n",
       "      <th>Time</th>\n",
       "      <th>Payment</th>\n",
       "      <th>cogs</th>\n",
       "      <th>gross margin percentage</th>\n",
       "      <th>gross income</th>\n",
       "      <th>Rating</th>\n",
       "    </tr>\n",
       "  </thead>\n",
       "  <tbody>\n",
       "    <tr>\n",
       "      <th>0</th>\n",
       "      <td>750-67-8428</td>\n",
       "      <td>NaN</td>\n",
       "      <td>Yangon</td>\n",
       "      <td>Member</td>\n",
       "      <td>Female</td>\n",
       "      <td>Health and beauty</td>\n",
       "      <td>74.69</td>\n",
       "      <td>7.0</td>\n",
       "      <td>26.1415</td>\n",
       "      <td>NaN</td>\n",
       "      <td>1/5/2019</td>\n",
       "      <td>13:08</td>\n",
       "      <td>Ewallet</td>\n",
       "      <td>522.83</td>\n",
       "      <td>4.761905</td>\n",
       "      <td>26.1415</td>\n",
       "      <td>9.1</td>\n",
       "    </tr>\n",
       "    <tr>\n",
       "      <th>1</th>\n",
       "      <td>226-31-3081</td>\n",
       "      <td>C</td>\n",
       "      <td>Naypyitaw</td>\n",
       "      <td>Normal</td>\n",
       "      <td>Female</td>\n",
       "      <td>Electronic accessories</td>\n",
       "      <td>15.28</td>\n",
       "      <td>5.0</td>\n",
       "      <td>NaN</td>\n",
       "      <td>80.2200</td>\n",
       "      <td>3/8/2019</td>\n",
       "      <td>10:29</td>\n",
       "      <td>Cash</td>\n",
       "      <td>76.40</td>\n",
       "      <td>4.761905</td>\n",
       "      <td>3.8200</td>\n",
       "      <td>9.6</td>\n",
       "    </tr>\n",
       "    <tr>\n",
       "      <th>2</th>\n",
       "      <td>631-41-3108</td>\n",
       "      <td>A</td>\n",
       "      <td>Yangon</td>\n",
       "      <td>Normal</td>\n",
       "      <td>Male</td>\n",
       "      <td>Home and lifestyle</td>\n",
       "      <td>46.33</td>\n",
       "      <td>7.0</td>\n",
       "      <td>16.2155</td>\n",
       "      <td>340.5255</td>\n",
       "      <td>3/3/2019</td>\n",
       "      <td>13:23</td>\n",
       "      <td>Credit card</td>\n",
       "      <td>324.31</td>\n",
       "      <td>4.761905</td>\n",
       "      <td>16.2155</td>\n",
       "      <td>7.4</td>\n",
       "    </tr>\n",
       "    <tr>\n",
       "      <th>3</th>\n",
       "      <td>123-19-1176</td>\n",
       "      <td>A</td>\n",
       "      <td>Yangon</td>\n",
       "      <td>Member</td>\n",
       "      <td>Male</td>\n",
       "      <td>Health and beauty</td>\n",
       "      <td>58.22</td>\n",
       "      <td>8.0</td>\n",
       "      <td>23.2880</td>\n",
       "      <td>489.0480</td>\n",
       "      <td>1/27/2019</td>\n",
       "      <td>20:33</td>\n",
       "      <td>Ewallet</td>\n",
       "      <td>465.76</td>\n",
       "      <td>4.761905</td>\n",
       "      <td>23.2880</td>\n",
       "      <td>8.4</td>\n",
       "    </tr>\n",
       "    <tr>\n",
       "      <th>4</th>\n",
       "      <td>373-73-7910</td>\n",
       "      <td>A</td>\n",
       "      <td>Yangon</td>\n",
       "      <td>Normal</td>\n",
       "      <td>Male</td>\n",
       "      <td>Sports and travel</td>\n",
       "      <td>86.31</td>\n",
       "      <td>7.0</td>\n",
       "      <td>30.2085</td>\n",
       "      <td>634.3785</td>\n",
       "      <td>2/8/2019</td>\n",
       "      <td>10:37</td>\n",
       "      <td>Ewallet</td>\n",
       "      <td>604.17</td>\n",
       "      <td>4.761905</td>\n",
       "      <td>30.2085</td>\n",
       "      <td>5.3</td>\n",
       "    </tr>\n",
       "    <tr>\n",
       "      <th>5</th>\n",
       "      <td>699-14-3026</td>\n",
       "      <td>C</td>\n",
       "      <td>Naypyitaw</td>\n",
       "      <td>Normal</td>\n",
       "      <td>Male</td>\n",
       "      <td>Electronic accessories</td>\n",
       "      <td>85.39</td>\n",
       "      <td>7.0</td>\n",
       "      <td>29.8865</td>\n",
       "      <td>627.6165</td>\n",
       "      <td>3/25/2019</td>\n",
       "      <td>18:30</td>\n",
       "      <td>Ewallet</td>\n",
       "      <td>597.73</td>\n",
       "      <td>4.761905</td>\n",
       "      <td>29.8865</td>\n",
       "      <td>4.1</td>\n",
       "    </tr>\n",
       "    <tr>\n",
       "      <th>6</th>\n",
       "      <td>355-53-5943</td>\n",
       "      <td></td>\n",
       "      <td>Yangon</td>\n",
       "      <td>Member</td>\n",
       "      <td>Female</td>\n",
       "      <td>Electronic accessories</td>\n",
       "      <td>68.84</td>\n",
       "      <td>6.0</td>\n",
       "      <td>20.6520</td>\n",
       "      <td>433.6920</td>\n",
       "      <td>2/25/2019</td>\n",
       "      <td>14:36</td>\n",
       "      <td>Ewallet</td>\n",
       "      <td>413.04</td>\n",
       "      <td>4.761905</td>\n",
       "      <td>20.6520</td>\n",
       "      <td>5.8</td>\n",
       "    </tr>\n",
       "    <tr>\n",
       "      <th>7</th>\n",
       "      <td>315-22-5665</td>\n",
       "      <td>C</td>\n",
       "      <td>Naypyitaw</td>\n",
       "      <td>Normal</td>\n",
       "      <td>Female</td>\n",
       "      <td>Home and lifestyle</td>\n",
       "      <td>73.56</td>\n",
       "      <td>10.0</td>\n",
       "      <td>36.7800</td>\n",
       "      <td>772.3800</td>\n",
       "      <td>2/24/2019</td>\n",
       "      <td>11:38</td>\n",
       "      <td>Ewallet</td>\n",
       "      <td>735.60</td>\n",
       "      <td>4.761905</td>\n",
       "      <td>36.7800</td>\n",
       "      <td>8.0</td>\n",
       "    </tr>\n",
       "    <tr>\n",
       "      <th>8</th>\n",
       "      <td>665-32-9167</td>\n",
       "      <td>A</td>\n",
       "      <td>Yangon</td>\n",
       "      <td>Member</td>\n",
       "      <td>Female</td>\n",
       "      <td>Health and beauty</td>\n",
       "      <td>36.26</td>\n",
       "      <td>2.0</td>\n",
       "      <td>3.6260</td>\n",
       "      <td>76.1460</td>\n",
       "      <td>1/10/2019</td>\n",
       "      <td>17:15</td>\n",
       "      <td>Credit card</td>\n",
       "      <td>72.52</td>\n",
       "      <td>4.761905</td>\n",
       "      <td>3.6260</td>\n",
       "      <td>7.2</td>\n",
       "    </tr>\n",
       "    <tr>\n",
       "      <th>9</th>\n",
       "      <td>692-92-5582</td>\n",
       "      <td>B</td>\n",
       "      <td>Mandalay</td>\n",
       "      <td>Member</td>\n",
       "      <td>Female</td>\n",
       "      <td>Food and beverages</td>\n",
       "      <td>54.84</td>\n",
       "      <td>3.0</td>\n",
       "      <td>8.2260</td>\n",
       "      <td>172.7460</td>\n",
       "      <td>2/20/2019</td>\n",
       "      <td>13:27</td>\n",
       "      <td>Credit card</td>\n",
       "      <td>164.52</td>\n",
       "      <td>4.761905</td>\n",
       "      <td>8.2260</td>\n",
       "      <td>5.9</td>\n",
       "    </tr>\n",
       "  </tbody>\n",
       "</table>\n",
       "</div>"
      ],
      "text/plain": [
       "    Invoice ID Branch       City Customer type  Gender  \\\n",
       "0  750-67-8428    NaN     Yangon        Member  Female   \n",
       "1  226-31-3081      C  Naypyitaw        Normal  Female   \n",
       "2  631-41-3108      A     Yangon        Normal    Male   \n",
       "3  123-19-1176      A     Yangon        Member    Male   \n",
       "4  373-73-7910      A     Yangon        Normal    Male   \n",
       "5  699-14-3026      C  Naypyitaw        Normal    Male   \n",
       "6  355-53-5943            Yangon        Member  Female   \n",
       "7  315-22-5665      C  Naypyitaw        Normal  Female   \n",
       "8  665-32-9167      A     Yangon        Member  Female   \n",
       "9  692-92-5582      B   Mandalay        Member  Female   \n",
       "\n",
       "             Product line Unit price  Quantity   Tax 5%     Total       Date  \\\n",
       "0       Health and beauty      74.69       7.0  26.1415       NaN   1/5/2019   \n",
       "1  Electronic accessories      15.28       5.0      NaN   80.2200   3/8/2019   \n",
       "2      Home and lifestyle      46.33       7.0  16.2155  340.5255   3/3/2019   \n",
       "3       Health and beauty      58.22       8.0  23.2880  489.0480  1/27/2019   \n",
       "4       Sports and travel      86.31       7.0  30.2085  634.3785   2/8/2019   \n",
       "5  Electronic accessories      85.39       7.0  29.8865  627.6165  3/25/2019   \n",
       "6  Electronic accessories      68.84       6.0  20.6520  433.6920  2/25/2019   \n",
       "7      Home and lifestyle      73.56      10.0  36.7800  772.3800  2/24/2019   \n",
       "8       Health and beauty      36.26       2.0   3.6260   76.1460  1/10/2019   \n",
       "9      Food and beverages      54.84       3.0   8.2260  172.7460  2/20/2019   \n",
       "\n",
       "    Time      Payment    cogs  gross margin percentage  gross income  Rating  \n",
       "0  13:08      Ewallet  522.83                 4.761905       26.1415     9.1  \n",
       "1  10:29         Cash   76.40                 4.761905        3.8200     9.6  \n",
       "2  13:23  Credit card  324.31                 4.761905       16.2155     7.4  \n",
       "3  20:33      Ewallet  465.76                 4.761905       23.2880     8.4  \n",
       "4  10:37      Ewallet  604.17                 4.761905       30.2085     5.3  \n",
       "5  18:30      Ewallet  597.73                 4.761905       29.8865     4.1  \n",
       "6  14:36      Ewallet  413.04                 4.761905       20.6520     5.8  \n",
       "7  11:38      Ewallet  735.60                 4.761905       36.7800     8.0  \n",
       "8  17:15  Credit card   72.52                 4.761905        3.6260     7.2  \n",
       "9  13:27  Credit card  164.52                 4.761905        8.2260     5.9  "
      ]
     },
     "execution_count": 3,
     "metadata": {},
     "output_type": "execute_result"
    }
   ],
   "source": [
    "sales.head(10)"
   ]
  },
  {
   "cell_type": "markdown",
   "id": "46cfeb29",
   "metadata": {},
   "source": [
    "We can also take a random sample from the dataset using the ```sample()``` method. As a parameter, we specify how big of a sample we need."
   ]
  },
  {
   "cell_type": "code",
   "execution_count": 4,
   "id": "074356c5",
   "metadata": {},
   "outputs": [
    {
     "data": {
      "text/html": [
       "<div>\n",
       "<style scoped>\n",
       "    .dataframe tbody tr th:only-of-type {\n",
       "        vertical-align: middle;\n",
       "    }\n",
       "\n",
       "    .dataframe tbody tr th {\n",
       "        vertical-align: top;\n",
       "    }\n",
       "\n",
       "    .dataframe thead th {\n",
       "        text-align: right;\n",
       "    }\n",
       "</style>\n",
       "<table border=\"1\" class=\"dataframe\">\n",
       "  <thead>\n",
       "    <tr style=\"text-align: right;\">\n",
       "      <th></th>\n",
       "      <th>Invoice ID</th>\n",
       "      <th>Branch</th>\n",
       "      <th>City</th>\n",
       "      <th>Customer type</th>\n",
       "      <th>Gender</th>\n",
       "      <th>Product line</th>\n",
       "      <th>Unit price</th>\n",
       "      <th>Quantity</th>\n",
       "      <th>Tax 5%</th>\n",
       "      <th>Total</th>\n",
       "      <th>Date</th>\n",
       "      <th>Time</th>\n",
       "      <th>Payment</th>\n",
       "      <th>cogs</th>\n",
       "      <th>gross margin percentage</th>\n",
       "      <th>gross income</th>\n",
       "      <th>Rating</th>\n",
       "    </tr>\n",
       "  </thead>\n",
       "  <tbody>\n",
       "    <tr>\n",
       "      <th>558</th>\n",
       "      <td>712-39-0363</td>\n",
       "      <td>A</td>\n",
       "      <td>Yangon</td>\n",
       "      <td>Member</td>\n",
       "      <td>Male</td>\n",
       "      <td>Food and beverages</td>\n",
       "      <td>41.66</td>\n",
       "      <td>6.0</td>\n",
       "      <td>12.498</td>\n",
       "      <td>262.458</td>\n",
       "      <td>1/2/2019</td>\n",
       "      <td>15:24</td>\n",
       "      <td>Ewallet</td>\n",
       "      <td>249.96</td>\n",
       "      <td>4.761905</td>\n",
       "      <td>12.498</td>\n",
       "      <td>5.6</td>\n",
       "    </tr>\n",
       "    <tr>\n",
       "      <th>59</th>\n",
       "      <td>120-06-4233</td>\n",
       "      <td>C</td>\n",
       "      <td>Naypyitaw</td>\n",
       "      <td>Normal</td>\n",
       "      <td>Male</td>\n",
       "      <td>Electronic accessories</td>\n",
       "      <td>30.61</td>\n",
       "      <td>6.0</td>\n",
       "      <td>9.183</td>\n",
       "      <td>192.843</td>\n",
       "      <td>3/12/2019</td>\n",
       "      <td>20:36</td>\n",
       "      <td>Cash</td>\n",
       "      <td>183.66</td>\n",
       "      <td>4.761905</td>\n",
       "      <td>9.183</td>\n",
       "      <td>9.3</td>\n",
       "    </tr>\n",
       "    <tr>\n",
       "      <th>259</th>\n",
       "      <td>380-94-4661</td>\n",
       "      <td>C</td>\n",
       "      <td>Naypyitaw</td>\n",
       "      <td>Member</td>\n",
       "      <td>Male</td>\n",
       "      <td>Electronic accessories</td>\n",
       "      <td>65.94</td>\n",
       "      <td>4.0</td>\n",
       "      <td>13.188</td>\n",
       "      <td>276.948</td>\n",
       "      <td>2/7/2019</td>\n",
       "      <td>13:05</td>\n",
       "      <td>Credit card</td>\n",
       "      <td>263.76</td>\n",
       "      <td>4.761905</td>\n",
       "      <td>13.188</td>\n",
       "      <td>6.9</td>\n",
       "    </tr>\n",
       "    <tr>\n",
       "      <th>184</th>\n",
       "      <td>586-25-0848</td>\n",
       "      <td>A</td>\n",
       "      <td>Yangon</td>\n",
       "      <td>Normal</td>\n",
       "      <td>Female</td>\n",
       "      <td>Sports and travel</td>\n",
       "      <td>12.34</td>\n",
       "      <td>7.0</td>\n",
       "      <td>4.319</td>\n",
       "      <td>90.699</td>\n",
       "      <td>3/4/2019</td>\n",
       "      <td>11:19</td>\n",
       "      <td>Credit card</td>\n",
       "      <td>86.38</td>\n",
       "      <td>4.761905</td>\n",
       "      <td>4.319</td>\n",
       "      <td>6.7</td>\n",
       "    </tr>\n",
       "    <tr>\n",
       "      <th>927</th>\n",
       "      <td>226-34-0034</td>\n",
       "      <td>B</td>\n",
       "      <td>Mandalay</td>\n",
       "      <td>Normal</td>\n",
       "      <td>Female</td>\n",
       "      <td>Electronic accessories</td>\n",
       "      <td>13.78</td>\n",
       "      <td>4.0</td>\n",
       "      <td>2.756</td>\n",
       "      <td>57.876</td>\n",
       "      <td>1/10/2019</td>\n",
       "      <td>11:10</td>\n",
       "      <td>Ewallet</td>\n",
       "      <td>55.12</td>\n",
       "      <td>4.761905</td>\n",
       "      <td>2.756</td>\n",
       "      <td>9.0</td>\n",
       "    </tr>\n",
       "  </tbody>\n",
       "</table>\n",
       "</div>"
      ],
      "text/plain": [
       "      Invoice ID Branch       City Customer type  Gender  \\\n",
       "558  712-39-0363      A     Yangon        Member    Male   \n",
       "59   120-06-4233      C  Naypyitaw        Normal    Male   \n",
       "259  380-94-4661      C  Naypyitaw        Member    Male   \n",
       "184  586-25-0848      A     Yangon        Normal  Female   \n",
       "927  226-34-0034      B   Mandalay        Normal  Female   \n",
       "\n",
       "               Product line Unit price  Quantity  Tax 5%    Total       Date  \\\n",
       "558      Food and beverages      41.66       6.0  12.498  262.458   1/2/2019   \n",
       "59   Electronic accessories      30.61       6.0   9.183  192.843  3/12/2019   \n",
       "259  Electronic accessories      65.94       4.0  13.188  276.948   2/7/2019   \n",
       "184       Sports and travel      12.34       7.0   4.319   90.699   3/4/2019   \n",
       "927  Electronic accessories      13.78       4.0   2.756   57.876  1/10/2019   \n",
       "\n",
       "      Time      Payment    cogs  gross margin percentage  gross income  Rating  \n",
       "558  15:24      Ewallet  249.96                 4.761905        12.498     5.6  \n",
       "59   20:36         Cash  183.66                 4.761905         9.183     9.3  \n",
       "259  13:05  Credit card  263.76                 4.761905        13.188     6.9  \n",
       "184  11:19  Credit card   86.38                 4.761905         4.319     6.7  \n",
       "927  11:10      Ewallet   55.12                 4.761905         2.756     9.0  "
      ]
     },
     "execution_count": 4,
     "metadata": {},
     "output_type": "execute_result"
    }
   ],
   "source": [
    "sales.sample(5)"
   ]
  },
  {
   "cell_type": "markdown",
   "id": "c48feb0e",
   "metadata": {},
   "source": [
    "We can also check the shape of the DataFrame and the number of unique entries per column. The latter values are considered to be \"categorical data\", because they sort data in categories or groups. Which columns in our dataset can be considered categorical?"
   ]
  },
  {
   "cell_type": "code",
   "execution_count": 5,
   "id": "674bca50",
   "metadata": {},
   "outputs": [
    {
     "data": {
      "text/plain": [
       "(989, 17)"
      ]
     },
     "execution_count": 5,
     "metadata": {},
     "output_type": "execute_result"
    }
   ],
   "source": [
    "sales.shape"
   ]
  },
  {
   "cell_type": "code",
   "execution_count": 6,
   "id": "94152caa",
   "metadata": {},
   "outputs": [
    {
     "data": {
      "text/plain": [
       "array(['Health and beauty', 'Electronic accessories',\n",
       "       'Home and lifestyle', 'Sports and travel', 'Food and beverages',\n",
       "       'Fashion accessories', nan], dtype=object)"
      ]
     },
     "execution_count": 6,
     "metadata": {},
     "output_type": "execute_result"
    }
   ],
   "source": [
    "sales['Product line'].unique()"
   ]
  },
  {
   "cell_type": "markdown",
   "id": "b1d4bd6f",
   "metadata": {},
   "source": [
    "We can also check a specific entry (here by using indexing) to see an example entry from our dataset. "
   ]
  },
  {
   "cell_type": "code",
   "execution_count": 9,
   "id": "a823c71a",
   "metadata": {},
   "outputs": [
    {
     "data": {
      "text/plain": [
       "Invoice ID                       606-80-4905\n",
       "Branch                                     C\n",
       "City                               Naypyitaw\n",
       "Customer type                         Member\n",
       "Gender                                Female\n",
       "Product line               Sports and travel\n",
       "Unit price                             19.15\n",
       "Quantity                                 6.0\n",
       "Tax 5%                                 5.745\n",
       "Total                                120.645\n",
       "Date                               1/29/2019\n",
       "Time                                   10:01\n",
       "Payment                          Credit card\n",
       "cogs                                   114.9\n",
       "gross margin percentage             4.761905\n",
       "gross income                           5.745\n",
       "Rating                                   6.8\n",
       "Name: 200, dtype: object"
      ]
     },
     "execution_count": 9,
     "metadata": {},
     "output_type": "execute_result"
    }
   ],
   "source": [
    "sales.iloc[200]"
   ]
  },
  {
   "cell_type": "code",
   "execution_count": 10,
   "id": "0b3d83f2",
   "metadata": {},
   "outputs": [
    {
     "data": {
      "text/plain": [
       "array(['Female', 'Male'], dtype=object)"
      ]
     },
     "execution_count": 10,
     "metadata": {},
     "output_type": "execute_result"
    }
   ],
   "source": [
    "sales.Gender.unique()"
   ]
  },
  {
   "cell_type": "markdown",
   "id": "7ad0a69e",
   "metadata": {},
   "source": [
    "We can also check the nr of entries in which the customer was a male:"
   ]
  },
  {
   "cell_type": "code",
   "execution_count": 11,
   "id": "056327eb",
   "metadata": {},
   "outputs": [
    {
     "data": {
      "text/html": [
       "<div>\n",
       "<style scoped>\n",
       "    .dataframe tbody tr th:only-of-type {\n",
       "        vertical-align: middle;\n",
       "    }\n",
       "\n",
       "    .dataframe tbody tr th {\n",
       "        vertical-align: top;\n",
       "    }\n",
       "\n",
       "    .dataframe thead th {\n",
       "        text-align: right;\n",
       "    }\n",
       "</style>\n",
       "<table border=\"1\" class=\"dataframe\">\n",
       "  <thead>\n",
       "    <tr style=\"text-align: right;\">\n",
       "      <th></th>\n",
       "      <th>Invoice ID</th>\n",
       "      <th>Branch</th>\n",
       "      <th>City</th>\n",
       "      <th>Customer type</th>\n",
       "      <th>Gender</th>\n",
       "      <th>Product line</th>\n",
       "      <th>Unit price</th>\n",
       "      <th>Quantity</th>\n",
       "      <th>Tax 5%</th>\n",
       "      <th>Total</th>\n",
       "      <th>Date</th>\n",
       "      <th>Time</th>\n",
       "      <th>Payment</th>\n",
       "      <th>cogs</th>\n",
       "      <th>gross margin percentage</th>\n",
       "      <th>gross income</th>\n",
       "      <th>Rating</th>\n",
       "    </tr>\n",
       "  </thead>\n",
       "  <tbody>\n",
       "    <tr>\n",
       "      <th>2</th>\n",
       "      <td>631-41-3108</td>\n",
       "      <td>A</td>\n",
       "      <td>Yangon</td>\n",
       "      <td>Normal</td>\n",
       "      <td>Male</td>\n",
       "      <td>Home and lifestyle</td>\n",
       "      <td>46.33</td>\n",
       "      <td>7.0</td>\n",
       "      <td>16.2155</td>\n",
       "      <td>340.5255</td>\n",
       "      <td>3/3/2019</td>\n",
       "      <td>13:23</td>\n",
       "      <td>Credit card</td>\n",
       "      <td>324.31</td>\n",
       "      <td>4.761905</td>\n",
       "      <td>16.2155</td>\n",
       "      <td>7.4</td>\n",
       "    </tr>\n",
       "    <tr>\n",
       "      <th>3</th>\n",
       "      <td>123-19-1176</td>\n",
       "      <td>A</td>\n",
       "      <td>Yangon</td>\n",
       "      <td>Member</td>\n",
       "      <td>Male</td>\n",
       "      <td>Health and beauty</td>\n",
       "      <td>58.22</td>\n",
       "      <td>8.0</td>\n",
       "      <td>23.2880</td>\n",
       "      <td>489.0480</td>\n",
       "      <td>1/27/2019</td>\n",
       "      <td>20:33</td>\n",
       "      <td>Ewallet</td>\n",
       "      <td>465.76</td>\n",
       "      <td>4.761905</td>\n",
       "      <td>23.2880</td>\n",
       "      <td>8.4</td>\n",
       "    </tr>\n",
       "    <tr>\n",
       "      <th>4</th>\n",
       "      <td>373-73-7910</td>\n",
       "      <td>A</td>\n",
       "      <td>Yangon</td>\n",
       "      <td>Normal</td>\n",
       "      <td>Male</td>\n",
       "      <td>Sports and travel</td>\n",
       "      <td>86.31</td>\n",
       "      <td>7.0</td>\n",
       "      <td>30.2085</td>\n",
       "      <td>634.3785</td>\n",
       "      <td>2/8/2019</td>\n",
       "      <td>10:37</td>\n",
       "      <td>Ewallet</td>\n",
       "      <td>604.17</td>\n",
       "      <td>4.761905</td>\n",
       "      <td>30.2085</td>\n",
       "      <td>5.3</td>\n",
       "    </tr>\n",
       "    <tr>\n",
       "      <th>5</th>\n",
       "      <td>699-14-3026</td>\n",
       "      <td>C</td>\n",
       "      <td>Naypyitaw</td>\n",
       "      <td>Normal</td>\n",
       "      <td>Male</td>\n",
       "      <td>Electronic accessories</td>\n",
       "      <td>85.39</td>\n",
       "      <td>7.0</td>\n",
       "      <td>29.8865</td>\n",
       "      <td>627.6165</td>\n",
       "      <td>3/25/2019</td>\n",
       "      <td>18:30</td>\n",
       "      <td>Ewallet</td>\n",
       "      <td>597.73</td>\n",
       "      <td>4.761905</td>\n",
       "      <td>29.8865</td>\n",
       "      <td>4.1</td>\n",
       "    </tr>\n",
       "    <tr>\n",
       "      <th>11</th>\n",
       "      <td>529-56-3974</td>\n",
       "      <td>B</td>\n",
       "      <td>Mandalay</td>\n",
       "      <td>Member</td>\n",
       "      <td>Male</td>\n",
       "      <td>Electronic accessories</td>\n",
       "      <td>25.51</td>\n",
       "      <td>4.0</td>\n",
       "      <td>5.1020</td>\n",
       "      <td>107.1420</td>\n",
       "      <td>3/9/2019</td>\n",
       "      <td>17:03</td>\n",
       "      <td>Cash</td>\n",
       "      <td>102.04</td>\n",
       "      <td>4.761905</td>\n",
       "      <td>5.1020</td>\n",
       "      <td>6.8</td>\n",
       "    </tr>\n",
       "    <tr>\n",
       "      <th>13</th>\n",
       "      <td>252-56-2699</td>\n",
       "      <td>A</td>\n",
       "      <td>Yangon</td>\n",
       "      <td>Normal</td>\n",
       "      <td>Male</td>\n",
       "      <td>Food and beverages</td>\n",
       "      <td>43.19</td>\n",
       "      <td>10.0</td>\n",
       "      <td>21.5950</td>\n",
       "      <td>453.4950</td>\n",
       "      <td>2/7/2019</td>\n",
       "      <td>16:48</td>\n",
       "      <td>Ewallet</td>\n",
       "      <td>431.90</td>\n",
       "      <td>4.761905</td>\n",
       "      <td>21.5950</td>\n",
       "      <td>8.2</td>\n",
       "    </tr>\n",
       "    <tr>\n",
       "      <th>17</th>\n",
       "      <td>765-26-6951</td>\n",
       "      <td>A</td>\n",
       "      <td>Yangon</td>\n",
       "      <td>Normal</td>\n",
       "      <td>Male</td>\n",
       "      <td>Sports and travel</td>\n",
       "      <td>72.61</td>\n",
       "      <td>6.0</td>\n",
       "      <td>21.7830</td>\n",
       "      <td>457.4430</td>\n",
       "      <td>1/1/2019</td>\n",
       "      <td>10:39</td>\n",
       "      <td>Credit card</td>\n",
       "      <td>435.66</td>\n",
       "      <td>4.761905</td>\n",
       "      <td>21.7830</td>\n",
       "      <td>6.9</td>\n",
       "    </tr>\n",
       "    <tr>\n",
       "      <th>18</th>\n",
       "      <td>329-62-1586</td>\n",
       "      <td>A</td>\n",
       "      <td>Yangon</td>\n",
       "      <td>Normal</td>\n",
       "      <td>Male</td>\n",
       "      <td>Food and beverages</td>\n",
       "      <td>54.67</td>\n",
       "      <td>3.0</td>\n",
       "      <td>8.2005</td>\n",
       "      <td>172.2105</td>\n",
       "      <td>1/21/2019</td>\n",
       "      <td>18:00</td>\n",
       "      <td>Credit card</td>\n",
       "      <td>164.01</td>\n",
       "      <td>4.761905</td>\n",
       "      <td>8.2005</td>\n",
       "      <td>8.6</td>\n",
       "    </tr>\n",
       "    <tr>\n",
       "      <th>20</th>\n",
       "      <td>300-71-4605</td>\n",
       "      <td>C</td>\n",
       "      <td>Naypyitaw</td>\n",
       "      <td>Member</td>\n",
       "      <td>Male</td>\n",
       "      <td>Electronic accessories</td>\n",
       "      <td>86.04</td>\n",
       "      <td>5.0</td>\n",
       "      <td>21.5100</td>\n",
       "      <td>451.7100</td>\n",
       "      <td>2/25/2019</td>\n",
       "      <td>11:24</td>\n",
       "      <td>Ewallet</td>\n",
       "      <td>430.20</td>\n",
       "      <td>4.761905</td>\n",
       "      <td>21.5100</td>\n",
       "      <td>4.8</td>\n",
       "    </tr>\n",
       "    <tr>\n",
       "      <th>21</th>\n",
       "      <td>371-85-5789</td>\n",
       "      <td>B</td>\n",
       "      <td>Mandalay</td>\n",
       "      <td>Normal</td>\n",
       "      <td>Male</td>\n",
       "      <td>Health and beauty</td>\n",
       "      <td></td>\n",
       "      <td>3.0</td>\n",
       "      <td>13.1970</td>\n",
       "      <td>277.1370</td>\n",
       "      <td>3/5/2019</td>\n",
       "      <td>10:40</td>\n",
       "      <td>Ewallet</td>\n",
       "      <td>263.94</td>\n",
       "      <td>4.761905</td>\n",
       "      <td>13.1970</td>\n",
       "      <td>5.1</td>\n",
       "    </tr>\n",
       "  </tbody>\n",
       "</table>\n",
       "</div>"
      ],
      "text/plain": [
       "     Invoice ID Branch       City Customer type Gender  \\\n",
       "2   631-41-3108      A     Yangon        Normal   Male   \n",
       "3   123-19-1176      A     Yangon        Member   Male   \n",
       "4   373-73-7910      A     Yangon        Normal   Male   \n",
       "5   699-14-3026      C  Naypyitaw        Normal   Male   \n",
       "11  529-56-3974      B   Mandalay        Member   Male   \n",
       "13  252-56-2699      A     Yangon        Normal   Male   \n",
       "17  765-26-6951      A     Yangon        Normal   Male   \n",
       "18  329-62-1586      A     Yangon        Normal   Male   \n",
       "20  300-71-4605      C  Naypyitaw        Member   Male   \n",
       "21  371-85-5789      B   Mandalay        Normal   Male   \n",
       "\n",
       "              Product line Unit price  Quantity   Tax 5%     Total       Date  \\\n",
       "2       Home and lifestyle      46.33       7.0  16.2155  340.5255   3/3/2019   \n",
       "3        Health and beauty      58.22       8.0  23.2880  489.0480  1/27/2019   \n",
       "4        Sports and travel      86.31       7.0  30.2085  634.3785   2/8/2019   \n",
       "5   Electronic accessories      85.39       7.0  29.8865  627.6165  3/25/2019   \n",
       "11  Electronic accessories      25.51       4.0   5.1020  107.1420   3/9/2019   \n",
       "13      Food and beverages      43.19      10.0  21.5950  453.4950   2/7/2019   \n",
       "17       Sports and travel      72.61       6.0  21.7830  457.4430   1/1/2019   \n",
       "18      Food and beverages      54.67       3.0   8.2005  172.2105  1/21/2019   \n",
       "20  Electronic accessories      86.04       5.0  21.5100  451.7100  2/25/2019   \n",
       "21       Health and beauty                  3.0  13.1970  277.1370   3/5/2019   \n",
       "\n",
       "     Time      Payment    cogs  gross margin percentage  gross income  Rating  \n",
       "2   13:23  Credit card  324.31                 4.761905       16.2155     7.4  \n",
       "3   20:33      Ewallet  465.76                 4.761905       23.2880     8.4  \n",
       "4   10:37      Ewallet  604.17                 4.761905       30.2085     5.3  \n",
       "5   18:30      Ewallet  597.73                 4.761905       29.8865     4.1  \n",
       "11  17:03         Cash  102.04                 4.761905        5.1020     6.8  \n",
       "13  16:48      Ewallet  431.90                 4.761905       21.5950     8.2  \n",
       "17  10:39  Credit card  435.66                 4.761905       21.7830     6.9  \n",
       "18  18:00  Credit card  164.01                 4.761905        8.2005     8.6  \n",
       "20  11:24      Ewallet  430.20                 4.761905       21.5100     4.8  \n",
       "21  10:40      Ewallet  263.94                 4.761905       13.1970     5.1  "
      ]
     },
     "execution_count": 11,
     "metadata": {},
     "output_type": "execute_result"
    }
   ],
   "source": [
    "sales_male = sales[sales['Gender']=='Male']\n",
    "sales_male.head(10)"
   ]
  },
  {
   "cell_type": "code",
   "execution_count": 12,
   "id": "1ce2b051",
   "metadata": {},
   "outputs": [
    {
     "data": {
      "text/html": [
       "<div>\n",
       "<style scoped>\n",
       "    .dataframe tbody tr th:only-of-type {\n",
       "        vertical-align: middle;\n",
       "    }\n",
       "\n",
       "    .dataframe tbody tr th {\n",
       "        vertical-align: top;\n",
       "    }\n",
       "\n",
       "    .dataframe thead th {\n",
       "        text-align: right;\n",
       "    }\n",
       "</style>\n",
       "<table border=\"1\" class=\"dataframe\">\n",
       "  <thead>\n",
       "    <tr style=\"text-align: right;\">\n",
       "      <th></th>\n",
       "      <th>Invoice ID</th>\n",
       "      <th>Branch</th>\n",
       "      <th>City</th>\n",
       "      <th>Customer type</th>\n",
       "      <th>Gender</th>\n",
       "      <th>Product line</th>\n",
       "      <th>Unit price</th>\n",
       "      <th>Quantity</th>\n",
       "      <th>Tax 5%</th>\n",
       "      <th>Total</th>\n",
       "      <th>Date</th>\n",
       "      <th>Time</th>\n",
       "      <th>Payment</th>\n",
       "      <th>cogs</th>\n",
       "      <th>gross margin percentage</th>\n",
       "      <th>gross income</th>\n",
       "      <th>Rating</th>\n",
       "    </tr>\n",
       "  </thead>\n",
       "  <tbody>\n",
       "    <tr>\n",
       "      <th>0</th>\n",
       "      <td>750-67-8428</td>\n",
       "      <td>NaN</td>\n",
       "      <td>Yangon</td>\n",
       "      <td>Member</td>\n",
       "      <td>Female</td>\n",
       "      <td>Health and beauty</td>\n",
       "      <td>74.69</td>\n",
       "      <td>7.0</td>\n",
       "      <td>26.1415</td>\n",
       "      <td>NaN</td>\n",
       "      <td>1/5/2019</td>\n",
       "      <td>13:08</td>\n",
       "      <td>Ewallet</td>\n",
       "      <td>522.83</td>\n",
       "      <td>4.761905</td>\n",
       "      <td>26.1415</td>\n",
       "      <td>9.1</td>\n",
       "    </tr>\n",
       "    <tr>\n",
       "      <th>1</th>\n",
       "      <td>226-31-3081</td>\n",
       "      <td>C</td>\n",
       "      <td>Naypyitaw</td>\n",
       "      <td>Normal</td>\n",
       "      <td>Female</td>\n",
       "      <td>Electronic accessories</td>\n",
       "      <td>15.28</td>\n",
       "      <td>5.0</td>\n",
       "      <td>NaN</td>\n",
       "      <td>80.2200</td>\n",
       "      <td>3/8/2019</td>\n",
       "      <td>10:29</td>\n",
       "      <td>Cash</td>\n",
       "      <td>76.40</td>\n",
       "      <td>4.761905</td>\n",
       "      <td>3.8200</td>\n",
       "      <td>9.6</td>\n",
       "    </tr>\n",
       "    <tr>\n",
       "      <th>6</th>\n",
       "      <td>355-53-5943</td>\n",
       "      <td></td>\n",
       "      <td>Yangon</td>\n",
       "      <td>Member</td>\n",
       "      <td>Female</td>\n",
       "      <td>Electronic accessories</td>\n",
       "      <td>68.84</td>\n",
       "      <td>6.0</td>\n",
       "      <td>20.6520</td>\n",
       "      <td>433.6920</td>\n",
       "      <td>2/25/2019</td>\n",
       "      <td>14:36</td>\n",
       "      <td>Ewallet</td>\n",
       "      <td>413.04</td>\n",
       "      <td>4.761905</td>\n",
       "      <td>20.6520</td>\n",
       "      <td>5.8</td>\n",
       "    </tr>\n",
       "    <tr>\n",
       "      <th>7</th>\n",
       "      <td>315-22-5665</td>\n",
       "      <td>C</td>\n",
       "      <td>Naypyitaw</td>\n",
       "      <td>Normal</td>\n",
       "      <td>Female</td>\n",
       "      <td>Home and lifestyle</td>\n",
       "      <td>73.56</td>\n",
       "      <td>10.0</td>\n",
       "      <td>36.7800</td>\n",
       "      <td>772.3800</td>\n",
       "      <td>2/24/2019</td>\n",
       "      <td>11:38</td>\n",
       "      <td>Ewallet</td>\n",
       "      <td>735.60</td>\n",
       "      <td>4.761905</td>\n",
       "      <td>36.7800</td>\n",
       "      <td>8.0</td>\n",
       "    </tr>\n",
       "    <tr>\n",
       "      <th>8</th>\n",
       "      <td>665-32-9167</td>\n",
       "      <td>A</td>\n",
       "      <td>Yangon</td>\n",
       "      <td>Member</td>\n",
       "      <td>Female</td>\n",
       "      <td>Health and beauty</td>\n",
       "      <td>36.26</td>\n",
       "      <td>2.0</td>\n",
       "      <td>3.6260</td>\n",
       "      <td>76.1460</td>\n",
       "      <td>1/10/2019</td>\n",
       "      <td>17:15</td>\n",
       "      <td>Credit card</td>\n",
       "      <td>72.52</td>\n",
       "      <td>4.761905</td>\n",
       "      <td>3.6260</td>\n",
       "      <td>7.2</td>\n",
       "    </tr>\n",
       "    <tr>\n",
       "      <th>9</th>\n",
       "      <td>692-92-5582</td>\n",
       "      <td>B</td>\n",
       "      <td>Mandalay</td>\n",
       "      <td>Member</td>\n",
       "      <td>Female</td>\n",
       "      <td>Food and beverages</td>\n",
       "      <td>54.84</td>\n",
       "      <td>3.0</td>\n",
       "      <td>8.2260</td>\n",
       "      <td>172.7460</td>\n",
       "      <td>2/20/2019</td>\n",
       "      <td>13:27</td>\n",
       "      <td>Credit card</td>\n",
       "      <td>164.52</td>\n",
       "      <td>4.761905</td>\n",
       "      <td>8.2260</td>\n",
       "      <td>5.9</td>\n",
       "    </tr>\n",
       "    <tr>\n",
       "      <th>10</th>\n",
       "      <td>351-62-0822</td>\n",
       "      <td>B</td>\n",
       "      <td>Mandalay</td>\n",
       "      <td>Member</td>\n",
       "      <td>Female</td>\n",
       "      <td>Fashion accessories</td>\n",
       "      <td>14.48</td>\n",
       "      <td>4.0</td>\n",
       "      <td>2.8960</td>\n",
       "      <td>60.8160</td>\n",
       "      <td>2/6/2019</td>\n",
       "      <td>18:07</td>\n",
       "      <td>Ewallet</td>\n",
       "      <td>57.92</td>\n",
       "      <td>4.761905</td>\n",
       "      <td>2.8960</td>\n",
       "      <td>4.5</td>\n",
       "    </tr>\n",
       "    <tr>\n",
       "      <th>12</th>\n",
       "      <td>365-64-0515</td>\n",
       "      <td>A</td>\n",
       "      <td>Yangon</td>\n",
       "      <td>Normal</td>\n",
       "      <td>Female</td>\n",
       "      <td>Electronic accessories</td>\n",
       "      <td>46.95</td>\n",
       "      <td>5.0</td>\n",
       "      <td>11.7375</td>\n",
       "      <td>246.4875</td>\n",
       "      <td>2/12/2019</td>\n",
       "      <td>10:25</td>\n",
       "      <td>Ewallet</td>\n",
       "      <td>234.75</td>\n",
       "      <td>4.761905</td>\n",
       "      <td>11.7375</td>\n",
       "      <td>7.1</td>\n",
       "    </tr>\n",
       "    <tr>\n",
       "      <th>14</th>\n",
       "      <td>829-34-3910</td>\n",
       "      <td>A</td>\n",
       "      <td>Yangon</td>\n",
       "      <td>Normal</td>\n",
       "      <td>Female</td>\n",
       "      <td>Health and beauty</td>\n",
       "      <td>71.38</td>\n",
       "      <td>10.0</td>\n",
       "      <td>35.6900</td>\n",
       "      <td>749.4900</td>\n",
       "      <td>3/29/2019</td>\n",
       "      <td>19:21</td>\n",
       "      <td>Cash</td>\n",
       "      <td>713.80</td>\n",
       "      <td>4.761905</td>\n",
       "      <td>35.6900</td>\n",
       "      <td>5.7</td>\n",
       "    </tr>\n",
       "    <tr>\n",
       "      <th>15</th>\n",
       "      <td>299-46-1805</td>\n",
       "      <td>B</td>\n",
       "      <td>Mandalay</td>\n",
       "      <td>Member</td>\n",
       "      <td>Female</td>\n",
       "      <td>Sports and travel</td>\n",
       "      <td>93.72</td>\n",
       "      <td>6.0</td>\n",
       "      <td>28.1160</td>\n",
       "      <td>590.4360</td>\n",
       "      <td>1/15/2019</td>\n",
       "      <td>16:19</td>\n",
       "      <td>Cash</td>\n",
       "      <td>562.32</td>\n",
       "      <td>4.761905</td>\n",
       "      <td>28.1160</td>\n",
       "      <td>4.5</td>\n",
       "    </tr>\n",
       "  </tbody>\n",
       "</table>\n",
       "</div>"
      ],
      "text/plain": [
       "     Invoice ID Branch       City Customer type  Gender  \\\n",
       "0   750-67-8428    NaN     Yangon        Member  Female   \n",
       "1   226-31-3081      C  Naypyitaw        Normal  Female   \n",
       "6   355-53-5943            Yangon        Member  Female   \n",
       "7   315-22-5665      C  Naypyitaw        Normal  Female   \n",
       "8   665-32-9167      A     Yangon        Member  Female   \n",
       "9   692-92-5582      B   Mandalay        Member  Female   \n",
       "10  351-62-0822      B   Mandalay        Member  Female   \n",
       "12  365-64-0515      A     Yangon        Normal  Female   \n",
       "14  829-34-3910      A     Yangon        Normal  Female   \n",
       "15  299-46-1805      B   Mandalay        Member  Female   \n",
       "\n",
       "              Product line Unit price  Quantity   Tax 5%     Total       Date  \\\n",
       "0        Health and beauty      74.69       7.0  26.1415       NaN   1/5/2019   \n",
       "1   Electronic accessories      15.28       5.0      NaN   80.2200   3/8/2019   \n",
       "6   Electronic accessories      68.84       6.0  20.6520  433.6920  2/25/2019   \n",
       "7       Home and lifestyle      73.56      10.0  36.7800  772.3800  2/24/2019   \n",
       "8        Health and beauty      36.26       2.0   3.6260   76.1460  1/10/2019   \n",
       "9       Food and beverages      54.84       3.0   8.2260  172.7460  2/20/2019   \n",
       "10     Fashion accessories      14.48       4.0   2.8960   60.8160   2/6/2019   \n",
       "12  Electronic accessories      46.95       5.0  11.7375  246.4875  2/12/2019   \n",
       "14       Health and beauty      71.38      10.0  35.6900  749.4900  3/29/2019   \n",
       "15       Sports and travel      93.72       6.0  28.1160  590.4360  1/15/2019   \n",
       "\n",
       "     Time      Payment    cogs  gross margin percentage  gross income  Rating  \n",
       "0   13:08      Ewallet  522.83                 4.761905       26.1415     9.1  \n",
       "1   10:29         Cash   76.40                 4.761905        3.8200     9.6  \n",
       "6   14:36      Ewallet  413.04                 4.761905       20.6520     5.8  \n",
       "7   11:38      Ewallet  735.60                 4.761905       36.7800     8.0  \n",
       "8   17:15  Credit card   72.52                 4.761905        3.6260     7.2  \n",
       "9   13:27  Credit card  164.52                 4.761905        8.2260     5.9  \n",
       "10  18:07      Ewallet   57.92                 4.761905        2.8960     4.5  \n",
       "12  10:25      Ewallet  234.75                 4.761905       11.7375     7.1  \n",
       "14  19:21         Cash  713.80                 4.761905       35.6900     5.7  \n",
       "15  16:19         Cash  562.32                 4.761905       28.1160     4.5  "
      ]
     },
     "execution_count": 12,
     "metadata": {},
     "output_type": "execute_result"
    }
   ],
   "source": [
    "sales_female = sales[sales['Gender']=='Female']\n",
    "sales_female.head(10)"
   ]
  },
  {
   "cell_type": "code",
   "execution_count": 13,
   "id": "e5675819",
   "metadata": {},
   "outputs": [
    {
     "name": "stdout",
     "output_type": "stream",
     "text": [
      " Purchases made by people identifying as male: (493, 17) \n",
      " Purchases made by people identifying as female: (496, 17)\n"
     ]
    }
   ],
   "source": [
    "print(f' Purchases made by people identifying as male: {sales_male.shape} \\n Purchases made by people identifying as female: {sales_female.shape}')\n",
    "\n"
   ]
  },
  {
   "cell_type": "markdown",
   "id": "ef36cd1b",
   "metadata": {},
   "source": [
    "We can see our dataset is pretty balanced when it comes to the categorical variable of gender."
   ]
  },
  {
   "cell_type": "markdown",
   "id": "7f0dbf71",
   "metadata": {},
   "source": [
    "Or the nr of entries where the total sum of the invoice was less than 100 e."
   ]
  },
  {
   "cell_type": "code",
   "execution_count": 14,
   "id": "7991ea30",
   "metadata": {},
   "outputs": [
    {
     "data": {
      "text/html": [
       "<div>\n",
       "<style scoped>\n",
       "    .dataframe tbody tr th:only-of-type {\n",
       "        vertical-align: middle;\n",
       "    }\n",
       "\n",
       "    .dataframe tbody tr th {\n",
       "        vertical-align: top;\n",
       "    }\n",
       "\n",
       "    .dataframe thead th {\n",
       "        text-align: right;\n",
       "    }\n",
       "</style>\n",
       "<table border=\"1\" class=\"dataframe\">\n",
       "  <thead>\n",
       "    <tr style=\"text-align: right;\">\n",
       "      <th></th>\n",
       "      <th>Invoice ID</th>\n",
       "      <th>Branch</th>\n",
       "      <th>City</th>\n",
       "      <th>Customer type</th>\n",
       "      <th>Gender</th>\n",
       "      <th>Product line</th>\n",
       "      <th>Unit price</th>\n",
       "      <th>Quantity</th>\n",
       "      <th>Tax 5%</th>\n",
       "      <th>Total</th>\n",
       "      <th>Date</th>\n",
       "      <th>Time</th>\n",
       "      <th>Payment</th>\n",
       "      <th>cogs</th>\n",
       "      <th>gross margin percentage</th>\n",
       "      <th>gross income</th>\n",
       "      <th>Rating</th>\n",
       "    </tr>\n",
       "  </thead>\n",
       "  <tbody>\n",
       "    <tr>\n",
       "      <th>1</th>\n",
       "      <td>226-31-3081</td>\n",
       "      <td>C</td>\n",
       "      <td>Naypyitaw</td>\n",
       "      <td>Normal</td>\n",
       "      <td>Female</td>\n",
       "      <td>Electronic accessories</td>\n",
       "      <td>15.28</td>\n",
       "      <td>5.0</td>\n",
       "      <td>NaN</td>\n",
       "      <td>80.220</td>\n",
       "      <td>3/8/2019</td>\n",
       "      <td>10:29</td>\n",
       "      <td>Cash</td>\n",
       "      <td>76.40</td>\n",
       "      <td>4.761905</td>\n",
       "      <td>3.820</td>\n",
       "      <td>9.6</td>\n",
       "    </tr>\n",
       "    <tr>\n",
       "      <th>8</th>\n",
       "      <td>665-32-9167</td>\n",
       "      <td>A</td>\n",
       "      <td>Yangon</td>\n",
       "      <td>Member</td>\n",
       "      <td>Female</td>\n",
       "      <td>Health and beauty</td>\n",
       "      <td>36.26</td>\n",
       "      <td>2.0</td>\n",
       "      <td>3.626</td>\n",
       "      <td>76.146</td>\n",
       "      <td>1/10/2019</td>\n",
       "      <td>17:15</td>\n",
       "      <td>Credit card</td>\n",
       "      <td>72.52</td>\n",
       "      <td>4.761905</td>\n",
       "      <td>3.626</td>\n",
       "      <td>7.2</td>\n",
       "    </tr>\n",
       "    <tr>\n",
       "      <th>10</th>\n",
       "      <td>351-62-0822</td>\n",
       "      <td>B</td>\n",
       "      <td>Mandalay</td>\n",
       "      <td>Member</td>\n",
       "      <td>Female</td>\n",
       "      <td>Fashion accessories</td>\n",
       "      <td>14.48</td>\n",
       "      <td>4.0</td>\n",
       "      <td>2.896</td>\n",
       "      <td>60.816</td>\n",
       "      <td>2/6/2019</td>\n",
       "      <td>18:07</td>\n",
       "      <td>Ewallet</td>\n",
       "      <td>57.92</td>\n",
       "      <td>4.761905</td>\n",
       "      <td>2.896</td>\n",
       "      <td>4.5</td>\n",
       "    </tr>\n",
       "    <tr>\n",
       "      <th>19</th>\n",
       "      <td>319-50-3348</td>\n",
       "      <td>B</td>\n",
       "      <td>Mandalay</td>\n",
       "      <td>Normal</td>\n",
       "      <td>Female</td>\n",
       "      <td>Home and lifestyle</td>\n",
       "      <td>40.3</td>\n",
       "      <td>2.0</td>\n",
       "      <td>4.030</td>\n",
       "      <td>84.630</td>\n",
       "      <td>3/11/2019</td>\n",
       "      <td>15:30</td>\n",
       "      <td>Ewallet</td>\n",
       "      <td>80.60</td>\n",
       "      <td>4.761905</td>\n",
       "      <td>4.030</td>\n",
       "      <td>4.4</td>\n",
       "    </tr>\n",
       "    <tr>\n",
       "      <th>22</th>\n",
       "      <td>273-16-6619</td>\n",
       "      <td>B</td>\n",
       "      <td>Mandalay</td>\n",
       "      <td>Normal</td>\n",
       "      <td>Male</td>\n",
       "      <td>Home and lifestyle</td>\n",
       "      <td>33.2</td>\n",
       "      <td>2.0</td>\n",
       "      <td>3.320</td>\n",
       "      <td>69.720</td>\n",
       "      <td>3/15/2019</td>\n",
       "      <td>12:20</td>\n",
       "      <td>Credit card</td>\n",
       "      <td>66.40</td>\n",
       "      <td>4.761905</td>\n",
       "      <td>3.320</td>\n",
       "      <td>4.4</td>\n",
       "    </tr>\n",
       "    <tr>\n",
       "      <th>26</th>\n",
       "      <td>649-29-6775</td>\n",
       "      <td>B</td>\n",
       "      <td>Mandalay</td>\n",
       "      <td>Normal</td>\n",
       "      <td>Male</td>\n",
       "      <td>Fashion accessories</td>\n",
       "      <td>33.52</td>\n",
       "      <td>1.0</td>\n",
       "      <td>1.676</td>\n",
       "      <td>35.196</td>\n",
       "      <td>2/8/2019</td>\n",
       "      <td>15:31</td>\n",
       "      <td>Cash</td>\n",
       "      <td>33.52</td>\n",
       "      <td>4.761905</td>\n",
       "      <td>1.676</td>\n",
       "      <td>6.7</td>\n",
       "    </tr>\n",
       "    <tr>\n",
       "      <th>35</th>\n",
       "      <td>232-16-2483</td>\n",
       "      <td>C</td>\n",
       "      <td>Naypyitaw</td>\n",
       "      <td>Member</td>\n",
       "      <td>Female</td>\n",
       "      <td>Sports and travel</td>\n",
       "      <td>68.12</td>\n",
       "      <td>1.0</td>\n",
       "      <td>3.406</td>\n",
       "      <td>71.526</td>\n",
       "      <td>1/7/2019</td>\n",
       "      <td>12:28</td>\n",
       "      <td>Ewallet</td>\n",
       "      <td>68.12</td>\n",
       "      <td>4.761905</td>\n",
       "      <td>3.406</td>\n",
       "      <td>6.8</td>\n",
       "    </tr>\n",
       "    <tr>\n",
       "      <th>40</th>\n",
       "      <td>280-35-5823</td>\n",
       "      <td>B</td>\n",
       "      <td>Mandalay</td>\n",
       "      <td>Member</td>\n",
       "      <td>Female</td>\n",
       "      <td>Home and lifestyle</td>\n",
       "      <td>86.72</td>\n",
       "      <td>1.0</td>\n",
       "      <td>4.336</td>\n",
       "      <td>91.056</td>\n",
       "      <td>1/17/2019</td>\n",
       "      <td>18:45</td>\n",
       "      <td>Ewallet</td>\n",
       "      <td>86.72</td>\n",
       "      <td>4.761905</td>\n",
       "      <td>4.336</td>\n",
       "      <td>7.9</td>\n",
       "    </tr>\n",
       "    <tr>\n",
       "      <th>44</th>\n",
       "      <td>617-15-4209</td>\n",
       "      <td>C</td>\n",
       "      <td>Naypyitaw</td>\n",
       "      <td>Member</td>\n",
       "      <td>Male</td>\n",
       "      <td>Health and beauty</td>\n",
       "      <td>15.37</td>\n",
       "      <td>2.0</td>\n",
       "      <td>1.537</td>\n",
       "      <td>32.277</td>\n",
       "      <td>3/16/2019</td>\n",
       "      <td>19:47</td>\n",
       "      <td>Cash</td>\n",
       "      <td>30.74</td>\n",
       "      <td>4.761905</td>\n",
       "      <td>1.537</td>\n",
       "      <td>7.2</td>\n",
       "    </tr>\n",
       "    <tr>\n",
       "      <th>52</th>\n",
       "      <td>616-24-2851</td>\n",
       "      <td>B</td>\n",
       "      <td>Mandalay</td>\n",
       "      <td>Member</td>\n",
       "      <td>Female</td>\n",
       "      <td>Fashion accessories</td>\n",
       "      <td>17.87</td>\n",
       "      <td>4.0</td>\n",
       "      <td>3.574</td>\n",
       "      <td>75.054</td>\n",
       "      <td>3/22/2019</td>\n",
       "      <td>14:42</td>\n",
       "      <td>Ewallet</td>\n",
       "      <td>71.48</td>\n",
       "      <td>4.761905</td>\n",
       "      <td>3.574</td>\n",
       "      <td>6.5</td>\n",
       "    </tr>\n",
       "  </tbody>\n",
       "</table>\n",
       "</div>"
      ],
      "text/plain": [
       "     Invoice ID Branch       City Customer type  Gender  \\\n",
       "1   226-31-3081      C  Naypyitaw        Normal  Female   \n",
       "8   665-32-9167      A     Yangon        Member  Female   \n",
       "10  351-62-0822      B   Mandalay        Member  Female   \n",
       "19  319-50-3348      B   Mandalay        Normal  Female   \n",
       "22  273-16-6619      B   Mandalay        Normal    Male   \n",
       "26  649-29-6775      B   Mandalay        Normal    Male   \n",
       "35  232-16-2483      C  Naypyitaw        Member  Female   \n",
       "40  280-35-5823      B   Mandalay        Member  Female   \n",
       "44  617-15-4209      C  Naypyitaw        Member    Male   \n",
       "52  616-24-2851      B   Mandalay        Member  Female   \n",
       "\n",
       "              Product line Unit price  Quantity  Tax 5%   Total       Date  \\\n",
       "1   Electronic accessories      15.28       5.0     NaN  80.220   3/8/2019   \n",
       "8        Health and beauty      36.26       2.0   3.626  76.146  1/10/2019   \n",
       "10     Fashion accessories      14.48       4.0   2.896  60.816   2/6/2019   \n",
       "19      Home and lifestyle       40.3       2.0   4.030  84.630  3/11/2019   \n",
       "22      Home and lifestyle       33.2       2.0   3.320  69.720  3/15/2019   \n",
       "26     Fashion accessories      33.52       1.0   1.676  35.196   2/8/2019   \n",
       "35       Sports and travel      68.12       1.0   3.406  71.526   1/7/2019   \n",
       "40      Home and lifestyle      86.72       1.0   4.336  91.056  1/17/2019   \n",
       "44       Health and beauty      15.37       2.0   1.537  32.277  3/16/2019   \n",
       "52     Fashion accessories      17.87       4.0   3.574  75.054  3/22/2019   \n",
       "\n",
       "     Time      Payment   cogs  gross margin percentage  gross income  Rating  \n",
       "1   10:29         Cash  76.40                 4.761905         3.820     9.6  \n",
       "8   17:15  Credit card  72.52                 4.761905         3.626     7.2  \n",
       "10  18:07      Ewallet  57.92                 4.761905         2.896     4.5  \n",
       "19  15:30      Ewallet  80.60                 4.761905         4.030     4.4  \n",
       "22  12:20  Credit card  66.40                 4.761905         3.320     4.4  \n",
       "26  15:31         Cash  33.52                 4.761905         1.676     6.7  \n",
       "35  12:28      Ewallet  68.12                 4.761905         3.406     6.8  \n",
       "40  18:45      Ewallet  86.72                 4.761905         4.336     7.9  \n",
       "44  19:47         Cash  30.74                 4.761905         1.537     7.2  \n",
       "52  14:42      Ewallet  71.48                 4.761905         3.574     6.5  "
      ]
     },
     "execution_count": 14,
     "metadata": {},
     "output_type": "execute_result"
    }
   ],
   "source": [
    "sales[sales['Total'] < 100].head(10)\n"
   ]
  },
  {
   "cell_type": "markdown",
   "id": "13216240",
   "metadata": {},
   "source": [
    "Using shape() we check the number of rows that have the total amount less than a 100 e."
   ]
  },
  {
   "cell_type": "code",
   "execution_count": 15,
   "id": "444a3d9e",
   "metadata": {},
   "outputs": [
    {
     "data": {
      "text/plain": [
       "(205, 17)"
      ]
     },
     "execution_count": 15,
     "metadata": {},
     "output_type": "execute_result"
    }
   ],
   "source": [
    "sales[sales['Total'] < 100].shape"
   ]
  },
  {
   "cell_type": "markdown",
   "id": "5298b797",
   "metadata": {},
   "source": [
    "Then, we can do the same for over 100 e."
   ]
  },
  {
   "cell_type": "code",
   "execution_count": 16,
   "id": "cd1a016b",
   "metadata": {},
   "outputs": [
    {
     "data": {
      "text/html": [
       "<div>\n",
       "<style scoped>\n",
       "    .dataframe tbody tr th:only-of-type {\n",
       "        vertical-align: middle;\n",
       "    }\n",
       "\n",
       "    .dataframe tbody tr th {\n",
       "        vertical-align: top;\n",
       "    }\n",
       "\n",
       "    .dataframe thead th {\n",
       "        text-align: right;\n",
       "    }\n",
       "</style>\n",
       "<table border=\"1\" class=\"dataframe\">\n",
       "  <thead>\n",
       "    <tr style=\"text-align: right;\">\n",
       "      <th></th>\n",
       "      <th>Invoice ID</th>\n",
       "      <th>Branch</th>\n",
       "      <th>City</th>\n",
       "      <th>Customer type</th>\n",
       "      <th>Gender</th>\n",
       "      <th>Product line</th>\n",
       "      <th>Unit price</th>\n",
       "      <th>Quantity</th>\n",
       "      <th>Tax 5%</th>\n",
       "      <th>Total</th>\n",
       "      <th>Date</th>\n",
       "      <th>Time</th>\n",
       "      <th>Payment</th>\n",
       "      <th>cogs</th>\n",
       "      <th>gross margin percentage</th>\n",
       "      <th>gross income</th>\n",
       "      <th>Rating</th>\n",
       "    </tr>\n",
       "  </thead>\n",
       "  <tbody>\n",
       "    <tr>\n",
       "      <th>2</th>\n",
       "      <td>631-41-3108</td>\n",
       "      <td>A</td>\n",
       "      <td>Yangon</td>\n",
       "      <td>Normal</td>\n",
       "      <td>Male</td>\n",
       "      <td>Home and lifestyle</td>\n",
       "      <td>46.33</td>\n",
       "      <td>7.0</td>\n",
       "      <td>16.2155</td>\n",
       "      <td>340.5255</td>\n",
       "      <td>3/3/2019</td>\n",
       "      <td>13:23</td>\n",
       "      <td>Credit card</td>\n",
       "      <td>324.31</td>\n",
       "      <td>4.761905</td>\n",
       "      <td>16.2155</td>\n",
       "      <td>7.4</td>\n",
       "    </tr>\n",
       "    <tr>\n",
       "      <th>3</th>\n",
       "      <td>123-19-1176</td>\n",
       "      <td>A</td>\n",
       "      <td>Yangon</td>\n",
       "      <td>Member</td>\n",
       "      <td>Male</td>\n",
       "      <td>Health and beauty</td>\n",
       "      <td>58.22</td>\n",
       "      <td>8.0</td>\n",
       "      <td>23.2880</td>\n",
       "      <td>489.0480</td>\n",
       "      <td>1/27/2019</td>\n",
       "      <td>20:33</td>\n",
       "      <td>Ewallet</td>\n",
       "      <td>465.76</td>\n",
       "      <td>4.761905</td>\n",
       "      <td>23.2880</td>\n",
       "      <td>8.4</td>\n",
       "    </tr>\n",
       "    <tr>\n",
       "      <th>4</th>\n",
       "      <td>373-73-7910</td>\n",
       "      <td>A</td>\n",
       "      <td>Yangon</td>\n",
       "      <td>Normal</td>\n",
       "      <td>Male</td>\n",
       "      <td>Sports and travel</td>\n",
       "      <td>86.31</td>\n",
       "      <td>7.0</td>\n",
       "      <td>30.2085</td>\n",
       "      <td>634.3785</td>\n",
       "      <td>2/8/2019</td>\n",
       "      <td>10:37</td>\n",
       "      <td>Ewallet</td>\n",
       "      <td>604.17</td>\n",
       "      <td>4.761905</td>\n",
       "      <td>30.2085</td>\n",
       "      <td>5.3</td>\n",
       "    </tr>\n",
       "    <tr>\n",
       "      <th>5</th>\n",
       "      <td>699-14-3026</td>\n",
       "      <td>C</td>\n",
       "      <td>Naypyitaw</td>\n",
       "      <td>Normal</td>\n",
       "      <td>Male</td>\n",
       "      <td>Electronic accessories</td>\n",
       "      <td>85.39</td>\n",
       "      <td>7.0</td>\n",
       "      <td>29.8865</td>\n",
       "      <td>627.6165</td>\n",
       "      <td>3/25/2019</td>\n",
       "      <td>18:30</td>\n",
       "      <td>Ewallet</td>\n",
       "      <td>597.73</td>\n",
       "      <td>4.761905</td>\n",
       "      <td>29.8865</td>\n",
       "      <td>4.1</td>\n",
       "    </tr>\n",
       "    <tr>\n",
       "      <th>6</th>\n",
       "      <td>355-53-5943</td>\n",
       "      <td></td>\n",
       "      <td>Yangon</td>\n",
       "      <td>Member</td>\n",
       "      <td>Female</td>\n",
       "      <td>Electronic accessories</td>\n",
       "      <td>68.84</td>\n",
       "      <td>6.0</td>\n",
       "      <td>20.6520</td>\n",
       "      <td>433.6920</td>\n",
       "      <td>2/25/2019</td>\n",
       "      <td>14:36</td>\n",
       "      <td>Ewallet</td>\n",
       "      <td>413.04</td>\n",
       "      <td>4.761905</td>\n",
       "      <td>20.6520</td>\n",
       "      <td>5.8</td>\n",
       "    </tr>\n",
       "    <tr>\n",
       "      <th>7</th>\n",
       "      <td>315-22-5665</td>\n",
       "      <td>C</td>\n",
       "      <td>Naypyitaw</td>\n",
       "      <td>Normal</td>\n",
       "      <td>Female</td>\n",
       "      <td>Home and lifestyle</td>\n",
       "      <td>73.56</td>\n",
       "      <td>10.0</td>\n",
       "      <td>36.7800</td>\n",
       "      <td>772.3800</td>\n",
       "      <td>2/24/2019</td>\n",
       "      <td>11:38</td>\n",
       "      <td>Ewallet</td>\n",
       "      <td>735.60</td>\n",
       "      <td>4.761905</td>\n",
       "      <td>36.7800</td>\n",
       "      <td>8.0</td>\n",
       "    </tr>\n",
       "    <tr>\n",
       "      <th>9</th>\n",
       "      <td>692-92-5582</td>\n",
       "      <td>B</td>\n",
       "      <td>Mandalay</td>\n",
       "      <td>Member</td>\n",
       "      <td>Female</td>\n",
       "      <td>Food and beverages</td>\n",
       "      <td>54.84</td>\n",
       "      <td>3.0</td>\n",
       "      <td>8.2260</td>\n",
       "      <td>172.7460</td>\n",
       "      <td>2/20/2019</td>\n",
       "      <td>13:27</td>\n",
       "      <td>Credit card</td>\n",
       "      <td>164.52</td>\n",
       "      <td>4.761905</td>\n",
       "      <td>8.2260</td>\n",
       "      <td>5.9</td>\n",
       "    </tr>\n",
       "    <tr>\n",
       "      <th>11</th>\n",
       "      <td>529-56-3974</td>\n",
       "      <td>B</td>\n",
       "      <td>Mandalay</td>\n",
       "      <td>Member</td>\n",
       "      <td>Male</td>\n",
       "      <td>Electronic accessories</td>\n",
       "      <td>25.51</td>\n",
       "      <td>4.0</td>\n",
       "      <td>5.1020</td>\n",
       "      <td>107.1420</td>\n",
       "      <td>3/9/2019</td>\n",
       "      <td>17:03</td>\n",
       "      <td>Cash</td>\n",
       "      <td>102.04</td>\n",
       "      <td>4.761905</td>\n",
       "      <td>5.1020</td>\n",
       "      <td>6.8</td>\n",
       "    </tr>\n",
       "    <tr>\n",
       "      <th>12</th>\n",
       "      <td>365-64-0515</td>\n",
       "      <td>A</td>\n",
       "      <td>Yangon</td>\n",
       "      <td>Normal</td>\n",
       "      <td>Female</td>\n",
       "      <td>Electronic accessories</td>\n",
       "      <td>46.95</td>\n",
       "      <td>5.0</td>\n",
       "      <td>11.7375</td>\n",
       "      <td>246.4875</td>\n",
       "      <td>2/12/2019</td>\n",
       "      <td>10:25</td>\n",
       "      <td>Ewallet</td>\n",
       "      <td>234.75</td>\n",
       "      <td>4.761905</td>\n",
       "      <td>11.7375</td>\n",
       "      <td>7.1</td>\n",
       "    </tr>\n",
       "    <tr>\n",
       "      <th>13</th>\n",
       "      <td>252-56-2699</td>\n",
       "      <td>A</td>\n",
       "      <td>Yangon</td>\n",
       "      <td>Normal</td>\n",
       "      <td>Male</td>\n",
       "      <td>Food and beverages</td>\n",
       "      <td>43.19</td>\n",
       "      <td>10.0</td>\n",
       "      <td>21.5950</td>\n",
       "      <td>453.4950</td>\n",
       "      <td>2/7/2019</td>\n",
       "      <td>16:48</td>\n",
       "      <td>Ewallet</td>\n",
       "      <td>431.90</td>\n",
       "      <td>4.761905</td>\n",
       "      <td>21.5950</td>\n",
       "      <td>8.2</td>\n",
       "    </tr>\n",
       "  </tbody>\n",
       "</table>\n",
       "</div>"
      ],
      "text/plain": [
       "     Invoice ID Branch       City Customer type  Gender  \\\n",
       "2   631-41-3108      A     Yangon        Normal    Male   \n",
       "3   123-19-1176      A     Yangon        Member    Male   \n",
       "4   373-73-7910      A     Yangon        Normal    Male   \n",
       "5   699-14-3026      C  Naypyitaw        Normal    Male   \n",
       "6   355-53-5943            Yangon        Member  Female   \n",
       "7   315-22-5665      C  Naypyitaw        Normal  Female   \n",
       "9   692-92-5582      B   Mandalay        Member  Female   \n",
       "11  529-56-3974      B   Mandalay        Member    Male   \n",
       "12  365-64-0515      A     Yangon        Normal  Female   \n",
       "13  252-56-2699      A     Yangon        Normal    Male   \n",
       "\n",
       "              Product line Unit price  Quantity   Tax 5%     Total       Date  \\\n",
       "2       Home and lifestyle      46.33       7.0  16.2155  340.5255   3/3/2019   \n",
       "3        Health and beauty      58.22       8.0  23.2880  489.0480  1/27/2019   \n",
       "4        Sports and travel      86.31       7.0  30.2085  634.3785   2/8/2019   \n",
       "5   Electronic accessories      85.39       7.0  29.8865  627.6165  3/25/2019   \n",
       "6   Electronic accessories      68.84       6.0  20.6520  433.6920  2/25/2019   \n",
       "7       Home and lifestyle      73.56      10.0  36.7800  772.3800  2/24/2019   \n",
       "9       Food and beverages      54.84       3.0   8.2260  172.7460  2/20/2019   \n",
       "11  Electronic accessories      25.51       4.0   5.1020  107.1420   3/9/2019   \n",
       "12  Electronic accessories      46.95       5.0  11.7375  246.4875  2/12/2019   \n",
       "13      Food and beverages      43.19      10.0  21.5950  453.4950   2/7/2019   \n",
       "\n",
       "     Time      Payment    cogs  gross margin percentage  gross income  Rating  \n",
       "2   13:23  Credit card  324.31                 4.761905       16.2155     7.4  \n",
       "3   20:33      Ewallet  465.76                 4.761905       23.2880     8.4  \n",
       "4   10:37      Ewallet  604.17                 4.761905       30.2085     5.3  \n",
       "5   18:30      Ewallet  597.73                 4.761905       29.8865     4.1  \n",
       "6   14:36      Ewallet  413.04                 4.761905       20.6520     5.8  \n",
       "7   11:38      Ewallet  735.60                 4.761905       36.7800     8.0  \n",
       "9   13:27  Credit card  164.52                 4.761905        8.2260     5.9  \n",
       "11  17:03         Cash  102.04                 4.761905        5.1020     6.8  \n",
       "12  10:25      Ewallet  234.75                 4.761905       11.7375     7.1  \n",
       "13  16:48      Ewallet  431.90                 4.761905       21.5950     8.2  "
      ]
     },
     "execution_count": 16,
     "metadata": {},
     "output_type": "execute_result"
    }
   ],
   "source": [
    "sales[sales['Total'] > 100].head(10)"
   ]
  },
  {
   "cell_type": "code",
   "execution_count": 17,
   "id": "b974a839",
   "metadata": {},
   "outputs": [
    {
     "data": {
      "text/plain": [
       "(783, 17)"
      ]
     },
     "execution_count": 17,
     "metadata": {},
     "output_type": "execute_result"
    }
   ],
   "source": [
    "sales[sales['Total'] > 100].shape"
   ]
  },
  {
   "cell_type": "markdown",
   "id": "4cfb9e33",
   "metadata": {},
   "source": [
    "We immidiately can concude by the nr of entries, that most common were the purchases totalling over 100 e (783 vs 205)"
   ]
  },
  {
   "cell_type": "code",
   "execution_count": 18,
   "id": "effcd217",
   "metadata": {},
   "outputs": [
    {
     "data": {
      "text/plain": [
       "array(['Ewallet', 'Cash', 'Credit card', nan], dtype=object)"
      ]
     },
     "execution_count": 18,
     "metadata": {},
     "output_type": "execute_result"
    }
   ],
   "source": [
    "sales['Payment'].unique()"
   ]
  },
  {
   "cell_type": "code",
   "execution_count": 19,
   "id": "4a7eed62",
   "metadata": {},
   "outputs": [
    {
     "data": {
      "text/plain": [
       "(341, 17)"
      ]
     },
     "execution_count": 19,
     "metadata": {},
     "output_type": "execute_result"
    }
   ],
   "source": [
    "sales[sales['Payment']=='Cash'].shape\n"
   ]
  },
  {
   "cell_type": "markdown",
   "id": "b381df10",
   "metadata": {},
   "source": [
    "Now, if we wanted to continue playing around, we could do the same for Payment and check the number of entries in each category. We can also try reading that from a plot later on."
   ]
  },
  {
   "cell_type": "markdown",
   "id": "d9a4abb1",
   "metadata": {},
   "source": [
    "### Dataset cleaning"
   ]
  },
  {
   "cell_type": "markdown",
   "id": "ec6132f9",
   "metadata": {},
   "source": [
    "In order to draw any conclusions from our data, our dataset must be clean and balanced.\n",
    "This can mean different things for different scenarios. At this point, let's just say that we need to figure out how to handle the duplicate entries that might skew our analyses;  what to do with the empty cells and how to change the datatype of the cells."
   ]
  },
  {
   "cell_type": "markdown",
   "id": "b0c95133",
   "metadata": {},
   "source": [
    "#### Duplicates"
   ]
  },
  {
   "cell_type": "markdown",
   "id": "a04532ea",
   "metadata": {},
   "source": [
    "Let's take a look at what the funciton ```duplicated()``` does."
   ]
  },
  {
   "cell_type": "code",
   "execution_count": 20,
   "id": "456b2585",
   "metadata": {},
   "outputs": [
    {
     "name": "stdout",
     "output_type": "stream",
     "text": [
      "0      False\n",
      "1      False\n",
      "2      False\n",
      "3      False\n",
      "4      False\n",
      "       ...  \n",
      "984    False\n",
      "985    False\n",
      "986    False\n",
      "987     True\n",
      "988    False\n",
      "Length: 989, dtype: bool\n"
     ]
    }
   ],
   "source": [
    "print(sales.duplicated())"
   ]
  },
  {
   "cell_type": "markdown",
   "id": "fb77e5a9",
   "metadata": {},
   "source": [
    "We can also separate the duplicated rows in another dataframe."
   ]
  },
  {
   "cell_type": "code",
   "execution_count": 93,
   "id": "1ce6823f",
   "metadata": {},
   "outputs": [
    {
     "data": {
      "text/html": [
       "<div>\n",
       "<style scoped>\n",
       "    .dataframe tbody tr th:only-of-type {\n",
       "        vertical-align: middle;\n",
       "    }\n",
       "\n",
       "    .dataframe tbody tr th {\n",
       "        vertical-align: top;\n",
       "    }\n",
       "\n",
       "    .dataframe thead th {\n",
       "        text-align: right;\n",
       "    }\n",
       "</style>\n",
       "<table border=\"1\" class=\"dataframe\">\n",
       "  <thead>\n",
       "    <tr style=\"text-align: right;\">\n",
       "      <th></th>\n",
       "      <th>Invoice ID</th>\n",
       "      <th>Branch</th>\n",
       "      <th>City</th>\n",
       "      <th>Customer type</th>\n",
       "      <th>Gender</th>\n",
       "      <th>Product line</th>\n",
       "      <th>Unit price</th>\n",
       "      <th>Quantity</th>\n",
       "      <th>Tax 5%</th>\n",
       "      <th>Total</th>\n",
       "      <th>Date</th>\n",
       "      <th>Time</th>\n",
       "      <th>Payment</th>\n",
       "      <th>cogs</th>\n",
       "      <th>gross margin percentage</th>\n",
       "      <th>gross income</th>\n",
       "      <th>Rating</th>\n",
       "    </tr>\n",
       "  </thead>\n",
       "  <tbody>\n",
       "    <tr>\n",
       "      <th>868</th>\n",
       "      <td>101-81-4070</td>\n",
       "      <td>C</td>\n",
       "      <td>Naypyitaw</td>\n",
       "      <td>Member</td>\n",
       "      <td>Female</td>\n",
       "      <td>Health and beauty</td>\n",
       "      <td>62.82</td>\n",
       "      <td>2.0</td>\n",
       "      <td>6.2820</td>\n",
       "      <td>131.9220</td>\n",
       "      <td>1/17/2019</td>\n",
       "      <td>12:36</td>\n",
       "      <td>Ewallet</td>\n",
       "      <td>125.64</td>\n",
       "      <td>4.761905</td>\n",
       "      <td>6.2820</td>\n",
       "      <td>4.9</td>\n",
       "    </tr>\n",
       "    <tr>\n",
       "      <th>973</th>\n",
       "      <td>448-34-8700</td>\n",
       "      <td>B</td>\n",
       "      <td>Mandalay</td>\n",
       "      <td>Member</td>\n",
       "      <td>Male</td>\n",
       "      <td>Home and lifestyle</td>\n",
       "      <td>36.91</td>\n",
       "      <td>7.0</td>\n",
       "      <td>12.9185</td>\n",
       "      <td>271.2885</td>\n",
       "      <td>2/10/2019</td>\n",
       "      <td>13:51</td>\n",
       "      <td>Ewallet</td>\n",
       "      <td>258.37</td>\n",
       "      <td>4.761905</td>\n",
       "      <td>12.9185</td>\n",
       "      <td>6.7</td>\n",
       "    </tr>\n",
       "    <tr>\n",
       "      <th>987</th>\n",
       "      <td>518-71-6847</td>\n",
       "      <td>B</td>\n",
       "      <td>Mandalay</td>\n",
       "      <td>Member</td>\n",
       "      <td>Male</td>\n",
       "      <td>Food and beverages</td>\n",
       "      <td>26.6</td>\n",
       "      <td>6.0</td>\n",
       "      <td>7.9800</td>\n",
       "      <td>167.5800</td>\n",
       "      <td>2/26/2019</td>\n",
       "      <td>15:10</td>\n",
       "      <td>Ewallet</td>\n",
       "      <td>159.60</td>\n",
       "      <td>4.761905</td>\n",
       "      <td>7.9800</td>\n",
       "      <td>4.9</td>\n",
       "    </tr>\n",
       "  </tbody>\n",
       "</table>\n",
       "</div>"
      ],
      "text/plain": [
       "      Invoice ID Branch       City Customer type  Gender        Product line  \\\n",
       "868  101-81-4070      C  Naypyitaw        Member  Female   Health and beauty   \n",
       "973  448-34-8700      B   Mandalay        Member    Male  Home and lifestyle   \n",
       "987  518-71-6847      B   Mandalay        Member    Male  Food and beverages   \n",
       "\n",
       "    Unit price  Quantity   Tax 5%     Total       Date   Time  Payment  \\\n",
       "868      62.82       2.0   6.2820  131.9220  1/17/2019  12:36  Ewallet   \n",
       "973      36.91       7.0  12.9185  271.2885  2/10/2019  13:51  Ewallet   \n",
       "987       26.6       6.0   7.9800  167.5800  2/26/2019  15:10  Ewallet   \n",
       "\n",
       "       cogs  gross margin percentage  gross income  Rating  \n",
       "868  125.64                 4.761905        6.2820     4.9  \n",
       "973  258.37                 4.761905       12.9185     6.7  \n",
       "987  159.60                 4.761905        7.9800     4.9  "
      ]
     },
     "execution_count": 93,
     "metadata": {},
     "output_type": "execute_result"
    }
   ],
   "source": [
    "duplicateRows = sales[sales.duplicated()]\n",
    "duplicateRows"
   ]
  },
  {
   "cell_type": "markdown",
   "id": "b388b781",
   "metadata": {},
   "source": [
    "There are multiple ways of dealing with duplicates, e.g.\n",
    "\n",
    "\n",
    "```\n",
    "df.drop_duplicates (inplace=True) \n",
    "\n",
    "```\n",
    "\n",
    "which makes sure that we are not creating a new dataframe but that the dupicates are removed from the old one.\n"
   ]
  },
  {
   "cell_type": "markdown",
   "id": "be0c7fdb",
   "metadata": {},
   "source": [
    "We can also use \n",
    "```\n",
    "df = df[df.duplicated(keep='last')]\n",
    " \n",
    "```\n",
    "\n",
    "which keeps the last occurence of the duplicate\n",
    "\n",
    "or \n",
    "\n",
    "```\n",
    "df = df[df.duplicated(keep='first')]\n",
    "```\n",
    "\n",
    "which keeps the first occurence of the duplicate.\n",
    "\n",
    "In these cases, we need to store it to a new dataframe variable, otherwise it won't be applied to the dataframe permanently (unlike with the drop_duplicates() function).\n"
   ]
  },
  {
   "cell_type": "code",
   "execution_count": 21,
   "id": "06cd3e65",
   "metadata": {},
   "outputs": [],
   "source": [
    "df_fresh = sales[sales.duplicated(keep='last')]"
   ]
  },
  {
   "cell_type": "code",
   "execution_count": 22,
   "id": "7442da81",
   "metadata": {},
   "outputs": [
    {
     "data": {
      "text/plain": [
       "(3, 17)"
      ]
     },
     "execution_count": 22,
     "metadata": {},
     "output_type": "execute_result"
    }
   ],
   "source": [
    "df_fresh.shape"
   ]
  },
  {
   "cell_type": "code",
   "execution_count": 23,
   "id": "a966d9cf",
   "metadata": {},
   "outputs": [],
   "source": [
    "sales.drop_duplicates(inplace = True)"
   ]
  },
  {
   "cell_type": "code",
   "execution_count": 24,
   "id": "9bd8b80a",
   "metadata": {},
   "outputs": [
    {
     "data": {
      "text/plain": [
       "(986, 17)"
      ]
     },
     "execution_count": 24,
     "metadata": {},
     "output_type": "execute_result"
    }
   ],
   "source": [
    "sales.shape"
   ]
  },
  {
   "cell_type": "markdown",
   "id": "b533e724",
   "metadata": {},
   "source": [
    "-- We see that the nr of rows diminished."
   ]
  },
  {
   "cell_type": "code",
   "execution_count": 25,
   "id": "89739697",
   "metadata": {},
   "outputs": [
    {
     "data": {
      "text/html": [
       "<div>\n",
       "<style scoped>\n",
       "    .dataframe tbody tr th:only-of-type {\n",
       "        vertical-align: middle;\n",
       "    }\n",
       "\n",
       "    .dataframe tbody tr th {\n",
       "        vertical-align: top;\n",
       "    }\n",
       "\n",
       "    .dataframe thead th {\n",
       "        text-align: right;\n",
       "    }\n",
       "</style>\n",
       "<table border=\"1\" class=\"dataframe\">\n",
       "  <thead>\n",
       "    <tr style=\"text-align: right;\">\n",
       "      <th></th>\n",
       "      <th>Invoice ID</th>\n",
       "      <th>Branch</th>\n",
       "      <th>City</th>\n",
       "      <th>Customer type</th>\n",
       "      <th>Gender</th>\n",
       "      <th>Product line</th>\n",
       "      <th>Unit price</th>\n",
       "      <th>Quantity</th>\n",
       "      <th>Tax 5%</th>\n",
       "      <th>Total</th>\n",
       "      <th>Date</th>\n",
       "      <th>Time</th>\n",
       "      <th>Payment</th>\n",
       "      <th>cogs</th>\n",
       "      <th>gross margin percentage</th>\n",
       "      <th>gross income</th>\n",
       "      <th>Rating</th>\n",
       "    </tr>\n",
       "  </thead>\n",
       "  <tbody>\n",
       "    <tr>\n",
       "      <th>0</th>\n",
       "      <td>750-67-8428</td>\n",
       "      <td>NaN</td>\n",
       "      <td>Yangon</td>\n",
       "      <td>Member</td>\n",
       "      <td>Female</td>\n",
       "      <td>Health and beauty</td>\n",
       "      <td>74.69</td>\n",
       "      <td>7.0</td>\n",
       "      <td>26.1415</td>\n",
       "      <td>NaN</td>\n",
       "      <td>1/5/2019</td>\n",
       "      <td>13:08</td>\n",
       "      <td>Ewallet</td>\n",
       "      <td>522.83</td>\n",
       "      <td>4.761905</td>\n",
       "      <td>26.1415</td>\n",
       "      <td>9.1</td>\n",
       "    </tr>\n",
       "    <tr>\n",
       "      <th>1</th>\n",
       "      <td>226-31-3081</td>\n",
       "      <td>C</td>\n",
       "      <td>Naypyitaw</td>\n",
       "      <td>Normal</td>\n",
       "      <td>Female</td>\n",
       "      <td>Electronic accessories</td>\n",
       "      <td>15.28</td>\n",
       "      <td>5.0</td>\n",
       "      <td>NaN</td>\n",
       "      <td>80.2200</td>\n",
       "      <td>3/8/2019</td>\n",
       "      <td>10:29</td>\n",
       "      <td>Cash</td>\n",
       "      <td>76.40</td>\n",
       "      <td>4.761905</td>\n",
       "      <td>3.8200</td>\n",
       "      <td>9.6</td>\n",
       "    </tr>\n",
       "    <tr>\n",
       "      <th>2</th>\n",
       "      <td>631-41-3108</td>\n",
       "      <td>A</td>\n",
       "      <td>Yangon</td>\n",
       "      <td>Normal</td>\n",
       "      <td>Male</td>\n",
       "      <td>Home and lifestyle</td>\n",
       "      <td>46.33</td>\n",
       "      <td>7.0</td>\n",
       "      <td>16.2155</td>\n",
       "      <td>340.5255</td>\n",
       "      <td>3/3/2019</td>\n",
       "      <td>13:23</td>\n",
       "      <td>Credit card</td>\n",
       "      <td>324.31</td>\n",
       "      <td>4.761905</td>\n",
       "      <td>16.2155</td>\n",
       "      <td>7.4</td>\n",
       "    </tr>\n",
       "    <tr>\n",
       "      <th>3</th>\n",
       "      <td>123-19-1176</td>\n",
       "      <td>A</td>\n",
       "      <td>Yangon</td>\n",
       "      <td>Member</td>\n",
       "      <td>Male</td>\n",
       "      <td>Health and beauty</td>\n",
       "      <td>58.22</td>\n",
       "      <td>8.0</td>\n",
       "      <td>23.2880</td>\n",
       "      <td>489.0480</td>\n",
       "      <td>1/27/2019</td>\n",
       "      <td>20:33</td>\n",
       "      <td>Ewallet</td>\n",
       "      <td>465.76</td>\n",
       "      <td>4.761905</td>\n",
       "      <td>23.2880</td>\n",
       "      <td>8.4</td>\n",
       "    </tr>\n",
       "    <tr>\n",
       "      <th>4</th>\n",
       "      <td>373-73-7910</td>\n",
       "      <td>A</td>\n",
       "      <td>Yangon</td>\n",
       "      <td>Normal</td>\n",
       "      <td>Male</td>\n",
       "      <td>Sports and travel</td>\n",
       "      <td>86.31</td>\n",
       "      <td>7.0</td>\n",
       "      <td>30.2085</td>\n",
       "      <td>634.3785</td>\n",
       "      <td>2/8/2019</td>\n",
       "      <td>10:37</td>\n",
       "      <td>Ewallet</td>\n",
       "      <td>604.17</td>\n",
       "      <td>4.761905</td>\n",
       "      <td>30.2085</td>\n",
       "      <td>5.3</td>\n",
       "    </tr>\n",
       "    <tr>\n",
       "      <th>...</th>\n",
       "      <td>...</td>\n",
       "      <td>...</td>\n",
       "      <td>...</td>\n",
       "      <td>...</td>\n",
       "      <td>...</td>\n",
       "      <td>...</td>\n",
       "      <td>...</td>\n",
       "      <td>...</td>\n",
       "      <td>...</td>\n",
       "      <td>...</td>\n",
       "      <td>...</td>\n",
       "      <td>...</td>\n",
       "      <td>...</td>\n",
       "      <td>...</td>\n",
       "      <td>...</td>\n",
       "      <td>...</td>\n",
       "      <td>...</td>\n",
       "    </tr>\n",
       "    <tr>\n",
       "      <th>983</th>\n",
       "      <td>809-46-1866</td>\n",
       "      <td>A</td>\n",
       "      <td>Yangon</td>\n",
       "      <td>Normal</td>\n",
       "      <td>Male</td>\n",
       "      <td>Health and beauty</td>\n",
       "      <td>58.15</td>\n",
       "      <td>4.0</td>\n",
       "      <td>11.6300</td>\n",
       "      <td>244.2300</td>\n",
       "      <td>1/23/2019</td>\n",
       "      <td>17:44</td>\n",
       "      <td>Cash</td>\n",
       "      <td>232.60</td>\n",
       "      <td>4.761905</td>\n",
       "      <td>11.6300</td>\n",
       "      <td>8.4</td>\n",
       "    </tr>\n",
       "    <tr>\n",
       "      <th>984</th>\n",
       "      <td>139-32-4183</td>\n",
       "      <td>A</td>\n",
       "      <td>Yangon</td>\n",
       "      <td>Member</td>\n",
       "      <td>Female</td>\n",
       "      <td>Sports and travel</td>\n",
       "      <td>97.48</td>\n",
       "      <td>9.0</td>\n",
       "      <td>43.8660</td>\n",
       "      <td>921.1860</td>\n",
       "      <td>3/14/2019</td>\n",
       "      <td>14:19</td>\n",
       "      <td>Ewallet</td>\n",
       "      <td>877.32</td>\n",
       "      <td>4.761905</td>\n",
       "      <td>43.8660</td>\n",
       "      <td>7.4</td>\n",
       "    </tr>\n",
       "    <tr>\n",
       "      <th>985</th>\n",
       "      <td>727-02-1313</td>\n",
       "      <td>A</td>\n",
       "      <td>Yangon</td>\n",
       "      <td>Member</td>\n",
       "      <td>Male</td>\n",
       "      <td>Food and beverages</td>\n",
       "      <td>31.84</td>\n",
       "      <td>1.0</td>\n",
       "      <td>1.5920</td>\n",
       "      <td>33.4320</td>\n",
       "      <td>2/9/2019</td>\n",
       "      <td>13:22</td>\n",
       "      <td>Cash</td>\n",
       "      <td>31.84</td>\n",
       "      <td>4.761905</td>\n",
       "      <td>1.5920</td>\n",
       "      <td>7.7</td>\n",
       "    </tr>\n",
       "    <tr>\n",
       "      <th>986</th>\n",
       "      <td>347-56-2442</td>\n",
       "      <td>A</td>\n",
       "      <td>Yangon</td>\n",
       "      <td>Normal</td>\n",
       "      <td>Male</td>\n",
       "      <td>Home and lifestyle</td>\n",
       "      <td>65.82</td>\n",
       "      <td>1.0</td>\n",
       "      <td>3.2910</td>\n",
       "      <td>69.1110</td>\n",
       "      <td>2/22/2019</td>\n",
       "      <td>15:33</td>\n",
       "      <td>Cash</td>\n",
       "      <td>65.82</td>\n",
       "      <td>4.761905</td>\n",
       "      <td>3.2910</td>\n",
       "      <td>4.1</td>\n",
       "    </tr>\n",
       "    <tr>\n",
       "      <th>988</th>\n",
       "      <td>849-09-3807</td>\n",
       "      <td>A</td>\n",
       "      <td>Yangon</td>\n",
       "      <td>Member</td>\n",
       "      <td>Female</td>\n",
       "      <td>Fashion accessories</td>\n",
       "      <td>88.34</td>\n",
       "      <td>7.0</td>\n",
       "      <td>30.9190</td>\n",
       "      <td>649.2990</td>\n",
       "      <td>2/18/2019</td>\n",
       "      <td>13:28</td>\n",
       "      <td>Cash</td>\n",
       "      <td>618.38</td>\n",
       "      <td>4.761905</td>\n",
       "      <td>30.9190</td>\n",
       "      <td>6.6</td>\n",
       "    </tr>\n",
       "  </tbody>\n",
       "</table>\n",
       "<p>986 rows × 17 columns</p>\n",
       "</div>"
      ],
      "text/plain": [
       "      Invoice ID Branch       City Customer type  Gender  \\\n",
       "0    750-67-8428    NaN     Yangon        Member  Female   \n",
       "1    226-31-3081      C  Naypyitaw        Normal  Female   \n",
       "2    631-41-3108      A     Yangon        Normal    Male   \n",
       "3    123-19-1176      A     Yangon        Member    Male   \n",
       "4    373-73-7910      A     Yangon        Normal    Male   \n",
       "..           ...    ...        ...           ...     ...   \n",
       "983  809-46-1866      A     Yangon        Normal    Male   \n",
       "984  139-32-4183      A     Yangon        Member  Female   \n",
       "985  727-02-1313      A     Yangon        Member    Male   \n",
       "986  347-56-2442      A     Yangon        Normal    Male   \n",
       "988  849-09-3807      A     Yangon        Member  Female   \n",
       "\n",
       "               Product line Unit price  Quantity   Tax 5%     Total  \\\n",
       "0         Health and beauty      74.69       7.0  26.1415       NaN   \n",
       "1    Electronic accessories      15.28       5.0      NaN   80.2200   \n",
       "2        Home and lifestyle      46.33       7.0  16.2155  340.5255   \n",
       "3         Health and beauty      58.22       8.0  23.2880  489.0480   \n",
       "4         Sports and travel      86.31       7.0  30.2085  634.3785   \n",
       "..                      ...        ...       ...      ...       ...   \n",
       "983       Health and beauty      58.15       4.0  11.6300  244.2300   \n",
       "984       Sports and travel      97.48       9.0  43.8660  921.1860   \n",
       "985      Food and beverages      31.84       1.0   1.5920   33.4320   \n",
       "986      Home and lifestyle      65.82       1.0   3.2910   69.1110   \n",
       "988     Fashion accessories      88.34       7.0  30.9190  649.2990   \n",
       "\n",
       "          Date   Time      Payment    cogs  gross margin percentage  \\\n",
       "0     1/5/2019  13:08      Ewallet  522.83                 4.761905   \n",
       "1     3/8/2019  10:29         Cash   76.40                 4.761905   \n",
       "2     3/3/2019  13:23  Credit card  324.31                 4.761905   \n",
       "3    1/27/2019  20:33      Ewallet  465.76                 4.761905   \n",
       "4     2/8/2019  10:37      Ewallet  604.17                 4.761905   \n",
       "..         ...    ...          ...     ...                      ...   \n",
       "983  1/23/2019  17:44         Cash  232.60                 4.761905   \n",
       "984  3/14/2019  14:19      Ewallet  877.32                 4.761905   \n",
       "985   2/9/2019  13:22         Cash   31.84                 4.761905   \n",
       "986  2/22/2019  15:33         Cash   65.82                 4.761905   \n",
       "988  2/18/2019  13:28         Cash  618.38                 4.761905   \n",
       "\n",
       "     gross income  Rating  \n",
       "0         26.1415     9.1  \n",
       "1          3.8200     9.6  \n",
       "2         16.2155     7.4  \n",
       "3         23.2880     8.4  \n",
       "4         30.2085     5.3  \n",
       "..            ...     ...  \n",
       "983       11.6300     8.4  \n",
       "984       43.8660     7.4  \n",
       "985        1.5920     7.7  \n",
       "986        3.2910     4.1  \n",
       "988       30.9190     6.6  \n",
       "\n",
       "[986 rows x 17 columns]"
      ]
     },
     "execution_count": 25,
     "metadata": {},
     "output_type": "execute_result"
    }
   ],
   "source": [
    "sales"
   ]
  },
  {
   "cell_type": "markdown",
   "id": "d7cede2d",
   "metadata": {},
   "source": [
    "We can also uss the parameter ```keep``` with the ```drop_duplicates()``` function (https://pandas.pydata.org/docs/reference/api/pandas.DataFrame.drop_duplicates.html)."
   ]
  },
  {
   "cell_type": "markdown",
   "id": "a55dc2d8",
   "metadata": {},
   "source": [
    "#### Empty cells"
   ]
  },
  {
   "cell_type": "markdown",
   "id": "52dc55a6",
   "metadata": {},
   "source": [
    "One way to deal with empty cells is to remove rows that contain empty cells. This is usually fine, since data sets can be very big, and removing a few rows will not have a big impact on the result.\n",
    "\n"
   ]
  },
  {
   "cell_type": "code",
   "execution_count": 26,
   "id": "bc914461",
   "metadata": {},
   "outputs": [
    {
     "data": {
      "text/html": [
       "<div>\n",
       "<style scoped>\n",
       "    .dataframe tbody tr th:only-of-type {\n",
       "        vertical-align: middle;\n",
       "    }\n",
       "\n",
       "    .dataframe tbody tr th {\n",
       "        vertical-align: top;\n",
       "    }\n",
       "\n",
       "    .dataframe thead th {\n",
       "        text-align: right;\n",
       "    }\n",
       "</style>\n",
       "<table border=\"1\" class=\"dataframe\">\n",
       "  <thead>\n",
       "    <tr style=\"text-align: right;\">\n",
       "      <th></th>\n",
       "      <th>Invoice ID</th>\n",
       "      <th>Branch</th>\n",
       "      <th>City</th>\n",
       "      <th>Customer type</th>\n",
       "      <th>Gender</th>\n",
       "      <th>Product line</th>\n",
       "      <th>Unit price</th>\n",
       "      <th>Quantity</th>\n",
       "      <th>Tax 5%</th>\n",
       "      <th>Total</th>\n",
       "      <th>Date</th>\n",
       "      <th>Time</th>\n",
       "      <th>Payment</th>\n",
       "      <th>cogs</th>\n",
       "      <th>gross margin percentage</th>\n",
       "      <th>gross income</th>\n",
       "      <th>Rating</th>\n",
       "    </tr>\n",
       "  </thead>\n",
       "  <tbody>\n",
       "    <tr>\n",
       "      <th>0</th>\n",
       "      <td>750-67-8428</td>\n",
       "      <td>NaN</td>\n",
       "      <td>Yangon</td>\n",
       "      <td>Member</td>\n",
       "      <td>Female</td>\n",
       "      <td>Health and beauty</td>\n",
       "      <td>74.69</td>\n",
       "      <td>7.0</td>\n",
       "      <td>26.1415</td>\n",
       "      <td>NaN</td>\n",
       "      <td>1/5/2019</td>\n",
       "      <td>13:08</td>\n",
       "      <td>Ewallet</td>\n",
       "      <td>522.83</td>\n",
       "      <td>4.761905</td>\n",
       "      <td>26.1415</td>\n",
       "      <td>9.1</td>\n",
       "    </tr>\n",
       "    <tr>\n",
       "      <th>1</th>\n",
       "      <td>226-31-3081</td>\n",
       "      <td>C</td>\n",
       "      <td>Naypyitaw</td>\n",
       "      <td>Normal</td>\n",
       "      <td>Female</td>\n",
       "      <td>Electronic accessories</td>\n",
       "      <td>15.28</td>\n",
       "      <td>5.0</td>\n",
       "      <td>NaN</td>\n",
       "      <td>80.220</td>\n",
       "      <td>3/8/2019</td>\n",
       "      <td>10:29</td>\n",
       "      <td>Cash</td>\n",
       "      <td>76.40</td>\n",
       "      <td>4.761905</td>\n",
       "      <td>3.8200</td>\n",
       "      <td>9.6</td>\n",
       "    </tr>\n",
       "    <tr>\n",
       "      <th>586</th>\n",
       "      <td>278-86-2735</td>\n",
       "      <td>A</td>\n",
       "      <td>Yangon</td>\n",
       "      <td>Normal</td>\n",
       "      <td>Female</td>\n",
       "      <td>NaN</td>\n",
       "      <td>52.34</td>\n",
       "      <td>3.0</td>\n",
       "      <td>7.8510</td>\n",
       "      <td>164.871</td>\n",
       "      <td>3/27/2019</td>\n",
       "      <td>14:03</td>\n",
       "      <td>Cash</td>\n",
       "      <td>157.02</td>\n",
       "      <td>4.761905</td>\n",
       "      <td>7.8510</td>\n",
       "      <td>9.2</td>\n",
       "    </tr>\n",
       "    <tr>\n",
       "      <th>716</th>\n",
       "      <td>857-16-3520</td>\n",
       "      <td>A</td>\n",
       "      <td>Yangon</td>\n",
       "      <td>NaN</td>\n",
       "      <td>Female</td>\n",
       "      <td>Fashion accessories</td>\n",
       "      <td>71.46</td>\n",
       "      <td>7.0</td>\n",
       "      <td>25.0110</td>\n",
       "      <td>525.231</td>\n",
       "      <td>3/28/2019</td>\n",
       "      <td>16:06</td>\n",
       "      <td>Ewallet</td>\n",
       "      <td>500.22</td>\n",
       "      <td>4.761905</td>\n",
       "      <td>25.0110</td>\n",
       "      <td>4.5</td>\n",
       "    </tr>\n",
       "    <tr>\n",
       "      <th>872</th>\n",
       "      <td>584-66-4073</td>\n",
       "      <td>C</td>\n",
       "      <td>NaN</td>\n",
       "      <td>Normal</td>\n",
       "      <td>Male</td>\n",
       "      <td>Fashion accessories</td>\n",
       "      <td>56.5</td>\n",
       "      <td>1.0</td>\n",
       "      <td>2.8250</td>\n",
       "      <td>59.325</td>\n",
       "      <td>3/13/2019</td>\n",
       "      <td>15:45</td>\n",
       "      <td>Ewallet</td>\n",
       "      <td>56.50</td>\n",
       "      <td>4.761905</td>\n",
       "      <td>2.8250</td>\n",
       "      <td>9.6</td>\n",
       "    </tr>\n",
       "    <tr>\n",
       "      <th>898</th>\n",
       "      <td>409-49-6995</td>\n",
       "      <td>C</td>\n",
       "      <td>Naypyitaw</td>\n",
       "      <td>Member</td>\n",
       "      <td>Female</td>\n",
       "      <td>NaN</td>\n",
       "      <td>47.27</td>\n",
       "      <td>6.0</td>\n",
       "      <td>14.1810</td>\n",
       "      <td>297.801</td>\n",
       "      <td>2/5/2019</td>\n",
       "      <td>10:17</td>\n",
       "      <td>Cash</td>\n",
       "      <td>283.62</td>\n",
       "      <td>4.761905</td>\n",
       "      <td>14.1810</td>\n",
       "      <td>8.8</td>\n",
       "    </tr>\n",
       "    <tr>\n",
       "      <th>916</th>\n",
       "      <td>717-96-4189</td>\n",
       "      <td>C</td>\n",
       "      <td>Naypyitaw</td>\n",
       "      <td>Normal</td>\n",
       "      <td>Female</td>\n",
       "      <td>Electronic accessories</td>\n",
       "      <td>35.49</td>\n",
       "      <td>6.0</td>\n",
       "      <td>10.6470</td>\n",
       "      <td>223.587</td>\n",
       "      <td>2/2/2019</td>\n",
       "      <td>12:40</td>\n",
       "      <td>NaN</td>\n",
       "      <td>212.94</td>\n",
       "      <td>4.761905</td>\n",
       "      <td>10.6470</td>\n",
       "      <td>4.1</td>\n",
       "    </tr>\n",
       "    <tr>\n",
       "      <th>963</th>\n",
       "      <td>324-92-3863</td>\n",
       "      <td>A</td>\n",
       "      <td>Yangon</td>\n",
       "      <td>Member</td>\n",
       "      <td>Male</td>\n",
       "      <td>Electronic accessories</td>\n",
       "      <td>20.89</td>\n",
       "      <td>2.0</td>\n",
       "      <td>2.0890</td>\n",
       "      <td>43.869</td>\n",
       "      <td>2/5/2019</td>\n",
       "      <td>18:45</td>\n",
       "      <td>Cash</td>\n",
       "      <td>41.78</td>\n",
       "      <td>4.761905</td>\n",
       "      <td>2.0890</td>\n",
       "      <td>NaN</td>\n",
       "    </tr>\n",
       "  </tbody>\n",
       "</table>\n",
       "</div>"
      ],
      "text/plain": [
       "      Invoice ID Branch       City Customer type  Gender  \\\n",
       "0    750-67-8428    NaN     Yangon        Member  Female   \n",
       "1    226-31-3081      C  Naypyitaw        Normal  Female   \n",
       "586  278-86-2735      A     Yangon        Normal  Female   \n",
       "716  857-16-3520      A     Yangon           NaN  Female   \n",
       "872  584-66-4073      C        NaN        Normal    Male   \n",
       "898  409-49-6995      C  Naypyitaw        Member  Female   \n",
       "916  717-96-4189      C  Naypyitaw        Normal  Female   \n",
       "963  324-92-3863      A     Yangon        Member    Male   \n",
       "\n",
       "               Product line Unit price  Quantity   Tax 5%    Total       Date  \\\n",
       "0         Health and beauty      74.69       7.0  26.1415      NaN   1/5/2019   \n",
       "1    Electronic accessories      15.28       5.0      NaN   80.220   3/8/2019   \n",
       "586                     NaN      52.34       3.0   7.8510  164.871  3/27/2019   \n",
       "716     Fashion accessories      71.46       7.0  25.0110  525.231  3/28/2019   \n",
       "872     Fashion accessories       56.5       1.0   2.8250   59.325  3/13/2019   \n",
       "898                     NaN      47.27       6.0  14.1810  297.801   2/5/2019   \n",
       "916  Electronic accessories      35.49       6.0  10.6470  223.587   2/2/2019   \n",
       "963  Electronic accessories      20.89       2.0   2.0890   43.869   2/5/2019   \n",
       "\n",
       "      Time  Payment    cogs  gross margin percentage  gross income  Rating  \n",
       "0    13:08  Ewallet  522.83                 4.761905       26.1415     9.1  \n",
       "1    10:29     Cash   76.40                 4.761905        3.8200     9.6  \n",
       "586  14:03     Cash  157.02                 4.761905        7.8510     9.2  \n",
       "716  16:06  Ewallet  500.22                 4.761905       25.0110     4.5  \n",
       "872  15:45  Ewallet   56.50                 4.761905        2.8250     9.6  \n",
       "898  10:17     Cash  283.62                 4.761905       14.1810     8.8  \n",
       "916  12:40      NaN  212.94                 4.761905       10.6470     4.1  \n",
       "963  18:45     Cash   41.78                 4.761905        2.0890     NaN  "
      ]
     },
     "execution_count": 26,
     "metadata": {},
     "output_type": "execute_result"
    }
   ],
   "source": [
    "sales[sales.isna().any(axis=1)]\n"
   ]
  },
  {
   "cell_type": "code",
   "execution_count": 27,
   "id": "033836f9",
   "metadata": {},
   "outputs": [
    {
     "data": {
      "text/html": [
       "<div>\n",
       "<style scoped>\n",
       "    .dataframe tbody tr th:only-of-type {\n",
       "        vertical-align: middle;\n",
       "    }\n",
       "\n",
       "    .dataframe tbody tr th {\n",
       "        vertical-align: top;\n",
       "    }\n",
       "\n",
       "    .dataframe thead th {\n",
       "        text-align: right;\n",
       "    }\n",
       "</style>\n",
       "<table border=\"1\" class=\"dataframe\">\n",
       "  <thead>\n",
       "    <tr style=\"text-align: right;\">\n",
       "      <th></th>\n",
       "      <th>Invoice ID</th>\n",
       "      <th>Branch</th>\n",
       "      <th>City</th>\n",
       "      <th>Customer type</th>\n",
       "      <th>Gender</th>\n",
       "      <th>Product line</th>\n",
       "      <th>Unit price</th>\n",
       "      <th>Quantity</th>\n",
       "      <th>Tax 5%</th>\n",
       "      <th>Total</th>\n",
       "      <th>Date</th>\n",
       "      <th>Time</th>\n",
       "      <th>Payment</th>\n",
       "      <th>cogs</th>\n",
       "      <th>gross margin percentage</th>\n",
       "      <th>gross income</th>\n",
       "      <th>Rating</th>\n",
       "    </tr>\n",
       "  </thead>\n",
       "  <tbody>\n",
       "    <tr>\n",
       "      <th>0</th>\n",
       "      <td>750-67-8428</td>\n",
       "      <td>NaN</td>\n",
       "      <td>Yangon</td>\n",
       "      <td>Member</td>\n",
       "      <td>Female</td>\n",
       "      <td>Health and beauty</td>\n",
       "      <td>74.69</td>\n",
       "      <td>7.0</td>\n",
       "      <td>26.1415</td>\n",
       "      <td>NaN</td>\n",
       "      <td>1/5/2019</td>\n",
       "      <td>13:08</td>\n",
       "      <td>Ewallet</td>\n",
       "      <td>522.83</td>\n",
       "      <td>4.761905</td>\n",
       "      <td>26.1415</td>\n",
       "      <td>9.1</td>\n",
       "    </tr>\n",
       "  </tbody>\n",
       "</table>\n",
       "</div>"
      ],
      "text/plain": [
       "    Invoice ID Branch    City Customer type  Gender       Product line  \\\n",
       "0  750-67-8428    NaN  Yangon        Member  Female  Health and beauty   \n",
       "\n",
       "  Unit price  Quantity   Tax 5%  Total      Date   Time  Payment    cogs  \\\n",
       "0      74.69       7.0  26.1415    NaN  1/5/2019  13:08  Ewallet  522.83   \n",
       "\n",
       "   gross margin percentage  gross income  Rating  \n",
       "0                 4.761905       26.1415     9.1  "
      ]
     },
     "execution_count": 27,
     "metadata": {},
     "output_type": "execute_result"
    }
   ],
   "source": [
    "sales[sales['Branch'].isna()]\n"
   ]
  },
  {
   "cell_type": "markdown",
   "id": "71604dcb",
   "metadata": {},
   "source": [
    "We can, for example, fill the empty cell with some other type of value."
   ]
  },
  {
   "cell_type": "code",
   "execution_count": 28,
   "id": "3acfe803",
   "metadata": {},
   "outputs": [],
   "source": [
    "sales[\"Branch\"].fillna('A', inplace = True)"
   ]
  },
  {
   "cell_type": "markdown",
   "id": "b3846461",
   "metadata": {},
   "source": [
    "We still have all the other NaN values so let's take care of them. We know we have (at least) one NaN in the Tax 5% column. Let's fill that out by calculating:"
   ]
  },
  {
   "cell_type": "code",
   "execution_count": 29,
   "id": "578de098",
   "metadata": {},
   "outputs": [],
   "source": [
    "sales_tax = sales.Total * 0.05"
   ]
  },
  {
   "cell_type": "code",
   "execution_count": 30,
   "id": "7a728ee5",
   "metadata": {},
   "outputs": [],
   "source": [
    "sales[\"Tax 5%\"].fillna(sales_tax, inplace = True)"
   ]
  },
  {
   "cell_type": "code",
   "execution_count": 31,
   "id": "30b9a283",
   "metadata": {},
   "outputs": [
    {
     "data": {
      "text/plain": [
       "Invoice ID                         749-81-8133\n",
       "Branch                                       A\n",
       "City                                    Yangon\n",
       "Customer type                           Normal\n",
       "Gender                                  Female\n",
       "Product line               Fashion accessories\n",
       "Unit price                               94.67\n",
       "Quantity                                   4.0\n",
       "Tax 5%                                  18.934\n",
       "Total                                  397.614\n",
       "Date                                 3/11/2019\n",
       "Time                                     12:04\n",
       "Payment                                   Cash\n",
       "cogs                                    378.68\n",
       "gross margin percentage               4.761905\n",
       "gross income                            18.934\n",
       "Rating                                     6.8\n",
       "Name: 918, dtype: object"
      ]
     },
     "execution_count": 31,
     "metadata": {},
     "output_type": "execute_result"
    }
   ],
   "source": [
    "sales.iloc[917]"
   ]
  },
  {
   "cell_type": "markdown",
   "id": "f7518890",
   "metadata": {},
   "source": [
    "As we see, the 'Tax 5%' column was filled in by the content of the variable ```sales_tax```, i.e. 4.011 (80.22 * 0.05).\n",
    "We can also use functions like ```mean()```, ```max()```, ```min()``` and  ```mode()``` to fill out the empty values. The first three you are familiar with and ```mode()``` fills out the empty space with the most frequent value in the column:"
   ]
  },
  {
   "cell_type": "code",
   "execution_count": 32,
   "id": "041efbfa",
   "metadata": {},
   "outputs": [
    {
     "data": {
      "text/plain": [
       "0    Cash\n",
       "Name: Payment, dtype: object"
      ]
     },
     "execution_count": 32,
     "metadata": {},
     "output_type": "execute_result"
    }
   ],
   "source": [
    "mode_payement = sales['Payment'].mode()\n",
    "mode_payement"
   ]
  },
  {
   "cell_type": "code",
   "execution_count": 33,
   "id": "ee9047b5",
   "metadata": {},
   "outputs": [
    {
     "data": {
      "text/plain": [
       "'Cash'"
      ]
     },
     "execution_count": 33,
     "metadata": {},
     "output_type": "execute_result"
    }
   ],
   "source": [
    "mode_payement = sales['Payment'].mode()[0]\n",
    "mode_payement"
   ]
  },
  {
   "cell_type": "code",
   "execution_count": 34,
   "id": "1128c44e",
   "metadata": {},
   "outputs": [],
   "source": [
    "sales[\"Payment\"].fillna(mode_payement, inplace = True)"
   ]
  },
  {
   "cell_type": "markdown",
   "id": "2bb63607",
   "metadata": {},
   "source": [
    "Or, we can always just remove the rows with the empty cells, or create a new dataframe that has no empty cells.\n",
    "We do that through the ```dropna()``` function. If we use it without parameters, it will return a new DataFrame, while if we use the ```inplace = True``` parameter, it will change the original one."
   ]
  },
  {
   "cell_type": "code",
   "execution_count": 35,
   "id": "c49faf66",
   "metadata": {},
   "outputs": [
    {
     "data": {
      "text/plain": [
       "(986, 17)"
      ]
     },
     "execution_count": 35,
     "metadata": {},
     "output_type": "execute_result"
    }
   ],
   "source": [
    "sales.shape"
   ]
  },
  {
   "cell_type": "code",
   "execution_count": 36,
   "id": "6a9715c2",
   "metadata": {},
   "outputs": [],
   "source": [
    "sales.dropna(inplace=True)"
   ]
  },
  {
   "cell_type": "code",
   "execution_count": 37,
   "id": "69a7962d",
   "metadata": {},
   "outputs": [
    {
     "data": {
      "text/plain": [
       "0"
      ]
     },
     "execution_count": 37,
     "metadata": {},
     "output_type": "execute_result"
    }
   ],
   "source": [
    "sales['Total'].isnull().sum()"
   ]
  },
  {
   "cell_type": "code",
   "execution_count": 38,
   "id": "9b4c39c6",
   "metadata": {},
   "outputs": [
    {
     "data": {
      "text/plain": [
       "(980, 17)"
      ]
     },
     "execution_count": 38,
     "metadata": {},
     "output_type": "execute_result"
    }
   ],
   "source": [
    "sales.shape"
   ]
  },
  {
   "cell_type": "markdown",
   "id": "b75578c6",
   "metadata": {},
   "source": [
    "In the end, we have lost 7 rows which had NaN values in them, and now our dataframe should be NaN-free:"
   ]
  },
  {
   "cell_type": "code",
   "execution_count": 39,
   "id": "7902c997",
   "metadata": {},
   "outputs": [
    {
     "data": {
      "text/html": [
       "<div>\n",
       "<style scoped>\n",
       "    .dataframe tbody tr th:only-of-type {\n",
       "        vertical-align: middle;\n",
       "    }\n",
       "\n",
       "    .dataframe tbody tr th {\n",
       "        vertical-align: top;\n",
       "    }\n",
       "\n",
       "    .dataframe thead th {\n",
       "        text-align: right;\n",
       "    }\n",
       "</style>\n",
       "<table border=\"1\" class=\"dataframe\">\n",
       "  <thead>\n",
       "    <tr style=\"text-align: right;\">\n",
       "      <th></th>\n",
       "      <th>Invoice ID</th>\n",
       "      <th>Branch</th>\n",
       "      <th>City</th>\n",
       "      <th>Customer type</th>\n",
       "      <th>Gender</th>\n",
       "      <th>Product line</th>\n",
       "      <th>Unit price</th>\n",
       "      <th>Quantity</th>\n",
       "      <th>Tax 5%</th>\n",
       "      <th>Total</th>\n",
       "      <th>Date</th>\n",
       "      <th>Time</th>\n",
       "      <th>Payment</th>\n",
       "      <th>cogs</th>\n",
       "      <th>gross margin percentage</th>\n",
       "      <th>gross income</th>\n",
       "      <th>Rating</th>\n",
       "    </tr>\n",
       "  </thead>\n",
       "  <tbody>\n",
       "  </tbody>\n",
       "</table>\n",
       "</div>"
      ],
      "text/plain": [
       "Empty DataFrame\n",
       "Columns: [Invoice ID, Branch, City, Customer type, Gender, Product line, Unit price, Quantity, Tax 5%, Total, Date, Time, Payment, cogs, gross margin percentage, gross income, Rating]\n",
       "Index: []"
      ]
     },
     "execution_count": 39,
     "metadata": {},
     "output_type": "execute_result"
    }
   ],
   "source": [
    "sales[sales.isna().any(axis=1)]\n"
   ]
  },
  {
   "cell_type": "markdown",
   "id": "1061f11b",
   "metadata": {},
   "source": [
    "#### Wrong type"
   ]
  },
  {
   "cell_type": "markdown",
   "id": "92309527",
   "metadata": {},
   "source": [
    "Cells with data of wrong datatype can make it difficult to analyze data.\n",
    "\n",
    "To fix it, you have two options: remove the rows, or convert all cells in the columns into the same format.\n"
   ]
  },
  {
   "cell_type": "code",
   "execution_count": 40,
   "id": "34fb8cab",
   "metadata": {},
   "outputs": [
    {
     "data": {
      "text/plain": [
       "Invoice ID                  object\n",
       "Branch                      object\n",
       "City                        object\n",
       "Customer type               object\n",
       "Gender                      object\n",
       "Product line                object\n",
       "Unit price                  object\n",
       "Quantity                   float64\n",
       "Tax 5%                     float64\n",
       "Total                      float64\n",
       "Date                        object\n",
       "Time                        object\n",
       "Payment                     object\n",
       "cogs                       float64\n",
       "gross margin percentage    float64\n",
       "gross income               float64\n",
       "Rating                     float64\n",
       "dtype: object"
      ]
     },
     "execution_count": 40,
     "metadata": {},
     "output_type": "execute_result"
    }
   ],
   "source": [
    "sales.dtypes"
   ]
  },
  {
   "cell_type": "markdown",
   "id": "92f22b75",
   "metadata": {},
   "source": [
    "We have a problem with the quantity. It's a float, but we can never buy two and a half items or smth like that. So we need to cast it to an int. "
   ]
  },
  {
   "cell_type": "code",
   "execution_count": 41,
   "id": "fd57ff68",
   "metadata": {},
   "outputs": [
    {
     "data": {
      "text/plain": [
       "Invoice ID                  object\n",
       "Branch                      object\n",
       "City                        object\n",
       "Customer type               object\n",
       "Gender                      object\n",
       "Product line                object\n",
       "Unit price                  object\n",
       "Quantity                     int32\n",
       "Tax 5%                     float64\n",
       "Total                      float64\n",
       "Date                        object\n",
       "Time                        object\n",
       "Payment                     object\n",
       "cogs                       float64\n",
       "gross margin percentage    float64\n",
       "gross income               float64\n",
       "Rating                     float64\n",
       "dtype: object"
      ]
     },
     "execution_count": 41,
     "metadata": {},
     "output_type": "execute_result"
    }
   ],
   "source": [
    "sales.Quantity = sales.Quantity.astype(int)\n",
    "sales.dtypes"
   ]
  },
  {
   "cell_type": "code",
   "execution_count": 42,
   "id": "6890cbb6",
   "metadata": {},
   "outputs": [
    {
     "name": "stdout",
     "output_type": "stream",
     "text": [
      "Invoice ID                  object\n",
      "Branch                      object\n",
      "City                        object\n",
      "Customer type               object\n",
      "Gender                      object\n",
      "Product line                object\n",
      "Unit price                 float64\n",
      "Quantity                     int32\n",
      "Tax 5%                     float64\n",
      "Total                      float64\n",
      "Date                        object\n",
      "Time                        object\n",
      "Payment                     object\n",
      "cogs                       float64\n",
      "gross margin percentage    float64\n",
      "gross income               float64\n",
      "Rating                     float64\n",
      "dtype: object\n"
     ]
    }
   ],
   "source": [
    "sales['Unit price']= pd.to_numeric(sales['Unit price'], errors='coerce')\n",
    "sales = sales.replace(np.nan, 0, regex=True)\n",
    "print(sales.dtypes)\n"
   ]
  },
  {
   "cell_type": "markdown",
   "id": "fa754ae5",
   "metadata": {},
   "source": [
    "Same with the date and time - they're objects (which stands for a string) and not actually date and time. So let's change that."
   ]
  },
  {
   "cell_type": "code",
   "execution_count": 43,
   "id": "26f34e7d",
   "metadata": {},
   "outputs": [
    {
     "data": {
      "text/plain": [
       "Invoice ID                         object\n",
       "Branch                             object\n",
       "City                               object\n",
       "Customer type                      object\n",
       "Gender                             object\n",
       "Product line                       object\n",
       "Unit price                        float64\n",
       "Quantity                            int32\n",
       "Tax 5%                            float64\n",
       "Total                             float64\n",
       "Date                       datetime64[ns]\n",
       "Time                               object\n",
       "Payment                            object\n",
       "cogs                              float64\n",
       "gross margin percentage           float64\n",
       "gross income                      float64\n",
       "Rating                            float64\n",
       "dtype: object"
      ]
     },
     "execution_count": 43,
     "metadata": {},
     "output_type": "execute_result"
    }
   ],
   "source": [
    "sales.Date = pd.to_datetime(sales.Date)\n",
    "\n",
    "sales.dtypes"
   ]
  },
  {
   "cell_type": "code",
   "execution_count": 44,
   "id": "1936190c",
   "metadata": {},
   "outputs": [
    {
     "data": {
      "text/plain": [
       "Invoice ID                         object\n",
       "Branch                             object\n",
       "City                               object\n",
       "Customer type                      object\n",
       "Gender                             object\n",
       "Product line                       object\n",
       "Unit price                        float64\n",
       "Quantity                            int32\n",
       "Tax 5%                            float64\n",
       "Total                             float64\n",
       "Date                       datetime64[ns]\n",
       "Time                       datetime64[ns]\n",
       "Payment                            object\n",
       "cogs                              float64\n",
       "gross margin percentage           float64\n",
       "gross income                      float64\n",
       "Rating                            float64\n",
       "dtype: object"
      ]
     },
     "execution_count": 44,
     "metadata": {},
     "output_type": "execute_result"
    }
   ],
   "source": [
    "# Use DataFrame.apply() to convert multiple columns to datetime\n",
    "sales[['Date','Time']] = sales[['Date','Time']].apply(pd.to_datetime)\n",
    "sales.dtypes"
   ]
  },
  {
   "cell_type": "code",
   "execution_count": 45,
   "id": "5212fa9d",
   "metadata": {},
   "outputs": [
    {
     "data": {
      "text/html": [
       "<div>\n",
       "<style scoped>\n",
       "    .dataframe tbody tr th:only-of-type {\n",
       "        vertical-align: middle;\n",
       "    }\n",
       "\n",
       "    .dataframe tbody tr th {\n",
       "        vertical-align: top;\n",
       "    }\n",
       "\n",
       "    .dataframe thead th {\n",
       "        text-align: right;\n",
       "    }\n",
       "</style>\n",
       "<table border=\"1\" class=\"dataframe\">\n",
       "  <thead>\n",
       "    <tr style=\"text-align: right;\">\n",
       "      <th></th>\n",
       "      <th>Invoice ID</th>\n",
       "      <th>Branch</th>\n",
       "      <th>City</th>\n",
       "      <th>Customer type</th>\n",
       "      <th>Gender</th>\n",
       "      <th>Product line</th>\n",
       "      <th>Unit price</th>\n",
       "      <th>Quantity</th>\n",
       "      <th>Tax 5%</th>\n",
       "      <th>Total</th>\n",
       "      <th>Date</th>\n",
       "      <th>Time</th>\n",
       "      <th>Payment</th>\n",
       "      <th>cogs</th>\n",
       "      <th>gross margin percentage</th>\n",
       "      <th>gross income</th>\n",
       "      <th>Rating</th>\n",
       "    </tr>\n",
       "  </thead>\n",
       "  <tbody>\n",
       "    <tr>\n",
       "      <th>1</th>\n",
       "      <td>226-31-3081</td>\n",
       "      <td>C</td>\n",
       "      <td>Naypyitaw</td>\n",
       "      <td>Normal</td>\n",
       "      <td>Female</td>\n",
       "      <td>Electronic accessories</td>\n",
       "      <td>15.28</td>\n",
       "      <td>5</td>\n",
       "      <td>4.0110</td>\n",
       "      <td>80.2200</td>\n",
       "      <td>2019-03-08</td>\n",
       "      <td>2023-05-16 10:29:00</td>\n",
       "      <td>Cash</td>\n",
       "      <td>76.40</td>\n",
       "      <td>4.761905</td>\n",
       "      <td>3.8200</td>\n",
       "      <td>9.6</td>\n",
       "    </tr>\n",
       "    <tr>\n",
       "      <th>2</th>\n",
       "      <td>631-41-3108</td>\n",
       "      <td>A</td>\n",
       "      <td>Yangon</td>\n",
       "      <td>Normal</td>\n",
       "      <td>Male</td>\n",
       "      <td>Home and lifestyle</td>\n",
       "      <td>46.33</td>\n",
       "      <td>7</td>\n",
       "      <td>16.2155</td>\n",
       "      <td>340.5255</td>\n",
       "      <td>2019-03-03</td>\n",
       "      <td>2023-05-16 13:23:00</td>\n",
       "      <td>Credit card</td>\n",
       "      <td>324.31</td>\n",
       "      <td>4.761905</td>\n",
       "      <td>16.2155</td>\n",
       "      <td>7.4</td>\n",
       "    </tr>\n",
       "  </tbody>\n",
       "</table>\n",
       "</div>"
      ],
      "text/plain": [
       "    Invoice ID Branch       City Customer type  Gender  \\\n",
       "1  226-31-3081      C  Naypyitaw        Normal  Female   \n",
       "2  631-41-3108      A     Yangon        Normal    Male   \n",
       "\n",
       "             Product line  Unit price  Quantity   Tax 5%     Total       Date  \\\n",
       "1  Electronic accessories       15.28         5   4.0110   80.2200 2019-03-08   \n",
       "2      Home and lifestyle       46.33         7  16.2155  340.5255 2019-03-03   \n",
       "\n",
       "                 Time      Payment    cogs  gross margin percentage  \\\n",
       "1 2023-05-16 10:29:00         Cash   76.40                 4.761905   \n",
       "2 2023-05-16 13:23:00  Credit card  324.31                 4.761905   \n",
       "\n",
       "   gross income  Rating  \n",
       "1        3.8200     9.6  \n",
       "2       16.2155     7.4  "
      ]
     },
     "execution_count": 45,
     "metadata": {},
     "output_type": "execute_result"
    }
   ],
   "source": [
    "sales.head(2)"
   ]
  },
  {
   "cell_type": "markdown",
   "id": "3d17d7f7",
   "metadata": {},
   "source": [
    "#### Digression - apply()"
   ]
  },
  {
   "cell_type": "markdown",
   "id": "4c0aeeda",
   "metadata": {},
   "source": [
    "apply() is a useful function used to apply (:D) a function along an axis of the DataFrame,  default 0, which is the index (row) axis.\n",
    "Example:"
   ]
  },
  {
   "cell_type": "code",
   "execution_count": 46,
   "id": "419f511e",
   "metadata": {},
   "outputs": [
    {
     "name": "stdout",
     "output_type": "stream",
     "text": [
      "x     120\n",
      "y    1454\n",
      "dtype: int64\n"
     ]
    }
   ],
   "source": [
    "def calc_sum(x):\n",
    "    return x.sum()\n",
    "\n",
    "data = {\n",
    "  \"x\": [50, 40, 30],\n",
    "  \"y\": [300, 1112, 42]\n",
    "}\n",
    "\n",
    "df = pd.DataFrame(data)\n",
    "\n",
    "x = df.apply(calc_sum)\n",
    "\n",
    "print(x)"
   ]
  },
  {
   "cell_type": "markdown",
   "id": "d5500a75",
   "metadata": {},
   "source": [
    "### Query methods"
   ]
  },
  {
   "cell_type": "markdown",
   "id": "8b917637",
   "metadata": {},
   "source": [
    "We already saw that if we find the unique categories in a categorical variable, we can figure out the number of rows depending on a condition (e.g. name of the city). However, sometimes we want to use multiple conditions, and for that we use ```query()```. It automatically returns a new dataframe, but if we want to just update the existing one, we would use ```inplace = True``` as the argument."
   ]
  },
  {
   "cell_type": "code",
   "execution_count": 47,
   "id": "e0cd77f3",
   "metadata": {},
   "outputs": [
    {
     "data": {
      "text/plain": [
       "array(['Naypyitaw', 'Yangon', 'Mandalay'], dtype=object)"
      ]
     },
     "execution_count": 47,
     "metadata": {},
     "output_type": "execute_result"
    }
   ],
   "source": [
    "sales['City'].unique()"
   ]
  },
  {
   "cell_type": "markdown",
   "id": "1402ba0b",
   "metadata": {},
   "source": [
    "* purchases made in Yangon"
   ]
  },
  {
   "cell_type": "code",
   "execution_count": 48,
   "id": "838c5ab0",
   "metadata": {},
   "outputs": [
    {
     "data": {
      "text/html": [
       "<div>\n",
       "<style scoped>\n",
       "    .dataframe tbody tr th:only-of-type {\n",
       "        vertical-align: middle;\n",
       "    }\n",
       "\n",
       "    .dataframe tbody tr th {\n",
       "        vertical-align: top;\n",
       "    }\n",
       "\n",
       "    .dataframe thead th {\n",
       "        text-align: right;\n",
       "    }\n",
       "</style>\n",
       "<table border=\"1\" class=\"dataframe\">\n",
       "  <thead>\n",
       "    <tr style=\"text-align: right;\">\n",
       "      <th></th>\n",
       "      <th>Invoice ID</th>\n",
       "      <th>Branch</th>\n",
       "      <th>City</th>\n",
       "      <th>Customer type</th>\n",
       "      <th>Gender</th>\n",
       "      <th>Product line</th>\n",
       "      <th>Unit price</th>\n",
       "      <th>Quantity</th>\n",
       "      <th>Tax 5%</th>\n",
       "      <th>Total</th>\n",
       "      <th>Date</th>\n",
       "      <th>Time</th>\n",
       "      <th>Payment</th>\n",
       "      <th>cogs</th>\n",
       "      <th>gross margin percentage</th>\n",
       "      <th>gross income</th>\n",
       "      <th>Rating</th>\n",
       "    </tr>\n",
       "  </thead>\n",
       "  <tbody>\n",
       "    <tr>\n",
       "      <th>2</th>\n",
       "      <td>631-41-3108</td>\n",
       "      <td>A</td>\n",
       "      <td>Yangon</td>\n",
       "      <td>Normal</td>\n",
       "      <td>Male</td>\n",
       "      <td>Home and lifestyle</td>\n",
       "      <td>46.33</td>\n",
       "      <td>7</td>\n",
       "      <td>16.2155</td>\n",
       "      <td>340.5255</td>\n",
       "      <td>2019-03-03</td>\n",
       "      <td>2023-05-16 13:23:00</td>\n",
       "      <td>Credit card</td>\n",
       "      <td>324.31</td>\n",
       "      <td>4.761905</td>\n",
       "      <td>16.2155</td>\n",
       "      <td>7.4</td>\n",
       "    </tr>\n",
       "    <tr>\n",
       "      <th>3</th>\n",
       "      <td>123-19-1176</td>\n",
       "      <td>A</td>\n",
       "      <td>Yangon</td>\n",
       "      <td>Member</td>\n",
       "      <td>Male</td>\n",
       "      <td>Health and beauty</td>\n",
       "      <td>58.22</td>\n",
       "      <td>8</td>\n",
       "      <td>23.2880</td>\n",
       "      <td>489.0480</td>\n",
       "      <td>2019-01-27</td>\n",
       "      <td>2023-05-16 20:33:00</td>\n",
       "      <td>Ewallet</td>\n",
       "      <td>465.76</td>\n",
       "      <td>4.761905</td>\n",
       "      <td>23.2880</td>\n",
       "      <td>8.4</td>\n",
       "    </tr>\n",
       "    <tr>\n",
       "      <th>4</th>\n",
       "      <td>373-73-7910</td>\n",
       "      <td>A</td>\n",
       "      <td>Yangon</td>\n",
       "      <td>Normal</td>\n",
       "      <td>Male</td>\n",
       "      <td>Sports and travel</td>\n",
       "      <td>86.31</td>\n",
       "      <td>7</td>\n",
       "      <td>30.2085</td>\n",
       "      <td>634.3785</td>\n",
       "      <td>2019-02-08</td>\n",
       "      <td>2023-05-16 10:37:00</td>\n",
       "      <td>Ewallet</td>\n",
       "      <td>604.17</td>\n",
       "      <td>4.761905</td>\n",
       "      <td>30.2085</td>\n",
       "      <td>5.3</td>\n",
       "    </tr>\n",
       "    <tr>\n",
       "      <th>6</th>\n",
       "      <td>355-53-5943</td>\n",
       "      <td></td>\n",
       "      <td>Yangon</td>\n",
       "      <td>Member</td>\n",
       "      <td>Female</td>\n",
       "      <td>Electronic accessories</td>\n",
       "      <td>68.84</td>\n",
       "      <td>6</td>\n",
       "      <td>20.6520</td>\n",
       "      <td>433.6920</td>\n",
       "      <td>2019-02-25</td>\n",
       "      <td>2023-05-16 14:36:00</td>\n",
       "      <td>Ewallet</td>\n",
       "      <td>413.04</td>\n",
       "      <td>4.761905</td>\n",
       "      <td>20.6520</td>\n",
       "      <td>5.8</td>\n",
       "    </tr>\n",
       "    <tr>\n",
       "      <th>8</th>\n",
       "      <td>665-32-9167</td>\n",
       "      <td>A</td>\n",
       "      <td>Yangon</td>\n",
       "      <td>Member</td>\n",
       "      <td>Female</td>\n",
       "      <td>Health and beauty</td>\n",
       "      <td>36.26</td>\n",
       "      <td>2</td>\n",
       "      <td>3.6260</td>\n",
       "      <td>76.1460</td>\n",
       "      <td>2019-01-10</td>\n",
       "      <td>2023-05-16 17:15:00</td>\n",
       "      <td>Credit card</td>\n",
       "      <td>72.52</td>\n",
       "      <td>4.761905</td>\n",
       "      <td>3.6260</td>\n",
       "      <td>7.2</td>\n",
       "    </tr>\n",
       "    <tr>\n",
       "      <th>...</th>\n",
       "      <td>...</td>\n",
       "      <td>...</td>\n",
       "      <td>...</td>\n",
       "      <td>...</td>\n",
       "      <td>...</td>\n",
       "      <td>...</td>\n",
       "      <td>...</td>\n",
       "      <td>...</td>\n",
       "      <td>...</td>\n",
       "      <td>...</td>\n",
       "      <td>...</td>\n",
       "      <td>...</td>\n",
       "      <td>...</td>\n",
       "      <td>...</td>\n",
       "      <td>...</td>\n",
       "      <td>...</td>\n",
       "      <td>...</td>\n",
       "    </tr>\n",
       "    <tr>\n",
       "      <th>983</th>\n",
       "      <td>809-46-1866</td>\n",
       "      <td>A</td>\n",
       "      <td>Yangon</td>\n",
       "      <td>Normal</td>\n",
       "      <td>Male</td>\n",
       "      <td>Health and beauty</td>\n",
       "      <td>58.15</td>\n",
       "      <td>4</td>\n",
       "      <td>11.6300</td>\n",
       "      <td>244.2300</td>\n",
       "      <td>2019-01-23</td>\n",
       "      <td>2023-05-16 17:44:00</td>\n",
       "      <td>Cash</td>\n",
       "      <td>232.60</td>\n",
       "      <td>4.761905</td>\n",
       "      <td>11.6300</td>\n",
       "      <td>8.4</td>\n",
       "    </tr>\n",
       "    <tr>\n",
       "      <th>984</th>\n",
       "      <td>139-32-4183</td>\n",
       "      <td>A</td>\n",
       "      <td>Yangon</td>\n",
       "      <td>Member</td>\n",
       "      <td>Female</td>\n",
       "      <td>Sports and travel</td>\n",
       "      <td>97.48</td>\n",
       "      <td>9</td>\n",
       "      <td>43.8660</td>\n",
       "      <td>921.1860</td>\n",
       "      <td>2019-03-14</td>\n",
       "      <td>2023-05-16 14:19:00</td>\n",
       "      <td>Ewallet</td>\n",
       "      <td>877.32</td>\n",
       "      <td>4.761905</td>\n",
       "      <td>43.8660</td>\n",
       "      <td>7.4</td>\n",
       "    </tr>\n",
       "    <tr>\n",
       "      <th>985</th>\n",
       "      <td>727-02-1313</td>\n",
       "      <td>A</td>\n",
       "      <td>Yangon</td>\n",
       "      <td>Member</td>\n",
       "      <td>Male</td>\n",
       "      <td>Food and beverages</td>\n",
       "      <td>31.84</td>\n",
       "      <td>1</td>\n",
       "      <td>1.5920</td>\n",
       "      <td>33.4320</td>\n",
       "      <td>2019-02-09</td>\n",
       "      <td>2023-05-16 13:22:00</td>\n",
       "      <td>Cash</td>\n",
       "      <td>31.84</td>\n",
       "      <td>4.761905</td>\n",
       "      <td>1.5920</td>\n",
       "      <td>7.7</td>\n",
       "    </tr>\n",
       "    <tr>\n",
       "      <th>986</th>\n",
       "      <td>347-56-2442</td>\n",
       "      <td>A</td>\n",
       "      <td>Yangon</td>\n",
       "      <td>Normal</td>\n",
       "      <td>Male</td>\n",
       "      <td>Home and lifestyle</td>\n",
       "      <td>65.82</td>\n",
       "      <td>1</td>\n",
       "      <td>3.2910</td>\n",
       "      <td>69.1110</td>\n",
       "      <td>2019-02-22</td>\n",
       "      <td>2023-05-16 15:33:00</td>\n",
       "      <td>Cash</td>\n",
       "      <td>65.82</td>\n",
       "      <td>4.761905</td>\n",
       "      <td>3.2910</td>\n",
       "      <td>4.1</td>\n",
       "    </tr>\n",
       "    <tr>\n",
       "      <th>988</th>\n",
       "      <td>849-09-3807</td>\n",
       "      <td>A</td>\n",
       "      <td>Yangon</td>\n",
       "      <td>Member</td>\n",
       "      <td>Female</td>\n",
       "      <td>Fashion accessories</td>\n",
       "      <td>88.34</td>\n",
       "      <td>7</td>\n",
       "      <td>30.9190</td>\n",
       "      <td>649.2990</td>\n",
       "      <td>2019-02-18</td>\n",
       "      <td>2023-05-16 13:28:00</td>\n",
       "      <td>Cash</td>\n",
       "      <td>618.38</td>\n",
       "      <td>4.761905</td>\n",
       "      <td>30.9190</td>\n",
       "      <td>6.6</td>\n",
       "    </tr>\n",
       "  </tbody>\n",
       "</table>\n",
       "<p>334 rows × 17 columns</p>\n",
       "</div>"
      ],
      "text/plain": [
       "      Invoice ID Branch    City Customer type  Gender            Product line  \\\n",
       "2    631-41-3108      A  Yangon        Normal    Male      Home and lifestyle   \n",
       "3    123-19-1176      A  Yangon        Member    Male       Health and beauty   \n",
       "4    373-73-7910      A  Yangon        Normal    Male       Sports and travel   \n",
       "6    355-53-5943         Yangon        Member  Female  Electronic accessories   \n",
       "8    665-32-9167      A  Yangon        Member  Female       Health and beauty   \n",
       "..           ...    ...     ...           ...     ...                     ...   \n",
       "983  809-46-1866      A  Yangon        Normal    Male       Health and beauty   \n",
       "984  139-32-4183      A  Yangon        Member  Female       Sports and travel   \n",
       "985  727-02-1313      A  Yangon        Member    Male      Food and beverages   \n",
       "986  347-56-2442      A  Yangon        Normal    Male      Home and lifestyle   \n",
       "988  849-09-3807      A  Yangon        Member  Female     Fashion accessories   \n",
       "\n",
       "     Unit price  Quantity   Tax 5%     Total       Date                Time  \\\n",
       "2         46.33         7  16.2155  340.5255 2019-03-03 2023-05-16 13:23:00   \n",
       "3         58.22         8  23.2880  489.0480 2019-01-27 2023-05-16 20:33:00   \n",
       "4         86.31         7  30.2085  634.3785 2019-02-08 2023-05-16 10:37:00   \n",
       "6         68.84         6  20.6520  433.6920 2019-02-25 2023-05-16 14:36:00   \n",
       "8         36.26         2   3.6260   76.1460 2019-01-10 2023-05-16 17:15:00   \n",
       "..          ...       ...      ...       ...        ...                 ...   \n",
       "983       58.15         4  11.6300  244.2300 2019-01-23 2023-05-16 17:44:00   \n",
       "984       97.48         9  43.8660  921.1860 2019-03-14 2023-05-16 14:19:00   \n",
       "985       31.84         1   1.5920   33.4320 2019-02-09 2023-05-16 13:22:00   \n",
       "986       65.82         1   3.2910   69.1110 2019-02-22 2023-05-16 15:33:00   \n",
       "988       88.34         7  30.9190  649.2990 2019-02-18 2023-05-16 13:28:00   \n",
       "\n",
       "         Payment    cogs  gross margin percentage  gross income  Rating  \n",
       "2    Credit card  324.31                 4.761905       16.2155     7.4  \n",
       "3        Ewallet  465.76                 4.761905       23.2880     8.4  \n",
       "4        Ewallet  604.17                 4.761905       30.2085     5.3  \n",
       "6        Ewallet  413.04                 4.761905       20.6520     5.8  \n",
       "8    Credit card   72.52                 4.761905        3.6260     7.2  \n",
       "..           ...     ...                      ...           ...     ...  \n",
       "983         Cash  232.60                 4.761905       11.6300     8.4  \n",
       "984      Ewallet  877.32                 4.761905       43.8660     7.4  \n",
       "985         Cash   31.84                 4.761905        1.5920     7.7  \n",
       "986         Cash   65.82                 4.761905        3.2910     4.1  \n",
       "988         Cash  618.38                 4.761905       30.9190     6.6  \n",
       "\n",
       "[334 rows x 17 columns]"
      ]
     },
     "execution_count": 48,
     "metadata": {},
     "output_type": "execute_result"
    }
   ],
   "source": [
    "sales.query('City == \"Yangon\"')"
   ]
  },
  {
   "cell_type": "markdown",
   "id": "6a826792",
   "metadata": {},
   "source": [
    "* purchases made in Yangon in cash"
   ]
  },
  {
   "cell_type": "code",
   "execution_count": 49,
   "id": "a0a9cafb",
   "metadata": {},
   "outputs": [
    {
     "data": {
      "text/html": [
       "<div>\n",
       "<style scoped>\n",
       "    .dataframe tbody tr th:only-of-type {\n",
       "        vertical-align: middle;\n",
       "    }\n",
       "\n",
       "    .dataframe tbody tr th {\n",
       "        vertical-align: top;\n",
       "    }\n",
       "\n",
       "    .dataframe thead th {\n",
       "        text-align: right;\n",
       "    }\n",
       "</style>\n",
       "<table border=\"1\" class=\"dataframe\">\n",
       "  <thead>\n",
       "    <tr style=\"text-align: right;\">\n",
       "      <th></th>\n",
       "      <th>Invoice ID</th>\n",
       "      <th>Branch</th>\n",
       "      <th>City</th>\n",
       "      <th>Customer type</th>\n",
       "      <th>Gender</th>\n",
       "      <th>Product line</th>\n",
       "      <th>Unit price</th>\n",
       "      <th>Quantity</th>\n",
       "      <th>Tax 5%</th>\n",
       "      <th>Total</th>\n",
       "      <th>Date</th>\n",
       "      <th>Time</th>\n",
       "      <th>Payment</th>\n",
       "      <th>cogs</th>\n",
       "      <th>gross margin percentage</th>\n",
       "      <th>gross income</th>\n",
       "      <th>Rating</th>\n",
       "    </tr>\n",
       "  </thead>\n",
       "  <tbody>\n",
       "    <tr>\n",
       "      <th>14</th>\n",
       "      <td>829-34-3910</td>\n",
       "      <td>A</td>\n",
       "      <td>Yangon</td>\n",
       "      <td>Normal</td>\n",
       "      <td>Female</td>\n",
       "      <td>Health and beauty</td>\n",
       "      <td>71.38</td>\n",
       "      <td>10</td>\n",
       "      <td>35.6900</td>\n",
       "      <td>749.4900</td>\n",
       "      <td>2019-03-29</td>\n",
       "      <td>2023-05-16 19:21:00</td>\n",
       "      <td>Cash</td>\n",
       "      <td>713.80</td>\n",
       "      <td>4.761905</td>\n",
       "      <td>35.6900</td>\n",
       "      <td>5.7</td>\n",
       "    </tr>\n",
       "    <tr>\n",
       "      <th>29</th>\n",
       "      <td>848-62-7243</td>\n",
       "      <td>A</td>\n",
       "      <td>Yangon</td>\n",
       "      <td>Normal</td>\n",
       "      <td>Male</td>\n",
       "      <td>Health and beauty</td>\n",
       "      <td>24.89</td>\n",
       "      <td>9</td>\n",
       "      <td>11.2005</td>\n",
       "      <td>235.2105</td>\n",
       "      <td>2019-03-15</td>\n",
       "      <td>2023-05-16 15:36:00</td>\n",
       "      <td>Cash</td>\n",
       "      <td>224.01</td>\n",
       "      <td>4.761905</td>\n",
       "      <td>11.2005</td>\n",
       "      <td>7.4</td>\n",
       "    </tr>\n",
       "    <tr>\n",
       "      <th>51</th>\n",
       "      <td>162-48-8011</td>\n",
       "      <td>A</td>\n",
       "      <td>Yangon</td>\n",
       "      <td>Member</td>\n",
       "      <td>Female</td>\n",
       "      <td>Food and beverages</td>\n",
       "      <td>44.59</td>\n",
       "      <td>5</td>\n",
       "      <td>11.1475</td>\n",
       "      <td>234.0975</td>\n",
       "      <td>2019-02-10</td>\n",
       "      <td>2023-05-16 15:10:00</td>\n",
       "      <td>Cash</td>\n",
       "      <td>222.95</td>\n",
       "      <td>4.761905</td>\n",
       "      <td>11.1475</td>\n",
       "      <td>8.5</td>\n",
       "    </tr>\n",
       "    <tr>\n",
       "      <th>56</th>\n",
       "      <td>106-35-6779</td>\n",
       "      <td>A</td>\n",
       "      <td>Yangon</td>\n",
       "      <td>Member</td>\n",
       "      <td>Male</td>\n",
       "      <td>Home and lifestyle</td>\n",
       "      <td>44.34</td>\n",
       "      <td>2</td>\n",
       "      <td>4.4340</td>\n",
       "      <td>93.1140</td>\n",
       "      <td>2019-03-27</td>\n",
       "      <td>2023-05-16 11:26:00</td>\n",
       "      <td>Cash</td>\n",
       "      <td>88.68</td>\n",
       "      <td>4.761905</td>\n",
       "      <td>4.4340</td>\n",
       "      <td>5.8</td>\n",
       "    </tr>\n",
       "    <tr>\n",
       "      <th>58</th>\n",
       "      <td>817-48-8732</td>\n",
       "      <td>A</td>\n",
       "      <td>Yangon</td>\n",
       "      <td>Member</td>\n",
       "      <td>Female</td>\n",
       "      <td>Home and lifestyle</td>\n",
       "      <td>72.35</td>\n",
       "      <td>10</td>\n",
       "      <td>36.1750</td>\n",
       "      <td>759.6750</td>\n",
       "      <td>2019-01-20</td>\n",
       "      <td>2023-05-16 15:55:00</td>\n",
       "      <td>Cash</td>\n",
       "      <td>723.50</td>\n",
       "      <td>4.761905</td>\n",
       "      <td>36.1750</td>\n",
       "      <td>5.4</td>\n",
       "    </tr>\n",
       "    <tr>\n",
       "      <th>...</th>\n",
       "      <td>...</td>\n",
       "      <td>...</td>\n",
       "      <td>...</td>\n",
       "      <td>...</td>\n",
       "      <td>...</td>\n",
       "      <td>...</td>\n",
       "      <td>...</td>\n",
       "      <td>...</td>\n",
       "      <td>...</td>\n",
       "      <td>...</td>\n",
       "      <td>...</td>\n",
       "      <td>...</td>\n",
       "      <td>...</td>\n",
       "      <td>...</td>\n",
       "      <td>...</td>\n",
       "      <td>...</td>\n",
       "      <td>...</td>\n",
       "    </tr>\n",
       "    <tr>\n",
       "      <th>978</th>\n",
       "      <td>221-25-5073</td>\n",
       "      <td>A</td>\n",
       "      <td>Yangon</td>\n",
       "      <td>Normal</td>\n",
       "      <td>Female</td>\n",
       "      <td>Food and beverages</td>\n",
       "      <td>74.66</td>\n",
       "      <td>4</td>\n",
       "      <td>14.9320</td>\n",
       "      <td>313.5720</td>\n",
       "      <td>2019-03-04</td>\n",
       "      <td>2023-05-16 10:39:00</td>\n",
       "      <td>Cash</td>\n",
       "      <td>298.64</td>\n",
       "      <td>4.761905</td>\n",
       "      <td>14.9320</td>\n",
       "      <td>8.5</td>\n",
       "    </tr>\n",
       "    <tr>\n",
       "      <th>983</th>\n",
       "      <td>809-46-1866</td>\n",
       "      <td>A</td>\n",
       "      <td>Yangon</td>\n",
       "      <td>Normal</td>\n",
       "      <td>Male</td>\n",
       "      <td>Health and beauty</td>\n",
       "      <td>58.15</td>\n",
       "      <td>4</td>\n",
       "      <td>11.6300</td>\n",
       "      <td>244.2300</td>\n",
       "      <td>2019-01-23</td>\n",
       "      <td>2023-05-16 17:44:00</td>\n",
       "      <td>Cash</td>\n",
       "      <td>232.60</td>\n",
       "      <td>4.761905</td>\n",
       "      <td>11.6300</td>\n",
       "      <td>8.4</td>\n",
       "    </tr>\n",
       "    <tr>\n",
       "      <th>985</th>\n",
       "      <td>727-02-1313</td>\n",
       "      <td>A</td>\n",
       "      <td>Yangon</td>\n",
       "      <td>Member</td>\n",
       "      <td>Male</td>\n",
       "      <td>Food and beverages</td>\n",
       "      <td>31.84</td>\n",
       "      <td>1</td>\n",
       "      <td>1.5920</td>\n",
       "      <td>33.4320</td>\n",
       "      <td>2019-02-09</td>\n",
       "      <td>2023-05-16 13:22:00</td>\n",
       "      <td>Cash</td>\n",
       "      <td>31.84</td>\n",
       "      <td>4.761905</td>\n",
       "      <td>1.5920</td>\n",
       "      <td>7.7</td>\n",
       "    </tr>\n",
       "    <tr>\n",
       "      <th>986</th>\n",
       "      <td>347-56-2442</td>\n",
       "      <td>A</td>\n",
       "      <td>Yangon</td>\n",
       "      <td>Normal</td>\n",
       "      <td>Male</td>\n",
       "      <td>Home and lifestyle</td>\n",
       "      <td>65.82</td>\n",
       "      <td>1</td>\n",
       "      <td>3.2910</td>\n",
       "      <td>69.1110</td>\n",
       "      <td>2019-02-22</td>\n",
       "      <td>2023-05-16 15:33:00</td>\n",
       "      <td>Cash</td>\n",
       "      <td>65.82</td>\n",
       "      <td>4.761905</td>\n",
       "      <td>3.2910</td>\n",
       "      <td>4.1</td>\n",
       "    </tr>\n",
       "    <tr>\n",
       "      <th>988</th>\n",
       "      <td>849-09-3807</td>\n",
       "      <td>A</td>\n",
       "      <td>Yangon</td>\n",
       "      <td>Member</td>\n",
       "      <td>Female</td>\n",
       "      <td>Fashion accessories</td>\n",
       "      <td>88.34</td>\n",
       "      <td>7</td>\n",
       "      <td>30.9190</td>\n",
       "      <td>649.2990</td>\n",
       "      <td>2019-02-18</td>\n",
       "      <td>2023-05-16 13:28:00</td>\n",
       "      <td>Cash</td>\n",
       "      <td>618.38</td>\n",
       "      <td>4.761905</td>\n",
       "      <td>30.9190</td>\n",
       "      <td>6.6</td>\n",
       "    </tr>\n",
       "  </tbody>\n",
       "</table>\n",
       "<p>108 rows × 17 columns</p>\n",
       "</div>"
      ],
      "text/plain": [
       "      Invoice ID Branch    City Customer type  Gender         Product line  \\\n",
       "14   829-34-3910      A  Yangon        Normal  Female    Health and beauty   \n",
       "29   848-62-7243      A  Yangon        Normal    Male    Health and beauty   \n",
       "51   162-48-8011      A  Yangon        Member  Female   Food and beverages   \n",
       "56   106-35-6779      A  Yangon        Member    Male   Home and lifestyle   \n",
       "58   817-48-8732      A  Yangon        Member  Female   Home and lifestyle   \n",
       "..           ...    ...     ...           ...     ...                  ...   \n",
       "978  221-25-5073      A  Yangon        Normal  Female   Food and beverages   \n",
       "983  809-46-1866      A  Yangon        Normal    Male    Health and beauty   \n",
       "985  727-02-1313      A  Yangon        Member    Male   Food and beverages   \n",
       "986  347-56-2442      A  Yangon        Normal    Male   Home and lifestyle   \n",
       "988  849-09-3807      A  Yangon        Member  Female  Fashion accessories   \n",
       "\n",
       "     Unit price  Quantity   Tax 5%     Total       Date                Time  \\\n",
       "14        71.38        10  35.6900  749.4900 2019-03-29 2023-05-16 19:21:00   \n",
       "29        24.89         9  11.2005  235.2105 2019-03-15 2023-05-16 15:36:00   \n",
       "51        44.59         5  11.1475  234.0975 2019-02-10 2023-05-16 15:10:00   \n",
       "56        44.34         2   4.4340   93.1140 2019-03-27 2023-05-16 11:26:00   \n",
       "58        72.35        10  36.1750  759.6750 2019-01-20 2023-05-16 15:55:00   \n",
       "..          ...       ...      ...       ...        ...                 ...   \n",
       "978       74.66         4  14.9320  313.5720 2019-03-04 2023-05-16 10:39:00   \n",
       "983       58.15         4  11.6300  244.2300 2019-01-23 2023-05-16 17:44:00   \n",
       "985       31.84         1   1.5920   33.4320 2019-02-09 2023-05-16 13:22:00   \n",
       "986       65.82         1   3.2910   69.1110 2019-02-22 2023-05-16 15:33:00   \n",
       "988       88.34         7  30.9190  649.2990 2019-02-18 2023-05-16 13:28:00   \n",
       "\n",
       "    Payment    cogs  gross margin percentage  gross income  Rating  \n",
       "14     Cash  713.80                 4.761905       35.6900     5.7  \n",
       "29     Cash  224.01                 4.761905       11.2005     7.4  \n",
       "51     Cash  222.95                 4.761905       11.1475     8.5  \n",
       "56     Cash   88.68                 4.761905        4.4340     5.8  \n",
       "58     Cash  723.50                 4.761905       36.1750     5.4  \n",
       "..      ...     ...                      ...           ...     ...  \n",
       "978    Cash  298.64                 4.761905       14.9320     8.5  \n",
       "983    Cash  232.60                 4.761905       11.6300     8.4  \n",
       "985    Cash   31.84                 4.761905        1.5920     7.7  \n",
       "986    Cash   65.82                 4.761905        3.2910     4.1  \n",
       "988    Cash  618.38                 4.761905       30.9190     6.6  \n",
       "\n",
       "[108 rows x 17 columns]"
      ]
     },
     "execution_count": 49,
     "metadata": {},
     "output_type": "execute_result"
    }
   ],
   "source": [
    "sales.query('City == \"Yangon\"')"
   ]
  },
  {
   "cell_type": "markdown",
   "id": "082d370d",
   "metadata": {},
   "source": [
    "* purchases totalling between 1500 and 1000 e"
   ]
  },
  {
   "cell_type": "code",
   "execution_count": 50,
   "id": "cafe091e",
   "metadata": {},
   "outputs": [
    {
     "data": {
      "text/html": [
       "<div>\n",
       "<style scoped>\n",
       "    .dataframe tbody tr th:only-of-type {\n",
       "        vertical-align: middle;\n",
       "    }\n",
       "\n",
       "    .dataframe tbody tr th {\n",
       "        vertical-align: top;\n",
       "    }\n",
       "\n",
       "    .dataframe thead th {\n",
       "        text-align: right;\n",
       "    }\n",
       "</style>\n",
       "<table border=\"1\" class=\"dataframe\">\n",
       "  <thead>\n",
       "    <tr style=\"text-align: right;\">\n",
       "      <th></th>\n",
       "      <th>Invoice ID</th>\n",
       "      <th>Branch</th>\n",
       "      <th>City</th>\n",
       "      <th>Customer type</th>\n",
       "      <th>Gender</th>\n",
       "      <th>Product line</th>\n",
       "      <th>Unit price</th>\n",
       "      <th>Quantity</th>\n",
       "      <th>Tax 5%</th>\n",
       "      <th>Total</th>\n",
       "      <th>Date</th>\n",
       "      <th>Time</th>\n",
       "      <th>Payment</th>\n",
       "      <th>cogs</th>\n",
       "      <th>gross margin percentage</th>\n",
       "      <th>gross income</th>\n",
       "      <th>Rating</th>\n",
       "    </tr>\n",
       "  </thead>\n",
       "  <tbody>\n",
       "    <tr>\n",
       "      <th>166</th>\n",
       "      <td>234-65-2137</td>\n",
       "      <td>C</td>\n",
       "      <td>Naypyitaw</td>\n",
       "      <td>Normal</td>\n",
       "      <td>Male</td>\n",
       "      <td>Home and lifestyle</td>\n",
       "      <td>95.58</td>\n",
       "      <td>10</td>\n",
       "      <td>47.790</td>\n",
       "      <td>1003.590</td>\n",
       "      <td>2019-01-16</td>\n",
       "      <td>2023-05-16 13:32:00</td>\n",
       "      <td>Cash</td>\n",
       "      <td>955.8</td>\n",
       "      <td>4.761905</td>\n",
       "      <td>47.790</td>\n",
       "      <td>4.8</td>\n",
       "    </tr>\n",
       "    <tr>\n",
       "      <th>167</th>\n",
       "      <td>687-47-8271</td>\n",
       "      <td>A</td>\n",
       "      <td>Yangon</td>\n",
       "      <td>Normal</td>\n",
       "      <td>Male</td>\n",
       "      <td>Fashion accessories</td>\n",
       "      <td>98.98</td>\n",
       "      <td>10</td>\n",
       "      <td>49.490</td>\n",
       "      <td>1039.290</td>\n",
       "      <td>2019-02-08</td>\n",
       "      <td>2023-05-16 16:20:00</td>\n",
       "      <td>Credit card</td>\n",
       "      <td>989.8</td>\n",
       "      <td>4.761905</td>\n",
       "      <td>49.490</td>\n",
       "      <td>8.7</td>\n",
       "    </tr>\n",
       "    <tr>\n",
       "      <th>350</th>\n",
       "      <td>860-79-0874</td>\n",
       "      <td>C</td>\n",
       "      <td>Naypyitaw</td>\n",
       "      <td>Member</td>\n",
       "      <td>Female</td>\n",
       "      <td>Fashion accessories</td>\n",
       "      <td>99.30</td>\n",
       "      <td>10</td>\n",
       "      <td>49.650</td>\n",
       "      <td>1042.650</td>\n",
       "      <td>2019-02-15</td>\n",
       "      <td>2023-05-16 14:53:00</td>\n",
       "      <td>Credit card</td>\n",
       "      <td>993.0</td>\n",
       "      <td>4.761905</td>\n",
       "      <td>49.650</td>\n",
       "      <td>6.6</td>\n",
       "    </tr>\n",
       "    <tr>\n",
       "      <th>357</th>\n",
       "      <td>554-42-2417</td>\n",
       "      <td>C</td>\n",
       "      <td>Naypyitaw</td>\n",
       "      <td>Normal</td>\n",
       "      <td>Female</td>\n",
       "      <td>Sports and travel</td>\n",
       "      <td>95.44</td>\n",
       "      <td>10</td>\n",
       "      <td>47.720</td>\n",
       "      <td>1002.120</td>\n",
       "      <td>2019-01-09</td>\n",
       "      <td>2023-05-16 13:45:00</td>\n",
       "      <td>Cash</td>\n",
       "      <td>954.4</td>\n",
       "      <td>4.761905</td>\n",
       "      <td>47.720</td>\n",
       "      <td>5.2</td>\n",
       "    </tr>\n",
       "    <tr>\n",
       "      <th>422</th>\n",
       "      <td>271-88-8734</td>\n",
       "      <td>C</td>\n",
       "      <td>Naypyitaw</td>\n",
       "      <td>Member</td>\n",
       "      <td>Female</td>\n",
       "      <td>Fashion accessories</td>\n",
       "      <td>97.21</td>\n",
       "      <td>10</td>\n",
       "      <td>48.605</td>\n",
       "      <td>1020.705</td>\n",
       "      <td>2019-02-08</td>\n",
       "      <td>2023-05-16 13:00:00</td>\n",
       "      <td>Credit card</td>\n",
       "      <td>972.1</td>\n",
       "      <td>4.761905</td>\n",
       "      <td>48.605</td>\n",
       "      <td>8.7</td>\n",
       "    </tr>\n",
       "    <tr>\n",
       "      <th>557</th>\n",
       "      <td>283-26-5248</td>\n",
       "      <td>C</td>\n",
       "      <td>Naypyitaw</td>\n",
       "      <td>Member</td>\n",
       "      <td>Female</td>\n",
       "      <td>Food and beverages</td>\n",
       "      <td>98.52</td>\n",
       "      <td>10</td>\n",
       "      <td>49.260</td>\n",
       "      <td>1034.460</td>\n",
       "      <td>2019-01-30</td>\n",
       "      <td>2023-05-16 20:23:00</td>\n",
       "      <td>Ewallet</td>\n",
       "      <td>985.2</td>\n",
       "      <td>4.761905</td>\n",
       "      <td>49.260</td>\n",
       "      <td>4.5</td>\n",
       "    </tr>\n",
       "    <tr>\n",
       "      <th>699</th>\n",
       "      <td>751-41-9720</td>\n",
       "      <td>C</td>\n",
       "      <td>Naypyitaw</td>\n",
       "      <td>Normal</td>\n",
       "      <td>Male</td>\n",
       "      <td>Home and lifestyle</td>\n",
       "      <td>97.50</td>\n",
       "      <td>10</td>\n",
       "      <td>48.750</td>\n",
       "      <td>1023.750</td>\n",
       "      <td>2019-01-12</td>\n",
       "      <td>2023-05-16 16:18:00</td>\n",
       "      <td>Ewallet</td>\n",
       "      <td>975.0</td>\n",
       "      <td>4.761905</td>\n",
       "      <td>48.750</td>\n",
       "      <td>8.0</td>\n",
       "    </tr>\n",
       "    <tr>\n",
       "      <th>792</th>\n",
       "      <td>744-16-7898</td>\n",
       "      <td>B</td>\n",
       "      <td>Mandalay</td>\n",
       "      <td>Normal</td>\n",
       "      <td>Female</td>\n",
       "      <td>Home and lifestyle</td>\n",
       "      <td>97.37</td>\n",
       "      <td>10</td>\n",
       "      <td>48.685</td>\n",
       "      <td>1022.385</td>\n",
       "      <td>2019-01-15</td>\n",
       "      <td>2023-05-16 13:48:00</td>\n",
       "      <td>Credit card</td>\n",
       "      <td>973.7</td>\n",
       "      <td>4.761905</td>\n",
       "      <td>48.685</td>\n",
       "      <td>4.9</td>\n",
       "    </tr>\n",
       "  </tbody>\n",
       "</table>\n",
       "</div>"
      ],
      "text/plain": [
       "      Invoice ID Branch       City Customer type  Gender         Product line  \\\n",
       "166  234-65-2137      C  Naypyitaw        Normal    Male   Home and lifestyle   \n",
       "167  687-47-8271      A     Yangon        Normal    Male  Fashion accessories   \n",
       "350  860-79-0874      C  Naypyitaw        Member  Female  Fashion accessories   \n",
       "357  554-42-2417      C  Naypyitaw        Normal  Female    Sports and travel   \n",
       "422  271-88-8734      C  Naypyitaw        Member  Female  Fashion accessories   \n",
       "557  283-26-5248      C  Naypyitaw        Member  Female   Food and beverages   \n",
       "699  751-41-9720      C  Naypyitaw        Normal    Male   Home and lifestyle   \n",
       "792  744-16-7898      B   Mandalay        Normal  Female   Home and lifestyle   \n",
       "\n",
       "     Unit price  Quantity  Tax 5%     Total       Date                Time  \\\n",
       "166       95.58        10  47.790  1003.590 2019-01-16 2023-05-16 13:32:00   \n",
       "167       98.98        10  49.490  1039.290 2019-02-08 2023-05-16 16:20:00   \n",
       "350       99.30        10  49.650  1042.650 2019-02-15 2023-05-16 14:53:00   \n",
       "357       95.44        10  47.720  1002.120 2019-01-09 2023-05-16 13:45:00   \n",
       "422       97.21        10  48.605  1020.705 2019-02-08 2023-05-16 13:00:00   \n",
       "557       98.52        10  49.260  1034.460 2019-01-30 2023-05-16 20:23:00   \n",
       "699       97.50        10  48.750  1023.750 2019-01-12 2023-05-16 16:18:00   \n",
       "792       97.37        10  48.685  1022.385 2019-01-15 2023-05-16 13:48:00   \n",
       "\n",
       "         Payment   cogs  gross margin percentage  gross income  Rating  \n",
       "166         Cash  955.8                 4.761905        47.790     4.8  \n",
       "167  Credit card  989.8                 4.761905        49.490     8.7  \n",
       "350  Credit card  993.0                 4.761905        49.650     6.6  \n",
       "357         Cash  954.4                 4.761905        47.720     5.2  \n",
       "422  Credit card  972.1                 4.761905        48.605     8.7  \n",
       "557      Ewallet  985.2                 4.761905        49.260     4.5  \n",
       "699      Ewallet  975.0                 4.761905        48.750     8.0  \n",
       "792  Credit card  973.7                 4.761905        48.685     4.9  "
      ]
     },
     "execution_count": 50,
     "metadata": {},
     "output_type": "execute_result"
    }
   ],
   "source": [
    "sales.query('1000 < Total < 1500')"
   ]
  },
  {
   "cell_type": "markdown",
   "id": "3fe3a121",
   "metadata": {},
   "source": [
    "* purchases made in Naypyitaw in cash, that cost less than 50e."
   ]
  },
  {
   "cell_type": "code",
   "execution_count": 51,
   "id": "434f0d8a",
   "metadata": {},
   "outputs": [
    {
     "data": {
      "text/html": [
       "<div>\n",
       "<style scoped>\n",
       "    .dataframe tbody tr th:only-of-type {\n",
       "        vertical-align: middle;\n",
       "    }\n",
       "\n",
       "    .dataframe tbody tr th {\n",
       "        vertical-align: top;\n",
       "    }\n",
       "\n",
       "    .dataframe thead th {\n",
       "        text-align: right;\n",
       "    }\n",
       "</style>\n",
       "<table border=\"1\" class=\"dataframe\">\n",
       "  <thead>\n",
       "    <tr style=\"text-align: right;\">\n",
       "      <th></th>\n",
       "      <th>Invoice ID</th>\n",
       "      <th>Branch</th>\n",
       "      <th>City</th>\n",
       "      <th>Customer type</th>\n",
       "      <th>Gender</th>\n",
       "      <th>Product line</th>\n",
       "      <th>Unit price</th>\n",
       "      <th>Quantity</th>\n",
       "      <th>Tax 5%</th>\n",
       "      <th>Total</th>\n",
       "      <th>Date</th>\n",
       "      <th>Time</th>\n",
       "      <th>Payment</th>\n",
       "      <th>cogs</th>\n",
       "      <th>gross margin percentage</th>\n",
       "      <th>gross income</th>\n",
       "      <th>Rating</th>\n",
       "    </tr>\n",
       "  </thead>\n",
       "  <tbody>\n",
       "    <tr>\n",
       "      <th>44</th>\n",
       "      <td>617-15-4209</td>\n",
       "      <td>C</td>\n",
       "      <td>Naypyitaw</td>\n",
       "      <td>Member</td>\n",
       "      <td>Male</td>\n",
       "      <td>Health and beauty</td>\n",
       "      <td>15.37</td>\n",
       "      <td>2</td>\n",
       "      <td>1.5370</td>\n",
       "      <td>32.2770</td>\n",
       "      <td>2019-03-16</td>\n",
       "      <td>2023-05-16 19:47:00</td>\n",
       "      <td>Cash</td>\n",
       "      <td>30.74</td>\n",
       "      <td>4.761905</td>\n",
       "      <td>1.5370</td>\n",
       "      <td>7.2</td>\n",
       "    </tr>\n",
       "    <tr>\n",
       "      <th>223</th>\n",
       "      <td>279-62-1445</td>\n",
       "      <td>C</td>\n",
       "      <td>Naypyitaw</td>\n",
       "      <td>Member</td>\n",
       "      <td>Female</td>\n",
       "      <td>Fashion accessories</td>\n",
       "      <td>12.54</td>\n",
       "      <td>1</td>\n",
       "      <td>0.6270</td>\n",
       "      <td>13.1670</td>\n",
       "      <td>2019-02-21</td>\n",
       "      <td>2023-05-16 12:38:00</td>\n",
       "      <td>Cash</td>\n",
       "      <td>12.54</td>\n",
       "      <td>4.761905</td>\n",
       "      <td>0.6270</td>\n",
       "      <td>8.2</td>\n",
       "    </tr>\n",
       "    <tr>\n",
       "      <th>271</th>\n",
       "      <td>687-15-1097</td>\n",
       "      <td>C</td>\n",
       "      <td>Naypyitaw</td>\n",
       "      <td>Member</td>\n",
       "      <td>Female</td>\n",
       "      <td>Health and beauty</td>\n",
       "      <td>21.12</td>\n",
       "      <td>2</td>\n",
       "      <td>2.1120</td>\n",
       "      <td>44.3520</td>\n",
       "      <td>2019-01-03</td>\n",
       "      <td>2023-05-16 19:17:00</td>\n",
       "      <td>Cash</td>\n",
       "      <td>42.24</td>\n",
       "      <td>4.761905</td>\n",
       "      <td>2.1120</td>\n",
       "      <td>9.7</td>\n",
       "    </tr>\n",
       "    <tr>\n",
       "      <th>321</th>\n",
       "      <td>622-20-1945</td>\n",
       "      <td>C</td>\n",
       "      <td>Naypyitaw</td>\n",
       "      <td>Normal</td>\n",
       "      <td>Female</td>\n",
       "      <td>Health and beauty</td>\n",
       "      <td>39.42</td>\n",
       "      <td>1</td>\n",
       "      <td>1.9710</td>\n",
       "      <td>41.3910</td>\n",
       "      <td>2019-01-18</td>\n",
       "      <td>2023-05-16 15:08:00</td>\n",
       "      <td>Cash</td>\n",
       "      <td>39.42</td>\n",
       "      <td>4.761905</td>\n",
       "      <td>1.9710</td>\n",
       "      <td>8.4</td>\n",
       "    </tr>\n",
       "    <tr>\n",
       "      <th>354</th>\n",
       "      <td>320-49-6392</td>\n",
       "      <td>C</td>\n",
       "      <td>Naypyitaw</td>\n",
       "      <td>Normal</td>\n",
       "      <td>Female</td>\n",
       "      <td>Electronic accessories</td>\n",
       "      <td>30.24</td>\n",
       "      <td>1</td>\n",
       "      <td>1.5120</td>\n",
       "      <td>31.7520</td>\n",
       "      <td>2019-03-04</td>\n",
       "      <td>2023-05-16 15:44:00</td>\n",
       "      <td>Cash</td>\n",
       "      <td>30.24</td>\n",
       "      <td>4.761905</td>\n",
       "      <td>1.5120</td>\n",
       "      <td>8.4</td>\n",
       "    </tr>\n",
       "    <tr>\n",
       "      <th>424</th>\n",
       "      <td>489-64-4354</td>\n",
       "      <td>C</td>\n",
       "      <td>Naypyitaw</td>\n",
       "      <td>Normal</td>\n",
       "      <td>Male</td>\n",
       "      <td>Fashion accessories</td>\n",
       "      <td>16.28</td>\n",
       "      <td>1</td>\n",
       "      <td>0.8140</td>\n",
       "      <td>17.0940</td>\n",
       "      <td>2019-03-09</td>\n",
       "      <td>2023-05-16 15:36:00</td>\n",
       "      <td>Cash</td>\n",
       "      <td>16.28</td>\n",
       "      <td>4.761905</td>\n",
       "      <td>0.8140</td>\n",
       "      <td>5.0</td>\n",
       "    </tr>\n",
       "    <tr>\n",
       "      <th>463</th>\n",
       "      <td>320-32-8842</td>\n",
       "      <td>C</td>\n",
       "      <td>Naypyitaw</td>\n",
       "      <td>Member</td>\n",
       "      <td>Female</td>\n",
       "      <td>Food and beverages</td>\n",
       "      <td>22.62</td>\n",
       "      <td>1</td>\n",
       "      <td>1.1310</td>\n",
       "      <td>23.7510</td>\n",
       "      <td>2019-03-17</td>\n",
       "      <td>2023-05-16 18:58:00</td>\n",
       "      <td>Cash</td>\n",
       "      <td>22.62</td>\n",
       "      <td>4.761905</td>\n",
       "      <td>1.1310</td>\n",
       "      <td>6.4</td>\n",
       "    </tr>\n",
       "    <tr>\n",
       "      <th>488</th>\n",
       "      <td>556-72-8512</td>\n",
       "      <td>C</td>\n",
       "      <td>Naypyitaw</td>\n",
       "      <td>Normal</td>\n",
       "      <td>Male</td>\n",
       "      <td>Home and lifestyle</td>\n",
       "      <td>22.96</td>\n",
       "      <td>1</td>\n",
       "      <td>1.1480</td>\n",
       "      <td>24.1080</td>\n",
       "      <td>2019-01-30</td>\n",
       "      <td>2023-05-16 20:47:00</td>\n",
       "      <td>Cash</td>\n",
       "      <td>22.96</td>\n",
       "      <td>4.761905</td>\n",
       "      <td>1.1480</td>\n",
       "      <td>4.3</td>\n",
       "    </tr>\n",
       "    <tr>\n",
       "      <th>637</th>\n",
       "      <td>318-81-2368</td>\n",
       "      <td>C</td>\n",
       "      <td>Naypyitaw</td>\n",
       "      <td>Normal</td>\n",
       "      <td>Female</td>\n",
       "      <td>Electronic accessories</td>\n",
       "      <td>46.20</td>\n",
       "      <td>1</td>\n",
       "      <td>2.3100</td>\n",
       "      <td>48.5100</td>\n",
       "      <td>2019-03-19</td>\n",
       "      <td>2023-05-16 12:16:00</td>\n",
       "      <td>Cash</td>\n",
       "      <td>46.20</td>\n",
       "      <td>4.761905</td>\n",
       "      <td>2.3100</td>\n",
       "      <td>6.3</td>\n",
       "    </tr>\n",
       "    <tr>\n",
       "      <th>648</th>\n",
       "      <td>859-71-0933</td>\n",
       "      <td>C</td>\n",
       "      <td>Naypyitaw</td>\n",
       "      <td>Member</td>\n",
       "      <td>Female</td>\n",
       "      <td>Sports and travel</td>\n",
       "      <td>15.49</td>\n",
       "      <td>2</td>\n",
       "      <td>1.5490</td>\n",
       "      <td>32.5290</td>\n",
       "      <td>2019-01-16</td>\n",
       "      <td>2023-05-16 15:10:00</td>\n",
       "      <td>Cash</td>\n",
       "      <td>30.98</td>\n",
       "      <td>4.761905</td>\n",
       "      <td>1.5490</td>\n",
       "      <td>6.3</td>\n",
       "    </tr>\n",
       "    <tr>\n",
       "      <th>745</th>\n",
       "      <td>390-17-5806</td>\n",
       "      <td>C</td>\n",
       "      <td>Naypyitaw</td>\n",
       "      <td>Member</td>\n",
       "      <td>Female</td>\n",
       "      <td>Food and beverages</td>\n",
       "      <td>38.42</td>\n",
       "      <td>1</td>\n",
       "      <td>1.9210</td>\n",
       "      <td>40.3410</td>\n",
       "      <td>2019-02-02</td>\n",
       "      <td>2023-05-16 16:33:00</td>\n",
       "      <td>Cash</td>\n",
       "      <td>38.42</td>\n",
       "      <td>4.761905</td>\n",
       "      <td>1.9210</td>\n",
       "      <td>8.6</td>\n",
       "    </tr>\n",
       "    <tr>\n",
       "      <th>822</th>\n",
       "      <td>784-21-9238</td>\n",
       "      <td>C</td>\n",
       "      <td>Naypyitaw</td>\n",
       "      <td>Member</td>\n",
       "      <td>Male</td>\n",
       "      <td>Sports and travel</td>\n",
       "      <td>10.17</td>\n",
       "      <td>1</td>\n",
       "      <td>0.5085</td>\n",
       "      <td>10.6785</td>\n",
       "      <td>2019-02-07</td>\n",
       "      <td>2023-05-16 14:15:00</td>\n",
       "      <td>Cash</td>\n",
       "      <td>10.17</td>\n",
       "      <td>4.761905</td>\n",
       "      <td>0.5085</td>\n",
       "      <td>5.9</td>\n",
       "    </tr>\n",
       "  </tbody>\n",
       "</table>\n",
       "</div>"
      ],
      "text/plain": [
       "      Invoice ID Branch       City Customer type  Gender  \\\n",
       "44   617-15-4209      C  Naypyitaw        Member    Male   \n",
       "223  279-62-1445      C  Naypyitaw        Member  Female   \n",
       "271  687-15-1097      C  Naypyitaw        Member  Female   \n",
       "321  622-20-1945      C  Naypyitaw        Normal  Female   \n",
       "354  320-49-6392      C  Naypyitaw        Normal  Female   \n",
       "424  489-64-4354      C  Naypyitaw        Normal    Male   \n",
       "463  320-32-8842      C  Naypyitaw        Member  Female   \n",
       "488  556-72-8512      C  Naypyitaw        Normal    Male   \n",
       "637  318-81-2368      C  Naypyitaw        Normal  Female   \n",
       "648  859-71-0933      C  Naypyitaw        Member  Female   \n",
       "745  390-17-5806      C  Naypyitaw        Member  Female   \n",
       "822  784-21-9238      C  Naypyitaw        Member    Male   \n",
       "\n",
       "               Product line  Unit price  Quantity  Tax 5%    Total       Date  \\\n",
       "44        Health and beauty       15.37         2  1.5370  32.2770 2019-03-16   \n",
       "223     Fashion accessories       12.54         1  0.6270  13.1670 2019-02-21   \n",
       "271       Health and beauty       21.12         2  2.1120  44.3520 2019-01-03   \n",
       "321       Health and beauty       39.42         1  1.9710  41.3910 2019-01-18   \n",
       "354  Electronic accessories       30.24         1  1.5120  31.7520 2019-03-04   \n",
       "424     Fashion accessories       16.28         1  0.8140  17.0940 2019-03-09   \n",
       "463      Food and beverages       22.62         1  1.1310  23.7510 2019-03-17   \n",
       "488      Home and lifestyle       22.96         1  1.1480  24.1080 2019-01-30   \n",
       "637  Electronic accessories       46.20         1  2.3100  48.5100 2019-03-19   \n",
       "648       Sports and travel       15.49         2  1.5490  32.5290 2019-01-16   \n",
       "745      Food and beverages       38.42         1  1.9210  40.3410 2019-02-02   \n",
       "822       Sports and travel       10.17         1  0.5085  10.6785 2019-02-07   \n",
       "\n",
       "                   Time Payment   cogs  gross margin percentage  gross income  \\\n",
       "44  2023-05-16 19:47:00    Cash  30.74                 4.761905        1.5370   \n",
       "223 2023-05-16 12:38:00    Cash  12.54                 4.761905        0.6270   \n",
       "271 2023-05-16 19:17:00    Cash  42.24                 4.761905        2.1120   \n",
       "321 2023-05-16 15:08:00    Cash  39.42                 4.761905        1.9710   \n",
       "354 2023-05-16 15:44:00    Cash  30.24                 4.761905        1.5120   \n",
       "424 2023-05-16 15:36:00    Cash  16.28                 4.761905        0.8140   \n",
       "463 2023-05-16 18:58:00    Cash  22.62                 4.761905        1.1310   \n",
       "488 2023-05-16 20:47:00    Cash  22.96                 4.761905        1.1480   \n",
       "637 2023-05-16 12:16:00    Cash  46.20                 4.761905        2.3100   \n",
       "648 2023-05-16 15:10:00    Cash  30.98                 4.761905        1.5490   \n",
       "745 2023-05-16 16:33:00    Cash  38.42                 4.761905        1.9210   \n",
       "822 2023-05-16 14:15:00    Cash  10.17                 4.761905        0.5085   \n",
       "\n",
       "     Rating  \n",
       "44      7.2  \n",
       "223     8.2  \n",
       "271     9.7  \n",
       "321     8.4  \n",
       "354     8.4  \n",
       "424     5.0  \n",
       "463     6.4  \n",
       "488     4.3  \n",
       "637     6.3  \n",
       "648     6.3  \n",
       "745     8.6  \n",
       "822     5.9  "
      ]
     },
     "execution_count": 51,
     "metadata": {},
     "output_type": "execute_result"
    }
   ],
   "source": [
    "sales.query('Payment == \"Cash\" & City ==\"Naypyitaw\" & Total < 50')"
   ]
  },
  {
   "cell_type": "markdown",
   "id": "b9d83ec2",
   "metadata": {},
   "source": [
    "### Sum, Max, Min and Average"
   ]
  },
  {
   "cell_type": "markdown",
   "id": "ea6defef",
   "metadata": {},
   "source": [
    "We can also of course, use functions like ```min()```, ```max()```,```sum()``` and ```mean()``` for basic statistical operations. We can also use ```describe()``` for a glance of the complete statistics of the data in a df or a particular column."
   ]
  },
  {
   "cell_type": "code",
   "execution_count": 52,
   "id": "5b5f7ac0",
   "metadata": {},
   "outputs": [
    {
     "data": {
      "text/plain": [
       "314964.1005"
      ]
     },
     "execution_count": 52,
     "metadata": {},
     "output_type": "execute_result"
    }
   ],
   "source": [
    "sales['Total'].sum()"
   ]
  },
  {
   "cell_type": "code",
   "execution_count": 53,
   "id": "c05addb2",
   "metadata": {},
   "outputs": [
    {
     "data": {
      "text/plain": [
       "5.5081632653061225"
      ]
     },
     "execution_count": 53,
     "metadata": {},
     "output_type": "execute_result"
    }
   ],
   "source": [
    "sales['Quantity'].mean()"
   ]
  },
  {
   "cell_type": "code",
   "execution_count": 54,
   "id": "b3f0077f",
   "metadata": {},
   "outputs": [
    {
     "data": {
      "text/html": [
       "<div>\n",
       "<style scoped>\n",
       "    .dataframe tbody tr th:only-of-type {\n",
       "        vertical-align: middle;\n",
       "    }\n",
       "\n",
       "    .dataframe tbody tr th {\n",
       "        vertical-align: top;\n",
       "    }\n",
       "\n",
       "    .dataframe thead th {\n",
       "        text-align: right;\n",
       "    }\n",
       "</style>\n",
       "<table border=\"1\" class=\"dataframe\">\n",
       "  <thead>\n",
       "    <tr style=\"text-align: right;\">\n",
       "      <th></th>\n",
       "      <th>Invoice ID</th>\n",
       "      <th>Branch</th>\n",
       "      <th>City</th>\n",
       "      <th>Customer type</th>\n",
       "      <th>Gender</th>\n",
       "      <th>Product line</th>\n",
       "      <th>Unit price</th>\n",
       "      <th>Quantity</th>\n",
       "      <th>Tax 5%</th>\n",
       "      <th>Total</th>\n",
       "      <th>Date</th>\n",
       "      <th>Time</th>\n",
       "      <th>Payment</th>\n",
       "      <th>cogs</th>\n",
       "      <th>gross margin percentage</th>\n",
       "      <th>gross income</th>\n",
       "      <th>Rating</th>\n",
       "    </tr>\n",
       "  </thead>\n",
       "  <tbody>\n",
       "    <tr>\n",
       "      <th>350</th>\n",
       "      <td>860-79-0874</td>\n",
       "      <td>C</td>\n",
       "      <td>Naypyitaw</td>\n",
       "      <td>Member</td>\n",
       "      <td>Female</td>\n",
       "      <td>Fashion accessories</td>\n",
       "      <td>99.3</td>\n",
       "      <td>10</td>\n",
       "      <td>49.65</td>\n",
       "      <td>1042.65</td>\n",
       "      <td>2019-02-15</td>\n",
       "      <td>2023-05-16 14:53:00</td>\n",
       "      <td>Credit card</td>\n",
       "      <td>993.0</td>\n",
       "      <td>4.761905</td>\n",
       "      <td>49.65</td>\n",
       "      <td>6.6</td>\n",
       "    </tr>\n",
       "  </tbody>\n",
       "</table>\n",
       "</div>"
      ],
      "text/plain": [
       "      Invoice ID Branch       City Customer type  Gender         Product line  \\\n",
       "350  860-79-0874      C  Naypyitaw        Member  Female  Fashion accessories   \n",
       "\n",
       "     Unit price  Quantity  Tax 5%    Total       Date                Time  \\\n",
       "350        99.3        10   49.65  1042.65 2019-02-15 2023-05-16 14:53:00   \n",
       "\n",
       "         Payment   cogs  gross margin percentage  gross income  Rating  \n",
       "350  Credit card  993.0                 4.761905         49.65     6.6  "
      ]
     },
     "execution_count": 54,
     "metadata": {},
     "output_type": "execute_result"
    }
   ],
   "source": [
    "sales[sales['Total']== sales.max()['Total']]"
   ]
  },
  {
   "cell_type": "code",
   "execution_count": 55,
   "id": "41e70f3a",
   "metadata": {},
   "outputs": [
    {
     "data": {
      "text/plain": [
       "Invoice ID                         898-04-2717\n",
       "Branch                                       C\n",
       "City                                    Yangon\n",
       "Customer type                           Normal\n",
       "Gender                                    Male\n",
       "Product line                 Sports and travel\n",
       "Unit price                               99.96\n",
       "Quantity                                    10\n",
       "Tax 5%                                   49.65\n",
       "Total                                  1042.65\n",
       "Date                       2019-03-30 00:00:00\n",
       "Time                       2023-05-16 20:59:00\n",
       "Payment                                Ewallet\n",
       "cogs                                     993.0\n",
       "gross margin percentage               4.761905\n",
       "gross income                             49.65\n",
       "Rating                                    10.0\n",
       "dtype: object"
      ]
     },
     "execution_count": 55,
     "metadata": {},
     "output_type": "execute_result"
    }
   ],
   "source": [
    "sales.max()\n"
   ]
  },
  {
   "cell_type": "code",
   "execution_count": 56,
   "id": "72ae62b5",
   "metadata": {},
   "outputs": [
    {
     "data": {
      "text/html": [
       "<div>\n",
       "<style scoped>\n",
       "    .dataframe tbody tr th:only-of-type {\n",
       "        vertical-align: middle;\n",
       "    }\n",
       "\n",
       "    .dataframe tbody tr th {\n",
       "        vertical-align: top;\n",
       "    }\n",
       "\n",
       "    .dataframe thead th {\n",
       "        text-align: right;\n",
       "    }\n",
       "</style>\n",
       "<table border=\"1\" class=\"dataframe\">\n",
       "  <thead>\n",
       "    <tr style=\"text-align: right;\">\n",
       "      <th></th>\n",
       "      <th>Invoice ID</th>\n",
       "      <th>Branch</th>\n",
       "      <th>City</th>\n",
       "      <th>Customer type</th>\n",
       "      <th>Gender</th>\n",
       "      <th>Product line</th>\n",
       "      <th>Unit price</th>\n",
       "      <th>Quantity</th>\n",
       "      <th>Tax 5%</th>\n",
       "      <th>Total</th>\n",
       "      <th>Date</th>\n",
       "      <th>Time</th>\n",
       "      <th>Payment</th>\n",
       "      <th>cogs</th>\n",
       "      <th>gross margin percentage</th>\n",
       "      <th>gross income</th>\n",
       "      <th>Rating</th>\n",
       "    </tr>\n",
       "  </thead>\n",
       "  <tbody>\n",
       "    <tr>\n",
       "      <th>822</th>\n",
       "      <td>784-21-9238</td>\n",
       "      <td>C</td>\n",
       "      <td>Naypyitaw</td>\n",
       "      <td>Member</td>\n",
       "      <td>Male</td>\n",
       "      <td>Sports and travel</td>\n",
       "      <td>10.17</td>\n",
       "      <td>1</td>\n",
       "      <td>0.5085</td>\n",
       "      <td>10.6785</td>\n",
       "      <td>2019-02-07</td>\n",
       "      <td>2023-05-16 14:15:00</td>\n",
       "      <td>Cash</td>\n",
       "      <td>10.17</td>\n",
       "      <td>4.761905</td>\n",
       "      <td>0.5085</td>\n",
       "      <td>5.9</td>\n",
       "    </tr>\n",
       "  </tbody>\n",
       "</table>\n",
       "</div>"
      ],
      "text/plain": [
       "      Invoice ID Branch       City Customer type Gender       Product line  \\\n",
       "822  784-21-9238      C  Naypyitaw        Member   Male  Sports and travel   \n",
       "\n",
       "     Unit price  Quantity  Tax 5%    Total       Date                Time  \\\n",
       "822       10.17         1  0.5085  10.6785 2019-02-07 2023-05-16 14:15:00   \n",
       "\n",
       "    Payment   cogs  gross margin percentage  gross income  Rating  \n",
       "822    Cash  10.17                 4.761905        0.5085     5.9  "
      ]
     },
     "execution_count": 56,
     "metadata": {},
     "output_type": "execute_result"
    }
   ],
   "source": [
    "sales[sales['Total']== sales.min()['Total']]"
   ]
  },
  {
   "cell_type": "code",
   "execution_count": 57,
   "id": "72c2fa56",
   "metadata": {},
   "outputs": [
    {
     "data": {
      "text/html": [
       "<div>\n",
       "<style scoped>\n",
       "    .dataframe tbody tr th:only-of-type {\n",
       "        vertical-align: middle;\n",
       "    }\n",
       "\n",
       "    .dataframe tbody tr th {\n",
       "        vertical-align: top;\n",
       "    }\n",
       "\n",
       "    .dataframe thead th {\n",
       "        text-align: right;\n",
       "    }\n",
       "</style>\n",
       "<table border=\"1\" class=\"dataframe\">\n",
       "  <thead>\n",
       "    <tr style=\"text-align: right;\">\n",
       "      <th></th>\n",
       "      <th>Unit price</th>\n",
       "      <th>Quantity</th>\n",
       "      <th>Tax 5%</th>\n",
       "      <th>Total</th>\n",
       "      <th>cogs</th>\n",
       "      <th>gross margin percentage</th>\n",
       "      <th>gross income</th>\n",
       "      <th>Rating</th>\n",
       "    </tr>\n",
       "  </thead>\n",
       "  <tbody>\n",
       "    <tr>\n",
       "      <th>count</th>\n",
       "      <td>980.000000</td>\n",
       "      <td>980.000000</td>\n",
       "      <td>980.000000</td>\n",
       "      <td>980.000000</td>\n",
       "      <td>980.000000</td>\n",
       "      <td>9.800000e+02</td>\n",
       "      <td>980.000000</td>\n",
       "      <td>980.000000</td>\n",
       "    </tr>\n",
       "    <tr>\n",
       "      <th>mean</th>\n",
       "      <td>55.468500</td>\n",
       "      <td>5.508163</td>\n",
       "      <td>15.305226</td>\n",
       "      <td>321.391939</td>\n",
       "      <td>306.087561</td>\n",
       "      <td>4.761905e+00</td>\n",
       "      <td>15.304378</td>\n",
       "      <td>6.975000</td>\n",
       "    </tr>\n",
       "    <tr>\n",
       "      <th>std</th>\n",
       "      <td>26.566844</td>\n",
       "      <td>2.917128</td>\n",
       "      <td>11.626824</td>\n",
       "      <td>244.181060</td>\n",
       "      <td>232.553390</td>\n",
       "      <td>6.131560e-14</td>\n",
       "      <td>11.627670</td>\n",
       "      <td>1.714225</td>\n",
       "    </tr>\n",
       "    <tr>\n",
       "      <th>min</th>\n",
       "      <td>0.000000</td>\n",
       "      <td>1.000000</td>\n",
       "      <td>0.508500</td>\n",
       "      <td>10.678500</td>\n",
       "      <td>10.170000</td>\n",
       "      <td>4.761905e+00</td>\n",
       "      <td>0.508500</td>\n",
       "      <td>4.000000</td>\n",
       "    </tr>\n",
       "    <tr>\n",
       "      <th>25%</th>\n",
       "      <td>32.580000</td>\n",
       "      <td>3.000000</td>\n",
       "      <td>5.971500</td>\n",
       "      <td>125.401500</td>\n",
       "      <td>119.430000</td>\n",
       "      <td>4.761905e+00</td>\n",
       "      <td>5.971500</td>\n",
       "      <td>5.500000</td>\n",
       "    </tr>\n",
       "    <tr>\n",
       "      <th>50%</th>\n",
       "      <td>54.785000</td>\n",
       "      <td>5.000000</td>\n",
       "      <td>12.066000</td>\n",
       "      <td>253.386000</td>\n",
       "      <td>241.320000</td>\n",
       "      <td>4.761905e+00</td>\n",
       "      <td>12.066000</td>\n",
       "      <td>7.000000</td>\n",
       "    </tr>\n",
       "    <tr>\n",
       "      <th>75%</th>\n",
       "      <td>77.935000</td>\n",
       "      <td>8.000000</td>\n",
       "      <td>22.380750</td>\n",
       "      <td>469.995750</td>\n",
       "      <td>447.615000</td>\n",
       "      <td>4.761905e+00</td>\n",
       "      <td>22.380750</td>\n",
       "      <td>8.425000</td>\n",
       "    </tr>\n",
       "    <tr>\n",
       "      <th>max</th>\n",
       "      <td>99.960000</td>\n",
       "      <td>10.000000</td>\n",
       "      <td>49.650000</td>\n",
       "      <td>1042.650000</td>\n",
       "      <td>993.000000</td>\n",
       "      <td>4.761905e+00</td>\n",
       "      <td>49.650000</td>\n",
       "      <td>10.000000</td>\n",
       "    </tr>\n",
       "  </tbody>\n",
       "</table>\n",
       "</div>"
      ],
      "text/plain": [
       "       Unit price    Quantity      Tax 5%        Total        cogs  \\\n",
       "count  980.000000  980.000000  980.000000   980.000000  980.000000   \n",
       "mean    55.468500    5.508163   15.305226   321.391939  306.087561   \n",
       "std     26.566844    2.917128   11.626824   244.181060  232.553390   \n",
       "min      0.000000    1.000000    0.508500    10.678500   10.170000   \n",
       "25%     32.580000    3.000000    5.971500   125.401500  119.430000   \n",
       "50%     54.785000    5.000000   12.066000   253.386000  241.320000   \n",
       "75%     77.935000    8.000000   22.380750   469.995750  447.615000   \n",
       "max     99.960000   10.000000   49.650000  1042.650000  993.000000   \n",
       "\n",
       "       gross margin percentage  gross income      Rating  \n",
       "count             9.800000e+02    980.000000  980.000000  \n",
       "mean              4.761905e+00     15.304378    6.975000  \n",
       "std               6.131560e-14     11.627670    1.714225  \n",
       "min               4.761905e+00      0.508500    4.000000  \n",
       "25%               4.761905e+00      5.971500    5.500000  \n",
       "50%               4.761905e+00     12.066000    7.000000  \n",
       "75%               4.761905e+00     22.380750    8.425000  \n",
       "max               4.761905e+00     49.650000   10.000000  "
      ]
     },
     "execution_count": 57,
     "metadata": {},
     "output_type": "execute_result"
    }
   ],
   "source": [
    "sales.describe()\n"
   ]
  },
  {
   "cell_type": "markdown",
   "id": "fa9e713f",
   "metadata": {},
   "source": [
    "### Merging"
   ]
  },
  {
   "cell_type": "markdown",
   "id": "c289b590",
   "metadata": {},
   "source": [
    "Let's say we had another .csv that we wanted to add to ours. We would do that in pandas in three ways:\n",
    "* merge() -  for combining data on common columns or indices\n",
    "* join() - for combining data on a key column or an index\n",
    "* concat() - for combining DataFrames across rows or columns\n"
   ]
  },
  {
   "cell_type": "code",
   "execution_count": 58,
   "id": "77ff04e6",
   "metadata": {},
   "outputs": [
    {
     "data": {
      "text/html": [
       "<div>\n",
       "<style scoped>\n",
       "    .dataframe tbody tr th:only-of-type {\n",
       "        vertical-align: middle;\n",
       "    }\n",
       "\n",
       "    .dataframe tbody tr th {\n",
       "        vertical-align: top;\n",
       "    }\n",
       "\n",
       "    .dataframe thead th {\n",
       "        text-align: right;\n",
       "    }\n",
       "</style>\n",
       "<table border=\"1\" class=\"dataframe\">\n",
       "  <thead>\n",
       "    <tr style=\"text-align: right;\">\n",
       "      <th></th>\n",
       "      <th>Invoice ID</th>\n",
       "      <th>Branch</th>\n",
       "      <th>City</th>\n",
       "      <th>Customer type</th>\n",
       "      <th>Gender</th>\n",
       "      <th>Product line</th>\n",
       "      <th>Unit price</th>\n",
       "      <th>Quantity</th>\n",
       "      <th>Tax 5%</th>\n",
       "      <th>Total</th>\n",
       "      <th>Date</th>\n",
       "      <th>Time</th>\n",
       "      <th>Payment</th>\n",
       "      <th>cogs</th>\n",
       "      <th>gross margin percentage</th>\n",
       "      <th>gross income</th>\n",
       "      <th>Rating</th>\n",
       "    </tr>\n",
       "  </thead>\n",
       "  <tbody>\n",
       "    <tr>\n",
       "      <th>0</th>\n",
       "      <td>148-41-7930</td>\n",
       "      <td>C</td>\n",
       "      <td>Naypyitaw</td>\n",
       "      <td>Normal</td>\n",
       "      <td>Male</td>\n",
       "      <td>Health and beauty</td>\n",
       "      <td>99.96</td>\n",
       "      <td>7</td>\n",
       "      <td>34.9860</td>\n",
       "      <td>734.7060</td>\n",
       "      <td>1/23/2019</td>\n",
       "      <td>10:33</td>\n",
       "      <td>Cash</td>\n",
       "      <td>699.72</td>\n",
       "      <td>4.761905</td>\n",
       "      <td>34.9860</td>\n",
       "      <td>6.1</td>\n",
       "    </tr>\n",
       "    <tr>\n",
       "      <th>1</th>\n",
       "      <td>189-40-5216</td>\n",
       "      <td>C</td>\n",
       "      <td>Naypyitaw</td>\n",
       "      <td>Normal</td>\n",
       "      <td>Male</td>\n",
       "      <td>Electronic accessories</td>\n",
       "      <td>96.37</td>\n",
       "      <td>7</td>\n",
       "      <td>33.7295</td>\n",
       "      <td>708.3195</td>\n",
       "      <td>1/9/2019</td>\n",
       "      <td>11:40</td>\n",
       "      <td>Cash</td>\n",
       "      <td>674.59</td>\n",
       "      <td>4.761905</td>\n",
       "      <td>33.7295</td>\n",
       "      <td>6.0</td>\n",
       "    </tr>\n",
       "    <tr>\n",
       "      <th>2</th>\n",
       "      <td>374-38-5555</td>\n",
       "      <td>B</td>\n",
       "      <td>Mandalay</td>\n",
       "      <td>Normal</td>\n",
       "      <td>Female</td>\n",
       "      <td>Fashion accessories</td>\n",
       "      <td>63.71</td>\n",
       "      <td>5</td>\n",
       "      <td>15.9275</td>\n",
       "      <td>334.4775</td>\n",
       "      <td>2/7/2019</td>\n",
       "      <td>19:30</td>\n",
       "      <td>Ewallet</td>\n",
       "      <td>318.55</td>\n",
       "      <td>4.761905</td>\n",
       "      <td>15.9275</td>\n",
       "      <td>8.5</td>\n",
       "    </tr>\n",
       "    <tr>\n",
       "      <th>3</th>\n",
       "      <td>764-44-8999</td>\n",
       "      <td>B</td>\n",
       "      <td>Mandalay</td>\n",
       "      <td>Normal</td>\n",
       "      <td>Female</td>\n",
       "      <td>Health and beauty</td>\n",
       "      <td>14.76</td>\n",
       "      <td>2</td>\n",
       "      <td>1.4760</td>\n",
       "      <td>30.9960</td>\n",
       "      <td>2/18/2019</td>\n",
       "      <td>14:42</td>\n",
       "      <td>Ewallet</td>\n",
       "      <td>29.52</td>\n",
       "      <td>4.761905</td>\n",
       "      <td>1.4760</td>\n",
       "      <td>4.3</td>\n",
       "    </tr>\n",
       "    <tr>\n",
       "      <th>4</th>\n",
       "      <td>552-44-5977</td>\n",
       "      <td>B</td>\n",
       "      <td>Mandalay</td>\n",
       "      <td>Member</td>\n",
       "      <td>Male</td>\n",
       "      <td>Health and beauty</td>\n",
       "      <td>62.00</td>\n",
       "      <td>8</td>\n",
       "      <td>24.8000</td>\n",
       "      <td>520.8000</td>\n",
       "      <td>1/3/2019</td>\n",
       "      <td>19:08</td>\n",
       "      <td>Credit card</td>\n",
       "      <td>496.00</td>\n",
       "      <td>4.761905</td>\n",
       "      <td>24.8000</td>\n",
       "      <td>6.2</td>\n",
       "    </tr>\n",
       "    <tr>\n",
       "      <th>5</th>\n",
       "      <td>267-62-7380</td>\n",
       "      <td>C</td>\n",
       "      <td>Naypyitaw</td>\n",
       "      <td>Member</td>\n",
       "      <td>Male</td>\n",
       "      <td>Electronic accessories</td>\n",
       "      <td>82.34</td>\n",
       "      <td>10</td>\n",
       "      <td>41.1700</td>\n",
       "      <td>864.5700</td>\n",
       "      <td>3/29/2019</td>\n",
       "      <td>19:12</td>\n",
       "      <td>Ewallet</td>\n",
       "      <td>823.40</td>\n",
       "      <td>4.761905</td>\n",
       "      <td>41.1700</td>\n",
       "      <td>4.3</td>\n",
       "    </tr>\n",
       "    <tr>\n",
       "      <th>6</th>\n",
       "      <td>430-53-4718</td>\n",
       "      <td>B</td>\n",
       "      <td>Mandalay</td>\n",
       "      <td>Member</td>\n",
       "      <td>Male</td>\n",
       "      <td>Health and beauty</td>\n",
       "      <td>75.37</td>\n",
       "      <td>8</td>\n",
       "      <td>30.1480</td>\n",
       "      <td>633.1080</td>\n",
       "      <td>1/28/2019</td>\n",
       "      <td>15:46</td>\n",
       "      <td>Credit card</td>\n",
       "      <td>602.96</td>\n",
       "      <td>4.761905</td>\n",
       "      <td>30.1480</td>\n",
       "      <td>8.4</td>\n",
       "    </tr>\n",
       "    <tr>\n",
       "      <th>7</th>\n",
       "      <td>886-18-2897</td>\n",
       "      <td>A</td>\n",
       "      <td>Yangon</td>\n",
       "      <td>Normal</td>\n",
       "      <td>Female</td>\n",
       "      <td>Food and beverages</td>\n",
       "      <td>56.56</td>\n",
       "      <td>5</td>\n",
       "      <td>14.1400</td>\n",
       "      <td>296.9400</td>\n",
       "      <td>3/22/2019</td>\n",
       "      <td>19:06</td>\n",
       "      <td>Credit card</td>\n",
       "      <td>282.80</td>\n",
       "      <td>4.761905</td>\n",
       "      <td>14.1400</td>\n",
       "      <td>4.5</td>\n",
       "    </tr>\n",
       "    <tr>\n",
       "      <th>8</th>\n",
       "      <td>602-16-6955</td>\n",
       "      <td>B</td>\n",
       "      <td>Mandalay</td>\n",
       "      <td>Normal</td>\n",
       "      <td>Female</td>\n",
       "      <td>Sports and travel</td>\n",
       "      <td>76.60</td>\n",
       "      <td>10</td>\n",
       "      <td>38.3000</td>\n",
       "      <td>804.3000</td>\n",
       "      <td>1/24/2019</td>\n",
       "      <td>18:10</td>\n",
       "      <td>Ewallet</td>\n",
       "      <td>766.00</td>\n",
       "      <td>4.761905</td>\n",
       "      <td>38.3000</td>\n",
       "      <td>6.0</td>\n",
       "    </tr>\n",
       "    <tr>\n",
       "      <th>9</th>\n",
       "      <td>745-74-0715</td>\n",
       "      <td>A</td>\n",
       "      <td>Yangon</td>\n",
       "      <td>Normal</td>\n",
       "      <td>Male</td>\n",
       "      <td>Electronic accessories</td>\n",
       "      <td>58.03</td>\n",
       "      <td>2</td>\n",
       "      <td>5.8030</td>\n",
       "      <td>121.8630</td>\n",
       "      <td>3/10/2019</td>\n",
       "      <td>20:46</td>\n",
       "      <td>Ewallet</td>\n",
       "      <td>116.06</td>\n",
       "      <td>4.761905</td>\n",
       "      <td>5.8030</td>\n",
       "      <td>8.8</td>\n",
       "    </tr>\n",
       "    <tr>\n",
       "      <th>10</th>\n",
       "      <td>690-01-6631</td>\n",
       "      <td>B</td>\n",
       "      <td>Mandalay</td>\n",
       "      <td>Normal</td>\n",
       "      <td>Male</td>\n",
       "      <td>Fashion accessories</td>\n",
       "      <td>17.49</td>\n",
       "      <td>10</td>\n",
       "      <td>8.7450</td>\n",
       "      <td>183.6450</td>\n",
       "      <td>2/22/2019</td>\n",
       "      <td>18:35</td>\n",
       "      <td>Ewallet</td>\n",
       "      <td>174.90</td>\n",
       "      <td>4.761905</td>\n",
       "      <td>8.7450</td>\n",
       "      <td>6.6</td>\n",
       "    </tr>\n",
       "    <tr>\n",
       "      <th>11</th>\n",
       "      <td>652-49-6720</td>\n",
       "      <td>C</td>\n",
       "      <td>Naypyitaw</td>\n",
       "      <td>Member</td>\n",
       "      <td>Female</td>\n",
       "      <td>Electronic accessories</td>\n",
       "      <td>60.95</td>\n",
       "      <td>1</td>\n",
       "      <td>3.0475</td>\n",
       "      <td>63.9975</td>\n",
       "      <td>2/18/2019</td>\n",
       "      <td>11:40</td>\n",
       "      <td>Ewallet</td>\n",
       "      <td>60.95</td>\n",
       "      <td>4.761905</td>\n",
       "      <td>3.0475</td>\n",
       "      <td>5.9</td>\n",
       "    </tr>\n",
       "    <tr>\n",
       "      <th>12</th>\n",
       "      <td>233-67-5758</td>\n",
       "      <td>C</td>\n",
       "      <td>Naypyitaw</td>\n",
       "      <td>Normal</td>\n",
       "      <td>Male</td>\n",
       "      <td>Health and beauty</td>\n",
       "      <td>40.35</td>\n",
       "      <td>1</td>\n",
       "      <td>2.0175</td>\n",
       "      <td>42.3675</td>\n",
       "      <td>1/29/2019</td>\n",
       "      <td>13:46</td>\n",
       "      <td>Ewallet</td>\n",
       "      <td>40.35</td>\n",
       "      <td>4.761905</td>\n",
       "      <td>2.0175</td>\n",
       "      <td>6.2</td>\n",
       "    </tr>\n",
       "    <tr>\n",
       "      <th>13</th>\n",
       "      <td>303-96-2227</td>\n",
       "      <td>B</td>\n",
       "      <td>Mandalay</td>\n",
       "      <td>Normal</td>\n",
       "      <td>Female</td>\n",
       "      <td>Home and lifestyle</td>\n",
       "      <td>97.38</td>\n",
       "      <td>10</td>\n",
       "      <td>48.6900</td>\n",
       "      <td>1022.4900</td>\n",
       "      <td>3/2/2019</td>\n",
       "      <td>17:16</td>\n",
       "      <td>Ewallet</td>\n",
       "      <td>973.80</td>\n",
       "      <td>4.761905</td>\n",
       "      <td>48.6900</td>\n",
       "      <td>4.4</td>\n",
       "    </tr>\n",
       "    <tr>\n",
       "      <th>14</th>\n",
       "      <td>663-86-9076</td>\n",
       "      <td>C</td>\n",
       "      <td>Naypyitaw</td>\n",
       "      <td>Member</td>\n",
       "      <td>Female</td>\n",
       "      <td>Food and beverages</td>\n",
       "      <td>68.54</td>\n",
       "      <td>8</td>\n",
       "      <td>27.4160</td>\n",
       "      <td>NaN</td>\n",
       "      <td>1/8/2019</td>\n",
       "      <td>15:57</td>\n",
       "      <td>Ewallet</td>\n",
       "      <td>548.32</td>\n",
       "      <td>4.761905</td>\n",
       "      <td>27.4160</td>\n",
       "      <td>8.5</td>\n",
       "    </tr>\n",
       "  </tbody>\n",
       "</table>\n",
       "</div>"
      ],
      "text/plain": [
       "     Invoice ID Branch       City Customer type  Gender  \\\n",
       "0   148-41-7930      C  Naypyitaw        Normal    Male   \n",
       "1   189-40-5216      C  Naypyitaw        Normal    Male   \n",
       "2   374-38-5555      B   Mandalay        Normal  Female   \n",
       "3   764-44-8999      B   Mandalay        Normal  Female   \n",
       "4   552-44-5977      B   Mandalay        Member    Male   \n",
       "5   267-62-7380      C  Naypyitaw        Member    Male   \n",
       "6   430-53-4718      B   Mandalay        Member    Male   \n",
       "7   886-18-2897      A     Yangon        Normal  Female   \n",
       "8   602-16-6955      B   Mandalay        Normal  Female   \n",
       "9   745-74-0715      A     Yangon        Normal    Male   \n",
       "10  690-01-6631      B   Mandalay        Normal    Male   \n",
       "11  652-49-6720      C  Naypyitaw        Member  Female   \n",
       "12  233-67-5758      C  Naypyitaw        Normal    Male   \n",
       "13  303-96-2227      B   Mandalay        Normal  Female   \n",
       "14  663-86-9076      C  Naypyitaw        Member  Female   \n",
       "\n",
       "              Product line  Unit price  Quantity   Tax 5%      Total  \\\n",
       "0        Health and beauty       99.96         7  34.9860   734.7060   \n",
       "1   Electronic accessories       96.37         7  33.7295   708.3195   \n",
       "2      Fashion accessories       63.71         5  15.9275   334.4775   \n",
       "3        Health and beauty       14.76         2   1.4760    30.9960   \n",
       "4        Health and beauty       62.00         8  24.8000   520.8000   \n",
       "5   Electronic accessories       82.34        10  41.1700   864.5700   \n",
       "6        Health and beauty       75.37         8  30.1480   633.1080   \n",
       "7       Food and beverages       56.56         5  14.1400   296.9400   \n",
       "8        Sports and travel       76.60        10  38.3000   804.3000   \n",
       "9   Electronic accessories       58.03         2   5.8030   121.8630   \n",
       "10     Fashion accessories       17.49        10   8.7450   183.6450   \n",
       "11  Electronic accessories       60.95         1   3.0475    63.9975   \n",
       "12       Health and beauty       40.35         1   2.0175    42.3675   \n",
       "13      Home and lifestyle       97.38        10  48.6900  1022.4900   \n",
       "14      Food and beverages       68.54         8  27.4160        NaN   \n",
       "\n",
       "         Date   Time      Payment    cogs  gross margin percentage  \\\n",
       "0   1/23/2019  10:33         Cash  699.72                 4.761905   \n",
       "1    1/9/2019  11:40         Cash  674.59                 4.761905   \n",
       "2    2/7/2019  19:30      Ewallet  318.55                 4.761905   \n",
       "3   2/18/2019  14:42      Ewallet   29.52                 4.761905   \n",
       "4    1/3/2019  19:08  Credit card  496.00                 4.761905   \n",
       "5   3/29/2019  19:12      Ewallet  823.40                 4.761905   \n",
       "6   1/28/2019  15:46  Credit card  602.96                 4.761905   \n",
       "7   3/22/2019  19:06  Credit card  282.80                 4.761905   \n",
       "8   1/24/2019  18:10      Ewallet  766.00                 4.761905   \n",
       "9   3/10/2019  20:46      Ewallet  116.06                 4.761905   \n",
       "10  2/22/2019  18:35      Ewallet  174.90                 4.761905   \n",
       "11  2/18/2019  11:40      Ewallet   60.95                 4.761905   \n",
       "12  1/29/2019  13:46      Ewallet   40.35                 4.761905   \n",
       "13   3/2/2019  17:16      Ewallet  973.80                 4.761905   \n",
       "14   1/8/2019  15:57      Ewallet  548.32                 4.761905   \n",
       "\n",
       "    gross income  Rating  \n",
       "0        34.9860     6.1  \n",
       "1        33.7295     6.0  \n",
       "2        15.9275     8.5  \n",
       "3         1.4760     4.3  \n",
       "4        24.8000     6.2  \n",
       "5        41.1700     4.3  \n",
       "6        30.1480     8.4  \n",
       "7        14.1400     4.5  \n",
       "8        38.3000     6.0  \n",
       "9         5.8030     8.8  \n",
       "10        8.7450     6.6  \n",
       "11        3.0475     5.9  \n",
       "12        2.0175     6.2  \n",
       "13       48.6900     4.4  \n",
       "14       27.4160     8.5  "
      ]
     },
     "execution_count": 58,
     "metadata": {},
     "output_type": "execute_result"
    }
   ],
   "source": [
    "addition = pd.read_csv('data/addition.csv')\n",
    "addition"
   ]
  },
  {
   "cell_type": "code",
   "execution_count": 59,
   "id": "0036778d",
   "metadata": {},
   "outputs": [
    {
     "data": {
      "text/plain": [
       "(15, 17)"
      ]
     },
     "execution_count": 59,
     "metadata": {},
     "output_type": "execute_result"
    }
   ],
   "source": [
    "addition.shape"
   ]
  },
  {
   "cell_type": "code",
   "execution_count": 60,
   "id": "8ec0e1bf",
   "metadata": {},
   "outputs": [
    {
     "data": {
      "text/plain": [
       "(995, 17)"
      ]
     },
     "execution_count": 60,
     "metadata": {},
     "output_type": "execute_result"
    }
   ],
   "source": [
    "dataframes = [sales, addition]\n",
    "sales = pd.concat(dataframes)\n",
    "sales.shape"
   ]
  },
  {
   "cell_type": "code",
   "execution_count": 61,
   "id": "bde21d6c",
   "metadata": {},
   "outputs": [
    {
     "data": {
      "text/html": [
       "<div>\n",
       "<style scoped>\n",
       "    .dataframe tbody tr th:only-of-type {\n",
       "        vertical-align: middle;\n",
       "    }\n",
       "\n",
       "    .dataframe tbody tr th {\n",
       "        vertical-align: top;\n",
       "    }\n",
       "\n",
       "    .dataframe thead th {\n",
       "        text-align: right;\n",
       "    }\n",
       "</style>\n",
       "<table border=\"1\" class=\"dataframe\">\n",
       "  <thead>\n",
       "    <tr style=\"text-align: right;\">\n",
       "      <th></th>\n",
       "      <th>Invoice ID</th>\n",
       "      <th>Branch</th>\n",
       "      <th>City</th>\n",
       "      <th>Customer type</th>\n",
       "      <th>Gender</th>\n",
       "      <th>Product line</th>\n",
       "      <th>Unit price</th>\n",
       "      <th>Quantity</th>\n",
       "      <th>Tax 5%</th>\n",
       "      <th>Total</th>\n",
       "      <th>Date</th>\n",
       "      <th>Time</th>\n",
       "      <th>Payment</th>\n",
       "      <th>cogs</th>\n",
       "      <th>gross margin percentage</th>\n",
       "      <th>gross income</th>\n",
       "      <th>Rating</th>\n",
       "    </tr>\n",
       "  </thead>\n",
       "  <tbody>\n",
       "    <tr>\n",
       "      <th>1</th>\n",
       "      <td>226-31-3081</td>\n",
       "      <td>C</td>\n",
       "      <td>Naypyitaw</td>\n",
       "      <td>Normal</td>\n",
       "      <td>Female</td>\n",
       "      <td>Electronic accessories</td>\n",
       "      <td>15.28</td>\n",
       "      <td>5</td>\n",
       "      <td>4.0110</td>\n",
       "      <td>80.2200</td>\n",
       "      <td>2019-03-08 00:00:00</td>\n",
       "      <td>2023-05-16 10:29:00</td>\n",
       "      <td>Cash</td>\n",
       "      <td>76.40</td>\n",
       "      <td>4.761905</td>\n",
       "      <td>3.8200</td>\n",
       "      <td>9.6</td>\n",
       "    </tr>\n",
       "    <tr>\n",
       "      <th>2</th>\n",
       "      <td>631-41-3108</td>\n",
       "      <td>A</td>\n",
       "      <td>Yangon</td>\n",
       "      <td>Normal</td>\n",
       "      <td>Male</td>\n",
       "      <td>Home and lifestyle</td>\n",
       "      <td>46.33</td>\n",
       "      <td>7</td>\n",
       "      <td>16.2155</td>\n",
       "      <td>340.5255</td>\n",
       "      <td>2019-03-03 00:00:00</td>\n",
       "      <td>2023-05-16 13:23:00</td>\n",
       "      <td>Credit card</td>\n",
       "      <td>324.31</td>\n",
       "      <td>4.761905</td>\n",
       "      <td>16.2155</td>\n",
       "      <td>7.4</td>\n",
       "    </tr>\n",
       "    <tr>\n",
       "      <th>3</th>\n",
       "      <td>123-19-1176</td>\n",
       "      <td>A</td>\n",
       "      <td>Yangon</td>\n",
       "      <td>Member</td>\n",
       "      <td>Male</td>\n",
       "      <td>Health and beauty</td>\n",
       "      <td>58.22</td>\n",
       "      <td>8</td>\n",
       "      <td>23.2880</td>\n",
       "      <td>489.0480</td>\n",
       "      <td>2019-01-27 00:00:00</td>\n",
       "      <td>2023-05-16 20:33:00</td>\n",
       "      <td>Ewallet</td>\n",
       "      <td>465.76</td>\n",
       "      <td>4.761905</td>\n",
       "      <td>23.2880</td>\n",
       "      <td>8.4</td>\n",
       "    </tr>\n",
       "  </tbody>\n",
       "</table>\n",
       "</div>"
      ],
      "text/plain": [
       "    Invoice ID Branch       City Customer type  Gender  \\\n",
       "1  226-31-3081      C  Naypyitaw        Normal  Female   \n",
       "2  631-41-3108      A     Yangon        Normal    Male   \n",
       "3  123-19-1176      A     Yangon        Member    Male   \n",
       "\n",
       "             Product line  Unit price  Quantity   Tax 5%     Total  \\\n",
       "1  Electronic accessories       15.28         5   4.0110   80.2200   \n",
       "2      Home and lifestyle       46.33         7  16.2155  340.5255   \n",
       "3       Health and beauty       58.22         8  23.2880  489.0480   \n",
       "\n",
       "                  Date                 Time      Payment    cogs  \\\n",
       "1  2019-03-08 00:00:00  2023-05-16 10:29:00         Cash   76.40   \n",
       "2  2019-03-03 00:00:00  2023-05-16 13:23:00  Credit card  324.31   \n",
       "3  2019-01-27 00:00:00  2023-05-16 20:33:00      Ewallet  465.76   \n",
       "\n",
       "   gross margin percentage  gross income  Rating  \n",
       "1                 4.761905        3.8200     9.6  \n",
       "2                 4.761905       16.2155     7.4  \n",
       "3                 4.761905       23.2880     8.4  "
      ]
     },
     "execution_count": 61,
     "metadata": {},
     "output_type": "execute_result"
    }
   ],
   "source": [
    "sales.head(3)"
   ]
  },
  {
   "cell_type": "markdown",
   "id": "ac243b12",
   "metadata": {},
   "source": [
    "Here the situation is really simple, because we have two dataframes with the same column names. However, the situation can get far more complicated in many cases. I would <b> strongly </b> suggest you read: https://pandas.pydata.org/docs/user_guide/merging.html on all types of merging."
   ]
  },
  {
   "cell_type": "markdown",
   "id": "fc553265",
   "metadata": {},
   "source": [
    "### Groupby"
   ]
  },
  {
   "cell_type": "markdown",
   "id": "d03a441a",
   "metadata": {},
   "source": [
    "```groupby()``` is used to group the data into categories and apply functions to the categories. It can form groups based on one or more conditions. It can also be used on more than one DataFrames in order to find common categories."
   ]
  },
  {
   "cell_type": "code",
   "execution_count": 62,
   "id": "fd6ff479",
   "metadata": {},
   "outputs": [
    {
     "name": "stderr",
     "output_type": "stream",
     "text": [
      "C:\\Users\\User\\AppData\\Local\\Temp\\ipykernel_10380\\1868817864.py:1: FutureWarning: The default value of numeric_only in DataFrameGroupBy.sum is deprecated. In a future version, numeric_only will default to False. Either specify numeric_only or select only columns which should be valid for the function.\n",
      "  sales.groupby('City').sum()\n"
     ]
    },
    {
     "data": {
      "text/html": [
       "<div>\n",
       "<style scoped>\n",
       "    .dataframe tbody tr th:only-of-type {\n",
       "        vertical-align: middle;\n",
       "    }\n",
       "\n",
       "    .dataframe tbody tr th {\n",
       "        vertical-align: top;\n",
       "    }\n",
       "\n",
       "    .dataframe thead th {\n",
       "        text-align: right;\n",
       "    }\n",
       "</style>\n",
       "<table border=\"1\" class=\"dataframe\">\n",
       "  <thead>\n",
       "    <tr style=\"text-align: right;\">\n",
       "      <th></th>\n",
       "      <th>Unit price</th>\n",
       "      <th>Quantity</th>\n",
       "      <th>Tax 5%</th>\n",
       "      <th>Total</th>\n",
       "      <th>cogs</th>\n",
       "      <th>gross margin percentage</th>\n",
       "      <th>gross income</th>\n",
       "      <th>Rating</th>\n",
       "    </tr>\n",
       "    <tr>\n",
       "      <th>City</th>\n",
       "      <th></th>\n",
       "      <th></th>\n",
       "      <th></th>\n",
       "      <th></th>\n",
       "      <th></th>\n",
       "      <th></th>\n",
       "      <th></th>\n",
       "      <th></th>\n",
       "    </tr>\n",
       "  </thead>\n",
       "  <tbody>\n",
       "    <tr>\n",
       "      <th>Mandalay</th>\n",
       "      <td>18390.90</td>\n",
       "      <td>1820</td>\n",
       "      <td>5057.0320</td>\n",
       "      <td>106197.6720</td>\n",
       "      <td>101140.64</td>\n",
       "      <td>1580.952381</td>\n",
       "      <td>5057.0320</td>\n",
       "      <td>2263.6</td>\n",
       "    </tr>\n",
       "    <tr>\n",
       "      <th>Naypyitaw</th>\n",
       "      <td>18532.53</td>\n",
       "      <td>1832</td>\n",
       "      <td>5276.4175</td>\n",
       "      <td>110211.5805</td>\n",
       "      <td>105511.73</td>\n",
       "      <td>1557.142857</td>\n",
       "      <td>5275.5865</td>\n",
       "      <td>2310.0</td>\n",
       "    </tr>\n",
       "    <tr>\n",
       "      <th>Yangon</th>\n",
       "      <td>18406.11</td>\n",
       "      <td>1840</td>\n",
       "      <td>4996.0680</td>\n",
       "      <td>104917.4280</td>\n",
       "      <td>99921.36</td>\n",
       "      <td>1600.000000</td>\n",
       "      <td>4996.0680</td>\n",
       "      <td>2356.6</td>\n",
       "    </tr>\n",
       "  </tbody>\n",
       "</table>\n",
       "</div>"
      ],
      "text/plain": [
       "           Unit price  Quantity     Tax 5%        Total       cogs  \\\n",
       "City                                                                 \n",
       "Mandalay     18390.90      1820  5057.0320  106197.6720  101140.64   \n",
       "Naypyitaw    18532.53      1832  5276.4175  110211.5805  105511.73   \n",
       "Yangon       18406.11      1840  4996.0680  104917.4280   99921.36   \n",
       "\n",
       "           gross margin percentage  gross income  Rating  \n",
       "City                                                      \n",
       "Mandalay               1580.952381     5057.0320  2263.6  \n",
       "Naypyitaw              1557.142857     5275.5865  2310.0  \n",
       "Yangon                 1600.000000     4996.0680  2356.6  "
      ]
     },
     "execution_count": 62,
     "metadata": {},
     "output_type": "execute_result"
    }
   ],
   "source": [
    "sales.groupby('City').sum()"
   ]
  },
  {
   "cell_type": "code",
   "execution_count": 63,
   "id": "5c620a2b",
   "metadata": {},
   "outputs": [
    {
     "name": "stderr",
     "output_type": "stream",
     "text": [
      "C:\\Users\\User\\AppData\\Local\\Temp\\ipykernel_10380\\1511410747.py:1: FutureWarning: The default value of numeric_only in DataFrameGroupBy.sum is deprecated. In a future version, numeric_only will default to False. Either specify numeric_only or select only columns which should be valid for the function.\n",
      "  sales.groupby('Customer type').sum()['Total']\n"
     ]
    },
    {
     "data": {
      "text/plain": [
       "Customer type\n",
       "Member    162807.5715\n",
       "Normal    158519.1090\n",
       "Name: Total, dtype: float64"
      ]
     },
     "execution_count": 63,
     "metadata": {},
     "output_type": "execute_result"
    }
   ],
   "source": [
    "sales.groupby('Customer type').sum()['Total']"
   ]
  },
  {
   "cell_type": "code",
   "execution_count": 64,
   "id": "1b967c39",
   "metadata": {},
   "outputs": [
    {
     "data": {
      "text/html": [
       "<div>\n",
       "<style scoped>\n",
       "    .dataframe tbody tr th:only-of-type {\n",
       "        vertical-align: middle;\n",
       "    }\n",
       "\n",
       "    .dataframe tbody tr th {\n",
       "        vertical-align: top;\n",
       "    }\n",
       "\n",
       "    .dataframe thead th {\n",
       "        text-align: right;\n",
       "    }\n",
       "</style>\n",
       "<table border=\"1\" class=\"dataframe\">\n",
       "  <thead>\n",
       "    <tr style=\"text-align: right;\">\n",
       "      <th></th>\n",
       "      <th>Total</th>\n",
       "    </tr>\n",
       "    <tr>\n",
       "      <th>Customer type</th>\n",
       "      <th></th>\n",
       "    </tr>\n",
       "  </thead>\n",
       "  <tbody>\n",
       "    <tr>\n",
       "      <th>Member</th>\n",
       "      <td>162807.5715</td>\n",
       "    </tr>\n",
       "    <tr>\n",
       "      <th>Normal</th>\n",
       "      <td>158519.1090</td>\n",
       "    </tr>\n",
       "  </tbody>\n",
       "</table>\n",
       "</div>"
      ],
      "text/plain": [
       "                     Total\n",
       "Customer type             \n",
       "Member         162807.5715\n",
       "Normal         158519.1090"
      ]
     },
     "execution_count": 64,
     "metadata": {},
     "output_type": "execute_result"
    }
   ],
   "source": [
    "sales.groupby(['Customer type']).agg({'Total': 'sum'})\n"
   ]
  },
  {
   "cell_type": "code",
   "execution_count": 65,
   "id": "2339c2eb",
   "metadata": {},
   "outputs": [
    {
     "data": {
      "text/plain": [
       "1"
      ]
     },
     "execution_count": 65,
     "metadata": {},
     "output_type": "execute_result"
    }
   ],
   "source": [
    "sales['Total'].isnull().sum()"
   ]
  },
  {
   "cell_type": "code",
   "execution_count": 66,
   "id": "3fea7592",
   "metadata": {},
   "outputs": [
    {
     "data": {
      "text/plain": [
       "1"
      ]
     },
     "execution_count": 66,
     "metadata": {},
     "output_type": "execute_result"
    }
   ],
   "source": [
    "sales['Total'].isnull().sum()"
   ]
  },
  {
   "cell_type": "markdown",
   "id": "ff239f00",
   "metadata": {},
   "source": [
    "<b> Digression:</b> \n",
    "- ```agg()``` - the method allows you to apply a function or a list of function names to be executed along one of the axis of the DataFrame, default 0, which is the index (row) axis \n",
    "     * (https://www.w3schools.com/python/pandas/ref_df_agg.asp)\n",
    "\n",
    "-  ```count()``` - another useful function - count the number of (not NULL) values in each row                            \n",
    "      * (https://pandas.pydata.org/docs/reference/api/pandas.DataFrame.count.html)\n",
    "-  ```unstack()``` - used to reshape the given Pandas DataFrame by transposing specified row level to column level \n",
    "     *   (https://pandas.pydata.org/docs/reference/api/pandas.DataFrame.unstack.html)\n"
   ]
  },
  {
   "cell_type": "markdown",
   "id": "f6528bb2",
   "metadata": {},
   "source": [
    "## Let's answer some questions\n",
    "### Also called \"<i>Exploratory data analysis (EDA) </i>\"\n"
   ]
  },
  {
   "cell_type": "markdown",
   "id": "e4445901",
   "metadata": {},
   "source": [
    "<div class=\"alert alert-block alert-info\">\n",
    "<b>Exercises</b>\n",
    "<p>\n",
    "    <li>1. Which city has more male shoppers?</li>\n",
    "    <li>2. Who spends more, men or women (in this particular dataframe)?</li>\n",
    "    <li>3. Which type of customer spends more, member or non- member?    </li>\n",
    "    <li>4. Which product line sells the most?</li>\n",
    "    <li>5. Which product line is popular among men or women?</li>\n",
    "    <li>6. What day of month makes the highest sales?</li>\n",
    "    <li>7. What month makes the highest sales?</li>\n",
    "    <li>8. Find the highest unit price in the product line.</li>\n",
    "    <li>9. Find the most popular payment method used by customers</li>\n",
    "    <li>10. Find the payment method that lead to the most amount of money per branch</li>\n",
    "\n",
    "    \n",
    "    \n",
    "    \n",
    " \n",
    "    \n",
    "    \n",
    "    \n",
    "    \n",
    "\n",
    "\n",
    "</p>\n",
    "  \n",
    "</div>\n",
    "\n"
   ]
  },
  {
   "cell_type": "markdown",
   "id": "3c41c77b",
   "metadata": {},
   "source": [
    "1. Which city has more male shoppers?"
   ]
  },
  {
   "cell_type": "code",
   "execution_count": 67,
   "id": "1c76fb4c",
   "metadata": {},
   "outputs": [
    {
     "data": {
      "text/plain": [
       "City       Gender\n",
       "Mandalay   Female    162\n",
       "           Male      170\n",
       "Naypyitaw  Female    178\n",
       "           Male      149\n",
       "Yangon     Female    158\n",
       "           Male      178\n",
       "Name: Invoice ID, dtype: int64"
      ]
     },
     "execution_count": 67,
     "metadata": {},
     "output_type": "execute_result"
    }
   ],
   "source": [
    "female_shoppers = sales.groupby(['City', 'Gender']).count()['Invoice ID']\n",
    "female_shoppers"
   ]
  },
  {
   "cell_type": "code",
   "execution_count": 68,
   "id": "c869c442",
   "metadata": {},
   "outputs": [
    {
     "data": {
      "text/html": [
       "<div>\n",
       "<style scoped>\n",
       "    .dataframe tbody tr th:only-of-type {\n",
       "        vertical-align: middle;\n",
       "    }\n",
       "\n",
       "    .dataframe tbody tr th {\n",
       "        vertical-align: top;\n",
       "    }\n",
       "\n",
       "    .dataframe thead th {\n",
       "        text-align: right;\n",
       "    }\n",
       "</style>\n",
       "<table border=\"1\" class=\"dataframe\">\n",
       "  <thead>\n",
       "    <tr style=\"text-align: right;\">\n",
       "      <th>City</th>\n",
       "      <th>Mandalay</th>\n",
       "      <th>Naypyitaw</th>\n",
       "      <th>Yangon</th>\n",
       "    </tr>\n",
       "    <tr>\n",
       "      <th>Gender</th>\n",
       "      <th></th>\n",
       "      <th></th>\n",
       "      <th></th>\n",
       "    </tr>\n",
       "  </thead>\n",
       "  <tbody>\n",
       "    <tr>\n",
       "      <th>Female</th>\n",
       "      <td>162</td>\n",
       "      <td>178</td>\n",
       "      <td>158</td>\n",
       "    </tr>\n",
       "    <tr>\n",
       "      <th>Male</th>\n",
       "      <td>170</td>\n",
       "      <td>149</td>\n",
       "      <td>178</td>\n",
       "    </tr>\n",
       "  </tbody>\n",
       "</table>\n",
       "</div>"
      ],
      "text/plain": [
       "City    Mandalay  Naypyitaw  Yangon\n",
       "Gender                             \n",
       "Female       162        178     158\n",
       "Male         170        149     178"
      ]
     },
     "execution_count": 68,
     "metadata": {},
     "output_type": "execute_result"
    }
   ],
   "source": [
    "female_shoppers.unstack(level = 0)"
   ]
  },
  {
   "cell_type": "code",
   "execution_count": 69,
   "id": "3db403c3",
   "metadata": {},
   "outputs": [],
   "source": [
    "import matplotlib.pyplot as plt\n"
   ]
  },
  {
   "cell_type": "markdown",
   "id": "6b0deb35",
   "metadata": {},
   "source": [
    "If we want to use matplotlib, we only need to add to this line and we get a bar plot:"
   ]
  },
  {
   "cell_type": "code",
   "execution_count": 70,
   "id": "4a435b62",
   "metadata": {},
   "outputs": [
    {
     "data": {
      "image/png": "[encoded data removed]",
      "text/plain": [
       "<Figure size 640x480 with 1 Axes>"
      ]
     },
     "metadata": {},
     "output_type": "display_data"
    }
   ],
   "source": [
    "female_shoppers.unstack(level = 0).plot(kind='bar')\n",
    "plt.show()"
   ]
  },
  {
   "cell_type": "markdown",
   "id": "a85d6cb5",
   "metadata": {},
   "source": [
    "We can always use our standard libraries for plots, such as matplotlib(https://matplotlib.org/) or seaborn(https://seaborn.pydata.org/index.html). Make sure to investigate them to be able to pick which one you like. I personally, like plotly (https://plotly.com/graphing-libraries/).\n",
    "\n",
    "To be able to use it, you need to ofc install it. It's available in Anaconda Navigator, but othewise, we can install it in the Anaconda Prompt by typing\n",
    "\n",
    "```\n",
    "$ conda install -c plotly plotly=5.14.1\n",
    " \n",
    "```\n",
    "\n",
    "or in the Terminal \n",
    "\n",
    "```\n",
    "$ pip install plotly==5.14.1\n",
    "\n",
    "\n",
    "```"
   ]
  },
  {
   "cell_type": "code",
   "execution_count": 5,
   "id": "ac6240fe",
   "metadata": {},
   "outputs": [],
   "source": [
    "import plotly.graph_objects as go\n",
    "import plotly.express as px\n"
   ]
  },
  {
   "cell_type": "code",
   "execution_count": 6,
   "id": "33910ebe",
   "metadata": {},
   "outputs": [
    {
     "ename": "NameError",
     "evalue": "name 'sales' is not defined",
     "output_type": "error",
     "traceback": [
      "\u001b[1;31m---------------------------------------------------------------------------\u001b[0m",
      "\u001b[1;31mNameError\u001b[0m                                 Traceback (most recent call last)",
      "Cell \u001b[1;32mIn[6], line 1\u001b[0m\n\u001b[1;32m----> 1\u001b[0m fig \u001b[38;5;241m=\u001b[39m px\u001b[38;5;241m.\u001b[39mbar(\u001b[43msales\u001b[49m, x \u001b[38;5;241m=\u001b[39m \u001b[38;5;124m'\u001b[39m\u001b[38;5;124mGender\u001b[39m\u001b[38;5;124m'\u001b[39m, y \u001b[38;5;241m=\u001b[39m \u001b[38;5;124m'\u001b[39m\u001b[38;5;124mInvoice ID\u001b[39m\u001b[38;5;124m'\u001b[39m,\n\u001b[0;32m      2\u001b[0m                      hover_name \u001b[38;5;241m=\u001b[39m \u001b[38;5;124m'\u001b[39m\u001b[38;5;124mCity\u001b[39m\u001b[38;5;124m'\u001b[39m,color \u001b[38;5;241m=\u001b[39m \u001b[38;5;124m'\u001b[39m\u001b[38;5;124mCity\u001b[39m\u001b[38;5;124m'\u001b[39m)\n\u001b[0;32m      4\u001b[0m fig\u001b[38;5;241m.\u001b[39mupdate_layout({\n\u001b[0;32m      5\u001b[0m \u001b[38;5;124m'\u001b[39m\u001b[38;5;124mplot_bgcolor\u001b[39m\u001b[38;5;124m'\u001b[39m: \u001b[38;5;124m'\u001b[39m\u001b[38;5;124mrgba(0, 0, 0, 0)\u001b[39m\u001b[38;5;124m'\u001b[39m,\n\u001b[0;32m      6\u001b[0m \u001b[38;5;124m'\u001b[39m\u001b[38;5;124mpaper_bgcolor\u001b[39m\u001b[38;5;124m'\u001b[39m: \u001b[38;5;124m'\u001b[39m\u001b[38;5;124mrgba(0, 0, 0, 0)\u001b[39m\u001b[38;5;124m'\u001b[39m,\n\u001b[0;32m      7\u001b[0m \u001b[38;5;124m'\u001b[39m\u001b[38;5;124mtitle\u001b[39m\u001b[38;5;124m'\u001b[39m: \u001b[38;5;124m'\u001b[39m\u001b[38;5;124mcity with more male shoppers\u001b[39m\u001b[38;5;124m'\u001b[39m})\n\u001b[0;32m      9\u001b[0m fig\u001b[38;5;241m.\u001b[39mshow()\n",
      "\u001b[1;31mNameError\u001b[0m: name 'sales' is not defined"
     ]
    }
   ],
   "source": [
    "fig = px.bar(sales, x = 'Gender', y = 'Invoice ID',\n",
    "                     hover_name = 'City',color = 'City')\n",
    "\n",
    "fig.update_layout({\n",
    "'plot_bgcolor': 'rgba(0, 0, 0, 0)',\n",
    "'paper_bgcolor': 'rgba(0, 0, 0, 0)',\n",
    "'title': 'city with more male shoppers'})\n",
    "\n",
    "fig.show()"
   ]
  },
  {
   "cell_type": "markdown",
   "id": "f9dda242",
   "metadata": {},
   "source": [
    "2. Who spends more, men or women (in this particular dataframe)?\n"
   ]
  },
  {
   "cell_type": "code",
   "execution_count": 3,
   "id": "6ab1a232",
   "metadata": {},
   "outputs": [
    {
     "ename": "NameError",
     "evalue": "name 'sales' is not defined",
     "output_type": "error",
     "traceback": [
      "\u001b[1;31m---------------------------------------------------------------------------\u001b[0m",
      "\u001b[1;31mNameError\u001b[0m                                 Traceback (most recent call last)",
      "Cell \u001b[1;32mIn[3], line 2\u001b[0m\n\u001b[0;32m      1\u001b[0m \u001b[38;5;28;01mfrom\u001b[39;00m \u001b[38;5;21;01mmatplotlib\u001b[39;00m \u001b[38;5;28;01mimport\u001b[39;00m pyplot \u001b[38;5;28;01mas\u001b[39;00m plt\n\u001b[1;32m----> 2\u001b[0m whospends\u001b[38;5;241m=\u001b[39m\u001b[43msales\u001b[49m\u001b[38;5;241m.\u001b[39mgroupby([\u001b[38;5;124m'\u001b[39m\u001b[38;5;124mCustomer type\u001b[39m\u001b[38;5;124m'\u001b[39m])\u001b[38;5;241m.\u001b[39msum()[\u001b[38;5;124m\"\u001b[39m\u001b[38;5;124mTotal\u001b[39m\u001b[38;5;124m\"\u001b[39m]\n\u001b[0;32m      3\u001b[0m whospends\u001b[38;5;241m.\u001b[39mplot(kind\u001b[38;5;241m=\u001b[39mbar)\n\u001b[0;32m      5\u001b[0m plt\u001b[38;5;241m.\u001b[39mshow()\n",
      "\u001b[1;31mNameError\u001b[0m: name 'sales' is not defined"
     ]
    }
   ],
   "source": [
    "from matplotlib import pyplot as plt\n",
    "whospends=sales.groupby(['Customer type']).sum()[\"Total\"]\n",
    "whospends.plot(kind=bar)\n",
    "\n",
    "plt.show()"
   ]
  },
  {
   "cell_type": "code",
   "execution_count": 4,
   "id": "cfe9787c",
   "metadata": {},
   "outputs": [
    {
     "ename": "SyntaxError",
     "evalue": "invalid syntax (2915325832.py, line 1)",
     "output_type": "error",
     "traceback": [
      "\u001b[1;36m  Cell \u001b[1;32mIn[4], line 1\u001b[1;36m\u001b[0m\n\u001b[1;33m    spending.\u001b[0m\n\u001b[1;37m             ^\u001b[0m\n\u001b[1;31mSyntaxError\u001b[0m\u001b[1;31m:\u001b[0m invalid syntax\n"
     ]
    }
   ],
   "source": [
    "spending."
   ]
  },
  {
   "cell_type": "markdown",
   "id": "f59747d4",
   "metadata": {},
   "source": [
    "3. Which type of customer spends more, member or non- member?    "
   ]
  },
  {
   "cell_type": "code",
   "execution_count": 77,
   "id": "d5e5ef4f",
   "metadata": {},
   "outputs": [
    {
     "name": "stderr",
     "output_type": "stream",
     "text": [
      "C:\\Users\\User\\AppData\\Local\\Temp\\ipykernel_10380\\1645065590.py:2: FutureWarning:\n",
      "\n",
      "The default value of numeric_only in DataFrameGroupBy.sum is deprecated. In a future version, numeric_only will default to False. Either specify numeric_only or select only columns which should be valid for the function.\n",
      "\n"
     ]
    },
    {
     "data": {
      "image/png": "[encoded data removed]",
      "text/plain": [
       "<Figure size 640x480 with 1 Axes>"
      ]
     },
     "metadata": {},
     "output_type": "display_data"
    }
   ],
   "source": [
    "from matplotlib import pyplot as plt\n",
    "whospends=sales.groupby(['Customer type']).sum()[\"Total\"]\n",
    "whospends.plot(kind=\"bar\")\n",
    "\n",
    "plt.show()\n"
   ]
  },
  {
   "cell_type": "markdown",
   "id": "18f3cd3a",
   "metadata": {},
   "source": [
    "4. Which product line sells the most?"
   ]
  },
  {
   "cell_type": "code",
   "execution_count": 78,
   "id": "36caf7f6",
   "metadata": {},
   "outputs": [
    {
     "name": "stderr",
     "output_type": "stream",
     "text": [
      "C:\\Users\\User\\AppData\\Local\\Temp\\ipykernel_10380\\3100323450.py:2: FutureWarning:\n",
      "\n",
      "The default value of numeric_only in DataFrameGroupBy.sum is deprecated. In a future version, numeric_only will default to False. Either specify numeric_only or select only columns which should be valid for the function.\n",
      "\n"
     ]
    },
    {
     "data": {
      "image/png": "[encoded data removed]",
      "text/plain": [
       "<Figure size 640x480 with 1 Axes>"
      ]
     },
     "metadata": {},
     "output_type": "display_data"
    }
   ],
   "source": [
    "from matplotlib import pyplot as plt\n",
    "whospends=sales.groupby([\"Product line\"]).sum()[\"Total\"]\n",
    "whospends.plot(kind=\"bar\")\n",
    "\n",
    "plt.show()"
   ]
  },
  {
   "cell_type": "markdown",
   "id": "7e76ae13",
   "metadata": {},
   "source": [
    "5. Which product line is popular among men or women?"
   ]
  },
  {
   "cell_type": "code",
   "execution_count": null,
   "id": "979e8b21",
   "metadata": {},
   "outputs": [],
   "source": [
    "product= sales.groupby(['Product line','Gender']).count()['Total']\n",
    "\n",
    "fig = px.bar(sales, x = 'Product line', y = 'Invoice ID',\n",
    "                     hover_name = 'Product line',color = 'Gender')\n",
    "\n",
    "fig.update_layout({\n",
    "'plot_bgcolor': 'rgba(0, 0, 0, 0)',\n",
    "'paper_bgcolor': 'rgba(0, 0, 0, 0)',\n",
    "'title': 'city with more male shoppers'})\n",
    "\n",
    "fig.show()\n"
   ]
  },
  {
   "cell_type": "markdown",
   "id": "be22f6f9",
   "metadata": {},
   "source": [
    "6. What day of month makes the highest sales?"
   ]
  },
  {
   "cell_type": "code",
   "execution_count": 161,
   "id": "e4207216",
   "metadata": {},
   "outputs": [],
   "source": [
    "sales['Day'] = sales['Date'].dt.day"
   ]
  },
  {
   "cell_type": "code",
   "execution_count": 162,
   "id": "8e2ae02a",
   "metadata": {},
   "outputs": [
    {
     "data": {
      "text/html": [
       "<div>\n",
       "<style scoped>\n",
       "    .dataframe tbody tr th:only-of-type {\n",
       "        vertical-align: middle;\n",
       "    }\n",
       "\n",
       "    .dataframe tbody tr th {\n",
       "        vertical-align: top;\n",
       "    }\n",
       "\n",
       "    .dataframe thead th {\n",
       "        text-align: right;\n",
       "    }\n",
       "</style>\n",
       "<table border=\"1\" class=\"dataframe\">\n",
       "  <thead>\n",
       "    <tr style=\"text-align: right;\">\n",
       "      <th></th>\n",
       "      <th>Invoice ID</th>\n",
       "      <th>Branch</th>\n",
       "      <th>City</th>\n",
       "      <th>Customer type</th>\n",
       "      <th>Gender</th>\n",
       "      <th>Product line</th>\n",
       "      <th>Unit price</th>\n",
       "      <th>Quantity</th>\n",
       "      <th>Tax 5%</th>\n",
       "      <th>Total</th>\n",
       "      <th>Date</th>\n",
       "      <th>Time</th>\n",
       "      <th>Payment</th>\n",
       "      <th>cogs</th>\n",
       "      <th>gross margin percentage</th>\n",
       "      <th>gross income</th>\n",
       "      <th>Rating</th>\n",
       "      <th>Day</th>\n",
       "    </tr>\n",
       "  </thead>\n",
       "  <tbody>\n",
       "    <tr>\n",
       "      <th>1</th>\n",
       "      <td>226-31-3081</td>\n",
       "      <td>C</td>\n",
       "      <td>Naypyitaw</td>\n",
       "      <td>Normal</td>\n",
       "      <td>Female</td>\n",
       "      <td>Electronic accessories</td>\n",
       "      <td>15.28</td>\n",
       "      <td>5</td>\n",
       "      <td>4.0110</td>\n",
       "      <td>80.2200</td>\n",
       "      <td>2019-03-08</td>\n",
       "      <td>2023-05-11 10:29:00</td>\n",
       "      <td>Cash</td>\n",
       "      <td>76.40</td>\n",
       "      <td>4.761905</td>\n",
       "      <td>3.8200</td>\n",
       "      <td>9.6</td>\n",
       "      <td>8</td>\n",
       "    </tr>\n",
       "    <tr>\n",
       "      <th>2</th>\n",
       "      <td>631-41-3108</td>\n",
       "      <td>A</td>\n",
       "      <td>Yangon</td>\n",
       "      <td>Normal</td>\n",
       "      <td>Male</td>\n",
       "      <td>Home and lifestyle</td>\n",
       "      <td>46.33</td>\n",
       "      <td>7</td>\n",
       "      <td>16.2155</td>\n",
       "      <td>340.5255</td>\n",
       "      <td>2019-03-03</td>\n",
       "      <td>2023-05-11 13:23:00</td>\n",
       "      <td>Credit card</td>\n",
       "      <td>324.31</td>\n",
       "      <td>4.761905</td>\n",
       "      <td>16.2155</td>\n",
       "      <td>7.4</td>\n",
       "      <td>3</td>\n",
       "    </tr>\n",
       "    <tr>\n",
       "      <th>3</th>\n",
       "      <td>123-19-1176</td>\n",
       "      <td>A</td>\n",
       "      <td>Yangon</td>\n",
       "      <td>Member</td>\n",
       "      <td>Male</td>\n",
       "      <td>Health and beauty</td>\n",
       "      <td>58.22</td>\n",
       "      <td>8</td>\n",
       "      <td>23.2880</td>\n",
       "      <td>489.0480</td>\n",
       "      <td>2019-01-27</td>\n",
       "      <td>2023-05-11 20:33:00</td>\n",
       "      <td>Ewallet</td>\n",
       "      <td>465.76</td>\n",
       "      <td>4.761905</td>\n",
       "      <td>23.2880</td>\n",
       "      <td>8.4</td>\n",
       "      <td>27</td>\n",
       "    </tr>\n",
       "  </tbody>\n",
       "</table>\n",
       "</div>"
      ],
      "text/plain": [
       "    Invoice ID Branch       City Customer type  Gender  \\\n",
       "1  226-31-3081      C  Naypyitaw        Normal  Female   \n",
       "2  631-41-3108      A     Yangon        Normal    Male   \n",
       "3  123-19-1176      A     Yangon        Member    Male   \n",
       "\n",
       "             Product line  Unit price  Quantity   Tax 5%     Total       Date  \\\n",
       "1  Electronic accessories       15.28         5   4.0110   80.2200 2019-03-08   \n",
       "2      Home and lifestyle       46.33         7  16.2155  340.5255 2019-03-03   \n",
       "3       Health and beauty       58.22         8  23.2880  489.0480 2019-01-27   \n",
       "\n",
       "                  Time      Payment    cogs  gross margin percentage  \\\n",
       "1  2023-05-11 10:29:00         Cash   76.40                 4.761905   \n",
       "2  2023-05-11 13:23:00  Credit card  324.31                 4.761905   \n",
       "3  2023-05-11 20:33:00      Ewallet  465.76                 4.761905   \n",
       "\n",
       "   gross income  Rating  Day  \n",
       "1        3.8200     9.6    8  \n",
       "2       16.2155     7.4    3  \n",
       "3       23.2880     8.4   27  "
      ]
     },
     "execution_count": 162,
     "metadata": {},
     "output_type": "execute_result"
    }
   ],
   "source": [
    "sales.head(3)"
   ]
  },
  {
   "cell_type": "code",
   "execution_count": 163,
   "id": "90230f38",
   "metadata": {},
   "outputs": [
    {
     "name": "stderr",
     "output_type": "stream",
     "text": [
      "C:\\Users\\User\\AppData\\Local\\Temp\\ipykernel_11872\\1103660537.py:1: FutureWarning:\n",
      "\n",
      "The default value of numeric_only in DataFrameGroupBy.sum is deprecated. In a future version, numeric_only will default to False. Either specify numeric_only or select only columns which should be valid for the function.\n",
      "\n"
     ]
    },
    {
     "data": {
      "text/plain": [
       "Day\n",
       "1      9824.0835\n",
       "2     12646.7565\n",
       "3     12399.2295\n",
       "4      7957.6245\n",
       "5     11908.0500\n",
       "6      9612.2250\n",
       "7     11500.7130\n",
       "8     13503.7770\n",
       "9     13767.2850\n",
       "10     9865.2015\n",
       "11     9618.3675\n",
       "12    11861.3040\n",
       "13     5389.7235\n",
       "14    13635.3420\n",
       "15    15717.4605\n",
       "16     9947.3220\n",
       "17    10418.6145\n",
       "18     5569.3365\n",
       "19    14883.2355\n",
       "20    11820.0705\n",
       "21     5663.3535\n",
       "22     7326.2280\n",
       "23    12428.8185\n",
       "24    11601.9750\n",
       "25    11780.5695\n",
       "26     8828.1900\n",
       "27    13233.2970\n",
       "28     8800.9005\n",
       "29     7539.8085\n",
       "30     7045.3215\n",
       "31     5232.4965\n",
       "Name: Total, dtype: float64"
      ]
     },
     "execution_count": 163,
     "metadata": {},
     "output_type": "execute_result"
    }
   ],
   "source": [
    "day_sales = sales.groupby('Day').sum()['Total']\n",
    "day_sales"
   ]
  },
  {
   "cell_type": "code",
   "execution_count": 164,
   "id": "9d5ee232",
   "metadata": {},
   "outputs": [
    {
     "data": {
      "image/png": "[encoded data removed]",
      "text/plain": [
       "<Figure size 640x480 with 1 Axes>"
      ]
     },
     "metadata": {},
     "output_type": "display_data"
    }
   ],
   "source": [
    "day_sales.plot()\n",
    "plt.show()"
   ]
  },
  {
   "cell_type": "code",
   "execution_count": 165,
   "id": "6fc29b1d",
   "metadata": {},
   "outputs": [
    {
     "data": {
      "text/html": [
       "<div>\n",
       "<style scoped>\n",
       "    .dataframe tbody tr th:only-of-type {\n",
       "        vertical-align: middle;\n",
       "    }\n",
       "\n",
       "    .dataframe tbody tr th {\n",
       "        vertical-align: top;\n",
       "    }\n",
       "\n",
       "    .dataframe thead th {\n",
       "        text-align: right;\n",
       "    }\n",
       "</style>\n",
       "<table border=\"1\" class=\"dataframe\">\n",
       "  <thead>\n",
       "    <tr style=\"text-align: right;\">\n",
       "      <th></th>\n",
       "      <th>Day</th>\n",
       "      <th>Total</th>\n",
       "    </tr>\n",
       "  </thead>\n",
       "  <tbody>\n",
       "    <tr>\n",
       "      <th>0</th>\n",
       "      <td>1</td>\n",
       "      <td>9824.0835</td>\n",
       "    </tr>\n",
       "    <tr>\n",
       "      <th>1</th>\n",
       "      <td>2</td>\n",
       "      <td>12646.7565</td>\n",
       "    </tr>\n",
       "  </tbody>\n",
       "</table>\n",
       "</div>"
      ],
      "text/plain": [
       "   Day       Total\n",
       "0    1   9824.0835\n",
       "1    2  12646.7565"
      ]
     },
     "execution_count": 165,
     "metadata": {},
     "output_type": "execute_result"
    }
   ],
   "source": [
    "day_sales_df = day_sales.to_frame().reset_index()\n",
    "day_sales_df.head(2)"
   ]
  },
  {
   "cell_type": "code",
   "execution_count": 166,
   "id": "e70c8c02",
   "metadata": {},
   "outputs": [
    {
     "data": {
      "application/vnd.plotly.v1+json": {
       "config": {
        "plotlyServerURL": "https://plot.ly"
       },
       "data": [
        {
         "hovertemplate": "Day=%{x}<br>Total=%{y}<extra></extra>",
         "legendgroup": "",
         "line": {
          "color": "#636efa",
          "dash": "solid"
         },
         "marker": {
          "symbol": "circle"
         },
         "mode": "lines",
         "name": "",
         "orientation": "v",
         "showlegend": false,
         "type": "scatter",
         "x": [
          1,
          2,
          3,
          4,
          5,
          6,
          7,
          8,
          9,
          10,
          11,
          12,
          13,
          14,
          15,
          16,
          17,
          18,
          19,
          20,
          21,
          22,
          23,
          24,
          25,
          26,
          27,
          28,
          29,
          30,
          31
         ],
         "xaxis": "x",
         "y": [
          9824.0835,
          12646.7565,
          12399.2295,
          7957.6245,
          11908.05,
          9612.225,
          11500.713,
          13503.777,
          13767.285,
          9865.2015,
          9618.3675,
          11861.304,
          5389.7235,
          13635.342,
          15717.460500000001,
          9947.322,
          10418.6145,
          5569.336499999999,
          14883.2355,
          11820.0705,
          5663.3535,
          7326.228,
          12428.8185,
          11601.975,
          11780.5695,
          8828.19,
          13233.297,
          8800.9005,
          7539.8085,
          7045.3215,
          5232.4965
         ],
         "yaxis": "y"
        }
       ],
       "layout": {
        "legend": {
         "tracegroupgap": 0
        },
        "margin": {
         "t": 60
        },
        "template": {
         "data": {
          "bar": [
           {
            "error_x": {
             "color": "#2a3f5f"
            },
            "error_y": {
             "color": "#2a3f5f"
            },
            "marker": {
             "line": {
              "color": "#E5ECF6",
              "width": 0.5
             },
             "pattern": {
              "fillmode": "overlay",
              "size": 10,
              "solidity": 0.2
             }
            },
            "type": "bar"
           }
          ],
          "barpolar": [
           {
            "marker": {
             "line": {
              "color": "#E5ECF6",
              "width": 0.5
             },
             "pattern": {
              "fillmode": "overlay",
              "size": 10,
              "solidity": 0.2
             }
            },
            "type": "barpolar"
           }
          ],
          "carpet": [
           {
            "aaxis": {
             "endlinecolor": "#2a3f5f",
             "gridcolor": "white",
             "linecolor": "white",
             "minorgridcolor": "white",
             "startlinecolor": "#2a3f5f"
            },
            "baxis": {
             "endlinecolor": "#2a3f5f",
             "gridcolor": "white",
             "linecolor": "white",
             "minorgridcolor": "white",
             "startlinecolor": "#2a3f5f"
            },
            "type": "carpet"
           }
          ],
          "choropleth": [
           {
            "colorbar": {
             "outlinewidth": 0,
             "ticks": ""
            },
            "type": "choropleth"
           }
          ],
          "contour": [
           {
            "colorbar": {
             "outlinewidth": 0,
             "ticks": ""
            },
            "colorscale": [
             [
              0,
              "#0d0887"
             ],
             [
              0.1111111111111111,
              "#46039f"
             ],
             [
              0.2222222222222222,
              "#7201a8"
             ],
             [
              0.3333333333333333,
              "#9c179e"
             ],
             [
              0.4444444444444444,
              "#bd3786"
             ],
             [
              0.5555555555555556,
              "#d8576b"
             ],
             [
              0.6666666666666666,
              "#ed7953"
             ],
             [
              0.7777777777777778,
              "#fb9f3a"
             ],
             [
              0.8888888888888888,
              "#fdca26"
             ],
             [
              1,
              "#f0f921"
             ]
            ],
            "type": "contour"
           }
          ],
          "contourcarpet": [
           {
            "colorbar": {
             "outlinewidth": 0,
             "ticks": ""
            },
            "type": "contourcarpet"
           }
          ],
          "heatmap": [
           {
            "colorbar": {
             "outlinewidth": 0,
             "ticks": ""
            },
            "colorscale": [
             [
              0,
              "#0d0887"
             ],
             [
              0.1111111111111111,
              "#46039f"
             ],
             [
              0.2222222222222222,
              "#7201a8"
             ],
             [
              0.3333333333333333,
              "#9c179e"
             ],
             [
              0.4444444444444444,
              "#bd3786"
             ],
             [
              0.5555555555555556,
              "#d8576b"
             ],
             [
              0.6666666666666666,
              "#ed7953"
             ],
             [
              0.7777777777777778,
              "#fb9f3a"
             ],
             [
              0.8888888888888888,
              "#fdca26"
             ],
             [
              1,
              "#f0f921"
             ]
            ],
            "type": "heatmap"
           }
          ],
          "heatmapgl": [
           {
            "colorbar": {
             "outlinewidth": 0,
             "ticks": ""
            },
            "colorscale": [
             [
              0,
              "#0d0887"
             ],
             [
              0.1111111111111111,
              "#46039f"
             ],
             [
              0.2222222222222222,
              "#7201a8"
             ],
             [
              0.3333333333333333,
              "#9c179e"
             ],
             [
              0.4444444444444444,
              "#bd3786"
             ],
             [
              0.5555555555555556,
              "#d8576b"
             ],
             [
              0.6666666666666666,
              "#ed7953"
             ],
             [
              0.7777777777777778,
              "#fb9f3a"
             ],
             [
              0.8888888888888888,
              "#fdca26"
             ],
             [
              1,
              "#f0f921"
             ]
            ],
            "type": "heatmapgl"
           }
          ],
          "histogram": [
           {
            "marker": {
             "pattern": {
              "fillmode": "overlay",
              "size": 10,
              "solidity": 0.2
             }
            },
            "type": "histogram"
           }
          ],
          "histogram2d": [
           {
            "colorbar": {
             "outlinewidth": 0,
             "ticks": ""
            },
            "colorscale": [
             [
              0,
              "#0d0887"
             ],
             [
              0.1111111111111111,
              "#46039f"
             ],
             [
              0.2222222222222222,
              "#7201a8"
             ],
             [
              0.3333333333333333,
              "#9c179e"
             ],
             [
              0.4444444444444444,
              "#bd3786"
             ],
             [
              0.5555555555555556,
              "#d8576b"
             ],
             [
              0.6666666666666666,
              "#ed7953"
             ],
             [
              0.7777777777777778,
              "#fb9f3a"
             ],
             [
              0.8888888888888888,
              "#fdca26"
             ],
             [
              1,
              "#f0f921"
             ]
            ],
            "type": "histogram2d"
           }
          ],
          "histogram2dcontour": [
           {
            "colorbar": {
             "outlinewidth": 0,
             "ticks": ""
            },
            "colorscale": [
             [
              0,
              "#0d0887"
             ],
             [
              0.1111111111111111,
              "#46039f"
             ],
             [
              0.2222222222222222,
              "#7201a8"
             ],
             [
              0.3333333333333333,
              "#9c179e"
             ],
             [
              0.4444444444444444,
              "#bd3786"
             ],
             [
              0.5555555555555556,
              "#d8576b"
             ],
             [
              0.6666666666666666,
              "#ed7953"
             ],
             [
              0.7777777777777778,
              "#fb9f3a"
             ],
             [
              0.8888888888888888,
              "#fdca26"
             ],
             [
              1,
              "#f0f921"
             ]
            ],
            "type": "histogram2dcontour"
           }
          ],
          "mesh3d": [
           {
            "colorbar": {
             "outlinewidth": 0,
             "ticks": ""
            },
            "type": "mesh3d"
           }
          ],
          "parcoords": [
           {
            "line": {
             "colorbar": {
              "outlinewidth": 0,
              "ticks": ""
             }
            },
            "type": "parcoords"
           }
          ],
          "pie": [
           {
            "automargin": true,
            "type": "pie"
           }
          ],
          "scatter": [
           {
            "fillpattern": {
             "fillmode": "overlay",
             "size": 10,
             "solidity": 0.2
            },
            "type": "scatter"
           }
          ],
          "scatter3d": [
           {
            "line": {
             "colorbar": {
              "outlinewidth": 0,
              "ticks": ""
             }
            },
            "marker": {
             "colorbar": {
              "outlinewidth": 0,
              "ticks": ""
             }
            },
            "type": "scatter3d"
           }
          ],
          "scattercarpet": [
           {
            "marker": {
             "colorbar": {
              "outlinewidth": 0,
              "ticks": ""
             }
            },
            "type": "scattercarpet"
           }
          ],
          "scattergeo": [
           {
            "marker": {
             "colorbar": {
              "outlinewidth": 0,
              "ticks": ""
             }
            },
            "type": "scattergeo"
           }
          ],
          "scattergl": [
           {
            "marker": {
             "colorbar": {
              "outlinewidth": 0,
              "ticks": ""
             }
            },
            "type": "scattergl"
           }
          ],
          "scattermapbox": [
           {
            "marker": {
             "colorbar": {
              "outlinewidth": 0,
              "ticks": ""
             }
            },
            "type": "scattermapbox"
           }
          ],
          "scatterpolar": [
           {
            "marker": {
             "colorbar": {
              "outlinewidth": 0,
              "ticks": ""
             }
            },
            "type": "scatterpolar"
           }
          ],
          "scatterpolargl": [
           {
            "marker": {
             "colorbar": {
              "outlinewidth": 0,
              "ticks": ""
             }
            },
            "type": "scatterpolargl"
           }
          ],
          "scatterternary": [
           {
            "marker": {
             "colorbar": {
              "outlinewidth": 0,
              "ticks": ""
             }
            },
            "type": "scatterternary"
           }
          ],
          "surface": [
           {
            "colorbar": {
             "outlinewidth": 0,
             "ticks": ""
            },
            "colorscale": [
             [
              0,
              "#0d0887"
             ],
             [
              0.1111111111111111,
              "#46039f"
             ],
             [
              0.2222222222222222,
              "#7201a8"
             ],
             [
              0.3333333333333333,
              "#9c179e"
             ],
             [
              0.4444444444444444,
              "#bd3786"
             ],
             [
              0.5555555555555556,
              "#d8576b"
             ],
             [
              0.6666666666666666,
              "#ed7953"
             ],
             [
              0.7777777777777778,
              "#fb9f3a"
             ],
             [
              0.8888888888888888,
              "#fdca26"
             ],
             [
              1,
              "#f0f921"
             ]
            ],
            "type": "surface"
           }
          ],
          "table": [
           {
            "cells": {
             "fill": {
              "color": "#EBF0F8"
             },
             "line": {
              "color": "white"
             }
            },
            "header": {
             "fill": {
              "color": "#C8D4E3"
             },
             "line": {
              "color": "white"
             }
            },
            "type": "table"
           }
          ]
         },
         "layout": {
          "annotationdefaults": {
           "arrowcolor": "#2a3f5f",
           "arrowhead": 0,
           "arrowwidth": 1
          },
          "autotypenumbers": "strict",
          "coloraxis": {
           "colorbar": {
            "outlinewidth": 0,
            "ticks": ""
           }
          },
          "colorscale": {
           "diverging": [
            [
             0,
             "#8e0152"
            ],
            [
             0.1,
             "#c51b7d"
            ],
            [
             0.2,
             "#de77ae"
            ],
            [
             0.3,
             "#f1b6da"
            ],
            [
             0.4,
             "#fde0ef"
            ],
            [
             0.5,
             "#f7f7f7"
            ],
            [
             0.6,
             "#e6f5d0"
            ],
            [
             0.7,
             "#b8e186"
            ],
            [
             0.8,
             "#7fbc41"
            ],
            [
             0.9,
             "#4d9221"
            ],
            [
             1,
             "#276419"
            ]
           ],
           "sequential": [
            [
             0,
             "#0d0887"
            ],
            [
             0.1111111111111111,
             "#46039f"
            ],
            [
             0.2222222222222222,
             "#7201a8"
            ],
            [
             0.3333333333333333,
             "#9c179e"
            ],
            [
             0.4444444444444444,
             "#bd3786"
            ],
            [
             0.5555555555555556,
             "#d8576b"
            ],
            [
             0.6666666666666666,
             "#ed7953"
            ],
            [
             0.7777777777777778,
             "#fb9f3a"
            ],
            [
             0.8888888888888888,
             "#fdca26"
            ],
            [
             1,
             "#f0f921"
            ]
           ],
           "sequentialminus": [
            [
             0,
             "#0d0887"
            ],
            [
             0.1111111111111111,
             "#46039f"
            ],
            [
             0.2222222222222222,
             "#7201a8"
            ],
            [
             0.3333333333333333,
             "#9c179e"
            ],
            [
             0.4444444444444444,
             "#bd3786"
            ],
            [
             0.5555555555555556,
             "#d8576b"
            ],
            [
             0.6666666666666666,
             "#ed7953"
            ],
            [
             0.7777777777777778,
             "#fb9f3a"
            ],
            [
             0.8888888888888888,
             "#fdca26"
            ],
            [
             1,
             "#f0f921"
            ]
           ]
          },
          "colorway": [
           "#636efa",
           "#EF553B",
           "#00cc96",
           "#ab63fa",
           "#FFA15A",
           "#19d3f3",
           "#FF6692",
           "#B6E880",
           "#FF97FF",
           "#FECB52"
          ],
          "font": {
           "color": "#2a3f5f"
          },
          "geo": {
           "bgcolor": "white",
           "lakecolor": "white",
           "landcolor": "#E5ECF6",
           "showlakes": true,
           "showland": true,
           "subunitcolor": "white"
          },
          "hoverlabel": {
           "align": "left"
          },
          "hovermode": "closest",
          "mapbox": {
           "style": "light"
          },
          "paper_bgcolor": "white",
          "plot_bgcolor": "#E5ECF6",
          "polar": {
           "angularaxis": {
            "gridcolor": "white",
            "linecolor": "white",
            "ticks": ""
           },
           "bgcolor": "#E5ECF6",
           "radialaxis": {
            "gridcolor": "white",
            "linecolor": "white",
            "ticks": ""
           }
          },
          "scene": {
           "xaxis": {
            "backgroundcolor": "#E5ECF6",
            "gridcolor": "white",
            "gridwidth": 2,
            "linecolor": "white",
            "showbackground": true,
            "ticks": "",
            "zerolinecolor": "white"
           },
           "yaxis": {
            "backgroundcolor": "#E5ECF6",
            "gridcolor": "white",
            "gridwidth": 2,
            "linecolor": "white",
            "showbackground": true,
            "ticks": "",
            "zerolinecolor": "white"
           },
           "zaxis": {
            "backgroundcolor": "#E5ECF6",
            "gridcolor": "white",
            "gridwidth": 2,
            "linecolor": "white",
            "showbackground": true,
            "ticks": "",
            "zerolinecolor": "white"
           }
          },
          "shapedefaults": {
           "line": {
            "color": "#2a3f5f"
           }
          },
          "ternary": {
           "aaxis": {
            "gridcolor": "white",
            "linecolor": "white",
            "ticks": ""
           },
           "baxis": {
            "gridcolor": "white",
            "linecolor": "white",
            "ticks": ""
           },
           "bgcolor": "#E5ECF6",
           "caxis": {
            "gridcolor": "white",
            "linecolor": "white",
            "ticks": ""
           }
          },
          "title": {
           "x": 0.05
          },
          "xaxis": {
           "automargin": true,
           "gridcolor": "white",
           "linecolor": "white",
           "ticks": "",
           "title": {
            "standoff": 15
           },
           "zerolinecolor": "white",
           "zerolinewidth": 2
          },
          "yaxis": {
           "automargin": true,
           "gridcolor": "white",
           "linecolor": "white",
           "ticks": "",
           "title": {
            "standoff": 15
           },
           "zerolinecolor": "white",
           "zerolinewidth": 2
          }
         }
        },
        "xaxis": {
         "anchor": "y",
         "domain": [
          0,
          1
         ],
         "title": {
          "text": "Day"
         }
        },
        "yaxis": {
         "anchor": "x",
         "domain": [
          0,
          1
         ],
         "title": {
          "text": "Total"
         }
        }
       }
      },
      "text/html": [
       "<div>                            <div id=\"3b8373a5-3ad6-4508-b122-dbfe52b4ce2c\" class=\"plotly-graph-div\" style=\"height:525px; width:100%;\"></div>            <script type=\"text/javascript\">                require([\"plotly\"], function(Plotly) {                    window.PLOTLYENV=window.PLOTLYENV || {};                                    if (document.getElementById(\"3b8373a5-3ad6-4508-b122-dbfe52b4ce2c\")) {                    Plotly.newPlot(                        \"3b8373a5-3ad6-4508-b122-dbfe52b4ce2c\",                        [{\"hovertemplate\":\"Day=%{x}<br>Total=%{y}<extra></extra>\",\"legendgroup\":\"\",\"line\":{\"color\":\"#636efa\",\"dash\":\"solid\"},\"marker\":{\"symbol\":\"circle\"},\"mode\":\"lines\",\"name\":\"\",\"orientation\":\"v\",\"showlegend\":false,\"x\":[1,2,3,4,5,6,7,8,9,10,11,12,13,14,15,16,17,18,19,20,21,22,23,24,25,26,27,28,29,30,31],\"xaxis\":\"x\",\"y\":[9824.0835,12646.7565,12399.2295,7957.6245,11908.05,9612.225,11500.713,13503.777,13767.285,9865.2015,9618.3675,11861.304,5389.7235,13635.342,15717.460500000001,9947.322,10418.6145,5569.336499999999,14883.2355,11820.0705,5663.3535,7326.228,12428.8185,11601.975,11780.5695,8828.19,13233.297,8800.9005,7539.8085,7045.3215,5232.4965],\"yaxis\":\"y\",\"type\":\"scatter\"}],                        {\"template\":{\"data\":{\"histogram2dcontour\":[{\"type\":\"histogram2dcontour\",\"colorbar\":{\"outlinewidth\":0,\"ticks\":\"\"},\"colorscale\":[[0.0,\"#0d0887\"],[0.1111111111111111,\"#46039f\"],[0.2222222222222222,\"#7201a8\"],[0.3333333333333333,\"#9c179e\"],[0.4444444444444444,\"#bd3786\"],[0.5555555555555556,\"#d8576b\"],[0.6666666666666666,\"#ed7953\"],[0.7777777777777778,\"#fb9f3a\"],[0.8888888888888888,\"#fdca26\"],[1.0,\"#f0f921\"]]}],\"choropleth\":[{\"type\":\"choropleth\",\"colorbar\":{\"outlinewidth\":0,\"ticks\":\"\"}}],\"histogram2d\":[{\"type\":\"histogram2d\",\"colorbar\":{\"outlinewidth\":0,\"ticks\":\"\"},\"colorscale\":[[0.0,\"#0d0887\"],[0.1111111111111111,\"#46039f\"],[0.2222222222222222,\"#7201a8\"],[0.3333333333333333,\"#9c179e\"],[0.4444444444444444,\"#bd3786\"],[0.5555555555555556,\"#d8576b\"],[0.6666666666666666,\"#ed7953\"],[0.7777777777777778,\"#fb9f3a\"],[0.8888888888888888,\"#fdca26\"],[1.0,\"#f0f921\"]]}],\"heatmap\":[{\"type\":\"heatmap\",\"colorbar\":{\"outlinewidth\":0,\"ticks\":\"\"},\"colorscale\":[[0.0,\"#0d0887\"],[0.1111111111111111,\"#46039f\"],[0.2222222222222222,\"#7201a8\"],[0.3333333333333333,\"#9c179e\"],[0.4444444444444444,\"#bd3786\"],[0.5555555555555556,\"#d8576b\"],[0.6666666666666666,\"#ed7953\"],[0.7777777777777778,\"#fb9f3a\"],[0.8888888888888888,\"#fdca26\"],[1.0,\"#f0f921\"]]}],\"heatmapgl\":[{\"type\":\"heatmapgl\",\"colorbar\":{\"outlinewidth\":0,\"ticks\":\"\"},\"colorscale\":[[0.0,\"#0d0887\"],[0.1111111111111111,\"#46039f\"],[0.2222222222222222,\"#7201a8\"],[0.3333333333333333,\"#9c179e\"],[0.4444444444444444,\"#bd3786\"],[0.5555555555555556,\"#d8576b\"],[0.6666666666666666,\"#ed7953\"],[0.7777777777777778,\"#fb9f3a\"],[0.8888888888888888,\"#fdca26\"],[1.0,\"#f0f921\"]]}],\"contourcarpet\":[{\"type\":\"contourcarpet\",\"colorbar\":{\"outlinewidth\":0,\"ticks\":\"\"}}],\"contour\":[{\"type\":\"contour\",\"colorbar\":{\"outlinewidth\":0,\"ticks\":\"\"},\"colorscale\":[[0.0,\"#0d0887\"],[0.1111111111111111,\"#46039f\"],[0.2222222222222222,\"#7201a8\"],[0.3333333333333333,\"#9c179e\"],[0.4444444444444444,\"#bd3786\"],[0.5555555555555556,\"#d8576b\"],[0.6666666666666666,\"#ed7953\"],[0.7777777777777778,\"#fb9f3a\"],[0.8888888888888888,\"#fdca26\"],[1.0,\"#f0f921\"]]}],\"surface\":[{\"type\":\"surface\",\"colorbar\":{\"outlinewidth\":0,\"ticks\":\"\"},\"colorscale\":[[0.0,\"#0d0887\"],[0.1111111111111111,\"#46039f\"],[0.2222222222222222,\"#7201a8\"],[0.3333333333333333,\"#9c179e\"],[0.4444444444444444,\"#bd3786\"],[0.5555555555555556,\"#d8576b\"],[0.6666666666666666,\"#ed7953\"],[0.7777777777777778,\"#fb9f3a\"],[0.8888888888888888,\"#fdca26\"],[1.0,\"#f0f921\"]]}],\"mesh3d\":[{\"type\":\"mesh3d\",\"colorbar\":{\"outlinewidth\":0,\"ticks\":\"\"}}],\"scatter\":[{\"fillpattern\":{\"fillmode\":\"overlay\",\"size\":10,\"solidity\":0.2},\"type\":\"scatter\"}],\"parcoords\":[{\"type\":\"parcoords\",\"line\":{\"colorbar\":{\"outlinewidth\":0,\"ticks\":\"\"}}}],\"scatterpolargl\":[{\"type\":\"scatterpolargl\",\"marker\":{\"colorbar\":{\"outlinewidth\":0,\"ticks\":\"\"}}}],\"bar\":[{\"error_x\":{\"color\":\"#2a3f5f\"},\"error_y\":{\"color\":\"#2a3f5f\"},\"marker\":{\"line\":{\"color\":\"#E5ECF6\",\"width\":0.5},\"pattern\":{\"fillmode\":\"overlay\",\"size\":10,\"solidity\":0.2}},\"type\":\"bar\"}],\"scattergeo\":[{\"type\":\"scattergeo\",\"marker\":{\"colorbar\":{\"outlinewidth\":0,\"ticks\":\"\"}}}],\"scatterpolar\":[{\"type\":\"scatterpolar\",\"marker\":{\"colorbar\":{\"outlinewidth\":0,\"ticks\":\"\"}}}],\"histogram\":[{\"marker\":{\"pattern\":{\"fillmode\":\"overlay\",\"size\":10,\"solidity\":0.2}},\"type\":\"histogram\"}],\"scattergl\":[{\"type\":\"scattergl\",\"marker\":{\"colorbar\":{\"outlinewidth\":0,\"ticks\":\"\"}}}],\"scatter3d\":[{\"type\":\"scatter3d\",\"line\":{\"colorbar\":{\"outlinewidth\":0,\"ticks\":\"\"}},\"marker\":{\"colorbar\":{\"outlinewidth\":0,\"ticks\":\"\"}}}],\"scattermapbox\":[{\"type\":\"scattermapbox\",\"marker\":{\"colorbar\":{\"outlinewidth\":0,\"ticks\":\"\"}}}],\"scatterternary\":[{\"type\":\"scatterternary\",\"marker\":{\"colorbar\":{\"outlinewidth\":0,\"ticks\":\"\"}}}],\"scattercarpet\":[{\"type\":\"scattercarpet\",\"marker\":{\"colorbar\":{\"outlinewidth\":0,\"ticks\":\"\"}}}],\"carpet\":[{\"aaxis\":{\"endlinecolor\":\"#2a3f5f\",\"gridcolor\":\"white\",\"linecolor\":\"white\",\"minorgridcolor\":\"white\",\"startlinecolor\":\"#2a3f5f\"},\"baxis\":{\"endlinecolor\":\"#2a3f5f\",\"gridcolor\":\"white\",\"linecolor\":\"white\",\"minorgridcolor\":\"white\",\"startlinecolor\":\"#2a3f5f\"},\"type\":\"carpet\"}],\"table\":[{\"cells\":{\"fill\":{\"color\":\"#EBF0F8\"},\"line\":{\"color\":\"white\"}},\"header\":{\"fill\":{\"color\":\"#C8D4E3\"},\"line\":{\"color\":\"white\"}},\"type\":\"table\"}],\"barpolar\":[{\"marker\":{\"line\":{\"color\":\"#E5ECF6\",\"width\":0.5},\"pattern\":{\"fillmode\":\"overlay\",\"size\":10,\"solidity\":0.2}},\"type\":\"barpolar\"}],\"pie\":[{\"automargin\":true,\"type\":\"pie\"}]},\"layout\":{\"autotypenumbers\":\"strict\",\"colorway\":[\"#636efa\",\"#EF553B\",\"#00cc96\",\"#ab63fa\",\"#FFA15A\",\"#19d3f3\",\"#FF6692\",\"#B6E880\",\"#FF97FF\",\"#FECB52\"],\"font\":{\"color\":\"#2a3f5f\"},\"hovermode\":\"closest\",\"hoverlabel\":{\"align\":\"left\"},\"paper_bgcolor\":\"white\",\"plot_bgcolor\":\"#E5ECF6\",\"polar\":{\"bgcolor\":\"#E5ECF6\",\"angularaxis\":{\"gridcolor\":\"white\",\"linecolor\":\"white\",\"ticks\":\"\"},\"radialaxis\":{\"gridcolor\":\"white\",\"linecolor\":\"white\",\"ticks\":\"\"}},\"ternary\":{\"bgcolor\":\"#E5ECF6\",\"aaxis\":{\"gridcolor\":\"white\",\"linecolor\":\"white\",\"ticks\":\"\"},\"baxis\":{\"gridcolor\":\"white\",\"linecolor\":\"white\",\"ticks\":\"\"},\"caxis\":{\"gridcolor\":\"white\",\"linecolor\":\"white\",\"ticks\":\"\"}},\"coloraxis\":{\"colorbar\":{\"outlinewidth\":0,\"ticks\":\"\"}},\"colorscale\":{\"sequential\":[[0.0,\"#0d0887\"],[0.1111111111111111,\"#46039f\"],[0.2222222222222222,\"#7201a8\"],[0.3333333333333333,\"#9c179e\"],[0.4444444444444444,\"#bd3786\"],[0.5555555555555556,\"#d8576b\"],[0.6666666666666666,\"#ed7953\"],[0.7777777777777778,\"#fb9f3a\"],[0.8888888888888888,\"#fdca26\"],[1.0,\"#f0f921\"]],\"sequentialminus\":[[0.0,\"#0d0887\"],[0.1111111111111111,\"#46039f\"],[0.2222222222222222,\"#7201a8\"],[0.3333333333333333,\"#9c179e\"],[0.4444444444444444,\"#bd3786\"],[0.5555555555555556,\"#d8576b\"],[0.6666666666666666,\"#ed7953\"],[0.7777777777777778,\"#fb9f3a\"],[0.8888888888888888,\"#fdca26\"],[1.0,\"#f0f921\"]],\"diverging\":[[0,\"#8e0152\"],[0.1,\"#c51b7d\"],[0.2,\"#de77ae\"],[0.3,\"#f1b6da\"],[0.4,\"#fde0ef\"],[0.5,\"#f7f7f7\"],[0.6,\"#e6f5d0\"],[0.7,\"#b8e186\"],[0.8,\"#7fbc41\"],[0.9,\"#4d9221\"],[1,\"#276419\"]]},\"xaxis\":{\"gridcolor\":\"white\",\"linecolor\":\"white\",\"ticks\":\"\",\"title\":{\"standoff\":15},\"zerolinecolor\":\"white\",\"automargin\":true,\"zerolinewidth\":2},\"yaxis\":{\"gridcolor\":\"white\",\"linecolor\":\"white\",\"ticks\":\"\",\"title\":{\"standoff\":15},\"zerolinecolor\":\"white\",\"automargin\":true,\"zerolinewidth\":2},\"scene\":{\"xaxis\":{\"backgroundcolor\":\"#E5ECF6\",\"gridcolor\":\"white\",\"linecolor\":\"white\",\"showbackground\":true,\"ticks\":\"\",\"zerolinecolor\":\"white\",\"gridwidth\":2},\"yaxis\":{\"backgroundcolor\":\"#E5ECF6\",\"gridcolor\":\"white\",\"linecolor\":\"white\",\"showbackground\":true,\"ticks\":\"\",\"zerolinecolor\":\"white\",\"gridwidth\":2},\"zaxis\":{\"backgroundcolor\":\"#E5ECF6\",\"gridcolor\":\"white\",\"linecolor\":\"white\",\"showbackground\":true,\"ticks\":\"\",\"zerolinecolor\":\"white\",\"gridwidth\":2}},\"shapedefaults\":{\"line\":{\"color\":\"#2a3f5f\"}},\"annotationdefaults\":{\"arrowcolor\":\"#2a3f5f\",\"arrowhead\":0,\"arrowwidth\":1},\"geo\":{\"bgcolor\":\"white\",\"landcolor\":\"#E5ECF6\",\"subunitcolor\":\"white\",\"showland\":true,\"showlakes\":true,\"lakecolor\":\"white\"},\"title\":{\"x\":0.05},\"mapbox\":{\"style\":\"light\"}}},\"xaxis\":{\"anchor\":\"y\",\"domain\":[0.0,1.0],\"title\":{\"text\":\"Day\"}},\"yaxis\":{\"anchor\":\"x\",\"domain\":[0.0,1.0],\"title\":{\"text\":\"Total\"}},\"legend\":{\"tracegroupgap\":0},\"margin\":{\"t\":60}},                        {\"responsive\": true}                    ).then(function(){\n",
       "                            \n",
       "var gd = document.getElementById('3b8373a5-3ad6-4508-b122-dbfe52b4ce2c');\n",
       "var x = new MutationObserver(function (mutations, observer) {{\n",
       "        var display = window.getComputedStyle(gd).display;\n",
       "        if (!display || display === 'none') {{\n",
       "            console.log([gd, 'removed!']);\n",
       "            Plotly.purge(gd);\n",
       "            observer.disconnect();\n",
       "        }}\n",
       "}});\n",
       "\n",
       "// Listen for the removal of the full notebook cells\n",
       "var notebookContainer = gd.closest('#notebook-container');\n",
       "if (notebookContainer) {{\n",
       "    x.observe(notebookContainer, {childList: true});\n",
       "}}\n",
       "\n",
       "// Listen for the clearing of the current output cell\n",
       "var outputEl = gd.closest('.output');\n",
       "if (outputEl) {{\n",
       "    x.observe(outputEl, {childList: true});\n",
       "}}\n",
       "\n",
       "                        })                };                });            </script>        </div>"
      ]
     },
     "metadata": {},
     "output_type": "display_data"
    }
   ],
   "source": [
    "fig = px.line(day_sales_df, x='Day', y=\"Total\")\n",
    "fig.show()"
   ]
  },
  {
   "cell_type": "markdown",
   "id": "cc24b979",
   "metadata": {},
   "source": [
    "7. Which month makes the most sales?"
   ]
  },
  {
   "cell_type": "code",
   "execution_count": 173,
   "id": "2e3c0d99",
   "metadata": {},
   "outputs": [],
   "source": [
    "sales['Month'] = sales['Date'].dt.month"
   ]
  },
  {
   "cell_type": "code",
   "execution_count": 181,
   "id": "c43022e0",
   "metadata": {
    "scrolled": true
   },
   "outputs": [
    {
     "data": {
      "text/html": [
       "<div>\n",
       "<style scoped>\n",
       "    .dataframe tbody tr th:only-of-type {\n",
       "        vertical-align: middle;\n",
       "    }\n",
       "\n",
       "    .dataframe tbody tr th {\n",
       "        vertical-align: top;\n",
       "    }\n",
       "\n",
       "    .dataframe thead th {\n",
       "        text-align: right;\n",
       "    }\n",
       "</style>\n",
       "<table border=\"1\" class=\"dataframe\">\n",
       "  <thead>\n",
       "    <tr style=\"text-align: right;\">\n",
       "      <th></th>\n",
       "      <th>Invoice ID</th>\n",
       "      <th>Branch</th>\n",
       "      <th>City</th>\n",
       "      <th>Customer type</th>\n",
       "      <th>Gender</th>\n",
       "      <th>Product line</th>\n",
       "      <th>Unit price</th>\n",
       "      <th>Quantity</th>\n",
       "      <th>Tax 5%</th>\n",
       "      <th>Total</th>\n",
       "      <th>Date</th>\n",
       "      <th>Time</th>\n",
       "      <th>Payment</th>\n",
       "      <th>cogs</th>\n",
       "      <th>gross margin percentage</th>\n",
       "      <th>gross income</th>\n",
       "      <th>Rating</th>\n",
       "      <th>Day</th>\n",
       "      <th>Month</th>\n",
       "    </tr>\n",
       "  </thead>\n",
       "  <tbody>\n",
       "    <tr>\n",
       "      <th>1</th>\n",
       "      <td>226-31-3081</td>\n",
       "      <td>C</td>\n",
       "      <td>Naypyitaw</td>\n",
       "      <td>Normal</td>\n",
       "      <td>Female</td>\n",
       "      <td>Electronic accessories</td>\n",
       "      <td>15.28</td>\n",
       "      <td>5</td>\n",
       "      <td>4.0110</td>\n",
       "      <td>80.2200</td>\n",
       "      <td>2019-03-08</td>\n",
       "      <td>2023-05-11 10:29:00</td>\n",
       "      <td>Cash</td>\n",
       "      <td>76.40</td>\n",
       "      <td>4.761905</td>\n",
       "      <td>3.8200</td>\n",
       "      <td>9.6</td>\n",
       "      <td>8</td>\n",
       "      <td>3</td>\n",
       "    </tr>\n",
       "    <tr>\n",
       "      <th>2</th>\n",
       "      <td>631-41-3108</td>\n",
       "      <td>A</td>\n",
       "      <td>Yangon</td>\n",
       "      <td>Normal</td>\n",
       "      <td>Male</td>\n",
       "      <td>Home and lifestyle</td>\n",
       "      <td>46.33</td>\n",
       "      <td>7</td>\n",
       "      <td>16.2155</td>\n",
       "      <td>340.5255</td>\n",
       "      <td>2019-03-03</td>\n",
       "      <td>2023-05-11 13:23:00</td>\n",
       "      <td>Credit card</td>\n",
       "      <td>324.31</td>\n",
       "      <td>4.761905</td>\n",
       "      <td>16.2155</td>\n",
       "      <td>7.4</td>\n",
       "      <td>3</td>\n",
       "      <td>3</td>\n",
       "    </tr>\n",
       "    <tr>\n",
       "      <th>3</th>\n",
       "      <td>123-19-1176</td>\n",
       "      <td>A</td>\n",
       "      <td>Yangon</td>\n",
       "      <td>Member</td>\n",
       "      <td>Male</td>\n",
       "      <td>Health and beauty</td>\n",
       "      <td>58.22</td>\n",
       "      <td>8</td>\n",
       "      <td>23.2880</td>\n",
       "      <td>489.0480</td>\n",
       "      <td>2019-01-27</td>\n",
       "      <td>2023-05-11 20:33:00</td>\n",
       "      <td>Ewallet</td>\n",
       "      <td>465.76</td>\n",
       "      <td>4.761905</td>\n",
       "      <td>23.2880</td>\n",
       "      <td>8.4</td>\n",
       "      <td>27</td>\n",
       "      <td>1</td>\n",
       "    </tr>\n",
       "    <tr>\n",
       "      <th>4</th>\n",
       "      <td>373-73-7910</td>\n",
       "      <td>A</td>\n",
       "      <td>Yangon</td>\n",
       "      <td>Normal</td>\n",
       "      <td>Male</td>\n",
       "      <td>Sports and travel</td>\n",
       "      <td>86.31</td>\n",
       "      <td>7</td>\n",
       "      <td>30.2085</td>\n",
       "      <td>634.3785</td>\n",
       "      <td>2019-02-08</td>\n",
       "      <td>2023-05-11 10:37:00</td>\n",
       "      <td>Ewallet</td>\n",
       "      <td>604.17</td>\n",
       "      <td>4.761905</td>\n",
       "      <td>30.2085</td>\n",
       "      <td>5.3</td>\n",
       "      <td>8</td>\n",
       "      <td>2</td>\n",
       "    </tr>\n",
       "    <tr>\n",
       "      <th>5</th>\n",
       "      <td>699-14-3026</td>\n",
       "      <td>C</td>\n",
       "      <td>Naypyitaw</td>\n",
       "      <td>Normal</td>\n",
       "      <td>Male</td>\n",
       "      <td>Electronic accessories</td>\n",
       "      <td>85.39</td>\n",
       "      <td>7</td>\n",
       "      <td>29.8865</td>\n",
       "      <td>627.6165</td>\n",
       "      <td>2019-03-25</td>\n",
       "      <td>2023-05-11 18:30:00</td>\n",
       "      <td>Ewallet</td>\n",
       "      <td>597.73</td>\n",
       "      <td>4.761905</td>\n",
       "      <td>29.8865</td>\n",
       "      <td>4.1</td>\n",
       "      <td>25</td>\n",
       "      <td>3</td>\n",
       "    </tr>\n",
       "  </tbody>\n",
       "</table>\n",
       "</div>"
      ],
      "text/plain": [
       "    Invoice ID Branch       City Customer type  Gender  \\\n",
       "1  226-31-3081      C  Naypyitaw        Normal  Female   \n",
       "2  631-41-3108      A     Yangon        Normal    Male   \n",
       "3  123-19-1176      A     Yangon        Member    Male   \n",
       "4  373-73-7910      A     Yangon        Normal    Male   \n",
       "5  699-14-3026      C  Naypyitaw        Normal    Male   \n",
       "\n",
       "             Product line  Unit price  Quantity   Tax 5%     Total       Date  \\\n",
       "1  Electronic accessories       15.28         5   4.0110   80.2200 2019-03-08   \n",
       "2      Home and lifestyle       46.33         7  16.2155  340.5255 2019-03-03   \n",
       "3       Health and beauty       58.22         8  23.2880  489.0480 2019-01-27   \n",
       "4       Sports and travel       86.31         7  30.2085  634.3785 2019-02-08   \n",
       "5  Electronic accessories       85.39         7  29.8865  627.6165 2019-03-25   \n",
       "\n",
       "                  Time      Payment    cogs  gross margin percentage  \\\n",
       "1  2023-05-11 10:29:00         Cash   76.40                 4.761905   \n",
       "2  2023-05-11 13:23:00  Credit card  324.31                 4.761905   \n",
       "3  2023-05-11 20:33:00      Ewallet  465.76                 4.761905   \n",
       "4  2023-05-11 10:37:00      Ewallet  604.17                 4.761905   \n",
       "5  2023-05-11 18:30:00      Ewallet  597.73                 4.761905   \n",
       "\n",
       "   gross income  Rating  Day  Month  \n",
       "1        3.8200     9.6    8      3  \n",
       "2       16.2155     7.4    3      3  \n",
       "3       23.2880     8.4   27      1  \n",
       "4       30.2085     5.3    8      2  \n",
       "5       29.8865     4.1   25      3  "
      ]
     },
     "execution_count": 181,
     "metadata": {},
     "output_type": "execute_result"
    }
   ],
   "source": [
    "sales.head()"
   ]
  },
  {
   "cell_type": "code",
   "execution_count": 182,
   "id": "b096e9e2",
   "metadata": {},
   "outputs": [
    {
     "name": "stderr",
     "output_type": "stream",
     "text": [
      "C:\\Users\\User\\AppData\\Local\\Temp\\ipykernel_11872\\3516225620.py:1: FutureWarning:\n",
      "\n",
      "The default value of numeric_only in DataFrameGroupBy.sum is deprecated. In a future version, numeric_only will default to False. Either specify numeric_only or select only columns which should be valid for the function.\n",
      "\n"
     ]
    },
    {
     "data": {
      "text/plain": [
       "Month\n",
       "1    115742.8965\n",
       "2     96877.7040\n",
       "3    108706.0800\n",
       "Name: Total, dtype: float64"
      ]
     },
     "execution_count": 182,
     "metadata": {},
     "output_type": "execute_result"
    }
   ],
   "source": [
    "month_sales = sales.groupby('Month').sum()['Total']\n",
    "month_sales"
   ]
  },
  {
   "cell_type": "code",
   "execution_count": 183,
   "id": "82681f6e",
   "metadata": {},
   "outputs": [
    {
     "data": {
      "image/png": "[encoded data removed]",
      "text/plain": [
       "<Figure size 640x480 with 1 Axes>"
      ]
     },
     "metadata": {},
     "output_type": "display_data"
    }
   ],
   "source": [
    "month_sales.plot(kind=\"bar\")\n",
    "plt.show()"
   ]
  },
  {
   "cell_type": "code",
   "execution_count": null,
   "id": "bf9ddbfc",
   "metadata": {},
   "outputs": [],
   "source": []
  },
  {
   "cell_type": "code",
   "execution_count": null,
   "id": "33261637",
   "metadata": {},
   "outputs": [],
   "source": []
  },
  {
   "cell_type": "markdown",
   "id": "305463c2",
   "metadata": {},
   "source": [
    "8. Find the highest unit price in the product line.\n"
   ]
  },
  {
   "cell_type": "code",
   "execution_count": 185,
   "id": "b02c0767",
   "metadata": {},
   "outputs": [
    {
     "name": "stderr",
     "output_type": "stream",
     "text": [
      "C:\\Users\\User\\AppData\\Local\\Temp\\ipykernel_11872\\2498389261.py:1: FutureWarning:\n",
      "\n",
      "Dropping invalid columns in DataFrameGroupBy.max is deprecated. In a future version, a TypeError will be raised. Before calling .max, select only columns which should be valid for the function.\n",
      "\n"
     ]
    },
    {
     "data": {
      "image/png": "[encoded data removed]",
      "text/plain": [
       "<Figure size 640x480 with 1 Axes>"
      ]
     },
     "metadata": {},
     "output_type": "display_data"
    }
   ],
   "source": [
    "unitprice_max=sales.groupby(\"Product line\").max()[\"Unit price\"]\n",
    "unitprice_max.plot(kind=\"bar\")\n",
    "plt.show()"
   ]
  },
  {
   "cell_type": "markdown",
   "id": "e1508517",
   "metadata": {},
   "source": [
    "9. Find the most popular payment method used by customers"
   ]
  },
  {
   "cell_type": "code",
   "execution_count": 188,
   "id": "e5c7930c",
   "metadata": {},
   "outputs": [
    {
     "data": {
      "text/plain": [
       "<Axes: ylabel='Payment'>"
      ]
     },
     "execution_count": 188,
     "metadata": {},
     "output_type": "execute_result"
    },
    {
     "data": {
      "image/png": "[encoded data removed]",
      "text/plain": [
       "<Figure size 640x480 with 1 Axes>"
      ]
     },
     "metadata": {},
     "output_type": "display_data"
    }
   ],
   "source": [
    "sales['Payment'].value_counts().plot(kind='pie')"
   ]
  },
  {
   "cell_type": "code",
   "execution_count": null,
   "id": "9619f014",
   "metadata": {},
   "outputs": [],
   "source": [
    "df_payment=sales['Payment'].value_counts()"
   ]
  },
  {
   "cell_type": "markdown",
   "id": "cf7ceadc",
   "metadata": {},
   "source": [
    "10. Find the payment method that lead to the most amount of money per branch"
   ]
  },
  {
   "cell_type": "code",
   "execution_count": 190,
   "id": "bd2cfb04",
   "metadata": {},
   "outputs": [
    {
     "name": "stderr",
     "output_type": "stream",
     "text": [
      "C:\\Users\\User\\AppData\\Local\\Temp\\ipykernel_11872\\158380205.py:1: FutureWarning:\n",
      "\n",
      "The default value of numeric_only in DataFrameGroupBy.sum is deprecated. In a future version, numeric_only will default to False. Either specify numeric_only or select only columns which should be valid for the function.\n",
      "\n"
     ]
    },
    {
     "data": {
      "text/plain": [
       "Branch  Payment    \n",
       "        Ewallet          433.6920\n",
       "A       Cash           33572.5110\n",
       "        Credit card    33094.7505\n",
       "        Ewallet        37816.4745\n",
       "B       Cash           35339.4615\n",
       "        Credit card    37344.8565\n",
       "        Ewallet        33513.3540\n",
       "C       Cash           42788.0565\n",
       "        Credit card    30327.4650\n",
       "        Ewallet        37096.0590\n",
       "Name: Total, dtype: float64"
      ]
     },
     "execution_count": 190,
     "metadata": {},
     "output_type": "execute_result"
    }
   ],
   "source": [
    "payment = sales.groupby(['Branch','Payment']).sum()['Total']\n",
    "payment"
   ]
  },
  {
   "cell_type": "code",
   "execution_count": 193,
   "id": "fc7213d1",
   "metadata": {},
   "outputs": [
    {
     "data": {
      "text/plain": [
       "<Axes: xlabel='Branch,Payment'>"
      ]
     },
     "execution_count": 193,
     "metadata": {},
     "output_type": "execute_result"
    },
    {
     "data": {
      "image/png": "[encoded data removed]",
      "text/plain": [
       "<Figure size 640x480 with 1 Axes>"
      ]
     },
     "metadata": {},
     "output_type": "display_data"
    }
   ],
   "source": [
    "payment.plot(kind='bar')"
   ]
  },
  {
   "cell_type": "markdown",
   "id": "af8e2c52",
   "metadata": {},
   "source": [
    "### Let's save our dataset\n",
    "\n",
    "\n",
    "Pickle files are serialized data structures that allow you to maintain data state across sessions and they're often used in data science workflows.\n",
    "\n",
    "We want to save our dataframe as is now, after we've cleaned the duplicates and missing entries and then load it to the next notebook we'll be using. For that, we're using the ```to_pickle()``` function:\n",
    "\n"
   ]
  },
  {
   "cell_type": "code",
   "execution_count": null,
   "id": "6a923505",
   "metadata": {},
   "outputs": [],
   "source": [
    "sales.to_pickle('sales.pkl')"
   ]
  },
  {
   "cell_type": "markdown",
   "id": "040d87ea",
   "metadata": {},
   "source": [
    "Now, the file calles 'sales.pkl' should appear in our folder."
   ]
  },
  {
   "cell_type": "markdown",
   "id": "8eab1a61",
   "metadata": {},
   "source": [
    "### References and literature"
   ]
  },
  {
   "cell_type": "markdown",
   "id": "b59fe74a",
   "metadata": {},
   "source": [
    "- Source of dataset - https://www.kaggle.com/datasets/aungpyaeap/supermarket-sales\n",
    "- W3Schools Pandas Tutorial - https://www.w3schools.com/python/pandas/default.asp\n",
    "- Data Science Handbook: https://jakevdp.github.io/PythonDataScienceHandbook/\n",
    "- more EDA on this dataset - https://www.kaggle.com/code/bharadwajnalla/sales-exploratory-data-analysis\n",
    "- good tutorial on Meidum - https://medium.com/ds-notes/learning-python-pandas-in-minutes-part-1-basics-f24463da1a18\n",
    "- good tutorial on GitHub - https://github.com/alod83/data-science"
   ]
  }
 ],
 "metadata": {
  "kernelspec": {
   "display_name": "Python 3 (ipykernel)",
   "language": "python",
   "name": "python3"
  },
  "language_info": {
   "codemirror_mode": {
    "name": "ipython",
    "version": 3
   },
   "file_extension": ".py",
   "mimetype": "text/x-python",
   "name": "python",
   "nbconvert_exporter": "python",
   "pygments_lexer": "ipython3",
   "version": "3.10.9"
  }
 },
 "nbformat": 4,
 "nbformat_minor": 5
}
