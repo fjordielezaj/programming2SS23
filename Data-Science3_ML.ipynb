{
 "cells": [
  {
   "cell_type": "code",
   "execution_count": 17,
   "id": "b754524f",
   "metadata": {},
   "outputs": [],
   "source": [
    "from IPython.display import Image\n",
    "from IPython.core.display import HTML "
   ]
  },
  {
   "cell_type": "markdown",
   "id": "3e366e73",
   "metadata": {},
   "source": [
    "We also need to do some imports for our ML tasks. We are importing pandas as well as seaborn for the graphs and sklearn.\n",
    "Froms sklearn we're importing two models that we'll use - Linear and Logistic Regression as well as some metrics that we will use to evaluate our models."
   ]
  },
  {
   "cell_type": "code",
   "execution_count": 18,
   "id": "4ee22f57",
   "metadata": {},
   "outputs": [],
   "source": [
    "import pandas as pd\n",
    "import seaborn as sns\n",
    "import matplotlib.pyplot as plt\n",
    "from sklearn.metrics import mean_absolute_error"
   ]
  },
  {
   "cell_type": "code",
   "execution_count": 19,
   "id": "4759ef2b",
   "metadata": {},
   "outputs": [],
   "source": [
    "from sklearn.linear_model import LinearRegression\n",
    "from sklearn.metrics import mean_absolute_error, r2_score\n"
   ]
  },
  {
   "cell_type": "code",
   "execution_count": 20,
   "id": "40287134",
   "metadata": {},
   "outputs": [],
   "source": [
    "from sklearn.model_selection import train_test_split\n",
    "from sklearn.linear_model import LogisticRegression\n",
    "from sklearn.metrics import accuracy_score, f1_score"
   ]
  },
  {
   "cell_type": "markdown",
   "id": "d6222304",
   "metadata": {},
   "source": [
    "In this Notebook we're dealing with two supervised Machine Learning models, one for classification and one for regression.\n",
    "\n",
    "\n",
    "Classification algorithm:\n",
    "- logistic regression\n",
    "\n",
    "\n",
    "Regression algorithm:\n",
    "- linear regression"
   ]
  },
  {
   "cell_type": "markdown",
   "id": "10a02671",
   "metadata": {},
   "source": [
    "### Data for Machine learning tasks"
   ]
  },
  {
   "cell_type": "markdown",
   "id": "aa9c58cf",
   "metadata": {},
   "source": [
    "- data can as wee know be structured or unstructured\n",
    "- for basic ML it's best if data is structured\n",
    "- tabular based dataset contains data organized in rows and columns\n",
    "- every column contains a feature, which is also known as a variable, a dimension or an attribute\n",
    "- each column is known as a vector\n",
    "\n"
   ]
  },
  {
   "cell_type": "markdown",
   "id": "2d9bcd0a",
   "metadata": {},
   "source": [
    "### Variables\n",
    "\n",
    "- in machine learning, the terms \"dependent variable\" and \"independent variable\" are used to describe the relationship between features (inputs) and targets (outputs) in a dataset. These variables play crucial roles in training and building machine learning models.\n",
    "\n",
    "- Dependent Variable: Also known as the \"target variable\" or \"output variable\" \n",
    "     * the dependent variable is the variable that we want to predict or understand based on the input features. In supervised learning, the model learns to make predictions or infer patterns in the dependent variable based on the independent variables\n",
    "     * The dependent variable is typically denoted as \"y\" and represents the outcome or the variable of interest in the problem.\n",
    "     * Example: If we are building a model to predict housing prices, the dependent variable would be the actual prices of             the houses.\n",
    "\n",
    "- Independent Variables: Also known as \"predictor variables\" or \"input features\" \n",
    "     * independent variables are the variables that are used to predict or explain the dependent variablee\n",
    "     * the features or attributes that provide information to the model for making predictions. Independent variables are denoted as \"X\" and represent the input data or the set of features used in the model\n",
    "     * Example: In the housing price prediction example, the independent variables could be features such as the size of the house, number of bedrooms, location, etc.\n",
    "\n",
    "The relationship between the dependent and independent variables forms the basis of machine learning models. The goal is to find patterns, relationships, or dependencies between the independent variables and the dependent variable so that the model can generalize and make accurate predictions on unseen data.\n",
    "\n"
   ]
  },
  {
   "cell_type": "code",
   "execution_count": 21,
   "id": "50173597",
   "metadata": {},
   "outputs": [
    {
     "data": {
      "text/html": [
       "<img src=\"img/data.png\" width=\"500\" height=\"1500\"/>"
      ],
      "text/plain": [
       "<IPython.core.display.Image object>"
      ]
     },
     "execution_count": 21,
     "metadata": {},
     "output_type": "execute_result"
    }
   ],
   "source": [
    "Image(url= \"img/data.png\",width=500, height=1500)\n",
    "# source: Machine Learning for Absolute Beginners, Oliver Theobald"
   ]
  },
  {
   "cell_type": "markdown",
   "id": "e58df352",
   "metadata": {},
   "source": [
    "- vectors store the X and y values and multiple vectors (columns) are referred to as matrices\n",
    "- in the case of the supervised learning the dependent variable (y) will already be in the table and be used to identify patterns in relation to the independent variable (X)\n",
    "- the y value is often but not always represented in the final column"
   ]
  },
  {
   "cell_type": "markdown",
   "id": "bf986905",
   "metadata": {},
   "source": [
    "### Where to find data?\n",
    "- in the wild (scraping websites, Twitter, GAMS, etc)\n",
    "- for practice - Kaggle (https://www.kaggle.com/datasets)\n",
    "\n",
    "Kaggle is a really useful service where you can find data to play with and Notebooks to take inspiration and learn from. \n",
    "It also offers achine elarning models you can try out and a community of people with data science interests."
   ]
  },
  {
   "cell_type": "markdown",
   "id": "b217d5c5",
   "metadata": {},
   "source": [
    "### Linear regression (prediction task)\n",
    "- simple technique for predicting an unknown variable using the result that you know\n",
    "- e.g. predicting the number of views of a season of a tv show if we know the number of views on previous seasons\n"
   ]
  },
  {
   "cell_type": "markdown",
   "id": "39cd9f40",
   "metadata": {},
   "source": [
    "### Data cleaning (scrubbing)\n",
    "\n",
    "- modifying and removing incomplete, incorrectly formatted, irrelevant or duplicated data\n",
    "- converting text based data to numeric values\n",
    "- redesigning features\n",
    "\n",
    "In this case, we have already done a lot of data cleaning in the previous notebook. What we still need to do is adjust some of our data to the algorithm that we're using.\n"
   ]
  },
  {
   "cell_type": "markdown",
   "id": "aa5fb13a",
   "metadata": {},
   "source": [
    "Let's read in our pickle file for the sales dataframe that we previously worked on."
   ]
  },
  {
   "cell_type": "code",
   "execution_count": 22,
   "id": "7899b237",
   "metadata": {},
   "outputs": [
    {
     "data": {
      "text/html": [
       "<div>\n",
       "<style scoped>\n",
       "    .dataframe tbody tr th:only-of-type {\n",
       "        vertical-align: middle;\n",
       "    }\n",
       "\n",
       "    .dataframe tbody tr th {\n",
       "        vertical-align: top;\n",
       "    }\n",
       "\n",
       "    .dataframe thead th {\n",
       "        text-align: right;\n",
       "    }\n",
       "</style>\n",
       "<table border=\"1\" class=\"dataframe\">\n",
       "  <thead>\n",
       "    <tr style=\"text-align: right;\">\n",
       "      <th></th>\n",
       "      <th>Invoice ID</th>\n",
       "      <th>Branch</th>\n",
       "      <th>City</th>\n",
       "      <th>Customer type</th>\n",
       "      <th>Gender</th>\n",
       "      <th>Product line</th>\n",
       "      <th>Unit price</th>\n",
       "      <th>Quantity</th>\n",
       "      <th>Tax 5%</th>\n",
       "      <th>Total</th>\n",
       "      <th>Date</th>\n",
       "      <th>Time</th>\n",
       "      <th>Payment</th>\n",
       "      <th>cogs</th>\n",
       "      <th>gross margin percentage</th>\n",
       "      <th>gross income</th>\n",
       "      <th>Rating</th>\n",
       "    </tr>\n",
       "  </thead>\n",
       "  <tbody>\n",
       "    <tr>\n",
       "      <th>1</th>\n",
       "      <td>226-31-3081</td>\n",
       "      <td>C</td>\n",
       "      <td>Naypyitaw</td>\n",
       "      <td>Normal</td>\n",
       "      <td>Female</td>\n",
       "      <td>Electronic accessories</td>\n",
       "      <td>15.28</td>\n",
       "      <td>5</td>\n",
       "      <td>4.0110</td>\n",
       "      <td>80.2200</td>\n",
       "      <td>2019-03-08 00:00:00</td>\n",
       "      <td>2023-05-10 10:29:00</td>\n",
       "      <td>Cash</td>\n",
       "      <td>76.40</td>\n",
       "      <td>4.761905</td>\n",
       "      <td>3.8200</td>\n",
       "      <td>9.6</td>\n",
       "    </tr>\n",
       "    <tr>\n",
       "      <th>2</th>\n",
       "      <td>631-41-3108</td>\n",
       "      <td>A</td>\n",
       "      <td>Yangon</td>\n",
       "      <td>Normal</td>\n",
       "      <td>Male</td>\n",
       "      <td>Home and lifestyle</td>\n",
       "      <td>46.33</td>\n",
       "      <td>7</td>\n",
       "      <td>16.2155</td>\n",
       "      <td>340.5255</td>\n",
       "      <td>2019-03-03 00:00:00</td>\n",
       "      <td>2023-05-10 13:23:00</td>\n",
       "      <td>Credit card</td>\n",
       "      <td>324.31</td>\n",
       "      <td>4.761905</td>\n",
       "      <td>16.2155</td>\n",
       "      <td>7.4</td>\n",
       "    </tr>\n",
       "    <tr>\n",
       "      <th>3</th>\n",
       "      <td>123-19-1176</td>\n",
       "      <td>A</td>\n",
       "      <td>Yangon</td>\n",
       "      <td>Member</td>\n",
       "      <td>Male</td>\n",
       "      <td>Health and beauty</td>\n",
       "      <td>58.22</td>\n",
       "      <td>8</td>\n",
       "      <td>23.2880</td>\n",
       "      <td>489.0480</td>\n",
       "      <td>2019-01-27 00:00:00</td>\n",
       "      <td>2023-05-10 20:33:00</td>\n",
       "      <td>Ewallet</td>\n",
       "      <td>465.76</td>\n",
       "      <td>4.761905</td>\n",
       "      <td>23.2880</td>\n",
       "      <td>8.4</td>\n",
       "    </tr>\n",
       "    <tr>\n",
       "      <th>4</th>\n",
       "      <td>373-73-7910</td>\n",
       "      <td>A</td>\n",
       "      <td>Yangon</td>\n",
       "      <td>Normal</td>\n",
       "      <td>Male</td>\n",
       "      <td>Sports and travel</td>\n",
       "      <td>86.31</td>\n",
       "      <td>7</td>\n",
       "      <td>30.2085</td>\n",
       "      <td>634.3785</td>\n",
       "      <td>2019-02-08 00:00:00</td>\n",
       "      <td>2023-05-10 10:37:00</td>\n",
       "      <td>Ewallet</td>\n",
       "      <td>604.17</td>\n",
       "      <td>4.761905</td>\n",
       "      <td>30.2085</td>\n",
       "      <td>5.3</td>\n",
       "    </tr>\n",
       "    <tr>\n",
       "      <th>5</th>\n",
       "      <td>699-14-3026</td>\n",
       "      <td>C</td>\n",
       "      <td>Naypyitaw</td>\n",
       "      <td>Normal</td>\n",
       "      <td>Male</td>\n",
       "      <td>Electronic accessories</td>\n",
       "      <td>85.39</td>\n",
       "      <td>7</td>\n",
       "      <td>29.8865</td>\n",
       "      <td>627.6165</td>\n",
       "      <td>2019-03-25 00:00:00</td>\n",
       "      <td>2023-05-10 18:30:00</td>\n",
       "      <td>Ewallet</td>\n",
       "      <td>597.73</td>\n",
       "      <td>4.761905</td>\n",
       "      <td>29.8865</td>\n",
       "      <td>4.1</td>\n",
       "    </tr>\n",
       "  </tbody>\n",
       "</table>\n",
       "</div>"
      ],
      "text/plain": [
       "    Invoice ID Branch       City Customer type  Gender  \\\n",
       "1  226-31-3081      C  Naypyitaw        Normal  Female   \n",
       "2  631-41-3108      A     Yangon        Normal    Male   \n",
       "3  123-19-1176      A     Yangon        Member    Male   \n",
       "4  373-73-7910      A     Yangon        Normal    Male   \n",
       "5  699-14-3026      C  Naypyitaw        Normal    Male   \n",
       "\n",
       "             Product line  Unit price  Quantity   Tax 5%     Total  \\\n",
       "1  Electronic accessories       15.28         5   4.0110   80.2200   \n",
       "2      Home and lifestyle       46.33         7  16.2155  340.5255   \n",
       "3       Health and beauty       58.22         8  23.2880  489.0480   \n",
       "4       Sports and travel       86.31         7  30.2085  634.3785   \n",
       "5  Electronic accessories       85.39         7  29.8865  627.6165   \n",
       "\n",
       "                  Date                 Time      Payment    cogs  \\\n",
       "1  2019-03-08 00:00:00  2023-05-10 10:29:00         Cash   76.40   \n",
       "2  2019-03-03 00:00:00  2023-05-10 13:23:00  Credit card  324.31   \n",
       "3  2019-01-27 00:00:00  2023-05-10 20:33:00      Ewallet  465.76   \n",
       "4  2019-02-08 00:00:00  2023-05-10 10:37:00      Ewallet  604.17   \n",
       "5  2019-03-25 00:00:00  2023-05-10 18:30:00      Ewallet  597.73   \n",
       "\n",
       "   gross margin percentage  gross income  Rating  \n",
       "1                 4.761905        3.8200     9.6  \n",
       "2                 4.761905       16.2155     7.4  \n",
       "3                 4.761905       23.2880     8.4  \n",
       "4                 4.761905       30.2085     5.3  \n",
       "5                 4.761905       29.8865     4.1  "
      ]
     },
     "execution_count": 22,
     "metadata": {},
     "output_type": "execute_result"
    }
   ],
   "source": [
    "sales  = pd.read_pickle('sales.pkl')\n",
    "sales.head()"
   ]
  },
  {
   "cell_type": "markdown",
   "id": "f8e31fa9",
   "metadata": {},
   "source": [
    "### Feature selection\n",
    "- identifying variables most relevant to our hypothesis, preserving features unnecessary to the output may manipulate and derail the models accuracy\n",
    "- it means selecting the columns that we need for our analysis, otherwise our results might become skewed\n",
    "- one thing that can help us choose the data is correlation\n"
   ]
  },
  {
   "cell_type": "code",
   "execution_count": 23,
   "id": "89b8cebf",
   "metadata": {},
   "outputs": [
    {
     "name": "stderr",
     "output_type": "stream",
     "text": [
      "C:\\Users\\User\\AppData\\Local\\Temp\\ipykernel_8488\\167436402.py:1: FutureWarning: The default value of numeric_only in DataFrame.corr is deprecated. In a future version, it will default to False. Select only valid columns or specify the value of numeric_only to silence this warning.\n",
      "  sales_corr = sales.corr()\n"
     ]
    },
    {
     "data": {
      "text/plain": [
       "<Axes: >"
      ]
     },
     "execution_count": 23,
     "metadata": {},
     "output_type": "execute_result"
    },
    {
     "data": {
      "image/png": "[encoded data removed]",
      "text/plain": [
       "<Figure size 640x480 with 2 Axes>"
      ]
     },
     "metadata": {},
     "output_type": "display_data"
    }
   ],
   "source": [
    "sales_corr = sales.corr()\n",
    "sns.heatmap(sales_corr,annot=True,cmap='coolwarm')"
   ]
  },
  {
   "cell_type": "code",
   "execution_count": 24,
   "id": "3e9a1816",
   "metadata": {},
   "outputs": [
    {
     "name": "stdout",
     "output_type": "stream",
     "text": [
      "Correlation coefficient: 0.706478728589643\n"
     ]
    }
   ],
   "source": [
    "correlation = sales['Quantity'].corr(sales['Tax 5%'])\n",
    "print(\"Correlation coefficient:\", correlation)"
   ]
  },
  {
   "cell_type": "markdown",
   "id": "960abdca",
   "metadata": {},
   "source": [
    "We see that our dataframe was perfectly preserved through the pickling process."
   ]
  },
  {
   "cell_type": "markdown",
   "id": "f78aec27",
   "metadata": {},
   "source": [
    "### Row compression\n",
    "- reducing the number of rows and thus compressing he number of data points\n",
    "- numeric variables are easier to aggregate (mean, mode)\n"
   ]
  },
  {
   "cell_type": "code",
   "execution_count": 25,
   "id": "36de84e7",
   "metadata": {},
   "outputs": [],
   "source": [
    "X = sales[['Quantity', 'Tax 5%']]\n",
    "y = sales['Total']\n",
    "X = pd.get_dummies(X, drop_first=True)\n"
   ]
  },
  {
   "cell_type": "markdown",
   "id": "2332e0df",
   "metadata": {},
   "source": [
    "### One- hot encoding\n",
    "- converting text-based values in columns into numeric values (binary form)\n",
    "- we need to do this for linear regression, e.g. because simply some algorithms require numerical data \n",
    "- 0 represents False, 1 represent True\n",
    "- numerical values in our datasets should not contain commas or fullstops\n"
   ]
  },
  {
   "cell_type": "code",
   "execution_count": 26,
   "id": "5ceec772",
   "metadata": {},
   "outputs": [],
   "source": [
    "# Convert non-numeric data using one-hot encoding\n",
    "X = pd.get_dummies(X, drop_first=True)"
   ]
  },
  {
   "cell_type": "markdown",
   "id": "c1896c37",
   "metadata": {},
   "source": [
    "### Train/Test split\n",
    "- in ML, input data is split into train and test\n",
    "- the first split is the training data, which is the initial reserve of data used to develop th the model (e.g. when building an email spam detector, then from the training data, false positives can be detected and also e.g.email notifications can be excluded)\n",
    "- when a model is developed based on patterns extracted from the training dana and we are satisfied with the performance of the model and the accuracy of its prediction, we can test the model on the remaining data (the test data)\n",
    "- if we are satisfied with the model’s performance on the test data, than the model is ready set go\n",
    "- the ratio is usually 80/20, unless if we have a large dataset then 90/10 is good\n",
    "- before we split the data, we need to randomize the order (shuffling) to avoid potential bias in th data (ordered by date or alphabetically)\n",
    "- random_state = can be any int value, ensures reproducibility of results on many runs (if you keep the number the same, but can be any). It will\n",
    "\n"
   ]
  },
  {
   "cell_type": "code",
   "execution_count": 27,
   "id": "7d989d5b",
   "metadata": {},
   "outputs": [],
   "source": [
    "# Split data into test/train set (80/20 split) and shuffle\n",
    "X_train, X_test, y_train, y_test = train_test_split(X, y, test_size=0.2, random_state=42, shuffle=True)\n"
   ]
  },
  {
   "cell_type": "code",
   "execution_count": 28,
   "id": "f7729bf0",
   "metadata": {},
   "outputs": [
    {
     "data": {
      "text/html": [
       "<style>#sk-container-id-1 {color: black;background-color: white;}#sk-container-id-1 pre{padding: 0;}#sk-container-id-1 div.sk-toggleable {background-color: white;}#sk-container-id-1 label.sk-toggleable__label {cursor: pointer;display: block;width: 100%;margin-bottom: 0;padding: 0.3em;box-sizing: border-box;text-align: center;}#sk-container-id-1 label.sk-toggleable__label-arrow:before {content: \"▸\";float: left;margin-right: 0.25em;color: #696969;}#sk-container-id-1 label.sk-toggleable__label-arrow:hover:before {color: black;}#sk-container-id-1 div.sk-estimator:hover label.sk-toggleable__label-arrow:before {color: black;}#sk-container-id-1 div.sk-toggleable__content {max-height: 0;max-width: 0;overflow: hidden;text-align: left;background-color: #f0f8ff;}#sk-container-id-1 div.sk-toggleable__content pre {margin: 0.2em;color: black;border-radius: 0.25em;background-color: #f0f8ff;}#sk-container-id-1 input.sk-toggleable__control:checked~div.sk-toggleable__content {max-height: 200px;max-width: 100%;overflow: auto;}#sk-container-id-1 input.sk-toggleable__control:checked~label.sk-toggleable__label-arrow:before {content: \"▾\";}#sk-container-id-1 div.sk-estimator input.sk-toggleable__control:checked~label.sk-toggleable__label {background-color: #d4ebff;}#sk-container-id-1 div.sk-label input.sk-toggleable__control:checked~label.sk-toggleable__label {background-color: #d4ebff;}#sk-container-id-1 input.sk-hidden--visually {border: 0;clip: rect(1px 1px 1px 1px);clip: rect(1px, 1px, 1px, 1px);height: 1px;margin: -1px;overflow: hidden;padding: 0;position: absolute;width: 1px;}#sk-container-id-1 div.sk-estimator {font-family: monospace;background-color: #f0f8ff;border: 1px dotted black;border-radius: 0.25em;box-sizing: border-box;margin-bottom: 0.5em;}#sk-container-id-1 div.sk-estimator:hover {background-color: #d4ebff;}#sk-container-id-1 div.sk-parallel-item::after {content: \"\";width: 100%;border-bottom: 1px solid gray;flex-grow: 1;}#sk-container-id-1 div.sk-label:hover label.sk-toggleable__label {background-color: #d4ebff;}#sk-container-id-1 div.sk-serial::before {content: \"\";position: absolute;border-left: 1px solid gray;box-sizing: border-box;top: 0;bottom: 0;left: 50%;z-index: 0;}#sk-container-id-1 div.sk-serial {display: flex;flex-direction: column;align-items: center;background-color: white;padding-right: 0.2em;padding-left: 0.2em;position: relative;}#sk-container-id-1 div.sk-item {position: relative;z-index: 1;}#sk-container-id-1 div.sk-parallel {display: flex;align-items: stretch;justify-content: center;background-color: white;position: relative;}#sk-container-id-1 div.sk-item::before, #sk-container-id-1 div.sk-parallel-item::before {content: \"\";position: absolute;border-left: 1px solid gray;box-sizing: border-box;top: 0;bottom: 0;left: 50%;z-index: -1;}#sk-container-id-1 div.sk-parallel-item {display: flex;flex-direction: column;z-index: 1;position: relative;background-color: white;}#sk-container-id-1 div.sk-parallel-item:first-child::after {align-self: flex-end;width: 50%;}#sk-container-id-1 div.sk-parallel-item:last-child::after {align-self: flex-start;width: 50%;}#sk-container-id-1 div.sk-parallel-item:only-child::after {width: 0;}#sk-container-id-1 div.sk-dashed-wrapped {border: 1px dashed gray;margin: 0 0.4em 0.5em 0.4em;box-sizing: border-box;padding-bottom: 0.4em;background-color: white;}#sk-container-id-1 div.sk-label label {font-family: monospace;font-weight: bold;display: inline-block;line-height: 1.2em;}#sk-container-id-1 div.sk-label-container {text-align: center;}#sk-container-id-1 div.sk-container {/* jupyter's `normalize.less` sets `[hidden] { display: none; }` but bootstrap.min.css set `[hidden] { display: none !important; }` so we also need the `!important` here to be able to override the default hidden behavior on the sphinx rendered scikit-learn.org. See: https://github.com/scikit-learn/scikit-learn/issues/21755 */display: inline-block !important;position: relative;}#sk-container-id-1 div.sk-text-repr-fallback {display: none;}</style><div id=\"sk-container-id-1\" class=\"sk-top-container\"><div class=\"sk-text-repr-fallback\"><pre>LinearRegression()</pre><b>In a Jupyter environment, please rerun this cell to show the HTML representation or trust the notebook. <br />On GitHub, the HTML representation is unable to render, please try loading this page with nbviewer.org.</b></div><div class=\"sk-container\" hidden><div class=\"sk-item\"><div class=\"sk-estimator sk-toggleable\"><input class=\"sk-toggleable__control sk-hidden--visually\" id=\"sk-estimator-id-1\" type=\"checkbox\" checked><label for=\"sk-estimator-id-1\" class=\"sk-toggleable__label sk-toggleable__label-arrow\">LinearRegression</label><div class=\"sk-toggleable__content\"><pre>LinearRegression()</pre></div></div></div></div></div>"
      ],
      "text/plain": [
       "LinearRegression()"
      ]
     },
     "execution_count": 28,
     "metadata": {},
     "output_type": "execute_result"
    }
   ],
   "source": [
    "model = LinearRegression()\n",
    "model.fit(X_train, y_train)\n"
   ]
  },
  {
   "cell_type": "code",
   "execution_count": 29,
   "id": "18fd15ac",
   "metadata": {},
   "outputs": [
    {
     "name": "stdout",
     "output_type": "stream",
     "text": [
      "    Quantity   Tax 5%\n",
      "1          5   4.0110\n",
      "2          7  16.2155\n",
      "3          8  23.2880\n",
      "4          7  30.2085\n",
      "5          7  29.8865\n",
      "..       ...      ...\n",
      "9          2   5.8030\n",
      "10        10   8.7450\n",
      "11         1   3.0475\n",
      "12         1   2.0175\n",
      "13        10  48.6900\n",
      "\n",
      "[1008 rows x 2 columns]\n"
     ]
    }
   ],
   "source": [
    "print(X)"
   ]
  },
  {
   "cell_type": "code",
   "execution_count": 30,
   "id": "904bc742",
   "metadata": {},
   "outputs": [
    {
     "name": "stdout",
     "output_type": "stream",
     "text": [
      "[ 479.6442881   175.87284712  145.37445009   53.9888671   484.97451637\n",
      "  277.63776622  146.59896186  160.18023083   96.10585205  652.27339122\n",
      "   57.02758015  441.67907489   22.32969765  833.61795392  326.39589015\n",
      "   84.92349836   72.37533666  334.45386787   92.98792361  217.9979381\n",
      "   49.72324778  209.08370401  217.61181213   69.36738927   46.63608498\n",
      "   16.05036652  407.29215599  224.42427698  133.89089734  807.68158624\n",
      "  856.47360635  586.64493048   78.40191848  399.74796938  887.94376584\n",
      "  189.07941316  122.4250287   247.86151288  709.3293471   588.35080922\n",
      "  132.71557134  125.65919925  404.33505286  165.88774302  208.63457472\n",
      "  272.5531037   523.35882924   92.672907    708.32368846   85.48739772\n",
      "  874.15009127  360.9088157    77.88573285  867.11472028  228.08565322\n",
      "  116.12156593   55.83051702  722.24097516  279.14984595  737.77534712\n",
      "  331.1204033   145.0222203   107.10232631   88.32733626  408.40042565\n",
      "  634.00242775  290.42431011  120.61414443   33.43928348   97.99668774\n",
      "  321.10287506  180.58114821  264.72208514  319.77980529   97.98784568\n",
      "  143.94471629   87.19327646  269.98286256   91.00331896  550.37196492\n",
      "  271.26964163  402.2535487   614.93821123  745.41330269  827.10761062\n",
      "  431.24963053  616.99153073  295.37320145  493.78282244  225.7545303\n",
      "   87.18111741  222.10439062  652.90342444   17.03741857  757.38393393\n",
      "  146.93019054   56.90562652   49.2571704   485.02536064  318.0794516\n",
      "   54.94441749  133.39571282  130.00808698  394.31513009  416.16272936\n",
      "  204.67512995  287.87985911  148.96158644  252.21592567  187.97114351\n",
      "   88.67956605   90.27565022  113.52866518 1022.5229153   503.5483374\n",
      "  362.92897503  150.3775027   206.76713466  145.54724799  102.78494023\n",
      "  216.82021759   41.68221815  273.03373465  435.10167525  160.82315913\n",
      "  155.99290442  510.96578134   95.81257256   28.36751603  942.92871812\n",
      "   79.09974406  181.84121465  362.79891537  742.82206044  121.81599658\n",
      "  240.9667021    93.06548051  419.82097507  926.97432401   35.14037318\n",
      "  478.22100183  394.6074871   439.89563926  406.85518575   82.67398534\n",
      "  329.16803633  597.03882016  374.77599414  247.56178585  394.27478638\n",
      "  135.54593181  348.70238324  684.93011328   91.3660493   145.92526792\n",
      "   68.93926108  690.02122333   91.77796542  209.57962456  351.08029742\n",
      "  214.71200081  570.78909437   68.18561573   84.71514578  351.584324\n",
      "  103.09922082  193.43143144  118.22001818  255.14558015  295.67292847\n",
      "  185.05843711  194.95401173  209.72663231  148.93653232  309.32843734\n",
      "  103.72999006  408.72188979  164.64536068  163.2043903    69.04831964\n",
      "  162.96527209   72.36004708  951.85418878  674.00953741  145.69425574\n",
      "  702.22286675  860.49937144  545.06273776   86.58019133  397.82876257\n",
      "   61.96449889  608.0708491   164.38929437  262.43462293  173.1718103\n",
      "  514.76292877  942.47314129   90.53079404  149.32910583  881.32841699\n",
      "  379.90837039  106.95937157]\n"
     ]
    }
   ],
   "source": [
    "y_pred = model.predict(X_test)\n",
    "print(y_pred)"
   ]
  },
  {
   "cell_type": "markdown",
   "id": "057ee5ac",
   "metadata": {},
   "source": [
    "### Evaluation for Linear Regression\n",
    "\n",
    "\n",
    "1) MAE measures the average of the errors in a set of predictions, i.e. how far the regression line is to the actual data points.The MAE measures the average absolute difference between the predicted and actual values in a regression problem.\n",
    "\n",
    "2) R-squared Score: The R-squared score, also known as the coefficient of determination, represents the proportion of the variance in the target variable that can be explained by the regression model. The R-squared value ranges from 0 to 1, of 1 indicates that the model perfectly explains the variance in the target variable."
   ]
  },
  {
   "cell_type": "code",
   "execution_count": 31,
   "id": "a87ad78b",
   "metadata": {},
   "outputs": [
    {
     "name": "stdout",
     "output_type": "stream",
     "text": [
      "Mean Absolute Error: 0.028848927235054857\n",
      "R-squared Score: 0.9999999823027641\n"
     ]
    }
   ],
   "source": [
    "mae = mean_absolute_error(y_test, y_pred)\n",
    "r2 = r2_score(y_test, y_pred)\n",
    "print('Mean Absolute Error:', mae)\n",
    "print('R-squared Score:', r2)\n"
   ]
  },
  {
   "cell_type": "code",
   "execution_count": 32,
   "id": "884b9cfd",
   "metadata": {},
   "outputs": [
    {
     "name": "stderr",
     "output_type": "stream",
     "text": [
      "C:\\Users\\User\\anaconda4\\lib\\site-packages\\sklearn\\base.py:420: UserWarning: X does not have valid feature names, but LinearRegression was fitted with feature names\n",
      "  warnings.warn(\n"
     ]
    },
    {
     "data": {
      "text/plain": [
       "array([357.21667381])"
      ]
     },
     "execution_count": 32,
     "metadata": {},
     "output_type": "execute_result"
    }
   ],
   "source": [
    "invoice = [\n",
    "   7, #quantity\n",
    "   17.0110, #tax\n",
    "]\n",
    "\n",
    "# Make prediction\n",
    "invoice = model.predict([invoice])\n",
    "invoice"
   ]
  },
  {
   "cell_type": "markdown",
   "id": "e8d96146",
   "metadata": {},
   "source": [
    "### Logistic regression (classification task)\n",
    "\n",
    "- since it is classification, the dependent variable is  a discrete categorical one (e.g. if we want to predict a new customer vs returning one)\n",
    "- this algorithm is often used to predict between two discrete classes, e.g. pregnant and not pregnant\n",
    "- used in fraud detection, disease diagnosis, emergency detection, loan detection, identification of spam email etc.\n",
    "\n"
   ]
  },
  {
   "cell_type": "markdown",
   "id": "638ad67b",
   "metadata": {},
   "source": [
    "To predict the type of payment used (the dependent variable),we might consider the Total amount of the invoice and the quantity of items purchased (the independent variables)."
   ]
  },
  {
   "cell_type": "code",
   "execution_count": 33,
   "id": "4393c782",
   "metadata": {},
   "outputs": [],
   "source": [
    "X = sales[['Total', 'Quantity']]\n",
    "y = sales['Payment']"
   ]
  },
  {
   "cell_type": "markdown",
   "id": "d5a798e1",
   "metadata": {},
   "source": [
    "- after the split we can design the model and apply it to the training data\n",
    "- the 20 or 30 percent we left for testing is the part that we’re not allowed to train on, otherwise our model will incorrectly be really accurate\n",
    "- there are a range of metrics for evaluation and choosing the right one depends on the application of the model\n"
   ]
  },
  {
   "cell_type": "code",
   "execution_count": 34,
   "id": "5a054de4",
   "metadata": {},
   "outputs": [],
   "source": [
    "X_train, X_test, y_train, y_test = train_test_split(X, y, test_size=0.2, random_state=42, shuffle=True)\n"
   ]
  },
  {
   "cell_type": "code",
   "execution_count": 35,
   "id": "bd63ee85",
   "metadata": {},
   "outputs": [
    {
     "data": {
      "text/html": [
       "<style>#sk-container-id-2 {color: black;background-color: white;}#sk-container-id-2 pre{padding: 0;}#sk-container-id-2 div.sk-toggleable {background-color: white;}#sk-container-id-2 label.sk-toggleable__label {cursor: pointer;display: block;width: 100%;margin-bottom: 0;padding: 0.3em;box-sizing: border-box;text-align: center;}#sk-container-id-2 label.sk-toggleable__label-arrow:before {content: \"▸\";float: left;margin-right: 0.25em;color: #696969;}#sk-container-id-2 label.sk-toggleable__label-arrow:hover:before {color: black;}#sk-container-id-2 div.sk-estimator:hover label.sk-toggleable__label-arrow:before {color: black;}#sk-container-id-2 div.sk-toggleable__content {max-height: 0;max-width: 0;overflow: hidden;text-align: left;background-color: #f0f8ff;}#sk-container-id-2 div.sk-toggleable__content pre {margin: 0.2em;color: black;border-radius: 0.25em;background-color: #f0f8ff;}#sk-container-id-2 input.sk-toggleable__control:checked~div.sk-toggleable__content {max-height: 200px;max-width: 100%;overflow: auto;}#sk-container-id-2 input.sk-toggleable__control:checked~label.sk-toggleable__label-arrow:before {content: \"▾\";}#sk-container-id-2 div.sk-estimator input.sk-toggleable__control:checked~label.sk-toggleable__label {background-color: #d4ebff;}#sk-container-id-2 div.sk-label input.sk-toggleable__control:checked~label.sk-toggleable__label {background-color: #d4ebff;}#sk-container-id-2 input.sk-hidden--visually {border: 0;clip: rect(1px 1px 1px 1px);clip: rect(1px, 1px, 1px, 1px);height: 1px;margin: -1px;overflow: hidden;padding: 0;position: absolute;width: 1px;}#sk-container-id-2 div.sk-estimator {font-family: monospace;background-color: #f0f8ff;border: 1px dotted black;border-radius: 0.25em;box-sizing: border-box;margin-bottom: 0.5em;}#sk-container-id-2 div.sk-estimator:hover {background-color: #d4ebff;}#sk-container-id-2 div.sk-parallel-item::after {content: \"\";width: 100%;border-bottom: 1px solid gray;flex-grow: 1;}#sk-container-id-2 div.sk-label:hover label.sk-toggleable__label {background-color: #d4ebff;}#sk-container-id-2 div.sk-serial::before {content: \"\";position: absolute;border-left: 1px solid gray;box-sizing: border-box;top: 0;bottom: 0;left: 50%;z-index: 0;}#sk-container-id-2 div.sk-serial {display: flex;flex-direction: column;align-items: center;background-color: white;padding-right: 0.2em;padding-left: 0.2em;position: relative;}#sk-container-id-2 div.sk-item {position: relative;z-index: 1;}#sk-container-id-2 div.sk-parallel {display: flex;align-items: stretch;justify-content: center;background-color: white;position: relative;}#sk-container-id-2 div.sk-item::before, #sk-container-id-2 div.sk-parallel-item::before {content: \"\";position: absolute;border-left: 1px solid gray;box-sizing: border-box;top: 0;bottom: 0;left: 50%;z-index: -1;}#sk-container-id-2 div.sk-parallel-item {display: flex;flex-direction: column;z-index: 1;position: relative;background-color: white;}#sk-container-id-2 div.sk-parallel-item:first-child::after {align-self: flex-end;width: 50%;}#sk-container-id-2 div.sk-parallel-item:last-child::after {align-self: flex-start;width: 50%;}#sk-container-id-2 div.sk-parallel-item:only-child::after {width: 0;}#sk-container-id-2 div.sk-dashed-wrapped {border: 1px dashed gray;margin: 0 0.4em 0.5em 0.4em;box-sizing: border-box;padding-bottom: 0.4em;background-color: white;}#sk-container-id-2 div.sk-label label {font-family: monospace;font-weight: bold;display: inline-block;line-height: 1.2em;}#sk-container-id-2 div.sk-label-container {text-align: center;}#sk-container-id-2 div.sk-container {/* jupyter's `normalize.less` sets `[hidden] { display: none; }` but bootstrap.min.css set `[hidden] { display: none !important; }` so we also need the `!important` here to be able to override the default hidden behavior on the sphinx rendered scikit-learn.org. See: https://github.com/scikit-learn/scikit-learn/issues/21755 */display: inline-block !important;position: relative;}#sk-container-id-2 div.sk-text-repr-fallback {display: none;}</style><div id=\"sk-container-id-2\" class=\"sk-top-container\"><div class=\"sk-text-repr-fallback\"><pre>LogisticRegression(max_iter=10000)</pre><b>In a Jupyter environment, please rerun this cell to show the HTML representation or trust the notebook. <br />On GitHub, the HTML representation is unable to render, please try loading this page with nbviewer.org.</b></div><div class=\"sk-container\" hidden><div class=\"sk-item\"><div class=\"sk-estimator sk-toggleable\"><input class=\"sk-toggleable__control sk-hidden--visually\" id=\"sk-estimator-id-2\" type=\"checkbox\" checked><label for=\"sk-estimator-id-2\" class=\"sk-toggleable__label sk-toggleable__label-arrow\">LogisticRegression</label><div class=\"sk-toggleable__content\"><pre>LogisticRegression(max_iter=10000)</pre></div></div></div></div></div>"
      ],
      "text/plain": [
       "LogisticRegression(max_iter=10000)"
      ]
     },
     "execution_count": 35,
     "metadata": {},
     "output_type": "execute_result"
    }
   ],
   "source": [
    "# Assign algorithm\n",
    "model = LogisticRegression(max_iter=10000)\n",
    "\n",
    "# Link algorithm to X and y variables\n",
    "model.fit(X_train, y_train)"
   ]
  },
  {
   "cell_type": "code",
   "execution_count": 36,
   "id": "db1cb949",
   "metadata": {},
   "outputs": [],
   "source": [
    "# Run algorithm on test data to make predictions\n",
    "y_pred = model.predict(X_test)"
   ]
  },
  {
   "cell_type": "markdown",
   "id": "07d929c3",
   "metadata": {},
   "source": [
    "### Evaluation for Logistic Regression\n",
    "\n",
    "\n",
    "1) Accuracy: Accuracy measures the overall correctness of the model's predictions by calculating the ratio of correctly classified samples to the total number of samples. It provides a general measure of the model's performance but may not be suitable for imbalanced datasets.\n",
    "\n",
    "\n",
    "2) Precision: Precision measures the proportion of true positive predictions (correctly predicted positive instances) out of all positive predictions made by the model. It focuses on the accuracy of positive predictions and is useful when the cost of false positives is high.\n",
    "\n",
    "3) Recall (Sensitivity/True Positive Rate): Recall calculates the proportion of true positive predictions out of all actual positive instances in the dataset. It is a measure of the model's ability to correctly identify positive instances and is useful when the cost of false negatives is high.\n",
    "\n",
    "4) F1-Score: The F1-score is the harmonic mean of precision and recall. It provides a balanced evaluation of the model's performance, taking into account both precision and recall. F1-score is a commonly used metric when the dataset is imbalanced or when you want to strike a balance between precision and recall."
   ]
  },
  {
   "cell_type": "code",
   "execution_count": 37,
   "id": "2a2e7a40",
   "metadata": {},
   "outputs": [
    {
     "name": "stdout",
     "output_type": "stream",
     "text": [
      "Accuracy: 0.3415841584158416\n",
      "F1-score: 0.17394322458076064\n"
     ]
    }
   ],
   "source": [
    "accuracy = accuracy_score(y_test, y_pred)\n",
    "f1 = f1_score(y_test, y_pred, average='weighted')\n",
    "print('Accuracy:', accuracy)\n",
    "print('F1-score:', f1)\n"
   ]
  },
  {
   "cell_type": "code",
   "execution_count": 38,
   "id": "bf08133f",
   "metadata": {},
   "outputs": [
    {
     "name": "stderr",
     "output_type": "stream",
     "text": [
      "C:\\Users\\User\\anaconda4\\lib\\site-packages\\sklearn\\base.py:420: UserWarning: X does not have valid feature names, but LogisticRegression was fitted with feature names\n",
      "  warnings.warn(\n"
     ]
    },
    {
     "data": {
      "text/plain": [
       "array(['Ewallet'], dtype=object)"
      ]
     },
     "execution_count": 38,
     "metadata": {},
     "output_type": "execute_result"
    }
   ],
   "source": [
    "# Make prediction\n",
    "invoice = [\n",
    "  357.21667381, #total\n",
    "  7, #quantity\n",
    "\n",
    "]\n",
    "\n",
    "# Make prediction\n",
    "invoice = model.predict([invoice])\n",
    "invoice"
   ]
  },
  {
   "cell_type": "code",
   "execution_count": null,
   "id": "90ba81e9",
   "metadata": {},
   "outputs": [],
   "source": []
  }
 ],
 "metadata": {
  "kernelspec": {
   "display_name": "Python 3 (ipykernel)",
   "language": "python",
   "name": "python3"
  },
  "language_info": {
   "codemirror_mode": {
    "name": "ipython",
    "version": 3
   },
   "file_extension": ".py",
   "mimetype": "text/x-python",
   "name": "python",
   "nbconvert_exporter": "python",
   "pygments_lexer": "ipython3",
   "version": "3.10.9"
  }
 },
 "nbformat": 4,
 "nbformat_minor": 5
}
