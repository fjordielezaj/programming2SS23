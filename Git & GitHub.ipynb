{
 "cells": [
  {
   "cell_type": "markdown",
   "id": "7113dac3",
   "metadata": {},
   "source": [
    "# Introduction to Git \n"
   ]
  },
  {
   "cell_type": "code",
   "execution_count": 2,
   "id": "c4a9534a",
   "metadata": {},
   "outputs": [],
   "source": [
    "from IPython.display import Image\n",
    "from IPython.core.display import HTML "
   ]
  },
  {
   "cell_type": "markdown",
   "id": "c5da8e83",
   "metadata": {},
   "source": [
    "<b>Git</b> is a version control system that allows you to track changes in your code over time.\n",
    "* it helps us keep track code changes\n",
    "* the authors of the changes\n",
    "* it also helps us collaborate on code\n",
    "\n",
    "Git is currently by far the most popular software repository. It is primarily used for\n",
    "software development, but you can version all kinds of data with it.\n"
   ]
  },
  {
   "cell_type": "markdown",
   "id": "0b9513c4",
   "metadata": {},
   "source": [
    "## What does Git do?\n",
    "\n",
    "* it allows us to manage projects with <b> Repositories </b>\n",
    "* it allows us to <b> clone </b> a project to work on a local copy\n",
    "* it allows us to track changes through <b> staging </b> and <b> commiting </b>\n",
    "* <b> branch </b> and <b> merge </b> to allow for wotk on different parts and versions of the project\n",
    "* <b> pull </b> the latest version of the project to a local (on your pc) copy\n",
    "* <b> push </b> local updates to the main project"
   ]
  },
  {
   "cell_type": "code",
   "execution_count": 14,
   "id": "228144dd",
   "metadata": {},
   "outputs": [
    {
     "data": {
      "text/html": [
       "<img src=\"img/git1.png\" width=\"400\" height=\"1200\"/>"
      ],
      "text/plain": [
       "<IPython.core.display.Image object>"
      ]
     },
     "execution_count": 14,
     "metadata": {},
     "output_type": "execute_result"
    }
   ],
   "source": [
    "Image(url= \"img/git1.png\", width=400, height=1200)"
   ]
  },
  {
   "cell_type": "markdown",
   "id": "664e1a66",
   "metadata": {},
   "source": [
    "## Version control"
   ]
  },
  {
   "cell_type": "markdown",
   "id": "4d201c10",
   "metadata": {},
   "source": [
    "When more than one person (or even just a single person) works on some program\n",
    "program (or data in the broadest sense), there is a danger of quickly creating a chaos of versions.\n",
    "\n",
    "Version management programs (code repositories), such as Git, attempt to\n",
    "solve this problem\n",
    "- by storing the individual versions, documenting them and making them retrievable\n",
    "- try to make changes visible and automatically merge them if necessary"
   ]
  },
  {
   "cell_type": "code",
   "execution_count": 19,
   "id": "94e021b5",
   "metadata": {},
   "outputs": [
    {
     "data": {
      "text/html": [
       "<img src=\"img/git2.png\" width=\"400\" height=\"1200\"/>"
      ],
      "text/plain": [
       "<IPython.core.display.Image object>"
      ]
     },
     "execution_count": 19,
     "metadata": {},
     "output_type": "execute_result"
    }
   ],
   "source": [
    "Image(url= \"img/git2.png\", width=400, height=1200)"
   ]
  },
  {
   "cell_type": "markdown",
   "id": "5b880c88",
   "metadata": {},
   "source": [
    "## Basic Git commands"
   ]
  },
  {
   "cell_type": "markdown",
   "id": "98a955e4",
   "metadata": {},
   "source": [
    "| Command   | Purpose    |\n",
    "|-------------:|:-----------|\n",
    "| ``` git init ``` | initializes a new Git repository in the current directory|\n",
    "| ``` git add <file> ```  | adds a file to the staging area | \n",
    "| ``` git commit -m \"<message>\": ``` | commits the changes in the staging area with a message describing the changes | \n",
    "| ``` git status ``` | shows the current status of the repository | \n",
    "| ``` git log ``` | shows the commit history of the repository | \n",
    "| ``` git <command> help ``` | gives help on specific options for commands | \n"
   ]
  },
  {
   "cell_type": "markdown",
   "id": "90832f91",
   "metadata": {},
   "source": [
    "### Let's get started"
   ]
  },
  {
   "cell_type": "markdown",
   "id": "f54c615d",
   "metadata": {},
   "source": [
    "To start using Git, we are first going to open up our Command shell.\n",
    "\n",
    "For Windows, you can use Git bash, which comes included in Git for Windows. For Mac and Linux you can use the built-in terminal.\n",
    "\n",
    "The first thing we need to do, is to check if Git is properly installed:\n",
    "\n"
   ]
  },
  {
   "cell_type": "code",
   "execution_count": 21,
   "id": "28d703e2",
   "metadata": {},
   "outputs": [
    {
     "data": {
      "text/html": [
       "<img src=\"img/git3.png\"/>"
      ],
      "text/plain": [
       "<IPython.core.display.Image object>"
      ]
     },
     "execution_count": 21,
     "metadata": {},
     "output_type": "execute_result"
    }
   ],
   "source": [
    "Image(url= \"img/git3.png\")"
   ]
  },
  {
   "cell_type": "markdown",
   "id": "14095b7b",
   "metadata": {},
   "source": [
    "If Git is installed, it should show something like git version X.Y\n",
    "\n"
   ]
  },
  {
   "cell_type": "markdown",
   "id": "c7a73478",
   "metadata": {},
   "source": [
    "Now let Git know who you are. This is important for version control systems, as each Git commit uses this information:\n",
    "\n"
   ]
  },
  {
   "cell_type": "markdown",
   "id": "f513f74e",
   "metadata": {},
   "source": [
    "```\n",
    "$ git config --global user.name \"lucijakrusic\"\n",
    "\n",
    "$ git config --global user.email \"lucija.krusic1@gmail.com\"\n",
    "\n",
    "```"
   ]
  },
  {
   "cell_type": "markdown",
   "id": "86c0f284",
   "metadata": {},
   "source": [
    "We can also use:\n",
    "    \n",
    "```\n",
    "$ git config --list\n",
    "```\n",
    "    \n",
    "to list out all the configuration settings available. Exit by pressing ```q```."
   ]
  },
  {
   "cell_type": "markdown",
   "id": "776fb8e2",
   "metadata": {},
   "source": [
    "We can e.g. set up a text editor to configure git. To do that use:\n",
    " ``` \n",
    " $ git config --global core.editor (editor_path)\n",
    " ```\n",
    " \n",
    " such as\n",
    " \n",
    " ```\n",
    " $ git config --global core.editor C:\\WINDOWS\\system32\\notepad.exe\n",
    " ```"
   ]
  },
  {
   "cell_type": "markdown",
   "id": "a3e53634",
   "metadata": {},
   "source": [
    "### Making a git folder"
   ]
  },
  {
   "cell_type": "markdown",
   "id": "e88af19f",
   "metadata": {},
   "source": [
    "Let's make a new folder in the command line:\n",
    "* ``mkdir`` makes a new directory\n",
    "* we use ``cd`` to change the directory we're currently in"
   ]
  },
  {
   "cell_type": "markdown",
   "id": "974b3c36",
   "metadata": {},
   "source": [
    "```\n",
    "mkdir myproject\n",
    "cd myproject\n",
    "\n",
    "```"
   ]
  },
  {
   "cell_type": "markdown",
   "id": "2a9687ee",
   "metadata": {},
   "source": [
    "<u> Note:</u> If you already have a folder/directory you would like to use for Git:\n",
    "\n",
    "Navigate to it in command line, or open it in your file explorer, right-click and select \"Git Bash here\"\n",
    "\n"
   ]
  },
  {
   "cell_type": "markdown",
   "id": "e4c69743",
   "metadata": {},
   "source": [
    "Once we have navigated to the correct folder, we initialize git by:"
   ]
  },
  {
   "cell_type": "markdown",
   "id": "d2653552",
   "metadata": {},
   "source": [
    "```\n",
    "$ git init\n",
    "```"
   ]
  },
  {
   "cell_type": "markdown",
   "id": "0295ee8c",
   "metadata": {},
   "source": [
    "And we get a message such as:"
   ]
  },
  {
   "cell_type": "markdown",
   "id": "991d8003",
   "metadata": {},
   "source": [
    "```\n",
    "Initialized empty Git repository in C:/Users/krusic/Documents/GitHub/test/.git/\n",
    "\n",
    "```"
   ]
  },
  {
   "cell_type": "markdown",
   "id": "a3c627d5",
   "metadata": {},
   "source": [
    "### Adding a file"
   ]
  },
  {
   "cell_type": "markdown",
   "id": "7ee1918a",
   "metadata": {},
   "source": [
    "You just created your first local Git rep, but right now it's empty.\n",
    "\n",
    "So let's add some files, or create a new file called ```test.txt``` using your favourite text editor. Add some text, then save or move it to the folder you just created.\n",
    "\n",
    "We can test the status of the repo after we do thet.\n",
    "\n",
    "So,\n",
    "\n",
    "```\n",
    "$ git status\n",
    "\n",
    "```\n",
    "\n",
    "should yield something like:\n"
   ]
  },
  {
   "cell_type": "code",
   "execution_count": 26,
   "id": "a01cd48b",
   "metadata": {},
   "outputs": [
    {
     "data": {
      "text/html": [
       "<img src=\"img/git4.png\"/>"
      ],
      "text/plain": [
       "<IPython.core.display.Image object>"
      ]
     },
     "execution_count": 26,
     "metadata": {},
     "output_type": "execute_result"
    }
   ],
   "source": [
    "Image(url= \"img/git4.png\")"
   ]
  },
  {
   "cell_type": "markdown",
   "id": "1931de34",
   "metadata": {},
   "source": [
    "### Git staging environment"
   ]
  },
  {
   "cell_type": "markdown",
   "id": "2fa78036",
   "metadata": {},
   "source": [
    "One of the core functions of Git is the concepts of the <b>Staging Environment</b>, and the <b>Commit</b>.\n",
    "\n",
    "As you are working, you may be adding, editing and removing files. But whenever you hit a milestone or finish a part of the work, you should add the files to a Staging Environment.\n",
    "\n",
    "Staged files are files that are ready to be committed to the repository you are working on. \n",
    "For now, we're done with ```test.txt ```, so let's add it to a staging environment.\n",
    "\n",
    "\n"
   ]
  },
  {
   "cell_type": "markdown",
   "id": "4f01face",
   "metadata": {},
   "source": [
    "\n",
    "\n",
    "```\n",
    "$git add \"test.txt\"\n",
    "\n",
    "```"
   ]
  },
  {
   "cell_type": "markdown",
   "id": "af7c6510",
   "metadata": {},
   "source": [
    "The file should now be staged. let's check the status:"
   ]
  },
  {
   "cell_type": "markdown",
   "id": "1563715b",
   "metadata": {},
   "source": [
    "``` \n",
    "$ git status\n",
    "\n",
    "```"
   ]
  },
  {
   "cell_type": "code",
   "execution_count": 30,
   "id": "a2935682",
   "metadata": {},
   "outputs": [
    {
     "data": {
      "text/html": [
       "<img src=\"img/git5.png\"/>"
      ],
      "text/plain": [
       "<IPython.core.display.Image object>"
      ]
     },
     "execution_count": 30,
     "metadata": {},
     "output_type": "execute_result"
    }
   ],
   "source": [
    "Image(url= \"img/git5.png\")"
   ]
  },
  {
   "cell_type": "markdown",
   "id": "0123e9af",
   "metadata": {},
   "source": [
    "We can also add multiple files at once to the staging environment.\n",
    "We do that using ```git add -all``` or ``` git add -A ``` or ``` git add *```.\n",
    "\n",
    "\n",
    "Using --all instead of individual filenames will stage all changes (new, modified, and deleted) files.\n",
    "\n"
   ]
  },
  {
   "cell_type": "markdown",
   "id": "677b5f50",
   "metadata": {},
   "source": [
    "### Git commit"
   ]
  },
  {
   "cell_type": "markdown",
   "id": "d6546f79",
   "metadata": {},
   "source": [
    "Since we have finished our work, let's commit it.\n",
    "\n",
    "Adding commits keep track of our progress and changes as we work. Git considers each commit change point or \"save point\". It is a point in the project you can go back to if you find a bug, or want to make a change.\n",
    "\n",
    "When we commit, we should always include a message explaining what the newly commited change was.\n",
    "\n",
    "By adding clear messages to each commit, it is easy for yourself (and others) to see what has changed and when.\n",
    "\n"
   ]
  },
  {
   "cell_type": "markdown",
   "id": "368a8b6d",
   "metadata": {},
   "source": [
    "```\n",
    "$git commit -m \"First release of the file test.txt\"\n",
    "\n",
    "```"
   ]
  },
  {
   "cell_type": "markdown",
   "id": "484e0739",
   "metadata": {},
   "source": [
    "where ```commit``` performs the commit and ```-m``` stands for \"message\". This should give us a result looking like:"
   ]
  },
  {
   "cell_type": "code",
   "execution_count": 3,
   "id": "2aa9e2d5",
   "metadata": {},
   "outputs": [
    {
     "data": {
      "text/html": [
       "<img src=\"img/git6.png\"/>"
      ],
      "text/plain": [
       "<IPython.core.display.Image object>"
      ]
     },
     "execution_count": 3,
     "metadata": {},
     "output_type": "execute_result"
    }
   ],
   "source": [
    "Image(url= \"img/git6.png\")"
   ]
  },
  {
   "cell_type": "markdown",
   "id": "b291068d",
   "metadata": {},
   "source": [
    "#### Git status"
   ]
  },
  {
   "cell_type": "markdown",
   "id": "6cddd75f",
   "metadata": {},
   "source": [
    "We might also want to commit without staging (if we make very small changes, where staging isn't neccessary). \n",
    "Let's do a small update to \"test.txt\" by adding a new line.\n",
    "\n",
    "Now, let's check the status of our repo, by using the ```--short``` option to see the changes more compactly."
   ]
  },
  {
   "cell_type": "code",
   "execution_count": 4,
   "id": "1e28d0e2",
   "metadata": {},
   "outputs": [
    {
     "data": {
      "text/html": [
       "<img src=\"img/git7.png\"/>"
      ],
      "text/plain": [
       "<IPython.core.display.Image object>"
      ]
     },
     "execution_count": 4,
     "metadata": {},
     "output_type": "execute_result"
    }
   ],
   "source": [
    "Image(url= \"img/git7.png\")"
   ]
  },
  {
   "cell_type": "markdown",
   "id": "2f139a09",
   "metadata": {},
   "source": [
    "Here, the ```M``` stands for ```modified```, meaning that git knows we've changed a file.\n",
    "\n",
    "\n",
    "| Flag   | mening    |\n",
    "|-------------:|:-----------|\n",
    "| ``` M ``` | modified files |\n",
    "| ``` ?? ```  | untracked files | \n",
    "| ``` A ``` | files added to stage |\n",
    "\n",
    "Let's now commit directly by:\n",
    "\n",
    "```\n",
    "$ git commit -a -m \"updated 'test.txt' by adding a new line\"\n",
    "\n",
    "```"
   ]
  },
  {
   "cell_type": "markdown",
   "id": "31475d5a",
   "metadata": {},
   "source": [
    "#### Git log"
   ]
  },
  {
   "cell_type": "markdown",
   "id": "18db4761",
   "metadata": {},
   "source": [
    "To view the history of commits for a repository, you can use the ```log``` command:\n",
    "\n"
   ]
  },
  {
   "cell_type": "code",
   "execution_count": 5,
   "id": "dcc78db8",
   "metadata": {},
   "outputs": [
    {
     "data": {
      "text/html": [
       "<img src=\"img/git8.png\"/>"
      ],
      "text/plain": [
       "<IPython.core.display.Image object>"
      ]
     },
     "execution_count": 5,
     "metadata": {},
     "output_type": "execute_result"
    }
   ],
   "source": [
    "Image(url= \"img/git8.png\")"
   ]
  },
  {
   "cell_type": "markdown",
   "id": "c21ddc67",
   "metadata": {},
   "source": [
    "#### Git help"
   ]
  },
  {
   "cell_type": "markdown",
   "id": "35a172a8",
   "metadata": {},
   "source": [
    "If we need help remembering options for a specific command, we can always use ``` git <command> -help```, e.g.\n",
    "\n",
    "```\n",
    " git commit -help\n",
    "\n",
    "```\n",
    "\n",
    "And to list all possible commands we use\n",
    "\n",
    "```\n",
    "\n",
    "git help -all\n",
    "\n",
    "```"
   ]
  },
  {
   "cell_type": "markdown",
   "id": "bc983f5f",
   "metadata": {},
   "source": [
    "in the end, the whole process of us working on a particular project is:\n",
    "\n",
    "``` \n",
    "hack hack hack -> git status -> git add -> git commit -> hack hack hack\n",
    "\n",
    "```"
   ]
  },
  {
   "cell_type": "markdown",
   "id": "ea8e71a3",
   "metadata": {},
   "source": [
    "<div class=\"alert alert-block alert-info\">\n",
    "<b>Exercise 1</b>\n",
    "    \n",
    "<p>\n",
    "    <li>Create two more files and add them to the staging environment </li>\n",
    "    <li> commit your files </li>\n",
    " \n",
    "</p>\n",
    "</div>"
   ]
  },
  {
   "cell_type": "markdown",
   "id": "bd92cd98",
   "metadata": {},
   "source": [
    "### Additional commands"
   ]
  },
  {
   "cell_type": "markdown",
   "id": "8c9db840",
   "metadata": {},
   "source": [
    "When working with Git (or any other repository), you should never rename or delete files and directories directly (e.g. in Windows Explorer), because Git will not notice this and chaos can result.\n",
    "Instead, use the Git commands mv (move, rename) and rm (remove). This will also document in the \n",
    "repository that the deletion or renaming has taken place.\n",
    "\n",
    "Renaming a file:\n",
    "\n",
    "```\n",
    "$ git mv new_file.txt new.txt\n",
    "\n",
    "```\n",
    "\n",
    "Moving a file:\n",
    "\n",
    "```\n",
    "$ git mv new.txt src\n",
    "\n",
    "```\n",
    "\n",
    "Deleting a file:\n",
    "\n",
    "\n",
    "```\n",
    "$ git rm new.txt\n",
    "\n",
    "```\n",
    "\n"
   ]
  },
  {
   "cell_type": "markdown",
   "id": "2a4270f5",
   "metadata": {},
   "source": [
    "Let's add a new line to test.txt and see the difference since our last commit by using:\n",
    "\n",
    "```\n",
    "$git diff test.txt\n",
    "\n",
    "```"
   ]
  },
  {
   "cell_type": "code",
   "execution_count": 7,
   "id": "019567f2",
   "metadata": {},
   "outputs": [
    {
     "data": {
      "text/html": [
       "<img src=\"img/git9.png\"/>"
      ],
      "text/plain": [
       "<IPython.core.display.Image object>"
      ]
     },
     "execution_count": 7,
     "metadata": {},
     "output_type": "execute_result"
    }
   ],
   "source": [
    "Image(url= \"img/git9.png\")"
   ]
  },
  {
   "cell_type": "markdown",
   "id": "36a5516d",
   "metadata": {},
   "source": [
    "## Branching and merging"
   ]
  },
  {
   "cell_type": "markdown",
   "id": "e1c5773d",
   "metadata": {},
   "source": [
    "In Git a branch is a new or a separate version of the main repository. A branch branches off at a certain point from the main branch abd from there, the development is <i> basically </i> independent. The branches share history though and are aware of it - which enables subsequent merging."
   ]
  },
  {
   "cell_type": "markdown",
   "id": "5a401ef9",
   "metadata": {},
   "source": [
    "| Command   | Purpose    |\n",
    "|-------------:|:-----------|\n",
    "| ``` git branch ``` | lists all branches in the repository|\n",
    "| ``` git branch <branch-name>``` | switches to the specified branch|\n",
    "| ``` git checkout <branch>```  | adds a file to the staging area | \n",
    "| ``` git merge <branch> ``` | merges the specified branch into the current branch | \n",
    "\n"
   ]
  },
  {
   "cell_type": "markdown",
   "id": "fbb15f09",
   "metadata": {},
   "source": [
    "## GitHub"
   ]
  },
  {
   "cell_type": "markdown",
   "id": "40a1f6db",
   "metadata": {},
   "source": [
    "* <b>GitHub</b> is a web-based hosting service for Git repositories. It offers collaboration and management features for projects hosted on its platform.\n",
    "* Together, Git and GitHub are powerful tools for managing code and collaborating with others.\n",
    "* GitHub and Git are not the same - GitHub basically makes tools that use Git\n",
    "* it is a host of source code (actually the largest in the world) and is owned by Microsoft\n"
   ]
  },
  {
   "cell_type": "markdown",
   "id": "64c210be",
   "metadata": {},
   "source": [
    "## Collaborating with Github"
   ]
  },
  {
   "cell_type": "markdown",
   "id": "f475d715",
   "metadata": {},
   "source": [
    "* Forking: Creating a copy of a repository on your GitHub account.\n",
    "* Cloning: Downloading a copy of a repository to your local machine.\n",
    "* Pull Requests: Proposing changes to a repository by submitting a pull request on GitHub.\n",
    "* Issues: Creating and tracking issues or bugs in a repository on GitHub.\n"
   ]
  },
  {
   "cell_type": "markdown",
   "id": "0cc7f035",
   "metadata": {},
   "source": [
    "## Best practices"
   ]
  },
  {
   "cell_type": "code",
   "execution_count": null,
   "id": "18a0830f",
   "metadata": {},
   "outputs": [],
   "source": []
  }
 ],
 "metadata": {
  "kernelspec": {
   "display_name": "Python 3 (ipykernel)",
   "language": "python",
   "name": "python3"
  },
  "language_info": {
   "codemirror_mode": {
    "name": "ipython",
    "version": 3
   },
   "file_extension": ".py",
   "mimetype": "text/x-python",
   "name": "python",
   "nbconvert_exporter": "python",
   "pygments_lexer": "ipython3",
   "version": "3.9.13"
  }
 },
 "nbformat": 4,
 "nbformat_minor": 5
}
